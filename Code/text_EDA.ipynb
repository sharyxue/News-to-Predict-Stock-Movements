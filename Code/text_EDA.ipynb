{
 "cells": [
  {
   "cell_type": "code",
   "execution_count": 3,
   "metadata": {
    "ExecuteTime": {
     "end_time": "2019-05-11T10:32:00.223754Z",
     "start_time": "2019-05-11T10:32:00.221023Z"
    },
    "colab": {},
    "colab_type": "code",
    "id": "URTWoFKxVS14"
   },
   "outputs": [],
   "source": [
    "import pandas as pd\n",
    "import numpy as np"
   ]
  },
  {
   "cell_type": "code",
   "execution_count": 4,
   "metadata": {
    "ExecuteTime": {
     "end_time": "2019-05-11T10:32:00.245836Z",
     "start_time": "2019-05-11T10:32:00.226697Z"
    },
    "colab": {},
    "colab_type": "code",
    "id": "bXDhqeJjVS17"
   },
   "outputs": [],
   "source": [
    "text = pd.read_csv(r'../Data/TRAINSET_NEWS.csv')"
   ]
  },
  {
   "cell_type": "code",
   "execution_count": 5,
   "metadata": {
    "ExecuteTime": {
     "end_time": "2019-05-11T10:32:00.258835Z",
     "start_time": "2019-05-11T10:32:00.247766Z"
    },
    "colab": {},
    "colab_type": "code",
    "id": "af3-AnISVS1-",
    "outputId": "ddad73ab-96ad-4ff0-9605-c273af83c947"
   },
   "outputs": [
    {
     "data": {
      "text/plain": [
       "(565, 4)"
      ]
     },
     "execution_count": 5,
     "metadata": {},
     "output_type": "execute_result"
    }
   ],
   "source": [
    "text.shape"
   ]
  },
  {
   "cell_type": "code",
   "execution_count": 6,
   "metadata": {
    "ExecuteTime": {
     "end_time": "2019-05-11T10:32:00.282953Z",
     "start_time": "2019-05-11T10:32:00.262898Z"
    },
    "colab": {},
    "colab_type": "code",
    "id": "TynXg6f1VS2D",
    "outputId": "d37b2ddc-3f36-4a39-c93a-ecd463327370"
   },
   "outputs": [
    {
     "data": {
      "text/html": [
       "<div>\n",
       "<style scoped>\n",
       "    .dataframe tbody tr th:only-of-type {\n",
       "        vertical-align: middle;\n",
       "    }\n",
       "\n",
       "    .dataframe tbody tr th {\n",
       "        vertical-align: top;\n",
       "    }\n",
       "\n",
       "    .dataframe thead th {\n",
       "        text-align: right;\n",
       "    }\n",
       "</style>\n",
       "<table border=\"1\" class=\"dataframe\">\n",
       "  <thead>\n",
       "    <tr style=\"text-align: right;\">\n",
       "      <th></th>\n",
       "      <th>id</th>\n",
       "      <th>date</th>\n",
       "      <th>title</th>\n",
       "      <th>content</th>\n",
       "    </tr>\n",
       "  </thead>\n",
       "  <tbody>\n",
       "    <tr>\n",
       "      <th>0</th>\n",
       "      <td>20190402_00</td>\n",
       "      <td>20190402</td>\n",
       "      <td>习近平对民政工作作出重要指示强调 聚焦脱贫攻坚聚焦特殊群体聚焦群众关切 更好履行基本民生保障...</td>\n",
       "      <td>近日，中共中央总书记、国家主席、中央军委主席习近平对民政工作作出重要指示。习近平强调，近年来...</td>\n",
       "    </tr>\n",
       "    <tr>\n",
       "      <th>1</th>\n",
       "      <td>20190402_01</td>\n",
       "      <td>20190402</td>\n",
       "      <td>李克强会见全国民政会议代表</td>\n",
       "      <td>第十四次全国民政会议4月2日在北京召开。会上传达了习近平的重要指示。中共中央政治局常委、国务...</td>\n",
       "    </tr>\n",
       "    <tr>\n",
       "      <th>2</th>\n",
       "      <td>20190402_02</td>\n",
       "      <td>20190402</td>\n",
       "      <td>李克强将赴欧举行第二十一次中国—欧盟领导人会晤 第八次中国—中东欧国家领导人会晤并正式访问克罗地亚</td>\n",
       "      <td>经中欧双方商定，并应克罗地亚总理普连科维奇邀请，国务院总理李克强将于4月8日至12日赴布鲁塞...</td>\n",
       "    </tr>\n",
       "    <tr>\n",
       "      <th>3</th>\n",
       "      <td>20190402_03</td>\n",
       "      <td>20190402</td>\n",
       "      <td>栗战书出席全国人大常委会中小企业促进法执法检查组第一次全体会议</td>\n",
       "      <td>全国人大常委会2日召开中小企业促进法执法检查组第一次全体会议。中共中央政治局常委、全国人大常...</td>\n",
       "    </tr>\n",
       "    <tr>\n",
       "      <th>4</th>\n",
       "      <td>20190402_04</td>\n",
       "      <td>20190402</td>\n",
       "      <td>【十九届中央第三轮巡视完成进驻】以巡视助推国有企业高质量发展</td>\n",
       "      <td>经过一周左右的时间，日前（4月1日），十九届中央第三轮巡视的15个巡视组进驻3个中央单位和4...</td>\n",
       "    </tr>\n",
       "  </tbody>\n",
       "</table>\n",
       "</div>"
      ],
      "text/plain": [
       "            id      date                                              title  \\\n",
       "0  20190402_00  20190402  习近平对民政工作作出重要指示强调 聚焦脱贫攻坚聚焦特殊群体聚焦群众关切 更好履行基本民生保障...   \n",
       "1  20190402_01  20190402                                      李克强会见全国民政会议代表   \n",
       "2  20190402_02  20190402  李克强将赴欧举行第二十一次中国—欧盟领导人会晤 第八次中国—中东欧国家领导人会晤并正式访问克罗地亚   \n",
       "3  20190402_03  20190402                    栗战书出席全国人大常委会中小企业促进法执法检查组第一次全体会议   \n",
       "4  20190402_04  20190402                     【十九届中央第三轮巡视完成进驻】以巡视助推国有企业高质量发展   \n",
       "\n",
       "                                             content  \n",
       "0  近日，中共中央总书记、国家主席、中央军委主席习近平对民政工作作出重要指示。习近平强调，近年来...  \n",
       "1  第十四次全国民政会议4月2日在北京召开。会上传达了习近平的重要指示。中共中央政治局常委、国务...  \n",
       "2  经中欧双方商定，并应克罗地亚总理普连科维奇邀请，国务院总理李克强将于4月8日至12日赴布鲁塞...  \n",
       "3  全国人大常委会2日召开中小企业促进法执法检查组第一次全体会议。中共中央政治局常委、全国人大常...  \n",
       "4  经过一周左右的时间，日前（4月1日），十九届中央第三轮巡视的15个巡视组进驻3个中央单位和4...  "
      ]
     },
     "execution_count": 6,
     "metadata": {},
     "output_type": "execute_result"
    }
   ],
   "source": [
    "text.head()"
   ]
  },
  {
   "cell_type": "code",
   "execution_count": 7,
   "metadata": {
    "ExecuteTime": {
     "end_time": "2019-05-11T10:32:00.292299Z",
     "start_time": "2019-05-11T10:32:00.286020Z"
    },
    "colab": {},
    "colab_type": "code",
    "id": "0_tMizbyVS2G",
    "outputId": "78f123e5-ba07-49e6-eedf-165ac71e194a"
   },
   "outputs": [
    {
     "data": {
      "text/plain": [
       "34"
      ]
     },
     "execution_count": 7,
     "metadata": {},
     "output_type": "execute_result"
    }
   ],
   "source": [
    "len(text['date'].unique())"
   ]
  },
  {
   "cell_type": "code",
   "execution_count": 8,
   "metadata": {
    "ExecuteTime": {
     "end_time": "2019-05-11T10:32:00.303163Z",
     "start_time": "2019-05-11T10:32:00.295130Z"
    },
    "colab": {},
    "colab_type": "code",
    "id": "49flTeT0VS2J"
   },
   "outputs": [],
   "source": [
    "date_group=text.groupby(['date']).count()"
   ]
  },
  {
   "cell_type": "code",
   "execution_count": 9,
   "metadata": {
    "ExecuteTime": {
     "end_time": "2019-05-11T10:32:00.331310Z",
     "start_time": "2019-05-11T10:32:00.306428Z"
    },
    "colab": {},
    "colab_type": "code",
    "id": "iSd5rs9KVYoC"
   },
   "outputs": [
    {
     "data": {
      "text/html": [
       "<div>\n",
       "<style scoped>\n",
       "    .dataframe tbody tr th:only-of-type {\n",
       "        vertical-align: middle;\n",
       "    }\n",
       "\n",
       "    .dataframe tbody tr th {\n",
       "        vertical-align: top;\n",
       "    }\n",
       "\n",
       "    .dataframe thead th {\n",
       "        text-align: right;\n",
       "    }\n",
       "</style>\n",
       "<table border=\"1\" class=\"dataframe\">\n",
       "  <thead>\n",
       "    <tr style=\"text-align: right;\">\n",
       "      <th></th>\n",
       "      <th>id</th>\n",
       "      <th>title</th>\n",
       "      <th>content</th>\n",
       "    </tr>\n",
       "  </thead>\n",
       "  <tbody>\n",
       "    <tr>\n",
       "      <th>count</th>\n",
       "      <td>34.000000</td>\n",
       "      <td>34.000000</td>\n",
       "      <td>34.000000</td>\n",
       "    </tr>\n",
       "    <tr>\n",
       "      <th>mean</th>\n",
       "      <td>16.617647</td>\n",
       "      <td>16.617647</td>\n",
       "      <td>16.470588</td>\n",
       "    </tr>\n",
       "    <tr>\n",
       "      <th>std</th>\n",
       "      <td>7.092526</td>\n",
       "      <td>7.092526</td>\n",
       "      <td>7.046320</td>\n",
       "    </tr>\n",
       "    <tr>\n",
       "      <th>min</th>\n",
       "      <td>7.000000</td>\n",
       "      <td>7.000000</td>\n",
       "      <td>7.000000</td>\n",
       "    </tr>\n",
       "    <tr>\n",
       "      <th>25%</th>\n",
       "      <td>13.000000</td>\n",
       "      <td>13.000000</td>\n",
       "      <td>12.250000</td>\n",
       "    </tr>\n",
       "    <tr>\n",
       "      <th>50%</th>\n",
       "      <td>14.000000</td>\n",
       "      <td>14.000000</td>\n",
       "      <td>14.000000</td>\n",
       "    </tr>\n",
       "    <tr>\n",
       "      <th>75%</th>\n",
       "      <td>17.750000</td>\n",
       "      <td>17.750000</td>\n",
       "      <td>16.750000</td>\n",
       "    </tr>\n",
       "    <tr>\n",
       "      <th>max</th>\n",
       "      <td>40.000000</td>\n",
       "      <td>40.000000</td>\n",
       "      <td>40.000000</td>\n",
       "    </tr>\n",
       "  </tbody>\n",
       "</table>\n",
       "</div>"
      ],
      "text/plain": [
       "              id      title    content\n",
       "count  34.000000  34.000000  34.000000\n",
       "mean   16.617647  16.617647  16.470588\n",
       "std     7.092526   7.092526   7.046320\n",
       "min     7.000000   7.000000   7.000000\n",
       "25%    13.000000  13.000000  12.250000\n",
       "50%    14.000000  14.000000  14.000000\n",
       "75%    17.750000  17.750000  16.750000\n",
       "max    40.000000  40.000000  40.000000"
      ]
     },
     "execution_count": 9,
     "metadata": {},
     "output_type": "execute_result"
    }
   ],
   "source": [
    "# 每天新闻的数量\n",
    "date_group.describe()"
   ]
  },
  {
   "cell_type": "code",
   "execution_count": 14,
   "metadata": {
    "ExecuteTime": {
     "end_time": "2019-05-11T10:36:06.747908Z",
     "start_time": "2019-05-11T10:36:06.737320Z"
    },
    "colab": {},
    "colab_type": "code",
    "id": "zvExDrK9VaSO"
   },
   "outputs": [
    {
     "data": {
      "text/plain": [
       "count    565.000000\n",
       "mean      19.389381\n",
       "std       13.089594\n",
       "min        4.000000\n",
       "25%       11.000000\n",
       "50%       16.000000\n",
       "75%       24.000000\n",
       "max       79.000000\n",
       "Name: title, dtype: float64"
      ]
     },
     "execution_count": 14,
     "metadata": {},
     "output_type": "execute_result"
    }
   ],
   "source": [
    "# 新闻标题长度的统计\n",
    "(text['title'].str.len()).describe()"
   ]
  },
  {
   "cell_type": "code",
   "execution_count": 13,
   "metadata": {
    "ExecuteTime": {
     "end_time": "2019-05-11T10:36:04.885667Z",
     "start_time": "2019-05-11T10:36:04.874738Z"
    },
    "colab": {},
    "colab_type": "code",
    "id": "gc1qhau9Vb9x"
   },
   "outputs": [
    {
     "data": {
      "text/plain": [
       "count     560.000000\n",
       "mean      468.939286\n",
       "std       355.606720\n",
       "min        39.000000\n",
       "25%       276.000000\n",
       "50%       384.500000\n",
       "75%       596.500000\n",
       "max      3997.000000\n",
       "Name: content, dtype: float64"
      ]
     },
     "execution_count": 13,
     "metadata": {},
     "output_type": "execute_result"
    }
   ],
   "source": [
    "# 新闻内容长度的统计\n",
    "(text['content'].str.len()).describe()"
   ]
  },
  {
   "cell_type": "code",
   "execution_count": null,
   "metadata": {},
   "outputs": [],
   "source": []
  }
 ],
 "metadata": {
  "colab": {
   "collapsed_sections": [],
   "name": "textprocessing.ipynb",
   "provenance": [],
   "version": "0.3.2"
  },
  "kernelspec": {
   "display_name": "Python 3",
   "language": "python",
   "name": "python3"
  },
  "language_info": {
   "codemirror_mode": {
    "name": "ipython",
    "version": 3
   },
   "file_extension": ".py",
   "mimetype": "text/x-python",
   "name": "python",
   "nbconvert_exporter": "python",
   "pygments_lexer": "ipython3",
   "version": "3.6.2"
  },
  "toc": {
   "base_numbering": 1,
   "nav_menu": {},
   "number_sections": true,
   "sideBar": true,
   "skip_h1_title": false,
   "title_cell": "Table of Contents",
   "title_sidebar": "Contents",
   "toc_cell": false,
   "toc_position": {},
   "toc_section_display": true,
   "toc_window_display": false
  },
  "varInspector": {
   "cols": {
    "lenName": 16,
    "lenType": 16,
    "lenVar": 40
   },
   "kernels_config": {
    "python": {
     "delete_cmd_postfix": "",
     "delete_cmd_prefix": "del ",
     "library": "var_list.py",
     "varRefreshCmd": "print(var_dic_list())"
    },
    "r": {
     "delete_cmd_postfix": ") ",
     "delete_cmd_prefix": "rm(",
     "library": "var_list.r",
     "varRefreshCmd": "cat(var_dic_list()) "
    }
   },
   "types_to_exclude": [
    "module",
    "function",
    "builtin_function_or_method",
    "instance",
    "_Feature"
   ],
   "window_display": false
  }
 },
 "nbformat": 4,
 "nbformat_minor": 1
}
