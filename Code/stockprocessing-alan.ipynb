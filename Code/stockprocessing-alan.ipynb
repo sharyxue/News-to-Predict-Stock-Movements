{
 "cells": [
  {
   "cell_type": "code",
   "execution_count": 1,
   "metadata": {
    "ExecuteTime": {
     "end_time": "2019-06-08T13:17:45.203900Z",
     "start_time": "2019-06-08T13:17:34.855471Z"
    },
    "colab": {},
    "colab_type": "code",
    "id": "LFLc-ooh5wTh"
   },
   "outputs": [
    {
     "name": "stderr",
     "output_type": "stream",
     "text": [
      "/home/alan/anaconda3/lib/python3.6/site-packages/sklearn/externals/joblib/__init__.py:15: DeprecationWarning: sklearn.externals.joblib is deprecated in 0.21 and will be removed in 0.23. Please import this functionality directly from joblib, which can be installed with: pip install joblib. If this warning is raised when loading pickled models, you may need to re-serialize those models with scikit-learn 0.21+.\n",
      "  warnings.warn(msg, category=DeprecationWarning)\n"
     ]
    }
   ],
   "source": [
    "import warnings\n",
    "from sklearn.externals import joblib\n",
    "import xgboost as xgb\n",
    "from sklearn.preprocessing import StandardScaler\n",
    "from sklearn.metrics import roc_curve\n",
    "from sklearn.metrics import mean_squared_error\n",
    "from sklearn.preprocessing import MinMaxScaler\n",
    "import math\n",
    "from sklearn.decomposition import PCA\n",
    "import time\n",
    "from sklearn.model_selection import train_test_split\n",
    "import numpy as np\n",
    "import pandas as pd\n",
    "import datetime\n",
    "import seaborn as sns\n",
    "import matplotlib.pyplot as plt\n",
    "%matplotlib inline\n",
    "warnings.filterwarnings(\"ignore\")"
   ]
  },
  {
   "cell_type": "markdown",
   "metadata": {
    "colab_type": "text",
    "id": "DcFYK1bSUXvz"
   },
   "source": [
    "# 特征处理"
   ]
  },
  {
   "cell_type": "code",
   "execution_count": 4,
   "metadata": {
    "ExecuteTime": {
     "end_time": "2019-06-08T13:18:28.739539Z",
     "start_time": "2019-06-08T13:18:28.617188Z"
    },
    "colab": {},
    "colab_type": "code",
    "id": "AFQtedZM5wTn"
   },
   "outputs": [],
   "source": [
    "df = pd.read_csv(r'../Data/TRAINSET_STOCK.csv')\n",
    "df_add1 = pd.read_csv(r'../Data/20190506_STOCK.csv')\n",
    "df_add2 = pd.read_csv(r'../Data/20190514_STOCK.csv')\n",
    "df_add3 = pd.read_csv(r'../Data/20190521_STOCK.csv')\n",
    "df_add4 = pd.read_csv(r'../Data/20190528_STOCK.csv')\n",
    "df_copy = pd.concat([df, df_add1, df_add2, df_add3, df_add4])\n",
    "df_copy = df[~df.index.duplicated()]"
   ]
  },
  {
   "cell_type": "code",
   "execution_count": 23,
   "metadata": {
    "ExecuteTime": {
     "end_time": "2019-06-08T13:33:40.866874Z",
     "start_time": "2019-06-08T13:33:40.859215Z"
    }
   },
   "outputs": [],
   "source": [
    "df = df_copy.copy()"
   ]
  },
  {
   "cell_type": "code",
   "execution_count": 18,
   "metadata": {
    "ExecuteTime": {
     "end_time": "2019-06-08T13:32:58.648613Z",
     "start_time": "2019-06-08T13:32:58.632564Z"
    },
    "colab": {},
    "colab_type": "code",
    "id": "Vzdq3q8DUXv1"
   },
   "outputs": [],
   "source": [
    "areas = ['农林牧渔', '采掘', '化工', '钢铁', '有色金属', '电子', '家用电器', '食品饮料', '纺织服装',\n",
    "         '轻工制造', '医药生物', '公用事业', '交通运输', '房地产', '商业贸易', '休闲服务', '综合',\n",
    "         '申万制造', '申万消费', '申万投资', '申万服务', '申万300指数', '建筑材料', '建筑装饰',\n",
    "         '电气设备', '国防军工', '计算机', '传媒', '通信', '银行', '非银金融', '汽车', '机械设备',\n",
    "         '交银装备']\n",
    "\n",
    "areas_map = {}\n",
    "for i, v in enumerate(areas):\n",
    "    areas_map[v] = i"
   ]
  },
  {
   "cell_type": "code",
   "execution_count": 24,
   "metadata": {
    "ExecuteTime": {
     "end_time": "2019-06-08T13:33:42.368968Z",
     "start_time": "2019-06-08T13:33:42.359353Z"
    }
   },
   "outputs": [],
   "source": [
    "ts_code = list(df['ts_code'].unique())\n",
    "code_map = {}\n",
    "for i, v in enumerate(ts_code):\n",
    "    code_map[v] = i"
   ]
  },
  {
   "cell_type": "code",
   "execution_count": 27,
   "metadata": {
    "ExecuteTime": {
     "end_time": "2019-06-08T13:33:57.811497Z",
     "start_time": "2019-06-08T13:33:57.777958Z"
    }
   },
   "outputs": [
    {
     "data": {
      "text/html": [
       "<div>\n",
       "<style scoped>\n",
       "    .dataframe tbody tr th:only-of-type {\n",
       "        vertical-align: middle;\n",
       "    }\n",
       "\n",
       "    .dataframe tbody tr th {\n",
       "        vertical-align: top;\n",
       "    }\n",
       "\n",
       "    .dataframe thead th {\n",
       "        text-align: right;\n",
       "    }\n",
       "</style>\n",
       "<table border=\"1\" class=\"dataframe\">\n",
       "  <thead>\n",
       "    <tr style=\"text-align: right;\">\n",
       "      <th></th>\n",
       "      <th>ts_code</th>\n",
       "      <th>trade_date</th>\n",
       "      <th>name</th>\n",
       "      <th>open</th>\n",
       "      <th>low</th>\n",
       "      <th>high</th>\n",
       "      <th>close</th>\n",
       "      <th>change</th>\n",
       "      <th>pct_change</th>\n",
       "      <th>vol</th>\n",
       "      <th>amount</th>\n",
       "      <th>pe</th>\n",
       "      <th>pb</th>\n",
       "      <th>y</th>\n",
       "    </tr>\n",
       "  </thead>\n",
       "  <tbody>\n",
       "    <tr>\n",
       "      <th>0</th>\n",
       "      <td>0</td>\n",
       "      <td>20140401</td>\n",
       "      <td>农林牧渔</td>\n",
       "      <td>1668.75</td>\n",
       "      <td>1668.54</td>\n",
       "      <td>1689.12</td>\n",
       "      <td>1689.07</td>\n",
       "      <td>22.13</td>\n",
       "      <td>1.33</td>\n",
       "      <td>34914.0</td>\n",
       "      <td>291113.0</td>\n",
       "      <td>41.51</td>\n",
       "      <td>2.77</td>\n",
       "      <td>1</td>\n",
       "    </tr>\n",
       "    <tr>\n",
       "      <th>1</th>\n",
       "      <td>0</td>\n",
       "      <td>20140402</td>\n",
       "      <td>农林牧渔</td>\n",
       "      <td>1688.72</td>\n",
       "      <td>1684.53</td>\n",
       "      <td>1693.41</td>\n",
       "      <td>1692.24</td>\n",
       "      <td>3.17</td>\n",
       "      <td>0.19</td>\n",
       "      <td>36300.0</td>\n",
       "      <td>289020.0</td>\n",
       "      <td>41.63</td>\n",
       "      <td>2.79</td>\n",
       "      <td>1</td>\n",
       "    </tr>\n",
       "    <tr>\n",
       "      <th>2</th>\n",
       "      <td>0</td>\n",
       "      <td>20140403</td>\n",
       "      <td>农林牧渔</td>\n",
       "      <td>1693.05</td>\n",
       "      <td>1679.85</td>\n",
       "      <td>1697.73</td>\n",
       "      <td>1685.71</td>\n",
       "      <td>-6.53</td>\n",
       "      <td>-0.39</td>\n",
       "      <td>31403.0</td>\n",
       "      <td>259464.0</td>\n",
       "      <td>41.38</td>\n",
       "      <td>2.78</td>\n",
       "      <td>0</td>\n",
       "    </tr>\n",
       "    <tr>\n",
       "      <th>3</th>\n",
       "      <td>0</td>\n",
       "      <td>20140404</td>\n",
       "      <td>农林牧渔</td>\n",
       "      <td>1681.92</td>\n",
       "      <td>1680.34</td>\n",
       "      <td>1698.44</td>\n",
       "      <td>1698.25</td>\n",
       "      <td>12.54</td>\n",
       "      <td>0.74</td>\n",
       "      <td>28648.0</td>\n",
       "      <td>240940.0</td>\n",
       "      <td>41.76</td>\n",
       "      <td>2.80</td>\n",
       "      <td>1</td>\n",
       "    </tr>\n",
       "    <tr>\n",
       "      <th>4</th>\n",
       "      <td>0</td>\n",
       "      <td>20140408</td>\n",
       "      <td>农林牧渔</td>\n",
       "      <td>1693.24</td>\n",
       "      <td>1692.22</td>\n",
       "      <td>1706.84</td>\n",
       "      <td>1706.84</td>\n",
       "      <td>8.59</td>\n",
       "      <td>0.51</td>\n",
       "      <td>35012.0</td>\n",
       "      <td>312423.0</td>\n",
       "      <td>42.00</td>\n",
       "      <td>2.79</td>\n",
       "      <td>1</td>\n",
       "    </tr>\n",
       "  </tbody>\n",
       "</table>\n",
       "</div>"
      ],
      "text/plain": [
       "   ts_code  trade_date  name     open      low     high    close  change  \\\n",
       "0        0    20140401  农林牧渔  1668.75  1668.54  1689.12  1689.07   22.13   \n",
       "1        0    20140402  农林牧渔  1688.72  1684.53  1693.41  1692.24    3.17   \n",
       "2        0    20140403  农林牧渔  1693.05  1679.85  1697.73  1685.71   -6.53   \n",
       "3        0    20140404  农林牧渔  1681.92  1680.34  1698.44  1698.25   12.54   \n",
       "4        0    20140408  农林牧渔  1693.24  1692.22  1706.84  1706.84    8.59   \n",
       "\n",
       "   pct_change      vol    amount     pe    pb  y  \n",
       "0        1.33  34914.0  291113.0  41.51  2.77  1  \n",
       "1        0.19  36300.0  289020.0  41.63  2.79  1  \n",
       "2       -0.39  31403.0  259464.0  41.38  2.78  0  \n",
       "3        0.74  28648.0  240940.0  41.76  2.80  1  \n",
       "4        0.51  35012.0  312423.0  42.00  2.79  1  "
      ]
     },
     "execution_count": 27,
     "metadata": {},
     "output_type": "execute_result"
    }
   ],
   "source": [
    "df.head()"
   ]
  },
  {
   "cell_type": "code",
   "execution_count": 26,
   "metadata": {
    "ExecuteTime": {
     "end_time": "2019-06-08T13:33:54.070851Z",
     "start_time": "2019-06-08T13:33:54.058383Z"
    }
   },
   "outputs": [],
   "source": [
    "df.ts_code = df.ts_code.map(code_map).astype(int)"
   ]
  },
  {
   "cell_type": "code",
   "execution_count": 4,
   "metadata": {
    "ExecuteTime": {
     "end_time": "2019-06-06T06:05:48.338709Z",
     "start_time": "2019-06-06T06:05:26.026437Z"
    },
    "colab": {},
    "colab_type": "code",
    "id": "VjqF0fnlTUuc"
   },
   "outputs": [],
   "source": [
    "x = []\n",
    "y = []\n",
    "for arr in columns:\n",
    "    df1 = df.loc[df['name'] == arr]\n",
    "    df1 = df1[['ts_code', 'trade_date', 'name', 'low',\n",
    "               'high', 'close', 'pct_change', 'vol', 'y']]\n",
    "    df1['vol_change'] = df1['vol'].pct_change()\n",
    "    df1['low_change'] = df1['low'].pct_change()\n",
    "    df1['high_change'] = df1['high'].pct_change()\n",
    "    df1['gaodi'] = (df1['high'] - df1['low']) / df1['low']\n",
    "    df1['gaoclo'] = (df1['high'] - df1['close']) / (df1['high'] - df1['low'])\n",
    "    df1['diclo'] = (df1['close'] - df1['low']) / (df1['high'] - df1['low'])\n",
    "    df1['pct_change'] = df1['pct_change'] / 10\n",
    "    df1 = df1[['pct_change', 'vol_change', 'high_change',\n",
    "               'low_change', 'gaodi', 'gaoclo', 'diclo', 'y']]\n",
    "    df1 = df1.dropna()\n",
    "    dataset = df1.values\n",
    "    for i in range(len(dataset) - 15):\n",
    "        x.append(dataset[i:(i + 10), :8].tolist())\n",
    "        y.append(dataset[(i + 10):(i + 15), 7, np.newaxis].tolist())\n",
    "xtrain, xtest, ytrain, ytest = train_test_split(\n",
    "    x, y, test_size=0.2, random_state=30)\n",
    "xtrain, xtest, ytrain, ytest = np.array(xtrain), np.array(\n",
    "    xtest), np.array(ytrain), np.array(ytest)\n",
    "# xtrain = np.reshape(xtrain, (xtrain.shape[0], xtrain.shape[1]*xtrain.shape[2], 1))\n",
    "# xtest = np.reshape(xtest, (xtest.shape[0], xtest.shape[1], 1))\n",
    "ytrain = np.reshape(ytrain, (ytrain.shape[0], ytrain.shape[1]))\n",
    "ytest = np.reshape(ytest, (ytest.shape[0], ytest.shape[1]))"
   ]
  },
  {
   "cell_type": "code",
   "execution_count": 28,
   "metadata": {
    "ExecuteTime": {
     "end_time": "2019-06-08T13:35:45.701007Z",
     "start_time": "2019-06-08T13:35:44.771778Z"
    }
   },
   "outputs": [],
   "source": [
    "df1 = df[['ts_code', 'trade_date', 'name', 'low',\n",
    "          'high', 'close', 'pct_change', 'vol', 'y']]\n",
    "df1['vol_change'] = df1['vol'].pct_change()\n",
    "df1['low_change'] = df1['low'].pct_change()\n",
    "df1['high_change'] = df1['high'].pct_change()\n",
    "df1['gaodi'] = (df1['high'] - df1['low']) / df1['low']\n",
    "df1['gaoclo'] = (df1['high'] - df1['close']) / (df1['high'] - df1['low'])\n",
    "df1['diclo'] = (df1['close'] - df1['low']) / (df1['high'] - df1['low'])\n",
    "df1['pct_change'] = df1['pct_change'] / 10\n",
    "df1 = df1[['ts_code', 'pct_change', 'vol_change', 'high_change',\n",
    "           'low_change', 'gaodi', 'gaoclo', 'diclo', 'y']]\n",
    "df1 = df1.dropna()"
   ]
  },
  {
   "cell_type": "code",
   "execution_count": 30,
   "metadata": {
    "ExecuteTime": {
     "end_time": "2019-06-08T13:36:18.614749Z",
     "start_time": "2019-06-08T13:36:18.599039Z"
    }
   },
   "outputs": [
    {
     "data": {
      "text/plain": [
       "(   ts_code  pct_change  vol_change  high_change  low_change     gaodi  \\\n",
       " 1        0       0.019    0.039698     0.002540    0.009583  0.005272   \n",
       " 2        0      -0.039   -0.134904     0.002551   -0.002778  0.010644   \n",
       " 3        0       0.074   -0.087730     0.000418    0.000292  0.010772   \n",
       " 4        0       0.051    0.222145     0.004946    0.007070  0.008640   \n",
       " 5        0       0.110    0.231406     0.011231    0.009024  0.010846   \n",
       " \n",
       "      gaoclo     diclo  y  \n",
       " 1  0.131757  0.868243  1  \n",
       " 2  0.672260  0.327740  0  \n",
       " 3  0.010497  0.989503  1  \n",
       " 4  0.000000  1.000000  1  \n",
       " 5  0.024838  0.975162  1  , (39167, 9))"
      ]
     },
     "execution_count": 30,
     "metadata": {},
     "output_type": "execute_result"
    }
   ],
   "source": [
    "df1.head(), df1.shape"
   ]
  },
  {
   "cell_type": "code",
   "execution_count": 5,
   "metadata": {
    "ExecuteTime": {
     "end_time": "2019-06-06T06:05:48.412662Z",
     "start_time": "2019-06-06T06:05:48.352700Z"
    },
    "colab": {
     "base_uri": "https://localhost:8080/",
     "height": 136
    },
    "colab_type": "code",
    "id": "VIIQvEzxfYLq",
    "outputId": "988c3357-e335-4889-e3f9-e3229233b328"
   },
   "outputs": [
    {
     "data": {
      "text/plain": [
       "((30579, 10, 8), (7645, 10, 8), (30579, 5), (7645, 5))"
      ]
     },
     "execution_count": 5,
     "metadata": {},
     "output_type": "execute_result"
    }
   ],
   "source": [
    "xtrain.shape, xtest.shape, ytrain.shape, ytest.shape"
   ]
  }
 ],
 "metadata": {
  "colab": {
   "collapsed_sections": [],
   "name": "stockprocessing.ipynb",
   "provenance": [],
   "toc_visible": true,
   "version": "0.3.2"
  },
  "kernelspec": {
   "display_name": "Python 3",
   "language": "python",
   "name": "python3"
  },
  "language_info": {
   "codemirror_mode": {
    "name": "ipython",
    "version": 3
   },
   "file_extension": ".py",
   "mimetype": "text/x-python",
   "name": "python",
   "nbconvert_exporter": "python",
   "pygments_lexer": "ipython3",
   "version": "3.6.8"
  },
  "toc": {
   "base_numbering": 1,
   "nav_menu": {},
   "number_sections": true,
   "sideBar": true,
   "skip_h1_title": false,
   "title_cell": "Table of Contents",
   "title_sidebar": "Contents",
   "toc_cell": false,
   "toc_position": {
    "height": "calc(100% - 180px)",
    "left": "10px",
    "top": "150px",
    "width": "279px"
   },
   "toc_section_display": true,
   "toc_window_display": true
  },
  "varInspector": {
   "cols": {
    "lenName": 16,
    "lenType": 16,
    "lenVar": 40
   },
   "kernels_config": {
    "python": {
     "delete_cmd_postfix": "",
     "delete_cmd_prefix": "del ",
     "library": "var_list.py",
     "varRefreshCmd": "print(var_dic_list())"
    },
    "r": {
     "delete_cmd_postfix": ") ",
     "delete_cmd_prefix": "rm(",
     "library": "var_list.r",
     "varRefreshCmd": "cat(var_dic_list()) "
    }
   },
   "types_to_exclude": [
    "module",
    "function",
    "builtin_function_or_method",
    "instance",
    "_Feature"
   ],
   "window_display": false
  }
 },
 "nbformat": 4,
 "nbformat_minor": 1
}
