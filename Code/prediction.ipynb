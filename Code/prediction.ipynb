{
 "cells": [
  {
   "cell_type": "code",
   "execution_count": null,
   "metadata": {},
   "outputs": [],
   "source": [
    "import numpy as np\n",
    "import pandas as pd\n",
    "from sklearn.externals import joblib\n",
    "import tushare as ts\n",
    "pro = ts.pro_api('52119551ebc32c734a42fd61ccf33344fde3c6195b0aacec58d15140')"
   ]
  },
  {
   "cell_type": "code",
   "execution_count": null,
   "metadata": {},
   "outputs": [],
   "source": [
    "colums=['801010.SI', '801020.SI', '801030.SI','801040.SI', '801050.SI', '801080.SI', '801110.SI', '801120.SI',\n",
    "        '801130.SI', '801140.SI', '801150.SI', '801160.SI', '801170.SI', '801180.SI', '801200.SI', '801210.SI',\n",
    "        '801230.SI', '801250.SI', '801260.SI', '801270.SI', '801280.SI', '801300.SI', '801710.SI', '801720.SI',\n",
    "        '801730.SI', '801740.SI', '801750.SI', '801760.SI', '801770.SI', '801780.SI', '801790.SI', '801880.SI',\n",
    "        '801890.SI', '802600.SI']\n",
    "df_pr = pd.DataFrame()\n",
    "for arr in colums:\n",
    "    df=pro.sw_daily(ts_code=arr, start_date='20190520', end_date='20190618')\n",
    "    df=df.sort_values(by=\"trade_date\",ascending= True)\n",
    "    df.loc[df['pct_change']>0,'y']=1\n",
    "    df.loc[df['pct_change']<0,'y']=0\n",
    "    df['vol_change'] = df['vol'].pct_change()\n",
    "    df['low_change'] = df['low'].pct_change()\n",
    "    df['high_change'] = df['high'].pct_change()\n",
    "    df['gaodi'] = (df['high'] - df['low']) / df['low']\n",
    "    df['gaoclo'] = (df['high'] - df['close']\n",
    "                      ) / (df['high'] - df['low'])\n",
    "    df['diclo'] = (df['close'] - df['low']) / (df['high'] - df['low'])\n",
    "    df['pct_change'] = df['pct_change'] / 10\n",
    "    df = df[['ts_code', 'trade_date', 'name', 'pct_change',\n",
    "                     'vol_change', 'high_change', 'low_change', 'gaodi', 'gaoclo', 'diclo', 'y']]\n",
    "    df=df.tail(n=15)\n",
    "    dataset2 = df.values\n",
    "    x1 = dataset2[0:15, 3:11].tolist()\n",
    "    x1 = np.array(x1)\n",
    "    x1 = np.reshape(x1, (1, x1.shape[0], x1.shape[1]))\n",
    "    y_p =  pd.DataFrame()\n",
    "    regressor=joblib.load('./lstm0.model')\n",
    "    ytest1 = regressor.predict(x1)\n",
    "    y_s = pd.DataFrame(ytest1)\n",
    "    y_s = y_s.T\n",
    "    y_p=y_s+y_p\n",
    "    y_p= y_p/5\n",
    "    y_p['ts_code'] = arr\n",
    "    y_p['trade_date'] = [20190619, 20190620, 20190621]\n",
    "    df_pr = pd.concat([df_pr, y_p])\n",
    "df_pr.columns = ['p', 'ts_code', 'trade_date']\n",
    "df_pr = df_pr[['ts_code', 'trade_date', 'p']]\n",
    "for i in range(102):\n",
    "    df_pr['ts_code'][i]= df_pr['ts_code'][i][0:6]\n",
    "df_pr['ts_code']=df_pr['ts_code'].astype('int')\n",
    "df_pr.to_csv('./结果提交1.csv')"
   ]
  },
  {
   "cell_type": "code",
   "execution_count": null,
   "metadata": {},
   "outputs": [],
   "source": [
    " df"
   ]
  },
  {
   "cell_type": "code",
   "execution_count": null,
   "metadata": {},
   "outputs": [],
   "source": [
    "df=pro.sw_daily(ts_code='801010.SI', start_date='20190520', end_date='20190618')\n",
    "df=df.sort_values(by=\"trade_date\",ascending= True)\n",
    "df.loc[df['pct_change']>0,'y']=1\n",
    "df.loc[df['pct_change']<0,'y']=0\n",
    "df['vol_change'] = df['vol'].pct_change()\n",
    "df['low_change'] = df['low'].pct_change()\n",
    "df['high_change'] = df['high'].pct_change()\n",
    "df['gaodi'] = (df['high'] - df['low']) / df['low']\n",
    "df['gaoclo'] = (df['high'] - df['close']\n",
    "                  ) / (df['high'] - df['low'])\n",
    "df['diclo'] = (df['close'] - df['low']) / (df['high'] - df['low'])\n",
    "df['pct_change'] = df['pct_change'] / 10\n",
    "df = df[['ts_code', 'trade_date', 'name', 'pct_change',\n",
    "                 'vol_change', 'high_change', 'low_change', 'gaodi', 'gaoclo', 'diclo', 'y']]\n",
    "df=df.tail(n=15)\n",
    "\n",
    "dataset2 = df.values\n",
    "x1 = dataset2[0:15, 3:11].tolist()\n",
    "x1 = np.array(x1)\n",
    "x1 = np.reshape(x1, (1, x1.shape[0], x1.shape[1]))"
   ]
  },
  {
   "cell_type": "code",
   "execution_count": 5,
   "metadata": {},
   "outputs": [
    {
     "data": {
      "text/plain": [
       "array([[[ 3.41000000e-01,  2.86653422e-01,  3.96928920e-02,\n",
       "          4.48943052e-02,  3.39843609e-02,  2.65690191e-01,\n",
       "          7.34309809e-01,  1.00000000e+00],\n",
       "        [ 4.70000000e-02, -7.52445387e-02, -3.20650287e-03,\n",
       "          8.99612642e-03,  2.14795281e-02,  4.07850780e-02,\n",
       "          9.59214922e-01,  1.00000000e+00],\n",
       "        [ 2.69000000e-01,  1.95958107e-01,  2.68029106e-02,\n",
       "          1.47821251e-02,  3.35796489e-02,  2.28130210e-02,\n",
       "          9.77186979e-01,  1.00000000e+00],\n",
       "        [ 1.50000000e-02, -1.16582659e-02,  8.00458382e-03,\n",
       "          7.97579272e-03,  3.36091713e-02,  2.20994956e-01,\n",
       "          7.79005044e-01,  1.00000000e+00],\n",
       "        [-1.06000000e-01,  1.42136450e-02,  1.85347010e-02,\n",
       "          7.78406882e-03,  4.46352952e-02,  8.31762948e-01,\n",
       "          1.68237052e-01,  0.00000000e+00],\n",
       "        [-2.20000000e-01, -2.39804796e-01, -3.22272539e-02,\n",
       "         -2.88799554e-02,  4.10346012e-02,  6.44224470e-01,\n",
       "          3.55775530e-01,  0.00000000e+00],\n",
       "        [-1.10000000e-02,  2.14338060e-01, -1.79283554e-02,\n",
       "         -5.36116960e-03,  2.78812083e-02,  3.20516963e-01,\n",
       "          6.79483037e-01,  0.00000000e+00],\n",
       "        [-4.23000000e-01, -1.12335950e-01, -1.38034794e-02,\n",
       "         -3.14515645e-02,  4.66104060e-02,  8.39430624e-01,\n",
       "          1.60569376e-01,  0.00000000e+00],\n",
       "        [ 5.80000000e-02, -1.27788447e-01, -2.76290065e-02,\n",
       "         -1.04667241e-02,  2.84581884e-02,  1.54134097e-01,\n",
       "          8.45865903e-01,  1.00000000e+00],\n",
       "        [ 4.83000000e-01,  3.33250662e-01,  4.37985334e-02,\n",
       "          2.61240091e-02,  4.61729179e-02,  1.98386457e-04,\n",
       "          9.99801614e-01,  1.00000000e+00],\n",
       "        [-3.10000000e-02,  1.60415931e-01,  9.13230015e-03,\n",
       "          3.26404241e-02,  2.23567259e-02,  5.55217564e-01,\n",
       "          4.44782436e-01,  0.00000000e+00],\n",
       "        [ 4.80000000e-02, -1.53014421e-01, -6.07359461e-04,\n",
       "          2.36547821e-05,  2.17116195e-02,  3.20032684e-01,\n",
       "          6.79967316e-01,  1.00000000e+00],\n",
       "        [-1.92000000e-01,  4.63511953e-03, -4.16728163e-04,\n",
       "         -5.36950852e-03,  2.67992509e-02,  9.75374376e-01,\n",
       "          2.46256240e-02,  0.00000000e+00],\n",
       "        [-1.48000000e-01, -2.27610893e-01, -1.62331176e-02,\n",
       "         -2.11867178e-02,  3.19956995e-02,  7.76839108e-01,\n",
       "          2.23160892e-01,  0.00000000e+00],\n",
       "        [ 1.86000000e-01,  2.04934965e-02, -2.61331732e-03,\n",
       "          9.41496615e-03,  1.96983419e-02,  1.70612494e-01,\n",
       "          8.29387506e-01,  1.00000000e+00]]])"
      ]
     },
     "execution_count": 5,
     "metadata": {},
     "output_type": "execute_result"
    }
   ],
   "source": [
    "x1"
   ]
  },
  {
   "cell_type": "code",
   "execution_count": null,
   "metadata": {},
   "outputs": [],
   "source": [
    "# y_p =  pd.DataFrame()\n",
    "regressor=joblib.load('./lstm1.model')\n",
    "ytest1 = regressor.predict(x1)\n",
    "y_s = pd.DataFrame(ytest1)\n",
    "y_s = y_s.T\n",
    "y_s\n",
    "# y_p=y_s+y_p\n",
    "# y_p= y_p/5\n",
    "# y_p['ts_code'] = 0\n",
    "# y_p['trade_date'] = [20190619, 20190620, 20190621]"
   ]
  },
  {
   "cell_type": "code",
   "execution_count": null,
   "metadata": {},
   "outputs": [],
   "source": [
    "y_p"
   ]
  },
  {
   "cell_type": "code",
   "execution_count": null,
   "metadata": {},
   "outputs": [],
   "source": []
  }
 ],
 "metadata": {
  "kernelspec": {
   "display_name": "Python 3",
   "language": "python",
   "name": "python3"
  },
  "language_info": {
   "codemirror_mode": {
    "name": "ipython",
    "version": 3
   },
   "file_extension": ".py",
   "mimetype": "text/x-python",
   "name": "python",
   "nbconvert_exporter": "python",
   "pygments_lexer": "ipython3",
   "version": "3.7.2"
  }
 },
 "nbformat": 4,
 "nbformat_minor": 2
}
