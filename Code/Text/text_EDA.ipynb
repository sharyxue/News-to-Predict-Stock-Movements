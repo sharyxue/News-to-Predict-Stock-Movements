{
 "cells": [
  {
   "cell_type": "code",
   "execution_count": 1,
   "metadata": {
    "ExecuteTime": {
     "end_time": "2019-05-11T10:32:00.223754Z",
     "start_time": "2019-05-11T10:32:00.221023Z"
    },
    "colab": {},
    "colab_type": "code",
    "id": "URTWoFKxVS14"
   },
   "outputs": [],
   "source": [
    "import pandas as pd\n",
    "import numpy as np\n",
    "text = pd.read_csv(r'../../Data/TRAINSET_NEWS.csv')"
   ]
  },
  {
   "cell_type": "code",
   "execution_count": 2,
   "metadata": {
    "ExecuteTime": {
     "end_time": "2019-05-11T10:32:00.258835Z",
     "start_time": "2019-05-11T10:32:00.247766Z"
    },
    "colab": {},
    "colab_type": "code",
    "id": "af3-AnISVS1-",
    "outputId": "ddad73ab-96ad-4ff0-9605-c273af83c947"
   },
   "outputs": [
    {
     "data": {
      "text/plain": [
       "(26399, 4)"
      ]
     },
     "execution_count": 2,
     "metadata": {},
     "output_type": "execute_result"
    }
   ],
   "source": [
    "text.shape"
   ]
  },
  {
   "cell_type": "code",
   "execution_count": 3,
   "metadata": {
    "ExecuteTime": {
     "end_time": "2019-05-11T10:32:00.282953Z",
     "start_time": "2019-05-11T10:32:00.262898Z"
    },
    "colab": {},
    "colab_type": "code",
    "id": "TynXg6f1VS2D",
    "outputId": "d37b2ddc-3f36-4a39-c93a-ecd463327370"
   },
   "outputs": [
    {
     "data": {
      "text/html": [
       "<div>\n",
       "<style scoped>\n",
       "    .dataframe tbody tr th:only-of-type {\n",
       "        vertical-align: middle;\n",
       "    }\n",
       "\n",
       "    .dataframe tbody tr th {\n",
       "        vertical-align: top;\n",
       "    }\n",
       "\n",
       "    .dataframe thead th {\n",
       "        text-align: right;\n",
       "    }\n",
       "</style>\n",
       "<table border=\"1\" class=\"dataframe\">\n",
       "  <thead>\n",
       "    <tr style=\"text-align: right;\">\n",
       "      <th></th>\n",
       "      <th>id</th>\n",
       "      <th>date</th>\n",
       "      <th>title</th>\n",
       "      <th>content</th>\n",
       "    </tr>\n",
       "  </thead>\n",
       "  <tbody>\n",
       "    <tr>\n",
       "      <th>0</th>\n",
       "      <td>20140414_00</td>\n",
       "      <td>20140414</td>\n",
       "      <td>习近平在空军机关调研时强调 加快建设一支空天一体攻防兼备的强大人民空军 为实现中国梦强军梦提...</td>\n",
       "      <td>中共中央总书记、国家主席、中央军委主席习近平14日专程到空军机关就空军建设和军事斗争准备进行...</td>\n",
       "    </tr>\n",
       "    <tr>\n",
       "      <th>1</th>\n",
       "      <td>20140414_01</td>\n",
       "      <td>20140414</td>\n",
       "      <td>利比亚临时政府总理辞职</td>\n",
       "      <td>本月8号刚刚被正式任命为利比亚临时政府总理的阿卜杜拉·萨尼13号发表声明说，12号晚他和家人...</td>\n",
       "    </tr>\n",
       "    <tr>\n",
       "      <th>2</th>\n",
       "      <td>20140414_02</td>\n",
       "      <td>20140414</td>\n",
       "      <td>关注乌克兰局势</td>\n",
       "      <td>代行乌克兰总统职责的乌克兰议长图尔奇诺夫13号发表讲话，要求占领东部地方政府建筑的抗议者，在...</td>\n",
       "    </tr>\n",
       "    <tr>\n",
       "      <th>3</th>\n",
       "      <td>20140414_03</td>\n",
       "      <td>20140414</td>\n",
       "      <td>国内联播快讯</td>\n",
       "      <td>低碳中国行活动正式启动由国家发展改革委等部门共同发起的低碳中国行活动今天正式启动，活动以引导...</td>\n",
       "    </tr>\n",
       "    <tr>\n",
       "      <th>4</th>\n",
       "      <td>20140414_04</td>\n",
       "      <td>20140414</td>\n",
       "      <td>刘汉等36人涉黑案继续开庭审理</td>\n",
       "      <td>刘汉、刘维等36人涉嫌犯组织、领导、参加黑社会性质组织罪以及故意杀人罪、包庇、纵容黑社会性质...</td>\n",
       "    </tr>\n",
       "  </tbody>\n",
       "</table>\n",
       "</div>"
      ],
      "text/plain": [
       "            id      date                                              title  \\\n",
       "0  20140414_00  20140414  习近平在空军机关调研时强调 加快建设一支空天一体攻防兼备的强大人民空军 为实现中国梦强军梦提...   \n",
       "1  20140414_01  20140414                                        利比亚临时政府总理辞职   \n",
       "2  20140414_02  20140414                                            关注乌克兰局势   \n",
       "3  20140414_03  20140414                                             国内联播快讯   \n",
       "4  20140414_04  20140414                                    刘汉等36人涉黑案继续开庭审理   \n",
       "\n",
       "                                             content  \n",
       "0  中共中央总书记、国家主席、中央军委主席习近平14日专程到空军机关就空军建设和军事斗争准备进行...  \n",
       "1  本月8号刚刚被正式任命为利比亚临时政府总理的阿卜杜拉·萨尼13号发表声明说，12号晚他和家人...  \n",
       "2  代行乌克兰总统职责的乌克兰议长图尔奇诺夫13号发表讲话，要求占领东部地方政府建筑的抗议者，在...  \n",
       "3  低碳中国行活动正式启动由国家发展改革委等部门共同发起的低碳中国行活动今天正式启动，活动以引导...  \n",
       "4  刘汉、刘维等36人涉嫌犯组织、领导、参加黑社会性质组织罪以及故意杀人罪、包庇、纵容黑社会性质...  "
      ]
     },
     "execution_count": 3,
     "metadata": {},
     "output_type": "execute_result"
    }
   ],
   "source": [
    "text.head(5)"
   ]
  },
  {
   "cell_type": "code",
   "execution_count": 4,
   "metadata": {
    "ExecuteTime": {
     "end_time": "2019-05-11T10:32:00.292299Z",
     "start_time": "2019-05-11T10:32:00.286020Z"
    },
    "colab": {},
    "colab_type": "code",
    "id": "0_tMizbyVS2G",
    "outputId": "78f123e5-ba07-49e6-eedf-165ac71e194a"
   },
   "outputs": [
    {
     "data": {
      "text/plain": [
       "1814"
      ]
     },
     "execution_count": 4,
     "metadata": {},
     "output_type": "execute_result"
    }
   ],
   "source": [
    "len(text['date'].unique())"
   ]
  },
  {
   "cell_type": "code",
   "execution_count": 5,
   "metadata": {
    "ExecuteTime": {
     "end_time": "2019-05-11T10:32:00.303163Z",
     "start_time": "2019-05-11T10:32:00.295130Z"
    },
    "colab": {},
    "colab_type": "code",
    "id": "49flTeT0VS2J"
   },
   "outputs": [],
   "source": [
    "date_group=text.groupby(['date']).count()"
   ]
  },
  {
   "cell_type": "code",
   "execution_count": 6,
   "metadata": {
    "ExecuteTime": {
     "end_time": "2019-05-11T10:32:00.331310Z",
     "start_time": "2019-05-11T10:32:00.306428Z"
    },
    "colab": {},
    "colab_type": "code",
    "id": "iSd5rs9KVYoC"
   },
   "outputs": [
    {
     "data": {
      "text/html": [
       "<div>\n",
       "<style scoped>\n",
       "    .dataframe tbody tr th:only-of-type {\n",
       "        vertical-align: middle;\n",
       "    }\n",
       "\n",
       "    .dataframe tbody tr th {\n",
       "        vertical-align: top;\n",
       "    }\n",
       "\n",
       "    .dataframe thead th {\n",
       "        text-align: right;\n",
       "    }\n",
       "</style>\n",
       "<table border=\"1\" class=\"dataframe\">\n",
       "  <thead>\n",
       "    <tr style=\"text-align: right;\">\n",
       "      <th></th>\n",
       "      <th>id</th>\n",
       "      <th>title</th>\n",
       "      <th>content</th>\n",
       "    </tr>\n",
       "  </thead>\n",
       "  <tbody>\n",
       "    <tr>\n",
       "      <th>count</th>\n",
       "      <td>1814.000000</td>\n",
       "      <td>1814.000000</td>\n",
       "      <td>1814.000000</td>\n",
       "    </tr>\n",
       "    <tr>\n",
       "      <th>mean</th>\n",
       "      <td>14.552922</td>\n",
       "      <td>14.536935</td>\n",
       "      <td>14.466373</td>\n",
       "    </tr>\n",
       "    <tr>\n",
       "      <th>std</th>\n",
       "      <td>3.008209</td>\n",
       "      <td>3.044533</td>\n",
       "      <td>3.039857</td>\n",
       "    </tr>\n",
       "    <tr>\n",
       "      <th>min</th>\n",
       "      <td>4.000000</td>\n",
       "      <td>0.000000</td>\n",
       "      <td>1.000000</td>\n",
       "    </tr>\n",
       "    <tr>\n",
       "      <th>25%</th>\n",
       "      <td>13.000000</td>\n",
       "      <td>13.000000</td>\n",
       "      <td>13.000000</td>\n",
       "    </tr>\n",
       "    <tr>\n",
       "      <th>50%</th>\n",
       "      <td>14.000000</td>\n",
       "      <td>14.000000</td>\n",
       "      <td>14.000000</td>\n",
       "    </tr>\n",
       "    <tr>\n",
       "      <th>75%</th>\n",
       "      <td>16.000000</td>\n",
       "      <td>16.000000</td>\n",
       "      <td>16.000000</td>\n",
       "    </tr>\n",
       "    <tr>\n",
       "      <th>max</th>\n",
       "      <td>36.000000</td>\n",
       "      <td>36.000000</td>\n",
       "      <td>36.000000</td>\n",
       "    </tr>\n",
       "  </tbody>\n",
       "</table>\n",
       "</div>"
      ],
      "text/plain": [
       "                id        title      content\n",
       "count  1814.000000  1814.000000  1814.000000\n",
       "mean     14.552922    14.536935    14.466373\n",
       "std       3.008209     3.044533     3.039857\n",
       "min       4.000000     0.000000     1.000000\n",
       "25%      13.000000    13.000000    13.000000\n",
       "50%      14.000000    14.000000    14.000000\n",
       "75%      16.000000    16.000000    16.000000\n",
       "max      36.000000    36.000000    36.000000"
      ]
     },
     "execution_count": 6,
     "metadata": {},
     "output_type": "execute_result"
    }
   ],
   "source": [
    "# 每天新闻的数量\n",
    "date_group.describe()"
   ]
  },
  {
   "cell_type": "code",
   "execution_count": 7,
   "metadata": {
    "ExecuteTime": {
     "end_time": "2019-05-11T10:36:06.747908Z",
     "start_time": "2019-05-11T10:36:06.737320Z"
    },
    "colab": {},
    "colab_type": "code",
    "id": "zvExDrK9VaSO"
   },
   "outputs": [
    {
     "data": {
      "text/plain": [
       "count    26370.000000\n",
       "mean        19.373227\n",
       "std         11.603298\n",
       "min          2.000000\n",
       "25%         13.000000\n",
       "50%         16.000000\n",
       "75%         24.000000\n",
       "max        118.000000\n",
       "Name: title, dtype: float64"
      ]
     },
     "execution_count": 7,
     "metadata": {},
     "output_type": "execute_result"
    }
   ],
   "source": [
    "# 新闻标题长度的统计\n",
    "(text['title'].str.len()).describe()"
   ]
  },
  {
   "cell_type": "code",
   "execution_count": 8,
   "metadata": {
    "ExecuteTime": {
     "end_time": "2019-05-11T10:36:04.885667Z",
     "start_time": "2019-05-11T10:36:04.874738Z"
    },
    "colab": {},
    "colab_type": "code",
    "id": "gc1qhau9Vb9x"
   },
   "outputs": [
    {
     "data": {
      "text/plain": [
       "count    26242.000000\n",
       "mean       489.893339\n",
       "std        392.896277\n",
       "min         19.000000\n",
       "25%        263.000000\n",
       "50%        401.000000\n",
       "75%        609.750000\n",
       "max       6555.000000\n",
       "Name: content, dtype: float64"
      ]
     },
     "execution_count": 8,
     "metadata": {},
     "output_type": "execute_result"
    }
   ],
   "source": [
    "# 新闻内容长度的统计\n",
    "(text['content'].str.len()).describe()"
   ]
  },
  {
   "cell_type": "code",
   "execution_count": null,
   "metadata": {},
   "outputs": [],
   "source": []
  }
 ],
 "metadata": {
  "colab": {
   "collapsed_sections": [],
   "name": "textprocessing.ipynb",
   "provenance": [],
   "version": "0.3.2"
  },
  "kernelspec": {
   "display_name": "Python 3",
   "language": "python",
   "name": "python3"
  },
  "language_info": {
   "codemirror_mode": {
    "name": "ipython",
    "version": 3
   },
   "file_extension": ".py",
   "mimetype": "text/x-python",
   "name": "python",
   "nbconvert_exporter": "python",
   "pygments_lexer": "ipython3",
   "version": "3.5.2"
  },
  "toc": {
   "base_numbering": 1,
   "nav_menu": {},
   "number_sections": true,
   "sideBar": true,
   "skip_h1_title": false,
   "title_cell": "Table of Contents",
   "title_sidebar": "Contents",
   "toc_cell": false,
   "toc_position": {},
   "toc_section_display": true,
   "toc_window_display": false
  },
  "varInspector": {
   "cols": {
    "lenName": 16,
    "lenType": 16,
    "lenVar": 40
   },
   "kernels_config": {
    "python": {
     "delete_cmd_postfix": "",
     "delete_cmd_prefix": "del ",
     "library": "var_list.py",
     "varRefreshCmd": "print(var_dic_list())"
    },
    "r": {
     "delete_cmd_postfix": ") ",
     "delete_cmd_prefix": "rm(",
     "library": "var_list.r",
     "varRefreshCmd": "cat(var_dic_list()) "
    }
   },
   "types_to_exclude": [
    "module",
    "function",
    "builtin_function_or_method",
    "instance",
    "_Feature"
   ],
   "window_display": false
  }
 },
 "nbformat": 4,
 "nbformat_minor": 1
}
