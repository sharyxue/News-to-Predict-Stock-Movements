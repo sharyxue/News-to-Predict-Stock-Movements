{
 "cells": [
  {
   "cell_type": "markdown",
   "metadata": {},
   "source": [
    "# Environment setting"
   ]
  },
  {
   "cell_type": "code",
   "execution_count": 2,
   "metadata": {
    "ExecuteTime": {
     "end_time": "2019-05-14T14:39:21.337989Z",
     "start_time": "2019-05-14T14:39:19.404432Z"
    }
   },
   "outputs": [
    {
     "name": "stdout",
     "output_type": "stream",
     "text": [
      "Using matplotlib backend: Qt5Agg\n"
     ]
    }
   ],
   "source": [
    "import codecs\n",
    "import json\n",
    "\n",
    "from IPython.display import display\n",
    "import matplotlib.pyplot as plt\n",
    "import seaborn as sns\n",
    "import matplotlib as mpl\n",
    "\n",
    "import pandas as pd\n",
    "import numpy as np\n",
    "\n",
    "import warnings\n",
    "import time\n",
    "\n",
    "\n",
    "import jieba\n",
    "from gensim.models import word2vec\n",
    "from gensim.models import FastText\n",
    "from glove import Glove, Corpus\n",
    "\n",
    "warnings.filterwarnings(\"ignore\")\n",
    "%matplotlib\n",
    "\n",
    "stopwords = [line.strip() for line in codecs.open(\n",
    "    r'./stopwords.txt', 'r', 'utf-8').readlines()]"
   ]
  },
  {
   "cell_type": "code",
   "execution_count": 3,
   "metadata": {
    "ExecuteTime": {
     "end_time": "2019-05-14T14:39:22.444559Z",
     "start_time": "2019-05-14T14:39:21.714903Z"
    }
   },
   "outputs": [],
   "source": [
    "text = pd.read_csv(r'../../Data/TRAINSET_NEWS.csv')\n",
    "stock = pd.read_csv(r'../../Data/TRAINSET_STOCK.csv')"
   ]
  },
  {
   "cell_type": "markdown",
   "metadata": {},
   "source": [
    "# Prepare target vector"
   ]
  },
  {
   "cell_type": "code",
   "execution_count": 4,
   "metadata": {
    "ExecuteTime": {
     "end_time": "2019-05-14T14:39:23.207967Z",
     "start_time": "2019-05-14T14:39:23.171127Z"
    }
   },
   "outputs": [
    {
     "data": {
      "text/html": [
       "<div>\n",
       "<style scoped>\n",
       "    .dataframe tbody tr th:only-of-type {\n",
       "        vertical-align: middle;\n",
       "    }\n",
       "\n",
       "    .dataframe tbody tr th {\n",
       "        vertical-align: top;\n",
       "    }\n",
       "\n",
       "    .dataframe thead th {\n",
       "        text-align: right;\n",
       "    }\n",
       "</style>\n",
       "<table border=\"1\" class=\"dataframe\">\n",
       "  <thead>\n",
       "    <tr style=\"text-align: right;\">\n",
       "      <th></th>\n",
       "      <th>ts_code</th>\n",
       "      <th>trade_date</th>\n",
       "      <th>name</th>\n",
       "      <th>open</th>\n",
       "      <th>low</th>\n",
       "      <th>high</th>\n",
       "      <th>close</th>\n",
       "      <th>change</th>\n",
       "      <th>pct_change</th>\n",
       "      <th>vol</th>\n",
       "      <th>amount</th>\n",
       "      <th>pe</th>\n",
       "      <th>pb</th>\n",
       "      <th>y</th>\n",
       "    </tr>\n",
       "  </thead>\n",
       "  <tbody>\n",
       "    <tr>\n",
       "      <th>0</th>\n",
       "      <td>801010</td>\n",
       "      <td>20140401</td>\n",
       "      <td>农林牧渔</td>\n",
       "      <td>1668.75</td>\n",
       "      <td>1668.54</td>\n",
       "      <td>1689.12</td>\n",
       "      <td>1689.07</td>\n",
       "      <td>22.13</td>\n",
       "      <td>1.33</td>\n",
       "      <td>34914.0</td>\n",
       "      <td>291113.0</td>\n",
       "      <td>41.51</td>\n",
       "      <td>2.77</td>\n",
       "      <td>1</td>\n",
       "    </tr>\n",
       "    <tr>\n",
       "      <th>1</th>\n",
       "      <td>801010</td>\n",
       "      <td>20140402</td>\n",
       "      <td>农林牧渔</td>\n",
       "      <td>1688.72</td>\n",
       "      <td>1684.53</td>\n",
       "      <td>1693.41</td>\n",
       "      <td>1692.24</td>\n",
       "      <td>3.17</td>\n",
       "      <td>0.19</td>\n",
       "      <td>36300.0</td>\n",
       "      <td>289020.0</td>\n",
       "      <td>41.63</td>\n",
       "      <td>2.79</td>\n",
       "      <td>1</td>\n",
       "    </tr>\n",
       "    <tr>\n",
       "      <th>2</th>\n",
       "      <td>801010</td>\n",
       "      <td>20140403</td>\n",
       "      <td>农林牧渔</td>\n",
       "      <td>1693.05</td>\n",
       "      <td>1679.85</td>\n",
       "      <td>1697.73</td>\n",
       "      <td>1685.71</td>\n",
       "      <td>-6.53</td>\n",
       "      <td>-0.39</td>\n",
       "      <td>31403.0</td>\n",
       "      <td>259464.0</td>\n",
       "      <td>41.38</td>\n",
       "      <td>2.78</td>\n",
       "      <td>0</td>\n",
       "    </tr>\n",
       "    <tr>\n",
       "      <th>3</th>\n",
       "      <td>801010</td>\n",
       "      <td>20140404</td>\n",
       "      <td>农林牧渔</td>\n",
       "      <td>1681.92</td>\n",
       "      <td>1680.34</td>\n",
       "      <td>1698.44</td>\n",
       "      <td>1698.25</td>\n",
       "      <td>12.54</td>\n",
       "      <td>0.74</td>\n",
       "      <td>28648.0</td>\n",
       "      <td>240940.0</td>\n",
       "      <td>41.76</td>\n",
       "      <td>2.80</td>\n",
       "      <td>1</td>\n",
       "    </tr>\n",
       "    <tr>\n",
       "      <th>4</th>\n",
       "      <td>801010</td>\n",
       "      <td>20140408</td>\n",
       "      <td>农林牧渔</td>\n",
       "      <td>1693.24</td>\n",
       "      <td>1692.22</td>\n",
       "      <td>1706.84</td>\n",
       "      <td>1706.84</td>\n",
       "      <td>8.59</td>\n",
       "      <td>0.51</td>\n",
       "      <td>35012.0</td>\n",
       "      <td>312423.0</td>\n",
       "      <td>42.00</td>\n",
       "      <td>2.79</td>\n",
       "      <td>1</td>\n",
       "    </tr>\n",
       "  </tbody>\n",
       "</table>\n",
       "</div>"
      ],
      "text/plain": [
       "   ts_code  trade_date  name     open      low     high    close  change  \\\n",
       "0   801010    20140401  农林牧渔  1668.75  1668.54  1689.12  1689.07   22.13   \n",
       "1   801010    20140402  农林牧渔  1688.72  1684.53  1693.41  1692.24    3.17   \n",
       "2   801010    20140403  农林牧渔  1693.05  1679.85  1697.73  1685.71   -6.53   \n",
       "3   801010    20140404  农林牧渔  1681.92  1680.34  1698.44  1698.25   12.54   \n",
       "4   801010    20140408  农林牧渔  1693.24  1692.22  1706.84  1706.84    8.59   \n",
       "\n",
       "   pct_change      vol    amount     pe    pb  y  \n",
       "0        1.33  34914.0  291113.0  41.51  2.77  1  \n",
       "1        0.19  36300.0  289020.0  41.63  2.79  1  \n",
       "2       -0.39  31403.0  259464.0  41.38  2.78  0  \n",
       "3        0.74  28648.0  240940.0  41.76  2.80  1  \n",
       "4        0.51  35012.0  312423.0  42.00  2.79  1  "
      ]
     },
     "execution_count": 4,
     "metadata": {},
     "output_type": "execute_result"
    }
   ],
   "source": [
    "stock.head()"
   ]
  },
  {
   "cell_type": "code",
   "execution_count": 5,
   "metadata": {
    "ExecuteTime": {
     "end_time": "2019-05-14T14:39:26.366413Z",
     "start_time": "2019-05-14T14:39:26.342224Z"
    }
   },
   "outputs": [],
   "source": [
    "target_df = (stock.loc[(stock['y'] == 1)]).groupby(['trade_date', 'ts_code'])[\n",
    "    'y'].count().unstack().fillna(0).astype(int)"
   ]
  },
  {
   "cell_type": "code",
   "execution_count": 6,
   "metadata": {
    "ExecuteTime": {
     "end_time": "2019-05-14T14:39:27.285611Z",
     "start_time": "2019-05-14T14:39:27.263255Z"
    }
   },
   "outputs": [
    {
     "name": "stdout",
     "output_type": "stream",
     "text": [
      "(1064, 34)\n"
     ]
    },
    {
     "data": {
      "text/plain": [
       "array([[1, 1, 1, ..., 1, 1, 1],\n",
       "       [1, 1, 0, ..., 1, 0, 0],\n",
       "       [0, 0, 1, ..., 0, 0, 1],\n",
       "       ...,\n",
       "       [0, 0, 0, ..., 0, 0, 0],\n",
       "       [1, 1, 1, ..., 1, 1, 1],\n",
       "       [1, 1, 1, ..., 1, 1, 1]])"
      ]
     },
     "execution_count": 6,
     "metadata": {},
     "output_type": "execute_result"
    }
   ],
   "source": [
    "print(target_df.shape)\n",
    "target = target_df.values\n",
    "target"
   ]
  },
  {
   "cell_type": "markdown",
   "metadata": {},
   "source": [
    "# Load word embedding"
   ]
  },
  {
   "cell_type": "markdown",
   "metadata": {},
   "source": [
    "## Load word2vec"
   ]
  },
  {
   "cell_type": "code",
   "execution_count": 27,
   "metadata": {
    "ExecuteTime": {
     "end_time": "2019-05-14T15:14:32.031309Z",
     "start_time": "2019-05-14T15:14:31.240778Z"
    }
   },
   "outputs": [],
   "source": [
    "w2vmodel = word2vec.Word2Vec.load(\"./Word_Embedding_Model/w2v.model\")"
   ]
  },
  {
   "cell_type": "markdown",
   "metadata": {},
   "source": [
    "## Load GloVe"
   ]
  },
  {
   "cell_type": "code",
   "execution_count": 29,
   "metadata": {
    "ExecuteTime": {
     "end_time": "2019-05-14T15:14:50.326808Z",
     "start_time": "2019-05-14T15:14:49.735285Z"
    }
   },
   "outputs": [],
   "source": [
    "corpus_model = Corpus.load('./Word_Embedding_Model/glov_corpus.model')\n",
    "glomodel = Glove.load('./Word_Embedding_Model/glove.model')"
   ]
  },
  {
   "cell_type": "markdown",
   "metadata": {},
   "source": [
    "## Load Fasttext"
   ]
  },
  {
   "cell_type": "code",
   "execution_count": 30,
   "metadata": {
    "ExecuteTime": {
     "end_time": "2019-05-14T15:14:55.341868Z",
     "start_time": "2019-05-14T15:14:53.143328Z"
    }
   },
   "outputs": [],
   "source": [
    "fftmodel = FastText.load(r'./Word_Embedding_Model/fasttext.model')"
   ]
  },
  {
   "cell_type": "markdown",
   "metadata": {},
   "source": [
    "## Combine vector"
   ]
  },
  {
   "cell_type": "code",
   "execution_count": 32,
   "metadata": {
    "ExecuteTime": {
     "end_time": "2019-05-14T15:23:30.237265Z",
     "start_time": "2019-05-14T15:23:30.226536Z"
    }
   },
   "outputs": [
    {
     "data": {
      "text/plain": [
       "(126565, 100)"
      ]
     },
     "execution_count": 32,
     "metadata": {},
     "output_type": "execute_result"
    }
   ],
   "source": [
    "glove.word_vectors.shape"
   ]
  },
  {
   "cell_type": "code",
   "execution_count": 34,
   "metadata": {
    "ExecuteTime": {
     "end_time": "2019-05-14T15:24:39.758679Z",
     "start_time": "2019-05-14T15:24:39.752434Z"
    }
   },
   "outputs": [
    {
     "data": {
      "text/plain": [
       "126565"
      ]
     },
     "execution_count": 34,
     "metadata": {},
     "output_type": "execute_result"
    }
   ],
   "source": [
    "len(fttmodel.wv.vocab)"
   ]
  },
  {
   "cell_type": "markdown",
   "metadata": {},
   "source": [
    "# Merge news title from the same date"
   ]
  },
  {
   "cell_type": "code",
   "execution_count": 7,
   "metadata": {
    "ExecuteTime": {
     "end_time": "2019-05-14T02:27:58.036114Z",
     "start_time": "2019-05-14T02:27:57.475746Z"
    }
   },
   "outputs": [
    {
     "data": {
      "text/html": [
       "<div>\n",
       "<style scoped>\n",
       "    .dataframe tbody tr th:only-of-type {\n",
       "        vertical-align: middle;\n",
       "    }\n",
       "\n",
       "    .dataframe tbody tr th {\n",
       "        vertical-align: top;\n",
       "    }\n",
       "\n",
       "    .dataframe thead th {\n",
       "        text-align: right;\n",
       "    }\n",
       "</style>\n",
       "<table border=\"1\" class=\"dataframe\">\n",
       "  <thead>\n",
       "    <tr style=\"text-align: right;\">\n",
       "      <th></th>\n",
       "      <th>date</th>\n",
       "      <th>title</th>\n",
       "    </tr>\n",
       "  </thead>\n",
       "  <tbody>\n",
       "    <tr>\n",
       "      <th>0</th>\n",
       "      <td>20140414</td>\n",
       "      <td>习近平在空军机关调研时强调 加快建设一支空天一体攻防兼备的强大人民空军 为实现中国梦强军梦提...</td>\n",
       "    </tr>\n",
       "    <tr>\n",
       "      <th>1</th>\n",
       "      <td>20140415</td>\n",
       "      <td>医生贾永青：传递爱和感动;国际联播快讯;搜寻MH370航班：“蓝鳍金枪鱼”首次下水暂无发现;...</td>\n",
       "    </tr>\n",
       "    <tr>\n",
       "      <th>2</th>\n",
       "      <td>20140416</td>\n",
       "      <td>国际联播快讯;关注乌克兰局势：乌军队在东部地区开展强力行动;载有四百多人的韩国客轮进水下沉：...</td>\n",
       "    </tr>\n",
       "    <tr>\n",
       "      <th>3</th>\n",
       "      <td>20140417</td>\n",
       "      <td>【凡人善举】广西：市民见义勇为 巧施妙计擒劫匪;国际联播快讯;关注乌克兰局势;国内联播快讯;...</td>\n",
       "    </tr>\n",
       "    <tr>\n",
       "      <th>4</th>\n",
       "      <td>20140418</td>\n",
       "      <td>国际联播快讯;俄罗斯总统与俄民众“直接对话” 普京：乌境内绝无俄罗斯军队;关注乌克兰局势：四...</td>\n",
       "    </tr>\n",
       "  </tbody>\n",
       "</table>\n",
       "</div>"
      ],
      "text/plain": [
       "       date                                              title\n",
       "0  20140414  习近平在空军机关调研时强调 加快建设一支空天一体攻防兼备的强大人民空军 为实现中国梦强军梦提...\n",
       "1  20140415  医生贾永青：传递爱和感动;国际联播快讯;搜寻MH370航班：“蓝鳍金枪鱼”首次下水暂无发现;...\n",
       "2  20140416  国际联播快讯;关注乌克兰局势：乌军队在东部地区开展强力行动;载有四百多人的韩国客轮进水下沉：...\n",
       "3  20140417  【凡人善举】广西：市民见义勇为 巧施妙计擒劫匪;国际联播快讯;关注乌克兰局势;国内联播快讯;...\n",
       "4  20140418  国际联播快讯;俄罗斯总统与俄民众“直接对话” 普京：乌境内绝无俄罗斯军队;关注乌克兰局势：四..."
      ]
     },
     "execution_count": 7,
     "metadata": {},
     "output_type": "execute_result"
    }
   ],
   "source": [
    "join_title = text[['date', 'title']]\n",
    "join_title['title'] = join_title['title'].astype(str)\n",
    "join_title = join_title.groupby(\n",
    "    ['date'])['title'].apply(';'.join).reset_index()\n",
    "join_title.head()"
   ]
  },
  {
   "cell_type": "markdown",
   "metadata": {},
   "source": [
    "# Merge news content from the same date"
   ]
  },
  {
   "cell_type": "code",
   "execution_count": 8,
   "metadata": {
    "ExecuteTime": {
     "end_time": "2019-05-14T02:27:58.461267Z",
     "start_time": "2019-05-14T02:27:58.039579Z"
    }
   },
   "outputs": [
    {
     "data": {
      "text/html": [
       "<div>\n",
       "<style scoped>\n",
       "    .dataframe tbody tr th:only-of-type {\n",
       "        vertical-align: middle;\n",
       "    }\n",
       "\n",
       "    .dataframe tbody tr th {\n",
       "        vertical-align: top;\n",
       "    }\n",
       "\n",
       "    .dataframe thead th {\n",
       "        text-align: right;\n",
       "    }\n",
       "</style>\n",
       "<table border=\"1\" class=\"dataframe\">\n",
       "  <thead>\n",
       "    <tr style=\"text-align: right;\">\n",
       "      <th></th>\n",
       "      <th>date</th>\n",
       "      <th>content</th>\n",
       "    </tr>\n",
       "  </thead>\n",
       "  <tbody>\n",
       "    <tr>\n",
       "      <th>0</th>\n",
       "      <td>20140414</td>\n",
       "      <td>中共中央总书记、国家主席、中央军委主席习近平14日专程到空军机关就空军建设和军事斗争准备进行...</td>\n",
       "    </tr>\n",
       "    <tr>\n",
       "      <th>1</th>\n",
       "      <td>20140415</td>\n",
       "      <td>这几天我台走基层节目连续报道了河北定州人民医院32岁女医生贾永青身患癌症却隐瞒病情、仍然带病...</td>\n",
       "    </tr>\n",
       "    <tr>\n",
       "      <th>2</th>\n",
       "      <td>20140416</td>\n",
       "      <td>约旦驻利比亚大使遭绑架利比亚外交部15号证实，约旦驻利比亚大使法瓦兹·埃坦当天上午在利比亚首...</td>\n",
       "    </tr>\n",
       "    <tr>\n",
       "      <th>3</th>\n",
       "      <td>20140417</td>\n",
       "      <td>前两天，在广西北海，一位市民在目睹了一起抢夺案后，没有选择离开，而是机智地与民警一起将歹徒抓...</td>\n",
       "    </tr>\n",
       "    <tr>\n",
       "      <th>4</th>\n",
       "      <td>20140418</td>\n",
       "      <td>伊朗举行建军节阅兵式18号，伊朗在首都德黑兰南郊的霍梅尼陵举行一年一度的建军节阅兵式。伊朗总...</td>\n",
       "    </tr>\n",
       "  </tbody>\n",
       "</table>\n",
       "</div>"
      ],
      "text/plain": [
       "       date                                            content\n",
       "0  20140414  中共中央总书记、国家主席、中央军委主席习近平14日专程到空军机关就空军建设和军事斗争准备进行...\n",
       "1  20140415  这几天我台走基层节目连续报道了河北定州人民医院32岁女医生贾永青身患癌症却隐瞒病情、仍然带病...\n",
       "2  20140416  约旦驻利比亚大使遭绑架利比亚外交部15号证实，约旦驻利比亚大使法瓦兹·埃坦当天上午在利比亚首...\n",
       "3  20140417  前两天，在广西北海，一位市民在目睹了一起抢夺案后，没有选择离开，而是机智地与民警一起将歹徒抓...\n",
       "4  20140418  伊朗举行建军节阅兵式18号，伊朗在首都德黑兰南郊的霍梅尼陵举行一年一度的建军节阅兵式。伊朗总..."
      ]
     },
     "execution_count": 8,
     "metadata": {},
     "output_type": "execute_result"
    }
   ],
   "source": [
    "join_content = text[['date', 'content']]\n",
    "join_content['content'] = join_content['content'].astype(str)\n",
    "join_content = join_content.groupby(\n",
    "    ['date'])['content'].apply(';'.join).reset_index()\n",
    "join_content.head()"
   ]
  },
  {
   "cell_type": "markdown",
   "metadata": {},
   "source": [
    "# Contact title and content"
   ]
  },
  {
   "cell_type": "code",
   "execution_count": 9,
   "metadata": {
    "ExecuteTime": {
     "end_time": "2019-05-14T02:27:58.494476Z",
     "start_time": "2019-05-14T02:27:58.465329Z"
    }
   },
   "outputs": [
    {
     "data": {
      "text/html": [
       "<div>\n",
       "<style scoped>\n",
       "    .dataframe tbody tr th:only-of-type {\n",
       "        vertical-align: middle;\n",
       "    }\n",
       "\n",
       "    .dataframe tbody tr th {\n",
       "        vertical-align: top;\n",
       "    }\n",
       "\n",
       "    .dataframe thead th {\n",
       "        text-align: right;\n",
       "    }\n",
       "</style>\n",
       "<table border=\"1\" class=\"dataframe\">\n",
       "  <thead>\n",
       "    <tr style=\"text-align: right;\">\n",
       "      <th></th>\n",
       "      <th>date</th>\n",
       "      <th>title</th>\n",
       "      <th>content</th>\n",
       "    </tr>\n",
       "  </thead>\n",
       "  <tbody>\n",
       "    <tr>\n",
       "      <th>0</th>\n",
       "      <td>20140414</td>\n",
       "      <td>习近平在空军机关调研时强调 加快建设一支空天一体攻防兼备的强大人民空军 为实现中国梦强军梦提...</td>\n",
       "      <td>中共中央总书记、国家主席、中央军委主席习近平14日专程到空军机关就空军建设和军事斗争准备进行...</td>\n",
       "    </tr>\n",
       "    <tr>\n",
       "      <th>1</th>\n",
       "      <td>20140415</td>\n",
       "      <td>医生贾永青：传递爱和感动;国际联播快讯;搜寻MH370航班：“蓝鳍金枪鱼”首次下水暂无发现;...</td>\n",
       "      <td>这几天我台走基层节目连续报道了河北定州人民医院32岁女医生贾永青身患癌症却隐瞒病情、仍然带病...</td>\n",
       "    </tr>\n",
       "    <tr>\n",
       "      <th>2</th>\n",
       "      <td>20140416</td>\n",
       "      <td>国际联播快讯;关注乌克兰局势：乌军队在东部地区开展强力行动;载有四百多人的韩国客轮进水下沉：...</td>\n",
       "      <td>约旦驻利比亚大使遭绑架利比亚外交部15号证实，约旦驻利比亚大使法瓦兹·埃坦当天上午在利比亚首...</td>\n",
       "    </tr>\n",
       "    <tr>\n",
       "      <th>3</th>\n",
       "      <td>20140417</td>\n",
       "      <td>【凡人善举】广西：市民见义勇为 巧施妙计擒劫匪;国际联播快讯;关注乌克兰局势;国内联播快讯;...</td>\n",
       "      <td>前两天，在广西北海，一位市民在目睹了一起抢夺案后，没有选择离开，而是机智地与民警一起将歹徒抓...</td>\n",
       "    </tr>\n",
       "    <tr>\n",
       "      <th>4</th>\n",
       "      <td>20140418</td>\n",
       "      <td>国际联播快讯;俄罗斯总统与俄民众“直接对话” 普京：乌境内绝无俄罗斯军队;关注乌克兰局势：四...</td>\n",
       "      <td>伊朗举行建军节阅兵式18号，伊朗在首都德黑兰南郊的霍梅尼陵举行一年一度的建军节阅兵式。伊朗总...</td>\n",
       "    </tr>\n",
       "  </tbody>\n",
       "</table>\n",
       "</div>"
      ],
      "text/plain": [
       "       date                                              title  \\\n",
       "0  20140414  习近平在空军机关调研时强调 加快建设一支空天一体攻防兼备的强大人民空军 为实现中国梦强军梦提...   \n",
       "1  20140415  医生贾永青：传递爱和感动;国际联播快讯;搜寻MH370航班：“蓝鳍金枪鱼”首次下水暂无发现;...   \n",
       "2  20140416  国际联播快讯;关注乌克兰局势：乌军队在东部地区开展强力行动;载有四百多人的韩国客轮进水下沉：...   \n",
       "3  20140417  【凡人善举】广西：市民见义勇为 巧施妙计擒劫匪;国际联播快讯;关注乌克兰局势;国内联播快讯;...   \n",
       "4  20140418  国际联播快讯;俄罗斯总统与俄民众“直接对话” 普京：乌境内绝无俄罗斯军队;关注乌克兰局势：四...   \n",
       "\n",
       "                                             content  \n",
       "0  中共中央总书记、国家主席、中央军委主席习近平14日专程到空军机关就空军建设和军事斗争准备进行...  \n",
       "1  这几天我台走基层节目连续报道了河北定州人民医院32岁女医生贾永青身患癌症却隐瞒病情、仍然带病...  \n",
       "2  约旦驻利比亚大使遭绑架利比亚外交部15号证实，约旦驻利比亚大使法瓦兹·埃坦当天上午在利比亚首...  \n",
       "3  前两天，在广西北海，一位市民在目睹了一起抢夺案后，没有选择离开，而是机智地与民警一起将歹徒抓...  \n",
       "4  伊朗举行建军节阅兵式18号，伊朗在首都德黑兰南郊的霍梅尼陵举行一年一度的建军节阅兵式。伊朗总...  "
      ]
     },
     "execution_count": 9,
     "metadata": {},
     "output_type": "execute_result"
    }
   ],
   "source": [
    "joined_text = join_title.merge(join_content, on='date')\n",
    "joined_text.head()"
   ]
  },
  {
   "cell_type": "markdown",
   "metadata": {},
   "source": [
    "# Rolling text"
   ]
  },
  {
   "cell_type": "code",
   "execution_count": 14,
   "metadata": {
    "ExecuteTime": {
     "end_time": "2019-05-14T05:11:41.920999Z",
     "start_time": "2019-05-14T05:11:41.912787Z"
    }
   },
   "outputs": [],
   "source": [
    "def func1(x):\n",
    "    print(x)\n",
    "    x = list(x)\n",
    "    x.reverse()\n",
    "    return ';'.join(x)"
   ]
  },
  {
   "cell_type": "code",
   "execution_count": 63,
   "metadata": {
    "ExecuteTime": {
     "end_time": "2019-05-14T08:05:41.999594Z",
     "start_time": "2019-05-14T08:05:41.993707Z"
    }
   },
   "outputs": [
    {
     "data": {
      "text/plain": [
       "Rolling [window=5,center=False,axis=0]"
      ]
     },
     "execution_count": 63,
     "metadata": {},
     "output_type": "execute_result"
    }
   ],
   "source": [
    "joined_text['title'].rolling(window=5)"
   ]
  },
  {
   "cell_type": "code",
   "execution_count": null,
   "metadata": {},
   "outputs": [],
   "source": []
  }
 ],
 "metadata": {
  "kernelspec": {
   "display_name": "Python 3",
   "language": "python",
   "name": "python3"
  },
  "language_info": {
   "codemirror_mode": {
    "name": "ipython",
    "version": 3
   },
   "file_extension": ".py",
   "mimetype": "text/x-python",
   "name": "python",
   "nbconvert_exporter": "python",
   "pygments_lexer": "ipython3",
   "version": "3.6.8"
  },
  "toc": {
   "base_numbering": 1,
   "nav_menu": {},
   "number_sections": true,
   "sideBar": true,
   "skip_h1_title": false,
   "title_cell": "Table of Contents",
   "title_sidebar": "Contents",
   "toc_cell": false,
   "toc_position": {
    "height": "calc(100% - 180px)",
    "left": "10px",
    "top": "150px",
    "width": "377px"
   },
   "toc_section_display": true,
   "toc_window_display": true
  },
  "varInspector": {
   "cols": {
    "lenName": 16,
    "lenType": 16,
    "lenVar": 40
   },
   "kernels_config": {
    "python": {
     "delete_cmd_postfix": "",
     "delete_cmd_prefix": "del ",
     "library": "var_list.py",
     "varRefreshCmd": "print(var_dic_list())"
    },
    "r": {
     "delete_cmd_postfix": ") ",
     "delete_cmd_prefix": "rm(",
     "library": "var_list.r",
     "varRefreshCmd": "cat(var_dic_list()) "
    }
   },
   "types_to_exclude": [
    "module",
    "function",
    "builtin_function_or_method",
    "instance",
    "_Feature"
   ],
   "window_display": false
  }
 },
 "nbformat": 4,
 "nbformat_minor": 2
}
