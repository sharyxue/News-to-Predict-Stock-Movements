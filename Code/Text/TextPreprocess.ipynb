{
 "cells": [
  {
   "cell_type": "markdown",
   "metadata": {},
   "source": [
    "# Environment setting"
   ]
  },
  {
   "cell_type": "code",
   "execution_count": 13,
   "metadata": {
    "ExecuteTime": {
     "end_time": "2019-05-16T04:15:52.767392Z",
     "start_time": "2019-05-16T04:15:52.754816Z"
    }
   },
   "outputs": [],
   "source": [
    "import codecs\n",
    "import json\n",
    "\n",
    "from IPython.display import display\n",
    "# import matplotlib.pyplot as plt\n",
    "# import seaborn as sns\n",
    "# import matplotlib as mpl\n",
    "\n",
    "import pandas as pd\n",
    "import numpy as np\n",
    "\n",
    "from tqdm import tqdm\n",
    "import warnings\n",
    "import time\n",
    "\n",
    "import ast\n",
    "import jieba\n",
    "from gensim.models import word2vec\n",
    "from gensim.models import FastText\n",
    "from glove import Glove, Corpus\n",
    "\n",
    "warnings.filterwarnings(\"ignore\")\n",
    "# %matplotlib\n",
    "\n",
    "stopwords = [line.strip() for line in codecs.open(\n",
    "    r'./stopwords.txt', 'r', 'utf-8').readlines()]"
   ]
  },
  {
   "cell_type": "code",
   "execution_count": 14,
   "metadata": {
    "ExecuteTime": {
     "end_time": "2019-05-16T04:15:53.703278Z",
     "start_time": "2019-05-16T04:15:52.772061Z"
    }
   },
   "outputs": [],
   "source": [
    "text = pd.read_csv(r'../../Data/TRAINSET_NEWS.csv')\n",
    "stock = pd.read_csv(r'../../Data/TRAINSET_STOCK.csv')"
   ]
  },
  {
   "cell_type": "markdown",
   "metadata": {},
   "source": [
    "# Prepare target vector"
   ]
  },
  {
   "cell_type": "code",
   "execution_count": 15,
   "metadata": {
    "ExecuteTime": {
     "end_time": "2019-05-16T04:15:53.751188Z",
     "start_time": "2019-05-16T04:15:53.705818Z"
    }
   },
   "outputs": [
    {
     "data": {
      "text/html": [
       "<div>\n",
       "<style scoped>\n",
       "    .dataframe tbody tr th:only-of-type {\n",
       "        vertical-align: middle;\n",
       "    }\n",
       "\n",
       "    .dataframe tbody tr th {\n",
       "        vertical-align: top;\n",
       "    }\n",
       "\n",
       "    .dataframe thead th {\n",
       "        text-align: right;\n",
       "    }\n",
       "</style>\n",
       "<table border=\"1\" class=\"dataframe\">\n",
       "  <thead>\n",
       "    <tr style=\"text-align: right;\">\n",
       "      <th></th>\n",
       "      <th>ts_code</th>\n",
       "      <th>trade_date</th>\n",
       "      <th>name</th>\n",
       "      <th>open</th>\n",
       "      <th>low</th>\n",
       "      <th>high</th>\n",
       "      <th>close</th>\n",
       "      <th>change</th>\n",
       "      <th>pct_change</th>\n",
       "      <th>vol</th>\n",
       "      <th>amount</th>\n",
       "      <th>pe</th>\n",
       "      <th>pb</th>\n",
       "      <th>y</th>\n",
       "    </tr>\n",
       "  </thead>\n",
       "  <tbody>\n",
       "    <tr>\n",
       "      <th>0</th>\n",
       "      <td>801010</td>\n",
       "      <td>20140401</td>\n",
       "      <td>农林牧渔</td>\n",
       "      <td>1668.75</td>\n",
       "      <td>1668.54</td>\n",
       "      <td>1689.12</td>\n",
       "      <td>1689.07</td>\n",
       "      <td>22.13</td>\n",
       "      <td>1.33</td>\n",
       "      <td>34914.0</td>\n",
       "      <td>291113.0</td>\n",
       "      <td>41.51</td>\n",
       "      <td>2.77</td>\n",
       "      <td>1</td>\n",
       "    </tr>\n",
       "    <tr>\n",
       "      <th>1</th>\n",
       "      <td>801010</td>\n",
       "      <td>20140402</td>\n",
       "      <td>农林牧渔</td>\n",
       "      <td>1688.72</td>\n",
       "      <td>1684.53</td>\n",
       "      <td>1693.41</td>\n",
       "      <td>1692.24</td>\n",
       "      <td>3.17</td>\n",
       "      <td>0.19</td>\n",
       "      <td>36300.0</td>\n",
       "      <td>289020.0</td>\n",
       "      <td>41.63</td>\n",
       "      <td>2.79</td>\n",
       "      <td>1</td>\n",
       "    </tr>\n",
       "    <tr>\n",
       "      <th>2</th>\n",
       "      <td>801010</td>\n",
       "      <td>20140403</td>\n",
       "      <td>农林牧渔</td>\n",
       "      <td>1693.05</td>\n",
       "      <td>1679.85</td>\n",
       "      <td>1697.73</td>\n",
       "      <td>1685.71</td>\n",
       "      <td>-6.53</td>\n",
       "      <td>-0.39</td>\n",
       "      <td>31403.0</td>\n",
       "      <td>259464.0</td>\n",
       "      <td>41.38</td>\n",
       "      <td>2.78</td>\n",
       "      <td>0</td>\n",
       "    </tr>\n",
       "    <tr>\n",
       "      <th>3</th>\n",
       "      <td>801010</td>\n",
       "      <td>20140404</td>\n",
       "      <td>农林牧渔</td>\n",
       "      <td>1681.92</td>\n",
       "      <td>1680.34</td>\n",
       "      <td>1698.44</td>\n",
       "      <td>1698.25</td>\n",
       "      <td>12.54</td>\n",
       "      <td>0.74</td>\n",
       "      <td>28648.0</td>\n",
       "      <td>240940.0</td>\n",
       "      <td>41.76</td>\n",
       "      <td>2.80</td>\n",
       "      <td>1</td>\n",
       "    </tr>\n",
       "    <tr>\n",
       "      <th>4</th>\n",
       "      <td>801010</td>\n",
       "      <td>20140408</td>\n",
       "      <td>农林牧渔</td>\n",
       "      <td>1693.24</td>\n",
       "      <td>1692.22</td>\n",
       "      <td>1706.84</td>\n",
       "      <td>1706.84</td>\n",
       "      <td>8.59</td>\n",
       "      <td>0.51</td>\n",
       "      <td>35012.0</td>\n",
       "      <td>312423.0</td>\n",
       "      <td>42.00</td>\n",
       "      <td>2.79</td>\n",
       "      <td>1</td>\n",
       "    </tr>\n",
       "  </tbody>\n",
       "</table>\n",
       "</div>"
      ],
      "text/plain": [
       "   ts_code  trade_date  name     open      low     high    close  change  \\\n",
       "0   801010    20140401  农林牧渔  1668.75  1668.54  1689.12  1689.07   22.13   \n",
       "1   801010    20140402  农林牧渔  1688.72  1684.53  1693.41  1692.24    3.17   \n",
       "2   801010    20140403  农林牧渔  1693.05  1679.85  1697.73  1685.71   -6.53   \n",
       "3   801010    20140404  农林牧渔  1681.92  1680.34  1698.44  1698.25   12.54   \n",
       "4   801010    20140408  农林牧渔  1693.24  1692.22  1706.84  1706.84    8.59   \n",
       "\n",
       "   pct_change      vol    amount     pe    pb  y  \n",
       "0        1.33  34914.0  291113.0  41.51  2.77  1  \n",
       "1        0.19  36300.0  289020.0  41.63  2.79  1  \n",
       "2       -0.39  31403.0  259464.0  41.38  2.78  0  \n",
       "3        0.74  28648.0  240940.0  41.76  2.80  1  \n",
       "4        0.51  35012.0  312423.0  42.00  2.79  1  "
      ]
     },
     "execution_count": 15,
     "metadata": {},
     "output_type": "execute_result"
    }
   ],
   "source": [
    "stock.head()"
   ]
  },
  {
   "cell_type": "code",
   "execution_count": 78,
   "metadata": {
    "ExecuteTime": {
     "end_time": "2019-05-16T05:06:03.935189Z",
     "start_time": "2019-05-16T05:06:03.875816Z"
    }
   },
   "outputs": [
    {
     "data": {
      "text/html": [
       "<div>\n",
       "<style scoped>\n",
       "    .dataframe tbody tr th:only-of-type {\n",
       "        vertical-align: middle;\n",
       "    }\n",
       "\n",
       "    .dataframe tbody tr th {\n",
       "        vertical-align: top;\n",
       "    }\n",
       "\n",
       "    .dataframe thead th {\n",
       "        text-align: right;\n",
       "    }\n",
       "</style>\n",
       "<table border=\"1\" class=\"dataframe\">\n",
       "  <thead>\n",
       "    <tr style=\"text-align: right;\">\n",
       "      <th>ts_code</th>\n",
       "      <th>trade_date</th>\n",
       "      <th>801010</th>\n",
       "      <th>801020</th>\n",
       "      <th>801030</th>\n",
       "      <th>801040</th>\n",
       "      <th>801050</th>\n",
       "      <th>801080</th>\n",
       "      <th>801110</th>\n",
       "      <th>801120</th>\n",
       "      <th>801130</th>\n",
       "      <th>...</th>\n",
       "      <th>801730</th>\n",
       "      <th>801740</th>\n",
       "      <th>801750</th>\n",
       "      <th>801760</th>\n",
       "      <th>801770</th>\n",
       "      <th>801780</th>\n",
       "      <th>801790</th>\n",
       "      <th>801880</th>\n",
       "      <th>801890</th>\n",
       "      <th>802600</th>\n",
       "    </tr>\n",
       "  </thead>\n",
       "  <tbody>\n",
       "    <tr>\n",
       "      <th>0</th>\n",
       "      <td>2014-04-01</td>\n",
       "      <td>1</td>\n",
       "      <td>1</td>\n",
       "      <td>1</td>\n",
       "      <td>1</td>\n",
       "      <td>1</td>\n",
       "      <td>1</td>\n",
       "      <td>1</td>\n",
       "      <td>1</td>\n",
       "      <td>1</td>\n",
       "      <td>...</td>\n",
       "      <td>1</td>\n",
       "      <td>1</td>\n",
       "      <td>1</td>\n",
       "      <td>1</td>\n",
       "      <td>1</td>\n",
       "      <td>0</td>\n",
       "      <td>1</td>\n",
       "      <td>1</td>\n",
       "      <td>1</td>\n",
       "      <td>1</td>\n",
       "    </tr>\n",
       "    <tr>\n",
       "      <th>1</th>\n",
       "      <td>2014-04-02</td>\n",
       "      <td>1</td>\n",
       "      <td>1</td>\n",
       "      <td>0</td>\n",
       "      <td>1</td>\n",
       "      <td>1</td>\n",
       "      <td>0</td>\n",
       "      <td>0</td>\n",
       "      <td>1</td>\n",
       "      <td>0</td>\n",
       "      <td>...</td>\n",
       "      <td>0</td>\n",
       "      <td>0</td>\n",
       "      <td>0</td>\n",
       "      <td>0</td>\n",
       "      <td>0</td>\n",
       "      <td>1</td>\n",
       "      <td>1</td>\n",
       "      <td>1</td>\n",
       "      <td>0</td>\n",
       "      <td>0</td>\n",
       "    </tr>\n",
       "    <tr>\n",
       "      <th>2</th>\n",
       "      <td>2014-04-03</td>\n",
       "      <td>0</td>\n",
       "      <td>0</td>\n",
       "      <td>1</td>\n",
       "      <td>0</td>\n",
       "      <td>1</td>\n",
       "      <td>1</td>\n",
       "      <td>1</td>\n",
       "      <td>0</td>\n",
       "      <td>0</td>\n",
       "      <td>...</td>\n",
       "      <td>1</td>\n",
       "      <td>0</td>\n",
       "      <td>1</td>\n",
       "      <td>1</td>\n",
       "      <td>1</td>\n",
       "      <td>0</td>\n",
       "      <td>1</td>\n",
       "      <td>0</td>\n",
       "      <td>0</td>\n",
       "      <td>1</td>\n",
       "    </tr>\n",
       "    <tr>\n",
       "      <th>3</th>\n",
       "      <td>2014-04-04</td>\n",
       "      <td>1</td>\n",
       "      <td>1</td>\n",
       "      <td>1</td>\n",
       "      <td>1</td>\n",
       "      <td>1</td>\n",
       "      <td>1</td>\n",
       "      <td>1</td>\n",
       "      <td>1</td>\n",
       "      <td>1</td>\n",
       "      <td>...</td>\n",
       "      <td>1</td>\n",
       "      <td>1</td>\n",
       "      <td>1</td>\n",
       "      <td>1</td>\n",
       "      <td>1</td>\n",
       "      <td>1</td>\n",
       "      <td>1</td>\n",
       "      <td>1</td>\n",
       "      <td>1</td>\n",
       "      <td>1</td>\n",
       "    </tr>\n",
       "    <tr>\n",
       "      <th>4</th>\n",
       "      <td>2014-04-08</td>\n",
       "      <td>1</td>\n",
       "      <td>1</td>\n",
       "      <td>1</td>\n",
       "      <td>1</td>\n",
       "      <td>1</td>\n",
       "      <td>1</td>\n",
       "      <td>1</td>\n",
       "      <td>1</td>\n",
       "      <td>1</td>\n",
       "      <td>...</td>\n",
       "      <td>1</td>\n",
       "      <td>1</td>\n",
       "      <td>1</td>\n",
       "      <td>1</td>\n",
       "      <td>1</td>\n",
       "      <td>1</td>\n",
       "      <td>1</td>\n",
       "      <td>1</td>\n",
       "      <td>1</td>\n",
       "      <td>1</td>\n",
       "    </tr>\n",
       "  </tbody>\n",
       "</table>\n",
       "<p>5 rows × 35 columns</p>\n",
       "</div>"
      ],
      "text/plain": [
       "ts_code trade_date  801010  801020  801030  801040  801050  801080  801110  \\\n",
       "0       2014-04-01       1       1       1       1       1       1       1   \n",
       "1       2014-04-02       1       1       0       1       1       0       0   \n",
       "2       2014-04-03       0       0       1       0       1       1       1   \n",
       "3       2014-04-04       1       1       1       1       1       1       1   \n",
       "4       2014-04-08       1       1       1       1       1       1       1   \n",
       "\n",
       "ts_code  801120  801130  ...  801730  801740  801750  801760  801770  801780  \\\n",
       "0             1       1  ...       1       1       1       1       1       0   \n",
       "1             1       0  ...       0       0       0       0       0       1   \n",
       "2             0       0  ...       1       0       1       1       1       0   \n",
       "3             1       1  ...       1       1       1       1       1       1   \n",
       "4             1       1  ...       1       1       1       1       1       1   \n",
       "\n",
       "ts_code  801790  801880  801890  802600  \n",
       "0             1       1       1       1  \n",
       "1             1       1       0       0  \n",
       "2             1       0       0       1  \n",
       "3             1       1       1       1  \n",
       "4             1       1       1       1  \n",
       "\n",
       "[5 rows x 35 columns]"
      ]
     },
     "execution_count": 78,
     "metadata": {},
     "output_type": "execute_result"
    }
   ],
   "source": [
    "target_df = (stock.loc[(stock['y'] == 1)]).groupby(['trade_date', 'ts_code'])[\n",
    "    'y'].count().unstack().fillna(0).astype(int).reset_index()\n",
    "target_df['trade_date'] = pd.to_datetime(\n",
    "    target_df['trade_date'], format='%Y%m%d', errors='ignore')\n",
    "target_df.head()"
   ]
  },
  {
   "cell_type": "markdown",
   "metadata": {},
   "source": [
    "# Load word embedding"
   ]
  },
  {
   "cell_type": "markdown",
   "metadata": {},
   "source": [
    "## Load word2vec"
   ]
  },
  {
   "cell_type": "code",
   "execution_count": 17,
   "metadata": {
    "ExecuteTime": {
     "end_time": "2019-05-16T04:15:55.938880Z",
     "start_time": "2019-05-16T04:15:53.887977Z"
    }
   },
   "outputs": [],
   "source": [
    "w2vmodel = word2vec.Word2Vec.load(\"./Word_Embedding_Model/w2v.model\")"
   ]
  },
  {
   "cell_type": "markdown",
   "metadata": {},
   "source": [
    "## Load GloVe"
   ]
  },
  {
   "cell_type": "code",
   "execution_count": 18,
   "metadata": {
    "ExecuteTime": {
     "end_time": "2019-05-16T04:16:00.258768Z",
     "start_time": "2019-05-16T04:15:55.941079Z"
    }
   },
   "outputs": [],
   "source": [
    "corpus_model = Corpus.load('./Word_Embedding_Model/glov_corpus.model')\n",
    "glove = Glove.load('./Word_Embedding_Model/glove.model')"
   ]
  },
  {
   "cell_type": "markdown",
   "metadata": {},
   "source": [
    "## Load Fasttext"
   ]
  },
  {
   "cell_type": "code",
   "execution_count": 19,
   "metadata": {
    "ExecuteTime": {
     "end_time": "2019-05-16T04:16:20.614667Z",
     "start_time": "2019-05-16T04:16:00.262327Z"
    }
   },
   "outputs": [],
   "source": [
    "fttmodel = FastText.load(r'./Word_Embedding_Model/fasttext.model')"
   ]
  },
  {
   "cell_type": "markdown",
   "metadata": {},
   "source": [
    "## Concatenate vector"
   ]
  },
  {
   "cell_type": "code",
   "execution_count": 20,
   "metadata": {
    "ExecuteTime": {
     "end_time": "2019-05-16T04:16:20.625599Z",
     "start_time": "2019-05-16T04:16:20.617356Z"
    }
   },
   "outputs": [
    {
     "data": {
      "text/plain": [
       "((126565, 100), 126565, 126565)"
      ]
     },
     "execution_count": 20,
     "metadata": {},
     "output_type": "execute_result"
    }
   ],
   "source": [
    "glove.word_vectors.shape, len(fttmodel.wv.vocab), len(w2vmodel.wv.vocab)"
   ]
  },
  {
   "cell_type": "code",
   "execution_count": 21,
   "metadata": {
    "ExecuteTime": {
     "end_time": "2019-05-16T04:16:26.612377Z",
     "start_time": "2019-05-16T04:16:20.629259Z"
    }
   },
   "outputs": [
    {
     "name": "stderr",
     "output_type": "stream",
     "text": [
      "100%|██████████| 126565/126565 [00:02<00:00, 50726.37it/s]\n",
      "100%|██████████| 126565/126565 [00:00<00:00, 276137.13it/s]\n",
      "100%|██████████| 126565/126565 [00:02<00:00, 46209.23it/s]\n"
     ]
    },
    {
     "name": "stdout",
     "output_type": "stream",
     "text": [
      "(126566, 300) 0.9999960494919646 0.9999920989839294 0.9999920989839294\n"
     ]
    }
   ],
   "source": [
    "# word_list = list(w2vmodel.wv.vocab.keys())\n",
    "vector_size = 100\n",
    "word_index = glove.dictionary\n",
    "nb_words = len(word_index)\n",
    "\n",
    "count = 0.5\n",
    "embedding_word2vec_matrix = np.zeros((nb_words + 1, vector_size))\n",
    "for word, i in tqdm(word_index.items()):\n",
    "    embedding_vector = w2vmodel[word] if word in w2vmodel else None\n",
    "    if embedding_vector is not None:\n",
    "        count += 1\n",
    "        embedding_word2vec_matrix[i] = embedding_vector\n",
    "    else:\n",
    "        unk_vec = np.random.random(victor_size) * 0.5\n",
    "        unk_vec = unk_vec - unk_vec.mean()\n",
    "        embedding_word2vec_matrix[i] = unk_vec\n",
    "\n",
    "\n",
    "glove_count = 0\n",
    "embedding_glove_matrix = np.zeros((nb_words + 1, vector_size))\n",
    "for word, i in tqdm(word_index.items()):\n",
    "    embedding_glove_vector = glove.word_vectors[glove.dictionary[word]\n",
    "                                                ] if word in glove.dictionary else None\n",
    "    if embedding_glove_vector is not None:\n",
    "        glove_count += 1\n",
    "        embedding_glove_matrix[i] = embedding_glove_vector\n",
    "    else:\n",
    "        unk_vec = np.random.random(victor_size) * 0.5\n",
    "        unk_vec = unk_vec - unk_vec.mean()\n",
    "        embedding_glove_matrix[i] = unk_vec\n",
    "\n",
    "\n",
    "ftt_count = 0\n",
    "embedding_ftt_matrix = np.zeros((nb_words + 1, vector_size))\n",
    "for word, i in tqdm(word_index.items()):\n",
    "    embedding_ftt_vector = fttmodel[word] if word in fttmodel else None\n",
    "    if embedding_ftt_vector is not None:\n",
    "        ftt_count += 1\n",
    "        embedding_ftt_matrix[i] = embedding_ftt_vector\n",
    "    else:\n",
    "        unk_vec = np.random.random(victor_size) * 0.5\n",
    "        unk_vec = unk_vec - unk_vec.mean()\n",
    "        embedding_ftt_matrix[i] = unk_vec\n",
    "\n",
    "embedding_matrix = np.concatenate(\n",
    "    (embedding_word2vec_matrix, embedding_glove_matrix, embedding_ftt_matrix), axis=1)\n",
    "print(embedding_matrix.shape, count * 1.0 /\n",
    "      embedding_matrix.shape[0], glove_count*1.0/embedding_matrix.shape[0], ftt_count*1.0/embedding_matrix.shape[0])"
   ]
  },
  {
   "cell_type": "markdown",
   "metadata": {},
   "source": [
    "# Load word segment"
   ]
  },
  {
   "cell_type": "code",
   "execution_count": 69,
   "metadata": {
    "ExecuteTime": {
     "end_time": "2019-05-16T04:55:21.981629Z",
     "start_time": "2019-05-16T04:55:21.259845Z"
    }
   },
   "outputs": [
    {
     "data": {
      "text/html": [
       "<div>\n",
       "<style scoped>\n",
       "    .dataframe tbody tr th:only-of-type {\n",
       "        vertical-align: middle;\n",
       "    }\n",
       "\n",
       "    .dataframe tbody tr th {\n",
       "        vertical-align: top;\n",
       "    }\n",
       "\n",
       "    .dataframe thead th {\n",
       "        text-align: right;\n",
       "    }\n",
       "</style>\n",
       "<table border=\"1\" class=\"dataframe\">\n",
       "  <thead>\n",
       "    <tr style=\"text-align: right;\">\n",
       "      <th></th>\n",
       "      <th>date</th>\n",
       "      <th>title</th>\n",
       "      <th>content</th>\n",
       "    </tr>\n",
       "  </thead>\n",
       "  <tbody>\n",
       "    <tr>\n",
       "      <th>0</th>\n",
       "      <td>2014-04-14</td>\n",
       "      <td>['习近平', '空军', '机关', '调研', '时', '强调', '加快', '建设...</td>\n",
       "      <td>['中共中央', '总书记', '国家', '主席', '中央军委', '主席', '习近平...</td>\n",
       "    </tr>\n",
       "    <tr>\n",
       "      <th>1</th>\n",
       "      <td>2014-04-14</td>\n",
       "      <td>['利比亚', '临时政府', '总理', '辞职']</td>\n",
       "      <td>['本月', '8', '号', '刚刚', '正式', '任命', '利比亚', '临时政...</td>\n",
       "    </tr>\n",
       "    <tr>\n",
       "      <th>2</th>\n",
       "      <td>2014-04-14</td>\n",
       "      <td>['关注', '乌克兰', '局势']</td>\n",
       "      <td>['代行', '乌克兰', '总统', '职责', '乌克兰', '议长', '图尔', '...</td>\n",
       "    </tr>\n",
       "    <tr>\n",
       "      <th>3</th>\n",
       "      <td>2014-04-14</td>\n",
       "      <td>['国内', '联播', '快讯']</td>\n",
       "      <td>['低碳', '中国', '行', '正式', '启动', '国家', '发展', '改革'...</td>\n",
       "    </tr>\n",
       "    <tr>\n",
       "      <th>4</th>\n",
       "      <td>2014-04-14</td>\n",
       "      <td>['刘汉', '36', '人涉', '黑案', '继续', '开庭审理']</td>\n",
       "      <td>['刘汉', '刘维', '36', '人', '涉嫌', '犯', '组织', '领导',...</td>\n",
       "    </tr>\n",
       "  </tbody>\n",
       "</table>\n",
       "</div>"
      ],
      "text/plain": [
       "        date                                              title  \\\n",
       "0 2014-04-14  ['习近平', '空军', '机关', '调研', '时', '强调', '加快', '建设...   \n",
       "1 2014-04-14                        ['利比亚', '临时政府', '总理', '辞职']   \n",
       "2 2014-04-14                                ['关注', '乌克兰', '局势']   \n",
       "3 2014-04-14                                 ['国内', '联播', '快讯']   \n",
       "4 2014-04-14             ['刘汉', '36', '人涉', '黑案', '继续', '开庭审理']   \n",
       "\n",
       "                                             content  \n",
       "0  ['中共中央', '总书记', '国家', '主席', '中央军委', '主席', '习近平...  \n",
       "1  ['本月', '8', '号', '刚刚', '正式', '任命', '利比亚', '临时政...  \n",
       "2  ['代行', '乌克兰', '总统', '职责', '乌克兰', '议长', '图尔', '...  \n",
       "3  ['低碳', '中国', '行', '正式', '启动', '国家', '发展', '改革'...  \n",
       "4  ['刘汉', '刘维', '36', '人', '涉嫌', '犯', '组织', '领导',...  "
      ]
     },
     "execution_count": 69,
     "metadata": {},
     "output_type": "execute_result"
    }
   ],
   "source": [
    "seg_text = pd.read_csv(r'./Word_Embedding_Model/seg_words.csv')\n",
    "seg_text['date'] = pd.to_datetime(\n",
    "    seg_text['date'], format='%Y%m%d', errors='ignore')\n",
    "seg_text.head()"
   ]
  },
  {
   "cell_type": "code",
   "execution_count": 23,
   "metadata": {
    "ExecuteTime": {
     "end_time": "2019-05-16T04:16:27.703800Z",
     "start_time": "2019-05-16T04:16:27.698067Z"
    }
   },
   "outputs": [],
   "source": [
    "def merge_func(x):\n",
    "    x = ast.literal_eval(x)\n",
    "    r_list = []\n",
    "    for i in x:\n",
    "        r_list += i\n",
    "    return r_list"
   ]
  },
  {
   "cell_type": "markdown",
   "metadata": {},
   "source": [
    "## Merge news title from the same date"
   ]
  },
  {
   "cell_type": "code",
   "execution_count": 70,
   "metadata": {
    "ExecuteTime": {
     "end_time": "2019-05-16T04:55:39.880530Z",
     "start_time": "2019-05-16T04:55:38.889340Z"
    }
   },
   "outputs": [],
   "source": [
    "join_title = seg_text[['date', 'title']]\n",
    "join_title = join_title.groupby(\n",
    "    ['date'])['title'].apply(','.join).reset_index()\n",
    "join_title['title'] = join_title['title'].apply(merge_func)"
   ]
  },
  {
   "cell_type": "markdown",
   "metadata": {},
   "source": [
    "## Merge news content from the same date"
   ]
  },
  {
   "cell_type": "code",
   "execution_count": 71,
   "metadata": {
    "ExecuteTime": {
     "end_time": "2019-05-16T04:56:00.987251Z",
     "start_time": "2019-05-16T04:55:41.657642Z"
    }
   },
   "outputs": [],
   "source": [
    "join_content = seg_text[['date', 'content']]\n",
    "join_content = join_content.groupby(\n",
    "    ['date'])['content'].apply(','.join).reset_index()\n",
    "join_content['content'] = join_content['content'].apply(merge_func)"
   ]
  },
  {
   "cell_type": "markdown",
   "metadata": {},
   "source": [
    "# Contact title and content"
   ]
  },
  {
   "cell_type": "code",
   "execution_count": 72,
   "metadata": {
    "ExecuteTime": {
     "end_time": "2019-05-16T04:56:03.014139Z",
     "start_time": "2019-05-16T04:56:02.839850Z"
    }
   },
   "outputs": [
    {
     "data": {
      "text/html": [
       "<div>\n",
       "<style scoped>\n",
       "    .dataframe tbody tr th:only-of-type {\n",
       "        vertical-align: middle;\n",
       "    }\n",
       "\n",
       "    .dataframe tbody tr th {\n",
       "        vertical-align: top;\n",
       "    }\n",
       "\n",
       "    .dataframe thead th {\n",
       "        text-align: right;\n",
       "    }\n",
       "</style>\n",
       "<table border=\"1\" class=\"dataframe\">\n",
       "  <thead>\n",
       "    <tr style=\"text-align: right;\">\n",
       "      <th></th>\n",
       "      <th>date</th>\n",
       "      <th>title</th>\n",
       "      <th>content</th>\n",
       "    </tr>\n",
       "  </thead>\n",
       "  <tbody>\n",
       "    <tr>\n",
       "      <th>0</th>\n",
       "      <td>2014-04-14</td>\n",
       "      <td>[习近平, 空军, 机关, 调研, 时, 强调, 加快, 建设, 一支, 空天, 一体, 攻...</td>\n",
       "      <td>[中共中央, 总书记, 国家, 主席, 中央军委, 主席, 习近平, 14, 日, 专程到,...</td>\n",
       "    </tr>\n",
       "    <tr>\n",
       "      <th>1</th>\n",
       "      <td>2014-04-15</td>\n",
       "      <td>[医生, 贾永青, 传递, 爱, 感动, 国际, 联播, 快讯, 搜寻, MH370, 航班...</td>\n",
       "      <td>[几天, 我台, 走, 基层, 节目, 连续, 报道, 河北, 定州, 人民, 医院, 32...</td>\n",
       "    </tr>\n",
       "    <tr>\n",
       "      <th>2</th>\n",
       "      <td>2014-04-16</td>\n",
       "      <td>[国际, 联播, 快讯, 关注, 乌克兰, 局势, 乌, 军队, 东部, 地区, 开展, 强...</td>\n",
       "      <td>[约旦, 驻, 利比亚, 大使, 遭绑架, 利比亚, 外交部, 15, 号, 证实, 约旦,...</td>\n",
       "    </tr>\n",
       "    <tr>\n",
       "      <th>3</th>\n",
       "      <td>2014-04-17</td>\n",
       "      <td>[凡人, 善举, 广西, 市民, 见义勇为, 巧施, 妙计, 擒, 劫匪, 国际, 联播, ...</td>\n",
       "      <td>[前两天, 广西北海, 一位, 市民, 目睹, 一起, 抢夺案, 后, 没有, 选择, 离开...</td>\n",
       "    </tr>\n",
       "    <tr>\n",
       "      <th>4</th>\n",
       "      <td>2014-04-18</td>\n",
       "      <td>[国际, 联播, 快讯, 俄罗斯, 总统, 俄, 民众, 直接对话, 普京, 乌, 境内, ...</td>\n",
       "      <td>[伊朗, 举行, 建军节, 阅兵式, 18, 号, 伊朗, 首都, 德黑兰, 南郊, 霍梅尼...</td>\n",
       "    </tr>\n",
       "  </tbody>\n",
       "</table>\n",
       "</div>"
      ],
      "text/plain": [
       "        date                                              title  \\\n",
       "0 2014-04-14  [习近平, 空军, 机关, 调研, 时, 强调, 加快, 建设, 一支, 空天, 一体, 攻...   \n",
       "1 2014-04-15  [医生, 贾永青, 传递, 爱, 感动, 国际, 联播, 快讯, 搜寻, MH370, 航班...   \n",
       "2 2014-04-16  [国际, 联播, 快讯, 关注, 乌克兰, 局势, 乌, 军队, 东部, 地区, 开展, 强...   \n",
       "3 2014-04-17  [凡人, 善举, 广西, 市民, 见义勇为, 巧施, 妙计, 擒, 劫匪, 国际, 联播, ...   \n",
       "4 2014-04-18  [国际, 联播, 快讯, 俄罗斯, 总统, 俄, 民众, 直接对话, 普京, 乌, 境内, ...   \n",
       "\n",
       "                                             content  \n",
       "0  [中共中央, 总书记, 国家, 主席, 中央军委, 主席, 习近平, 14, 日, 专程到,...  \n",
       "1  [几天, 我台, 走, 基层, 节目, 连续, 报道, 河北, 定州, 人民, 医院, 32...  \n",
       "2  [约旦, 驻, 利比亚, 大使, 遭绑架, 利比亚, 外交部, 15, 号, 证实, 约旦,...  \n",
       "3  [前两天, 广西北海, 一位, 市民, 目睹, 一起, 抢夺案, 后, 没有, 选择, 离开...  \n",
       "4  [伊朗, 举行, 建军节, 阅兵式, 18, 号, 伊朗, 首都, 德黑兰, 南郊, 霍梅尼...  "
      ]
     },
     "execution_count": 72,
     "metadata": {},
     "output_type": "execute_result"
    }
   ],
   "source": [
    "joined_text = join_title.merge(join_content, on='date')\n",
    "joined_text.head()"
   ]
  },
  {
   "cell_type": "markdown",
   "metadata": {},
   "source": [
    "# Padding size"
   ]
  },
  {
   "cell_type": "code",
   "execution_count": 27,
   "metadata": {
    "ExecuteTime": {
     "end_time": "2019-05-16T04:16:45.489849Z",
     "start_time": "2019-05-16T04:16:45.467933Z"
    }
   },
   "outputs": [],
   "source": [
    "title_size = int(np.percentile(joined_text['title'].str.len(), 95))\n",
    "content_size = int(np.percentile(joined_text['content'].str.len(), 95))"
   ]
  },
  {
   "cell_type": "markdown",
   "metadata": {},
   "source": [
    "# Replace word embedding"
   ]
  },
  {
   "cell_type": "code",
   "execution_count": 28,
   "metadata": {
    "ExecuteTime": {
     "end_time": "2019-05-16T04:16:47.181011Z",
     "start_time": "2019-05-16T04:16:45.494179Z"
    }
   },
   "outputs": [
    {
     "name": "stderr",
     "output_type": "stream",
     "text": [
      "Using TensorFlow backend.\n"
     ]
    }
   ],
   "source": [
    "from keras.preprocessing.text import Tokenizer\n",
    "from keras.preprocessing.sequence import pad_sequences"
   ]
  },
  {
   "cell_type": "markdown",
   "metadata": {},
   "source": [
    "# News 2 Sequence"
   ]
  },
  {
   "cell_type": "code",
   "execution_count": 29,
   "metadata": {
    "ExecuteTime": {
     "end_time": "2019-05-16T04:16:47.188995Z",
     "start_time": "2019-05-16T04:16:47.184446Z"
    }
   },
   "outputs": [],
   "source": [
    "# def create_emb_layer(weights_matrix, non_trainable=False):\n",
    "#     num_embeddings, embedding_dim = weights_matrix.size()\n",
    "#     emb_layer = nn.Embedding(num_embeddings, embedding_dim)\n",
    "#     emb_layer.load_state_dict({'weight': weights_matrix})\n",
    "#     if non_trainable:\n",
    "#         emb_layer.weight.requires_grad = False\n",
    "\n",
    "#     return emb_layer, num_embeddings, embedding_dim\n",
    "\n",
    "\n",
    "# class GRU(nn.Module):\n",
    "#     def __init__(self, weights_matrix, hidden_size, num_layers):\n",
    "#         super(self).__init__()\n",
    "#         self.embedding, num_embeddings, embedding_dim = create_emb_layer(\n",
    "#             weights_matrix, True)\n",
    "#         self.hidden_size = hidden_size\n",
    "#         self.num_layers = num_layers\n",
    "#         self.gru = nn.GRU(embedding_dim, hidden_size,\n",
    "#                           num_layers, batch_first=True)\n",
    "\n",
    "#     def forward(self, inp, hidden):\n",
    "#         return self.gru(self.embedding(inp), hidden)\n",
    "\n",
    "#     def init_hidden(self, batch_size):\n",
    "#         return Variable(torch.zeros(self.num_layers, batch_size, self.hidden_size))"
   ]
  },
  {
   "cell_type": "code",
   "execution_count": 34,
   "metadata": {
    "ExecuteTime": {
     "end_time": "2019-05-16T04:24:18.759327Z",
     "start_time": "2019-05-16T04:24:18.755209Z"
    }
   },
   "outputs": [],
   "source": [
    "token = Tokenizer()\n",
    "token.word_index = word_index"
   ]
  },
  {
   "cell_type": "code",
   "execution_count": 132,
   "metadata": {
    "ExecuteTime": {
     "end_time": "2019-05-16T05:40:09.647542Z",
     "start_time": "2019-05-16T05:40:04.682302Z"
    }
   },
   "outputs": [
    {
     "data": {
      "text/plain": [
       "((1814, 160), (1814, 3305))"
      ]
     },
     "execution_count": 132,
     "metadata": {},
     "output_type": "execute_result"
    }
   ],
   "source": [
    "title_sequences = token.texts_to_sequences(join_title['title'].values)\n",
    "title_vec = pad_sequences(title_sequences, maxlen=title_size,\n",
    "                          padding='post', truncating='post', value=nb_words)\n",
    "\n",
    "content_sequences = token.texts_to_sequences(join_content['content'].values)\n",
    "content_vec = pad_sequences(content_sequences, maxlen=content_size,\n",
    "                            padding='post', truncating='post', value=nb_words)\n",
    "title_vec.shape, content_vec.shape"
   ]
  },
  {
   "cell_type": "markdown",
   "metadata": {},
   "source": [
    "# Rolling"
   ]
  },
  {
   "cell_type": "code",
   "execution_count": 156,
   "metadata": {
    "ExecuteTime": {
     "end_time": "2019-05-16T05:53:59.596826Z",
     "start_time": "2019-05-16T05:53:59.589495Z"
    }
   },
   "outputs": [],
   "source": [
    "train_roll_window = 10\n",
    "target_roll_window = 5"
   ]
  },
  {
   "cell_type": "code",
   "execution_count": 76,
   "metadata": {
    "ExecuteTime": {
     "end_time": "2019-05-16T04:57:32.251442Z",
     "start_time": "2019-05-16T04:57:32.236956Z"
    }
   },
   "outputs": [
    {
     "data": {
      "text/plain": [
       "(Timestamp('2014-04-01 00:00:00'),\n",
       " Timestamp('2019-04-01 00:00:00'),\n",
       " (1064, 35))"
      ]
     },
     "execution_count": 76,
     "metadata": {},
     "output_type": "execute_result"
    }
   ],
   "source": [
    "target_min_date = target_df['trade_date'].min()\n",
    "target_max_date = target_df['trade_date'].max()\n",
    "target_min_date, target_max_date, target_df.shape"
   ]
  },
  {
   "cell_type": "code",
   "execution_count": 74,
   "metadata": {
    "ExecuteTime": {
     "end_time": "2019-05-16T04:56:28.392677Z",
     "start_time": "2019-05-16T04:56:28.379195Z"
    }
   },
   "outputs": [
    {
     "data": {
      "text/plain": [
       "(Timestamp('2014-04-14 00:00:00'), Timestamp('2019-04-01 00:00:00'))"
      ]
     },
     "execution_count": 74,
     "metadata": {},
     "output_type": "execute_result"
    }
   ],
   "source": [
    "text_min_date = joined_text['date'].min()\n",
    "text_max_date = joined_text['date'].max()\n",
    "text_min_date, text_max_date"
   ]
  },
  {
   "cell_type": "code",
   "execution_count": 114,
   "metadata": {
    "ExecuteTime": {
     "end_time": "2019-05-16T05:32:29.877860Z",
     "start_time": "2019-05-16T05:32:29.868672Z"
    }
   },
   "outputs": [
    {
     "data": {
      "text/plain": [
       "(Timestamp('2014-04-24 00:00:00'), 1803)"
      ]
     },
     "execution_count": 114,
     "metadata": {},
     "output_type": "execute_result"
    }
   ],
   "source": [
    "begin_date = text_min_date + pd.DateOffset(10)\n",
    "subdate = int((text_max_date-begin_date).days)\n",
    "begin_date, subdate"
   ]
  },
  {
   "cell_type": "markdown",
   "metadata": {},
   "source": [
    "## Target rolling"
   ]
  },
  {
   "cell_type": "code",
   "execution_count": 185,
   "metadata": {
    "ExecuteTime": {
     "end_time": "2019-05-16T09:05:05.806796Z",
     "start_time": "2019-05-16T09:05:05.797485Z"
    }
   },
   "outputs": [],
   "source": [
    "tmp_target = target_df.iloc[::-1]\n",
    "limit_target_index = (tmp_target['trade_date'] >= '2014-04-25')\n",
    "tmp_target = tmp_target[limit_target_index]"
   ]
  },
  {
   "cell_type": "code",
   "execution_count": 205,
   "metadata": {
    "ExecuteTime": {
     "end_time": "2019-05-16T09:34:56.036617Z",
     "start_time": "2019-05-16T09:34:56.027235Z"
    }
   },
   "outputs": [
    {
     "data": {
      "text/plain": [
       "(1049, 35)"
      ]
     },
     "execution_count": 205,
     "metadata": {},
     "output_type": "execute_result"
    }
   ],
   "source": [
    "tmp_target.shape"
   ]
  },
  {
   "cell_type": "code",
   "execution_count": 198,
   "metadata": {
    "ExecuteTime": {
     "end_time": "2019-05-16T09:20:22.362208Z",
     "start_time": "2019-05-16T09:20:20.193634Z"
    }
   },
   "outputs": [
    {
     "name": "stderr",
     "output_type": "stream",
     "text": [
      "100%|██████████| 1045/1045 [00:02<00:00, 485.42it/s]\n"
     ]
    }
   ],
   "source": [
    "rolling_date = []\n",
    "target_matrix = np.zeros(\n",
    "    (tmp_target.shape[0]-target_roll_window+1, 34*target_roll_window))\n",
    "for i in tqdm(range(0, tmp_target.shape[0]-4)):\n",
    "    tmp_i = tmp_target.iloc[i:i+5]\n",
    "    rolling_date.append(list(tmp_i['trade_date']))\n",
    "    target_matrix[i] = (tmp_i.drop(\n",
    "        columns=['trade_date'], axis=1).values).reshape(1, -1)[0]"
   ]
  },
  {
   "cell_type": "code",
   "execution_count": 232,
   "metadata": {
    "ExecuteTime": {
     "end_time": "2019-05-16T10:17:45.842443Z",
     "start_time": "2019-05-16T10:17:45.833503Z"
    }
   },
   "outputs": [
    {
     "data": {
      "text/plain": [
       "(1045, 170)"
      ]
     },
     "execution_count": 232,
     "metadata": {},
     "output_type": "execute_result"
    }
   ],
   "source": [
    "target_matrix.shape"
   ]
  },
  {
   "cell_type": "code",
   "execution_count": 163,
   "metadata": {
    "ExecuteTime": {
     "end_time": "2019-05-16T06:05:50.811109Z",
     "start_time": "2019-05-16T06:05:50.804366Z"
    }
   },
   "outputs": [],
   "source": [
    "pre_begin_date = begin_date + pd.DateOffset(1)\n",
    "pre_begin_date_index = target_df.loc[target_df['trade_date']\n",
    "                                     == pre_begin_date].index"
   ]
  },
  {
   "cell_type": "markdown",
   "metadata": {},
   "source": [
    "## Data rolling"
   ]
  },
  {
   "cell_type": "code",
   "execution_count": 233,
   "metadata": {
    "ExecuteTime": {
     "end_time": "2019-05-16T10:18:12.813005Z",
     "start_time": "2019-05-16T10:18:12.801975Z"
    }
   },
   "outputs": [
    {
     "data": {
      "text/plain": [
       "((1045, 8000), (1045, 165250))"
      ]
     },
     "execution_count": 233,
     "metadata": {},
     "output_type": "execute_result"
    }
   ],
   "source": [
    "train_title_matrix = np.zeros(\n",
    "    (target_matrix.shape[0], title_size*train_roll_window*pre_roll_window))\n",
    "train_content_matrix = np.zeros(\n",
    "    (target_matrix.shape[0], content_size*train_roll_window*pre_roll_window))\n",
    "train_title_matrix.shape, train_content_matrix.shape"
   ]
  },
  {
   "cell_type": "code",
   "execution_count": 235,
   "metadata": {
    "ExecuteTime": {
     "end_time": "2019-05-16T10:19:08.929821Z",
     "start_time": "2019-05-16T10:18:57.834163Z"
    }
   },
   "outputs": [
    {
     "name": "stderr",
     "output_type": "stream",
     "text": [
      "100%|██████████| 1045/1045 [00:11<00:00, 94.30it/s]\n"
     ]
    }
   ],
   "source": [
    "for i in tqdm(range(0, len(rolling_date))):\n",
    "    tmp_title_row = np.zeros((pre_roll_window, title_size*train_roll_window))\n",
    "    tmp_content_row = np.zeros(\n",
    "        (pre_roll_window, content_size*train_roll_window))\n",
    "\n",
    "    for j in range(0, len(rolling_date[i])):\n",
    "        index_range = (join_title['date'] >= (\n",
    "            rolling_date[i][j] - pd.DateOffset(train_roll_window))) & (join_title['date'] < rolling_date[i][j])\n",
    "        tmp_title_row[j] = title_vec[index_range].reshape(1, -1)[0]\n",
    "        tmp_content_row[j] = content_vec[index_range].reshape(\n",
    "            1, -1)[0]\n",
    "    train_title_matrix[i] = tmp_title_row.reshape(1, -1)[0]\n",
    "    train_content_matrix[i] = tmp_content_row.reshape(1, -1)[0]"
   ]
  },
  {
   "cell_type": "code",
   "execution_count": 236,
   "metadata": {
    "ExecuteTime": {
     "end_time": "2019-05-16T10:19:27.522243Z",
     "start_time": "2019-05-16T10:19:27.488258Z"
    }
   },
   "outputs": [
    {
     "data": {
      "text/plain": [
       "((1045, 8000), (1045, 165250))"
      ]
     },
     "execution_count": 236,
     "metadata": {},
     "output_type": "execute_result"
    }
   ],
   "source": [
    "train_title_matrix.shape, train_content_matrix.shape"
   ]
  },
  {
   "cell_type": "markdown",
   "metadata": {},
   "source": [
    "# BiLSTM"
   ]
  },
  {
   "cell_type": "code",
   "execution_count": 271,
   "metadata": {
    "ExecuteTime": {
     "end_time": "2019-05-16T11:04:17.674472Z",
     "start_time": "2019-05-16T11:04:17.666715Z"
    }
   },
   "outputs": [],
   "source": [
    "import keras\n",
    "from keras.utils import np_utils\n",
    "from keras.layers import *\n",
    "from keras.models import *\n",
    "from keras.optimizers import *\n",
    "from keras.callbacks import *"
   ]
  },
  {
   "cell_type": "code",
   "execution_count": 260,
   "metadata": {
    "ExecuteTime": {
     "end_time": "2019-05-16T10:48:35.864732Z",
     "start_time": "2019-05-16T10:48:35.845110Z"
    }
   },
   "outputs": [],
   "source": [
    "class nn:\n",
    "    def __init__(self, data, labels, wordvocab, embeddingDim, padSize, rollingWin, prerollingWin, preEmbedding):\n",
    "        self.dataset = data\n",
    "        self.labels = labels\n",
    "        self.wordvocab = wordvocab\n",
    "        self.embeddingDim = embeddingDim\n",
    "        self.padSize = padSize\n",
    "        self.prerollingWin = prerollingWin\n",
    "        self.rollingWin = rollingWin\n",
    "        self.preEmbedding = preEmbedding\n",
    "        self.model = None\n",
    "\n",
    "    def build_model(self):\n",
    "        vocabSize = len(self.wordvocab)\n",
    "        embeddingDim = self.embeddingDim  # the vector size a word need to be converted\n",
    "        maxlen = self.padSize*self.rollingWin * \\\n",
    "            self.prerollingWin  # the size of a sentence vector\n",
    "        outputDims = 34*self.prerollingWin\n",
    "        hiddenDims = 500\n",
    "\n",
    "        train_X = self.dataset\n",
    "        train_Y = self.labels\n",
    "\n",
    "        print(train_X.shape)\n",
    "        print(train_Y.shape)\n",
    "        max_features = vocabSize + 1\n",
    "        word_input = Input(shape=(maxlen,), dtype='float32', name='word_input')\n",
    "        mask = Masking(mask_value=0.)(word_input)\n",
    "        word_emb = Embedding(max_features, embeddingDim, weights=[self.preEmbedding],\n",
    "                             input_length=maxlen, name='word_emb')(mask)\n",
    "        bilstm1 = Bidirectional(\n",
    "            LSTM(hiddenDims, return_sequences=True))(word_emb)\n",
    "        bilstm2 = Bidirectional(\n",
    "            LSTM(hiddenDims, return_sequences=True))(bilstm1)\n",
    "        bilstm_d = Dropout(0.5)(bilstm2)\n",
    "        output = Dense(outputDims, activation='softmax')(bilstm_d)\n",
    "        model = Model(inputs=[word_input], outputs=output)\n",
    "        #sgd = optimizers.SGD(lr=0.1, decay=1e-3)\n",
    "        model.summary()\n",
    "        model.compile(loss='categorical_crossentropy',\n",
    "                      optimizer='adam',\n",
    "                      metrics=['accuracy'], )\n",
    "        self.model = model\n",
    "\n",
    "    def train(self):\n",
    "        batchSize = 32\n",
    "        result = self.model.fit(self.dataset, self.labels,\n",
    "                                batch_size=batchSize, epochs=10)\n",
    "\n",
    "    def save_model(self):\n",
    "        self.model.save('model.h5')"
   ]
  },
  {
   "cell_type": "code",
   "execution_count": 266,
   "metadata": {
    "ExecuteTime": {
     "end_time": "2019-05-16T10:49:36.761551Z",
     "start_time": "2019-05-16T10:49:36.754081Z"
    }
   },
   "outputs": [],
   "source": [
    "lstm = nn(train_title_matrix, target_matrix, word_index, embeddingDim=300,\n",
    "          padSize=title_size, rollingWin=train_roll_window, prerollingWin=pre_roll_window, preEmbedding=embedding_matrix)"
   ]
  },
  {
   "cell_type": "code",
   "execution_count": 267,
   "metadata": {
    "ExecuteTime": {
     "end_time": "2019-05-16T10:49:43.477477Z",
     "start_time": "2019-05-16T10:49:38.880951Z"
    }
   },
   "outputs": [
    {
     "name": "stdout",
     "output_type": "stream",
     "text": [
      "(1045, 8000)\n",
      "(1, 1045, 170)\n",
      "_________________________________________________________________\n",
      "Layer (type)                 Output Shape              Param #   \n",
      "=================================================================\n",
      "word_input (InputLayer)      (None, 8000)              0         \n",
      "_________________________________________________________________\n",
      "masking_8 (Masking)          (None, 8000)              0         \n",
      "_________________________________________________________________\n",
      "word_emb (Embedding)         (None, 8000, 300)         37969800  \n",
      "_________________________________________________________________\n",
      "bidirectional_15 (Bidirectio (None, 8000, 1000)        3204000   \n",
      "_________________________________________________________________\n",
      "bidirectional_16 (Bidirectio (None, 8000, 1000)        6004000   \n",
      "_________________________________________________________________\n",
      "dropout_8 (Dropout)          (None, 8000, 1000)        0         \n",
      "_________________________________________________________________\n",
      "dense_7 (Dense)              (None, 8000, 170)         170170    \n",
      "=================================================================\n",
      "Total params: 47,347,970\n",
      "Trainable params: 47,347,970\n",
      "Non-trainable params: 0\n",
      "_________________________________________________________________\n"
     ]
    }
   ],
   "source": [
    "lstm.build_model()"
   ]
  },
  {
   "cell_type": "markdown",
   "metadata": {},
   "source": [
    "# BiGRU"
   ]
  },
  {
   "cell_type": "code",
   "execution_count": 269,
   "metadata": {
    "ExecuteTime": {
     "end_time": "2019-05-16T11:02:47.699817Z",
     "start_time": "2019-05-16T11:02:47.682869Z"
    }
   },
   "outputs": [],
   "source": [
    "def bi_gru_model(sent_length, embeddings_weight, class_num):\n",
    "    print(\"get_text_gru3\")\n",
    "    content = Input(shape=(sent_length,), dtype='int32')\n",
    "    embedding = Embedding(\n",
    "        name=\"word_embedding\",\n",
    "        input_dim=embeddings_weight.shape[0],\n",
    "        weights=[embeddings_weight],\n",
    "        output_dim=embeddings_weight.shape[1],\n",
    "        trainable=False)\n",
    "\n",
    "    x = SpatialDropout1D(0.2)(embedding(content))\n",
    "\n",
    "    x = Bidirectional(CuDNNGRU(200, return_sequences=True))(x)\n",
    "    x = Bidirectional(CuDNNGRU(200, return_sequences=True))(x)\n",
    "\n",
    "    avg_pool = GlobalAveragePooling1D()(x)\n",
    "    max_pool = GlobalMaxPooling1D()(x)\n",
    "\n",
    "    conc = concatenate([avg_pool, max_pool])\n",
    "\n",
    "    x = Dropout(0.2)(Activation(activation=\"relu\")(\n",
    "        BatchNormalization()(Dense(1000)(conc))))\n",
    "    x = Activation(activation=\"relu\")(BatchNormalization()(Dense(500)(x)))\n",
    "    output = Dense(class_num, activation=\"softmax\")(x)\n",
    "\n",
    "    model = Model(inputs=content, outputs=output)\n",
    "    model.summary()\n",
    "    model.compile(loss='categorical_crossentropy',\n",
    "                  optimizer='adam', metrics=['accuracy'])\n",
    "    return model"
   ]
  },
  {
   "cell_type": "code",
   "execution_count": 277,
   "metadata": {
    "ExecuteTime": {
     "end_time": "2019-05-16T11:08:02.777369Z",
     "start_time": "2019-05-16T11:08:02.389226Z"
    }
   },
   "outputs": [
    {
     "name": "stdout",
     "output_type": "stream",
     "text": [
      "get_text_gru3\n"
     ]
    },
    {
     "ename": "InvalidArgumentError",
     "evalue": "No OpKernel was registered to support Op 'CudnnRNN' used by node bidirectional_17/CudnnRNN (defined at /home/alan/anaconda3/lib/python3.6/site-packages/keras/layers/cudnn_recurrent.py:297) with these attrs: [seed=87654321, dropout=0, input_mode=\"linear_input\", T=DT_FLOAT, direction=\"unidirectional\", rnn_mode=\"gru\", seed2=0, is_training=true]\nRegistered devices: [CPU, XLA_CPU]\nRegistered kernels:\n  <no registered kernels>\n\n\t [[node bidirectional_17/CudnnRNN (defined at /home/alan/anaconda3/lib/python3.6/site-packages/keras/layers/cudnn_recurrent.py:297) ]]\n\nCaused by op 'bidirectional_17/CudnnRNN', defined at:\n  File \"/home/alan/anaconda3/lib/python3.6/runpy.py\", line 193, in _run_module_as_main\n    \"__main__\", mod_spec)\n  File \"/home/alan/anaconda3/lib/python3.6/runpy.py\", line 85, in _run_code\n    exec(code, run_globals)\n  File \"/home/alan/anaconda3/lib/python3.6/site-packages/ipykernel_launcher.py\", line 16, in <module>\n    app.launch_new_instance()\n  File \"/home/alan/anaconda3/lib/python3.6/site-packages/traitlets/config/application.py\", line 658, in launch_instance\n    app.start()\n  File \"/home/alan/anaconda3/lib/python3.6/site-packages/ipykernel/kernelapp.py\", line 505, in start\n    self.io_loop.start()\n  File \"/home/alan/anaconda3/lib/python3.6/site-packages/tornado/platform/asyncio.py\", line 132, in start\n    self.asyncio_loop.run_forever()\n  File \"/home/alan/anaconda3/lib/python3.6/asyncio/base_events.py\", line 438, in run_forever\n    self._run_once()\n  File \"/home/alan/anaconda3/lib/python3.6/asyncio/base_events.py\", line 1451, in _run_once\n    handle._run()\n  File \"/home/alan/anaconda3/lib/python3.6/asyncio/events.py\", line 145, in _run\n    self._callback(*self._args)\n  File \"/home/alan/anaconda3/lib/python3.6/site-packages/tornado/ioloop.py\", line 758, in _run_callback\n    ret = callback()\n  File \"/home/alan/anaconda3/lib/python3.6/site-packages/tornado/stack_context.py\", line 300, in null_wrapper\n    return fn(*args, **kwargs)\n  File \"/home/alan/anaconda3/lib/python3.6/site-packages/tornado/gen.py\", line 1233, in inner\n    self.run()\n  File \"/home/alan/anaconda3/lib/python3.6/site-packages/tornado/gen.py\", line 1147, in run\n    yielded = self.gen.send(value)\n  File \"/home/alan/anaconda3/lib/python3.6/site-packages/ipykernel/kernelbase.py\", line 357, in process_one\n    yield gen.maybe_future(dispatch(*args))\n  File \"/home/alan/anaconda3/lib/python3.6/site-packages/tornado/gen.py\", line 326, in wrapper\n    yielded = next(result)\n  File \"/home/alan/anaconda3/lib/python3.6/site-packages/ipykernel/kernelbase.py\", line 267, in dispatch_shell\n    yield gen.maybe_future(handler(stream, idents, msg))\n  File \"/home/alan/anaconda3/lib/python3.6/site-packages/tornado/gen.py\", line 326, in wrapper\n    yielded = next(result)\n  File \"/home/alan/anaconda3/lib/python3.6/site-packages/ipykernel/kernelbase.py\", line 534, in execute_request\n    user_expressions, allow_stdin,\n  File \"/home/alan/anaconda3/lib/python3.6/site-packages/tornado/gen.py\", line 326, in wrapper\n    yielded = next(result)\n  File \"/home/alan/anaconda3/lib/python3.6/site-packages/ipykernel/ipkernel.py\", line 294, in do_execute\n    res = shell.run_cell(code, store_history=store_history, silent=silent)\n  File \"/home/alan/anaconda3/lib/python3.6/site-packages/ipykernel/zmqshell.py\", line 536, in run_cell\n    return super(ZMQInteractiveShell, self).run_cell(*args, **kwargs)\n  File \"/home/alan/anaconda3/lib/python3.6/site-packages/IPython/core/interactiveshell.py\", line 2819, in run_cell\n    raw_cell, store_history, silent, shell_futures)\n  File \"/home/alan/anaconda3/lib/python3.6/site-packages/IPython/core/interactiveshell.py\", line 2845, in _run_cell\n    return runner(coro)\n  File \"/home/alan/anaconda3/lib/python3.6/site-packages/IPython/core/async_helpers.py\", line 67, in _pseudo_sync_runner\n    coro.send(None)\n  File \"/home/alan/anaconda3/lib/python3.6/site-packages/IPython/core/interactiveshell.py\", line 3020, in run_cell_async\n    interactivity=interactivity, compiler=compiler, result=result)\n  File \"/home/alan/anaconda3/lib/python3.6/site-packages/IPython/core/interactiveshell.py\", line 3185, in run_ast_nodes\n    if (yield from self.run_code(code, result)):\n  File \"/home/alan/anaconda3/lib/python3.6/site-packages/IPython/core/interactiveshell.py\", line 3267, in run_code\n    exec(code_obj, self.user_global_ns, self.user_ns)\n  File \"<ipython-input-272-105eee84db77>\", line 2, in <module>\n    embeddings_weight=embedding_matrix, class_num=34*5)\n  File \"<ipython-input-269-12f09be82695>\", line 13, in bi_gru_model\n    x = Bidirectional(CuDNNGRU(200, return_sequences=True))(x)\n  File \"/home/alan/anaconda3/lib/python3.6/site-packages/keras/layers/wrappers.py\", line 427, in __call__\n    return super(Bidirectional, self).__call__(inputs, **kwargs)\n  File \"/home/alan/anaconda3/lib/python3.6/site-packages/keras/engine/base_layer.py\", line 457, in __call__\n    output = self.call(inputs, **kwargs)\n  File \"/home/alan/anaconda3/lib/python3.6/site-packages/keras/layers/wrappers.py\", line 522, in call\n    y = self.forward_layer.call(inputs, **kwargs)\n  File \"/home/alan/anaconda3/lib/python3.6/site-packages/keras/layers/cudnn_recurrent.py\", line 90, in call\n    output, states = self._process_batch(inputs, initial_state)\n  File \"/home/alan/anaconda3/lib/python3.6/site-packages/keras/layers/cudnn_recurrent.py\", line 297, in _process_batch\n    is_training=True)\n  File \"/home/alan/anaconda3/lib/python3.6/site-packages/tensorflow/contrib/cudnn_rnn/python/ops/cudnn_rnn_ops.py\", line 1713, in __call__\n    seed=self._seed)\n  File \"/home/alan/anaconda3/lib/python3.6/site-packages/tensorflow/contrib/cudnn_rnn/python/ops/cudnn_rnn_ops.py\", line 1102, in _cudnn_rnn_no_input_c\n    direction, dropout, seed, name)\n  File \"/home/alan/anaconda3/lib/python3.6/site-packages/tensorflow/contrib/cudnn_rnn/python/ops/cudnn_rnn_ops.py\", line 1014, in _cudnn_rnn\n    outputs, output_h, output_c, _ = gen_cudnn_rnn_ops.cudnn_rnn(**args)\n  File \"/home/alan/anaconda3/lib/python3.6/site-packages/tensorflow/python/ops/gen_cudnn_rnn_ops.py\", line 142, in cudnn_rnn\n    seed2=seed2, is_training=is_training, name=name)\n  File \"/home/alan/anaconda3/lib/python3.6/site-packages/tensorflow/python/framework/op_def_library.py\", line 788, in _apply_op_helper\n    op_def=op_def)\n  File \"/home/alan/anaconda3/lib/python3.6/site-packages/tensorflow/python/util/deprecation.py\", line 507, in new_func\n    return func(*args, **kwargs)\n  File \"/home/alan/anaconda3/lib/python3.6/site-packages/tensorflow/python/framework/ops.py\", line 3300, in create_op\n    op_def=op_def)\n  File \"/home/alan/anaconda3/lib/python3.6/site-packages/tensorflow/python/framework/ops.py\", line 1801, in __init__\n    self._traceback = tf_stack.extract_stack()\n\nInvalidArgumentError (see above for traceback): No OpKernel was registered to support Op 'CudnnRNN' used by node bidirectional_17/CudnnRNN (defined at /home/alan/anaconda3/lib/python3.6/site-packages/keras/layers/cudnn_recurrent.py:297) with these attrs: [seed=87654321, dropout=0, input_mode=\"linear_input\", T=DT_FLOAT, direction=\"unidirectional\", rnn_mode=\"gru\", seed2=0, is_training=true]\nRegistered devices: [CPU, XLA_CPU]\nRegistered kernels:\n  <no registered kernels>\n\n\t [[node bidirectional_17/CudnnRNN (defined at /home/alan/anaconda3/lib/python3.6/site-packages/keras/layers/cudnn_recurrent.py:297) ]]\n",
     "output_type": "error",
     "traceback": [
      "\u001b[0;31m---------------------------------------------------------------------------\u001b[0m",
      "\u001b[0;31mInvalidArgumentError\u001b[0m                      Traceback (most recent call last)",
      "\u001b[0;32m~/anaconda3/lib/python3.6/site-packages/tensorflow/python/client/session.py\u001b[0m in \u001b[0;36m_do_call\u001b[0;34m(self, fn, *args)\u001b[0m\n\u001b[1;32m   1333\u001b[0m     \u001b[0;32mtry\u001b[0m\u001b[0;34m:\u001b[0m\u001b[0;34m\u001b[0m\u001b[0;34m\u001b[0m\u001b[0m\n\u001b[0;32m-> 1334\u001b[0;31m       \u001b[0;32mreturn\u001b[0m \u001b[0mfn\u001b[0m\u001b[0;34m(\u001b[0m\u001b[0;34m*\u001b[0m\u001b[0margs\u001b[0m\u001b[0;34m)\u001b[0m\u001b[0;34m\u001b[0m\u001b[0;34m\u001b[0m\u001b[0m\n\u001b[0m\u001b[1;32m   1335\u001b[0m     \u001b[0;32mexcept\u001b[0m \u001b[0merrors\u001b[0m\u001b[0;34m.\u001b[0m\u001b[0mOpError\u001b[0m \u001b[0;32mas\u001b[0m \u001b[0me\u001b[0m\u001b[0;34m:\u001b[0m\u001b[0;34m\u001b[0m\u001b[0;34m\u001b[0m\u001b[0m\n",
      "\u001b[0;32m~/anaconda3/lib/python3.6/site-packages/tensorflow/python/client/session.py\u001b[0m in \u001b[0;36m_run_fn\u001b[0;34m(feed_dict, fetch_list, target_list, options, run_metadata)\u001b[0m\n\u001b[1;32m   1316\u001b[0m       \u001b[0;31m# Ensure any changes to the graph are reflected in the runtime.\u001b[0m\u001b[0;34m\u001b[0m\u001b[0;34m\u001b[0m\u001b[0;34m\u001b[0m\u001b[0m\n\u001b[0;32m-> 1317\u001b[0;31m       \u001b[0mself\u001b[0m\u001b[0;34m.\u001b[0m\u001b[0m_extend_graph\u001b[0m\u001b[0;34m(\u001b[0m\u001b[0;34m)\u001b[0m\u001b[0;34m\u001b[0m\u001b[0;34m\u001b[0m\u001b[0m\n\u001b[0m\u001b[1;32m   1318\u001b[0m       return self._call_tf_sessionrun(\n",
      "\u001b[0;32m~/anaconda3/lib/python3.6/site-packages/tensorflow/python/client/session.py\u001b[0m in \u001b[0;36m_extend_graph\u001b[0;34m(self)\u001b[0m\n\u001b[1;32m   1351\u001b[0m     \u001b[0;32mwith\u001b[0m \u001b[0mself\u001b[0m\u001b[0;34m.\u001b[0m\u001b[0m_graph\u001b[0m\u001b[0;34m.\u001b[0m\u001b[0m_session_run_lock\u001b[0m\u001b[0;34m(\u001b[0m\u001b[0;34m)\u001b[0m\u001b[0;34m:\u001b[0m  \u001b[0;31m# pylint: disable=protected-access\u001b[0m\u001b[0;34m\u001b[0m\u001b[0;34m\u001b[0m\u001b[0m\n\u001b[0;32m-> 1352\u001b[0;31m       \u001b[0mtf_session\u001b[0m\u001b[0;34m.\u001b[0m\u001b[0mExtendSession\u001b[0m\u001b[0;34m(\u001b[0m\u001b[0mself\u001b[0m\u001b[0;34m.\u001b[0m\u001b[0m_session\u001b[0m\u001b[0;34m)\u001b[0m\u001b[0;34m\u001b[0m\u001b[0;34m\u001b[0m\u001b[0m\n\u001b[0m\u001b[1;32m   1353\u001b[0m \u001b[0;34m\u001b[0m\u001b[0m\n",
      "\u001b[0;31mInvalidArgumentError\u001b[0m: No OpKernel was registered to support Op 'CudnnRNN' used by {{node bidirectional_17/CudnnRNN}}with these attrs: [seed=87654321, dropout=0, input_mode=\"linear_input\", T=DT_FLOAT, direction=\"unidirectional\", rnn_mode=\"gru\", seed2=0, is_training=true]\nRegistered devices: [CPU, XLA_CPU]\nRegistered kernels:\n  <no registered kernels>\n\n\t [[{{node bidirectional_17/CudnnRNN}}]]",
      "\nDuring handling of the above exception, another exception occurred:\n",
      "\u001b[0;31mInvalidArgumentError\u001b[0m                      Traceback (most recent call last)",
      "\u001b[0;32m<ipython-input-277-6f1a788c22cf>\u001b[0m in \u001b[0;36m<module>\u001b[0;34m\u001b[0m\n\u001b[1;32m      1\u001b[0m gru_model = bi_gru_model(sent_length=(title_size*train_roll_window),\n\u001b[0;32m----> 2\u001b[0;31m                          embeddings_weight=embedding_matrix, class_num=34*pre_roll_window)\n\u001b[0m",
      "\u001b[0;32m<ipython-input-269-12f09be82695>\u001b[0m in \u001b[0;36mbi_gru_model\u001b[0;34m(sent_length, embeddings_weight, class_num)\u001b[0m\n\u001b[1;32m      9\u001b[0m         trainable=False)\n\u001b[1;32m     10\u001b[0m \u001b[0;34m\u001b[0m\u001b[0m\n\u001b[0;32m---> 11\u001b[0;31m     \u001b[0mx\u001b[0m \u001b[0;34m=\u001b[0m \u001b[0mSpatialDropout1D\u001b[0m\u001b[0;34m(\u001b[0m\u001b[0;36m0.2\u001b[0m\u001b[0;34m)\u001b[0m\u001b[0;34m(\u001b[0m\u001b[0membedding\u001b[0m\u001b[0;34m(\u001b[0m\u001b[0mcontent\u001b[0m\u001b[0;34m)\u001b[0m\u001b[0;34m)\u001b[0m\u001b[0;34m\u001b[0m\u001b[0;34m\u001b[0m\u001b[0m\n\u001b[0m\u001b[1;32m     12\u001b[0m \u001b[0;34m\u001b[0m\u001b[0m\n\u001b[1;32m     13\u001b[0m     \u001b[0mx\u001b[0m \u001b[0;34m=\u001b[0m \u001b[0mBidirectional\u001b[0m\u001b[0;34m(\u001b[0m\u001b[0mCuDNNGRU\u001b[0m\u001b[0;34m(\u001b[0m\u001b[0;36m200\u001b[0m\u001b[0;34m,\u001b[0m \u001b[0mreturn_sequences\u001b[0m\u001b[0;34m=\u001b[0m\u001b[0;32mTrue\u001b[0m\u001b[0;34m)\u001b[0m\u001b[0;34m)\u001b[0m\u001b[0;34m(\u001b[0m\u001b[0mx\u001b[0m\u001b[0;34m)\u001b[0m\u001b[0;34m\u001b[0m\u001b[0;34m\u001b[0m\u001b[0m\n",
      "\u001b[0;32m~/anaconda3/lib/python3.6/site-packages/keras/engine/base_layer.py\u001b[0m in \u001b[0;36m__call__\u001b[0;34m(self, inputs, **kwargs)\u001b[0m\n\u001b[1;32m    434\u001b[0m                 \u001b[0;31m# Load weights that were specified at layer instantiation.\u001b[0m\u001b[0;34m\u001b[0m\u001b[0;34m\u001b[0m\u001b[0;34m\u001b[0m\u001b[0m\n\u001b[1;32m    435\u001b[0m                 \u001b[0;32mif\u001b[0m \u001b[0mself\u001b[0m\u001b[0;34m.\u001b[0m\u001b[0m_initial_weights\u001b[0m \u001b[0;32mis\u001b[0m \u001b[0;32mnot\u001b[0m \u001b[0;32mNone\u001b[0m\u001b[0;34m:\u001b[0m\u001b[0;34m\u001b[0m\u001b[0;34m\u001b[0m\u001b[0m\n\u001b[0;32m--> 436\u001b[0;31m                     \u001b[0mself\u001b[0m\u001b[0;34m.\u001b[0m\u001b[0mset_weights\u001b[0m\u001b[0;34m(\u001b[0m\u001b[0mself\u001b[0m\u001b[0;34m.\u001b[0m\u001b[0m_initial_weights\u001b[0m\u001b[0;34m)\u001b[0m\u001b[0;34m\u001b[0m\u001b[0;34m\u001b[0m\u001b[0m\n\u001b[0m\u001b[1;32m    437\u001b[0m \u001b[0;34m\u001b[0m\u001b[0m\n\u001b[1;32m    438\u001b[0m             \u001b[0;31m# Raise exceptions in case the input is not compatible\u001b[0m\u001b[0;34m\u001b[0m\u001b[0;34m\u001b[0m\u001b[0;34m\u001b[0m\u001b[0m\n",
      "\u001b[0;32m~/anaconda3/lib/python3.6/site-packages/keras/engine/base_layer.py\u001b[0m in \u001b[0;36mset_weights\u001b[0;34m(self, weights)\u001b[0m\n\u001b[1;32m   1049\u001b[0m             \u001b[0;32mreturn\u001b[0m\u001b[0;34m\u001b[0m\u001b[0;34m\u001b[0m\u001b[0m\n\u001b[1;32m   1050\u001b[0m         \u001b[0mweight_value_tuples\u001b[0m \u001b[0;34m=\u001b[0m \u001b[0;34m[\u001b[0m\u001b[0;34m]\u001b[0m\u001b[0;34m\u001b[0m\u001b[0;34m\u001b[0m\u001b[0m\n\u001b[0;32m-> 1051\u001b[0;31m         \u001b[0mparam_values\u001b[0m \u001b[0;34m=\u001b[0m \u001b[0mK\u001b[0m\u001b[0;34m.\u001b[0m\u001b[0mbatch_get_value\u001b[0m\u001b[0;34m(\u001b[0m\u001b[0mparams\u001b[0m\u001b[0;34m)\u001b[0m\u001b[0;34m\u001b[0m\u001b[0;34m\u001b[0m\u001b[0m\n\u001b[0m\u001b[1;32m   1052\u001b[0m         \u001b[0;32mfor\u001b[0m \u001b[0mpv\u001b[0m\u001b[0;34m,\u001b[0m \u001b[0mp\u001b[0m\u001b[0;34m,\u001b[0m \u001b[0mw\u001b[0m \u001b[0;32min\u001b[0m \u001b[0mzip\u001b[0m\u001b[0;34m(\u001b[0m\u001b[0mparam_values\u001b[0m\u001b[0;34m,\u001b[0m \u001b[0mparams\u001b[0m\u001b[0;34m,\u001b[0m \u001b[0mweights\u001b[0m\u001b[0;34m)\u001b[0m\u001b[0;34m:\u001b[0m\u001b[0;34m\u001b[0m\u001b[0;34m\u001b[0m\u001b[0m\n\u001b[1;32m   1053\u001b[0m             \u001b[0;32mif\u001b[0m \u001b[0mpv\u001b[0m\u001b[0;34m.\u001b[0m\u001b[0mshape\u001b[0m \u001b[0;34m!=\u001b[0m \u001b[0mw\u001b[0m\u001b[0;34m.\u001b[0m\u001b[0mshape\u001b[0m\u001b[0;34m:\u001b[0m\u001b[0;34m\u001b[0m\u001b[0;34m\u001b[0m\u001b[0m\n",
      "\u001b[0;32m~/anaconda3/lib/python3.6/site-packages/keras/backend/tensorflow_backend.py\u001b[0m in \u001b[0;36mbatch_get_value\u001b[0;34m(ops)\u001b[0m\n\u001b[1;32m   2418\u001b[0m     \"\"\"\n\u001b[1;32m   2419\u001b[0m     \u001b[0;32mif\u001b[0m \u001b[0mops\u001b[0m\u001b[0;34m:\u001b[0m\u001b[0;34m\u001b[0m\u001b[0;34m\u001b[0m\u001b[0m\n\u001b[0;32m-> 2420\u001b[0;31m         \u001b[0;32mreturn\u001b[0m \u001b[0mget_session\u001b[0m\u001b[0;34m(\u001b[0m\u001b[0;34m)\u001b[0m\u001b[0;34m.\u001b[0m\u001b[0mrun\u001b[0m\u001b[0;34m(\u001b[0m\u001b[0mops\u001b[0m\u001b[0;34m)\u001b[0m\u001b[0;34m\u001b[0m\u001b[0;34m\u001b[0m\u001b[0m\n\u001b[0m\u001b[1;32m   2421\u001b[0m     \u001b[0;32melse\u001b[0m\u001b[0;34m:\u001b[0m\u001b[0;34m\u001b[0m\u001b[0;34m\u001b[0m\u001b[0m\n\u001b[1;32m   2422\u001b[0m         \u001b[0;32mreturn\u001b[0m \u001b[0;34m[\u001b[0m\u001b[0;34m]\u001b[0m\u001b[0;34m\u001b[0m\u001b[0;34m\u001b[0m\u001b[0m\n",
      "\u001b[0;32m~/anaconda3/lib/python3.6/site-packages/keras/backend/tensorflow_backend.py\u001b[0m in \u001b[0;36mget_session\u001b[0;34m()\u001b[0m\n\u001b[1;32m    197\u001b[0m                 \u001b[0;31m# not already marked as initialized.\u001b[0m\u001b[0;34m\u001b[0m\u001b[0;34m\u001b[0m\u001b[0;34m\u001b[0m\u001b[0m\n\u001b[1;32m    198\u001b[0m                 is_initialized = session.run(\n\u001b[0;32m--> 199\u001b[0;31m                     [tf.is_variable_initialized(v) for v in candidate_vars])\n\u001b[0m\u001b[1;32m    200\u001b[0m                 \u001b[0muninitialized_vars\u001b[0m \u001b[0;34m=\u001b[0m \u001b[0;34m[\u001b[0m\u001b[0;34m]\u001b[0m\u001b[0;34m\u001b[0m\u001b[0;34m\u001b[0m\u001b[0m\n\u001b[1;32m    201\u001b[0m                 \u001b[0;32mfor\u001b[0m \u001b[0mflag\u001b[0m\u001b[0;34m,\u001b[0m \u001b[0mv\u001b[0m \u001b[0;32min\u001b[0m \u001b[0mzip\u001b[0m\u001b[0;34m(\u001b[0m\u001b[0mis_initialized\u001b[0m\u001b[0;34m,\u001b[0m \u001b[0mcandidate_vars\u001b[0m\u001b[0;34m)\u001b[0m\u001b[0;34m:\u001b[0m\u001b[0;34m\u001b[0m\u001b[0;34m\u001b[0m\u001b[0m\n",
      "\u001b[0;32m~/anaconda3/lib/python3.6/site-packages/tensorflow/python/client/session.py\u001b[0m in \u001b[0;36mrun\u001b[0;34m(self, fetches, feed_dict, options, run_metadata)\u001b[0m\n\u001b[1;32m    927\u001b[0m     \u001b[0;32mtry\u001b[0m\u001b[0;34m:\u001b[0m\u001b[0;34m\u001b[0m\u001b[0;34m\u001b[0m\u001b[0m\n\u001b[1;32m    928\u001b[0m       result = self._run(None, fetches, feed_dict, options_ptr,\n\u001b[0;32m--> 929\u001b[0;31m                          run_metadata_ptr)\n\u001b[0m\u001b[1;32m    930\u001b[0m       \u001b[0;32mif\u001b[0m \u001b[0mrun_metadata\u001b[0m\u001b[0;34m:\u001b[0m\u001b[0;34m\u001b[0m\u001b[0;34m\u001b[0m\u001b[0m\n\u001b[1;32m    931\u001b[0m         \u001b[0mproto_data\u001b[0m \u001b[0;34m=\u001b[0m \u001b[0mtf_session\u001b[0m\u001b[0;34m.\u001b[0m\u001b[0mTF_GetBuffer\u001b[0m\u001b[0;34m(\u001b[0m\u001b[0mrun_metadata_ptr\u001b[0m\u001b[0;34m)\u001b[0m\u001b[0;34m\u001b[0m\u001b[0;34m\u001b[0m\u001b[0m\n",
      "\u001b[0;32m~/anaconda3/lib/python3.6/site-packages/tensorflow/python/client/session.py\u001b[0m in \u001b[0;36m_run\u001b[0;34m(self, handle, fetches, feed_dict, options, run_metadata)\u001b[0m\n\u001b[1;32m   1150\u001b[0m     \u001b[0;32mif\u001b[0m \u001b[0mfinal_fetches\u001b[0m \u001b[0;32mor\u001b[0m \u001b[0mfinal_targets\u001b[0m \u001b[0;32mor\u001b[0m \u001b[0;34m(\u001b[0m\u001b[0mhandle\u001b[0m \u001b[0;32mand\u001b[0m \u001b[0mfeed_dict_tensor\u001b[0m\u001b[0;34m)\u001b[0m\u001b[0;34m:\u001b[0m\u001b[0;34m\u001b[0m\u001b[0;34m\u001b[0m\u001b[0m\n\u001b[1;32m   1151\u001b[0m       results = self._do_run(handle, final_targets, final_fetches,\n\u001b[0;32m-> 1152\u001b[0;31m                              feed_dict_tensor, options, run_metadata)\n\u001b[0m\u001b[1;32m   1153\u001b[0m     \u001b[0;32melse\u001b[0m\u001b[0;34m:\u001b[0m\u001b[0;34m\u001b[0m\u001b[0;34m\u001b[0m\u001b[0m\n\u001b[1;32m   1154\u001b[0m       \u001b[0mresults\u001b[0m \u001b[0;34m=\u001b[0m \u001b[0;34m[\u001b[0m\u001b[0;34m]\u001b[0m\u001b[0;34m\u001b[0m\u001b[0;34m\u001b[0m\u001b[0m\n",
      "\u001b[0;32m~/anaconda3/lib/python3.6/site-packages/tensorflow/python/client/session.py\u001b[0m in \u001b[0;36m_do_run\u001b[0;34m(self, handle, target_list, fetch_list, feed_dict, options, run_metadata)\u001b[0m\n\u001b[1;32m   1326\u001b[0m     \u001b[0;32mif\u001b[0m \u001b[0mhandle\u001b[0m \u001b[0;32mis\u001b[0m \u001b[0;32mNone\u001b[0m\u001b[0;34m:\u001b[0m\u001b[0;34m\u001b[0m\u001b[0;34m\u001b[0m\u001b[0m\n\u001b[1;32m   1327\u001b[0m       return self._do_call(_run_fn, feeds, fetches, targets, options,\n\u001b[0;32m-> 1328\u001b[0;31m                            run_metadata)\n\u001b[0m\u001b[1;32m   1329\u001b[0m     \u001b[0;32melse\u001b[0m\u001b[0;34m:\u001b[0m\u001b[0;34m\u001b[0m\u001b[0;34m\u001b[0m\u001b[0m\n\u001b[1;32m   1330\u001b[0m       \u001b[0;32mreturn\u001b[0m \u001b[0mself\u001b[0m\u001b[0;34m.\u001b[0m\u001b[0m_do_call\u001b[0m\u001b[0;34m(\u001b[0m\u001b[0m_prun_fn\u001b[0m\u001b[0;34m,\u001b[0m \u001b[0mhandle\u001b[0m\u001b[0;34m,\u001b[0m \u001b[0mfeeds\u001b[0m\u001b[0;34m,\u001b[0m \u001b[0mfetches\u001b[0m\u001b[0;34m)\u001b[0m\u001b[0;34m\u001b[0m\u001b[0;34m\u001b[0m\u001b[0m\n",
      "\u001b[0;32m~/anaconda3/lib/python3.6/site-packages/tensorflow/python/client/session.py\u001b[0m in \u001b[0;36m_do_call\u001b[0;34m(self, fn, *args)\u001b[0m\n\u001b[1;32m   1346\u001b[0m           \u001b[0;32mpass\u001b[0m\u001b[0;34m\u001b[0m\u001b[0;34m\u001b[0m\u001b[0m\n\u001b[1;32m   1347\u001b[0m       \u001b[0mmessage\u001b[0m \u001b[0;34m=\u001b[0m \u001b[0merror_interpolation\u001b[0m\u001b[0;34m.\u001b[0m\u001b[0minterpolate\u001b[0m\u001b[0;34m(\u001b[0m\u001b[0mmessage\u001b[0m\u001b[0;34m,\u001b[0m \u001b[0mself\u001b[0m\u001b[0;34m.\u001b[0m\u001b[0m_graph\u001b[0m\u001b[0;34m)\u001b[0m\u001b[0;34m\u001b[0m\u001b[0;34m\u001b[0m\u001b[0m\n\u001b[0;32m-> 1348\u001b[0;31m       \u001b[0;32mraise\u001b[0m \u001b[0mtype\u001b[0m\u001b[0;34m(\u001b[0m\u001b[0me\u001b[0m\u001b[0;34m)\u001b[0m\u001b[0;34m(\u001b[0m\u001b[0mnode_def\u001b[0m\u001b[0;34m,\u001b[0m \u001b[0mop\u001b[0m\u001b[0;34m,\u001b[0m \u001b[0mmessage\u001b[0m\u001b[0;34m)\u001b[0m\u001b[0;34m\u001b[0m\u001b[0;34m\u001b[0m\u001b[0m\n\u001b[0m\u001b[1;32m   1349\u001b[0m \u001b[0;34m\u001b[0m\u001b[0m\n\u001b[1;32m   1350\u001b[0m   \u001b[0;32mdef\u001b[0m \u001b[0m_extend_graph\u001b[0m\u001b[0;34m(\u001b[0m\u001b[0mself\u001b[0m\u001b[0;34m)\u001b[0m\u001b[0;34m:\u001b[0m\u001b[0;34m\u001b[0m\u001b[0;34m\u001b[0m\u001b[0m\n",
      "\u001b[0;31mInvalidArgumentError\u001b[0m: No OpKernel was registered to support Op 'CudnnRNN' used by node bidirectional_17/CudnnRNN (defined at /home/alan/anaconda3/lib/python3.6/site-packages/keras/layers/cudnn_recurrent.py:297) with these attrs: [seed=87654321, dropout=0, input_mode=\"linear_input\", T=DT_FLOAT, direction=\"unidirectional\", rnn_mode=\"gru\", seed2=0, is_training=true]\nRegistered devices: [CPU, XLA_CPU]\nRegistered kernels:\n  <no registered kernels>\n\n\t [[node bidirectional_17/CudnnRNN (defined at /home/alan/anaconda3/lib/python3.6/site-packages/keras/layers/cudnn_recurrent.py:297) ]]\n\nCaused by op 'bidirectional_17/CudnnRNN', defined at:\n  File \"/home/alan/anaconda3/lib/python3.6/runpy.py\", line 193, in _run_module_as_main\n    \"__main__\", mod_spec)\n  File \"/home/alan/anaconda3/lib/python3.6/runpy.py\", line 85, in _run_code\n    exec(code, run_globals)\n  File \"/home/alan/anaconda3/lib/python3.6/site-packages/ipykernel_launcher.py\", line 16, in <module>\n    app.launch_new_instance()\n  File \"/home/alan/anaconda3/lib/python3.6/site-packages/traitlets/config/application.py\", line 658, in launch_instance\n    app.start()\n  File \"/home/alan/anaconda3/lib/python3.6/site-packages/ipykernel/kernelapp.py\", line 505, in start\n    self.io_loop.start()\n  File \"/home/alan/anaconda3/lib/python3.6/site-packages/tornado/platform/asyncio.py\", line 132, in start\n    self.asyncio_loop.run_forever()\n  File \"/home/alan/anaconda3/lib/python3.6/asyncio/base_events.py\", line 438, in run_forever\n    self._run_once()\n  File \"/home/alan/anaconda3/lib/python3.6/asyncio/base_events.py\", line 1451, in _run_once\n    handle._run()\n  File \"/home/alan/anaconda3/lib/python3.6/asyncio/events.py\", line 145, in _run\n    self._callback(*self._args)\n  File \"/home/alan/anaconda3/lib/python3.6/site-packages/tornado/ioloop.py\", line 758, in _run_callback\n    ret = callback()\n  File \"/home/alan/anaconda3/lib/python3.6/site-packages/tornado/stack_context.py\", line 300, in null_wrapper\n    return fn(*args, **kwargs)\n  File \"/home/alan/anaconda3/lib/python3.6/site-packages/tornado/gen.py\", line 1233, in inner\n    self.run()\n  File \"/home/alan/anaconda3/lib/python3.6/site-packages/tornado/gen.py\", line 1147, in run\n    yielded = self.gen.send(value)\n  File \"/home/alan/anaconda3/lib/python3.6/site-packages/ipykernel/kernelbase.py\", line 357, in process_one\n    yield gen.maybe_future(dispatch(*args))\n  File \"/home/alan/anaconda3/lib/python3.6/site-packages/tornado/gen.py\", line 326, in wrapper\n    yielded = next(result)\n  File \"/home/alan/anaconda3/lib/python3.6/site-packages/ipykernel/kernelbase.py\", line 267, in dispatch_shell\n    yield gen.maybe_future(handler(stream, idents, msg))\n  File \"/home/alan/anaconda3/lib/python3.6/site-packages/tornado/gen.py\", line 326, in wrapper\n    yielded = next(result)\n  File \"/home/alan/anaconda3/lib/python3.6/site-packages/ipykernel/kernelbase.py\", line 534, in execute_request\n    user_expressions, allow_stdin,\n  File \"/home/alan/anaconda3/lib/python3.6/site-packages/tornado/gen.py\", line 326, in wrapper\n    yielded = next(result)\n  File \"/home/alan/anaconda3/lib/python3.6/site-packages/ipykernel/ipkernel.py\", line 294, in do_execute\n    res = shell.run_cell(code, store_history=store_history, silent=silent)\n  File \"/home/alan/anaconda3/lib/python3.6/site-packages/ipykernel/zmqshell.py\", line 536, in run_cell\n    return super(ZMQInteractiveShell, self).run_cell(*args, **kwargs)\n  File \"/home/alan/anaconda3/lib/python3.6/site-packages/IPython/core/interactiveshell.py\", line 2819, in run_cell\n    raw_cell, store_history, silent, shell_futures)\n  File \"/home/alan/anaconda3/lib/python3.6/site-packages/IPython/core/interactiveshell.py\", line 2845, in _run_cell\n    return runner(coro)\n  File \"/home/alan/anaconda3/lib/python3.6/site-packages/IPython/core/async_helpers.py\", line 67, in _pseudo_sync_runner\n    coro.send(None)\n  File \"/home/alan/anaconda3/lib/python3.6/site-packages/IPython/core/interactiveshell.py\", line 3020, in run_cell_async\n    interactivity=interactivity, compiler=compiler, result=result)\n  File \"/home/alan/anaconda3/lib/python3.6/site-packages/IPython/core/interactiveshell.py\", line 3185, in run_ast_nodes\n    if (yield from self.run_code(code, result)):\n  File \"/home/alan/anaconda3/lib/python3.6/site-packages/IPython/core/interactiveshell.py\", line 3267, in run_code\n    exec(code_obj, self.user_global_ns, self.user_ns)\n  File \"<ipython-input-272-105eee84db77>\", line 2, in <module>\n    embeddings_weight=embedding_matrix, class_num=34*5)\n  File \"<ipython-input-269-12f09be82695>\", line 13, in bi_gru_model\n    x = Bidirectional(CuDNNGRU(200, return_sequences=True))(x)\n  File \"/home/alan/anaconda3/lib/python3.6/site-packages/keras/layers/wrappers.py\", line 427, in __call__\n    return super(Bidirectional, self).__call__(inputs, **kwargs)\n  File \"/home/alan/anaconda3/lib/python3.6/site-packages/keras/engine/base_layer.py\", line 457, in __call__\n    output = self.call(inputs, **kwargs)\n  File \"/home/alan/anaconda3/lib/python3.6/site-packages/keras/layers/wrappers.py\", line 522, in call\n    y = self.forward_layer.call(inputs, **kwargs)\n  File \"/home/alan/anaconda3/lib/python3.6/site-packages/keras/layers/cudnn_recurrent.py\", line 90, in call\n    output, states = self._process_batch(inputs, initial_state)\n  File \"/home/alan/anaconda3/lib/python3.6/site-packages/keras/layers/cudnn_recurrent.py\", line 297, in _process_batch\n    is_training=True)\n  File \"/home/alan/anaconda3/lib/python3.6/site-packages/tensorflow/contrib/cudnn_rnn/python/ops/cudnn_rnn_ops.py\", line 1713, in __call__\n    seed=self._seed)\n  File \"/home/alan/anaconda3/lib/python3.6/site-packages/tensorflow/contrib/cudnn_rnn/python/ops/cudnn_rnn_ops.py\", line 1102, in _cudnn_rnn_no_input_c\n    direction, dropout, seed, name)\n  File \"/home/alan/anaconda3/lib/python3.6/site-packages/tensorflow/contrib/cudnn_rnn/python/ops/cudnn_rnn_ops.py\", line 1014, in _cudnn_rnn\n    outputs, output_h, output_c, _ = gen_cudnn_rnn_ops.cudnn_rnn(**args)\n  File \"/home/alan/anaconda3/lib/python3.6/site-packages/tensorflow/python/ops/gen_cudnn_rnn_ops.py\", line 142, in cudnn_rnn\n    seed2=seed2, is_training=is_training, name=name)\n  File \"/home/alan/anaconda3/lib/python3.6/site-packages/tensorflow/python/framework/op_def_library.py\", line 788, in _apply_op_helper\n    op_def=op_def)\n  File \"/home/alan/anaconda3/lib/python3.6/site-packages/tensorflow/python/util/deprecation.py\", line 507, in new_func\n    return func(*args, **kwargs)\n  File \"/home/alan/anaconda3/lib/python3.6/site-packages/tensorflow/python/framework/ops.py\", line 3300, in create_op\n    op_def=op_def)\n  File \"/home/alan/anaconda3/lib/python3.6/site-packages/tensorflow/python/framework/ops.py\", line 1801, in __init__\n    self._traceback = tf_stack.extract_stack()\n\nInvalidArgumentError (see above for traceback): No OpKernel was registered to support Op 'CudnnRNN' used by node bidirectional_17/CudnnRNN (defined at /home/alan/anaconda3/lib/python3.6/site-packages/keras/layers/cudnn_recurrent.py:297) with these attrs: [seed=87654321, dropout=0, input_mode=\"linear_input\", T=DT_FLOAT, direction=\"unidirectional\", rnn_mode=\"gru\", seed2=0, is_training=true]\nRegistered devices: [CPU, XLA_CPU]\nRegistered kernels:\n  <no registered kernels>\n\n\t [[node bidirectional_17/CudnnRNN (defined at /home/alan/anaconda3/lib/python3.6/site-packages/keras/layers/cudnn_recurrent.py:297) ]]\n"
     ]
    }
   ],
   "source": [
    "gru_model = bi_gru_model(sent_length=(title_size*train_roll_window*pre_roll_window),\n",
    "                         embeddings_weight=embedding_matrix, class_num=34*pre_roll_window)"
   ]
  },
  {
   "cell_type": "code",
   "execution_count": 273,
   "metadata": {
    "ExecuteTime": {
     "end_time": "2019-05-16T11:06:00.866210Z",
     "start_time": "2019-05-16T11:06:00.690240Z"
    }
   },
   "outputs": [
    {
     "ename": "ValueError",
     "evalue": "Error when checking input: expected input_2 to have shape (1600,) but got array with shape (8000,)",
     "output_type": "error",
     "traceback": [
      "\u001b[0;31m---------------------------------------------------------------------------\u001b[0m",
      "\u001b[0;31mValueError\u001b[0m                                Traceback (most recent call last)",
      "\u001b[0;32m<ipython-input-273-a2c9a295778f>\u001b[0m in \u001b[0;36m<module>\u001b[0;34m\u001b[0m\n\u001b[0;32m----> 1\u001b[0;31m \u001b[0mgru_model\u001b[0m\u001b[0;34m.\u001b[0m\u001b[0mfit\u001b[0m\u001b[0;34m(\u001b[0m\u001b[0mtrain_title_matrix\u001b[0m\u001b[0;34m,\u001b[0m\u001b[0mtarget_matrix\u001b[0m\u001b[0;34m)\u001b[0m\u001b[0;34m\u001b[0m\u001b[0;34m\u001b[0m\u001b[0m\n\u001b[0m",
      "\u001b[0;32m~/anaconda3/lib/python3.6/site-packages/keras/engine/training.py\u001b[0m in \u001b[0;36mfit\u001b[0;34m(self, x, y, batch_size, epochs, verbose, callbacks, validation_split, validation_data, shuffle, class_weight, sample_weight, initial_epoch, steps_per_epoch, validation_steps, **kwargs)\u001b[0m\n\u001b[1;32m    950\u001b[0m             \u001b[0msample_weight\u001b[0m\u001b[0;34m=\u001b[0m\u001b[0msample_weight\u001b[0m\u001b[0;34m,\u001b[0m\u001b[0;34m\u001b[0m\u001b[0;34m\u001b[0m\u001b[0m\n\u001b[1;32m    951\u001b[0m             \u001b[0mclass_weight\u001b[0m\u001b[0;34m=\u001b[0m\u001b[0mclass_weight\u001b[0m\u001b[0;34m,\u001b[0m\u001b[0;34m\u001b[0m\u001b[0;34m\u001b[0m\u001b[0m\n\u001b[0;32m--> 952\u001b[0;31m             batch_size=batch_size)\n\u001b[0m\u001b[1;32m    953\u001b[0m         \u001b[0;31m# Prepare validation data.\u001b[0m\u001b[0;34m\u001b[0m\u001b[0;34m\u001b[0m\u001b[0;34m\u001b[0m\u001b[0m\n\u001b[1;32m    954\u001b[0m         \u001b[0mdo_validation\u001b[0m \u001b[0;34m=\u001b[0m \u001b[0;32mFalse\u001b[0m\u001b[0;34m\u001b[0m\u001b[0;34m\u001b[0m\u001b[0m\n",
      "\u001b[0;32m~/anaconda3/lib/python3.6/site-packages/keras/engine/training.py\u001b[0m in \u001b[0;36m_standardize_user_data\u001b[0;34m(self, x, y, sample_weight, class_weight, check_array_lengths, batch_size)\u001b[0m\n\u001b[1;32m    749\u001b[0m             \u001b[0mfeed_input_shapes\u001b[0m\u001b[0;34m,\u001b[0m\u001b[0;34m\u001b[0m\u001b[0;34m\u001b[0m\u001b[0m\n\u001b[1;32m    750\u001b[0m             \u001b[0mcheck_batch_axis\u001b[0m\u001b[0;34m=\u001b[0m\u001b[0;32mFalse\u001b[0m\u001b[0;34m,\u001b[0m  \u001b[0;31m# Don't enforce the batch size.\u001b[0m\u001b[0;34m\u001b[0m\u001b[0;34m\u001b[0m\u001b[0m\n\u001b[0;32m--> 751\u001b[0;31m             exception_prefix='input')\n\u001b[0m\u001b[1;32m    752\u001b[0m \u001b[0;34m\u001b[0m\u001b[0m\n\u001b[1;32m    753\u001b[0m         \u001b[0;32mif\u001b[0m \u001b[0my\u001b[0m \u001b[0;32mis\u001b[0m \u001b[0;32mnot\u001b[0m \u001b[0;32mNone\u001b[0m\u001b[0;34m:\u001b[0m\u001b[0;34m\u001b[0m\u001b[0;34m\u001b[0m\u001b[0m\n",
      "\u001b[0;32m~/anaconda3/lib/python3.6/site-packages/keras/engine/training_utils.py\u001b[0m in \u001b[0;36mstandardize_input_data\u001b[0;34m(data, names, shapes, check_batch_axis, exception_prefix)\u001b[0m\n\u001b[1;32m    136\u001b[0m                             \u001b[0;34m': expected '\u001b[0m \u001b[0;34m+\u001b[0m \u001b[0mnames\u001b[0m\u001b[0;34m[\u001b[0m\u001b[0mi\u001b[0m\u001b[0;34m]\u001b[0m \u001b[0;34m+\u001b[0m \u001b[0;34m' to have shape '\u001b[0m \u001b[0;34m+\u001b[0m\u001b[0;34m\u001b[0m\u001b[0;34m\u001b[0m\u001b[0m\n\u001b[1;32m    137\u001b[0m                             \u001b[0mstr\u001b[0m\u001b[0;34m(\u001b[0m\u001b[0mshape\u001b[0m\u001b[0;34m)\u001b[0m \u001b[0;34m+\u001b[0m \u001b[0;34m' but got array with shape '\u001b[0m \u001b[0;34m+\u001b[0m\u001b[0;34m\u001b[0m\u001b[0;34m\u001b[0m\u001b[0m\n\u001b[0;32m--> 138\u001b[0;31m                             str(data_shape))\n\u001b[0m\u001b[1;32m    139\u001b[0m     \u001b[0;32mreturn\u001b[0m \u001b[0mdata\u001b[0m\u001b[0;34m\u001b[0m\u001b[0;34m\u001b[0m\u001b[0m\n\u001b[1;32m    140\u001b[0m \u001b[0;34m\u001b[0m\u001b[0m\n",
      "\u001b[0;31mValueError\u001b[0m: Error when checking input: expected input_2 to have shape (1600,) but got array with shape (8000,)"
     ]
    }
   ],
   "source": [
    "gru_model.fit(train_title_matrix, target_matrix)"
   ]
  },
  {
   "cell_type": "code",
   "execution_count": null,
   "metadata": {},
   "outputs": [],
   "source": []
  }
 ],
 "metadata": {
  "kernelspec": {
   "display_name": "Python 3",
   "language": "python",
   "name": "python3"
  },
  "language_info": {
   "codemirror_mode": {
    "name": "ipython",
    "version": 3
   },
   "file_extension": ".py",
   "mimetype": "text/x-python",
   "name": "python",
   "nbconvert_exporter": "python",
   "pygments_lexer": "ipython3",
   "version": "3.6.8"
  },
  "toc": {
   "base_numbering": 1,
   "nav_menu": {},
   "number_sections": true,
   "sideBar": true,
   "skip_h1_title": false,
   "title_cell": "Table of Contents",
   "title_sidebar": "Contents",
   "toc_cell": false,
   "toc_position": {
    "height": "calc(100% - 180px)",
    "left": "10px",
    "top": "150px",
    "width": "377px"
   },
   "toc_section_display": true,
   "toc_window_display": true
  },
  "varInspector": {
   "cols": {
    "lenName": 16,
    "lenType": 16,
    "lenVar": 40
   },
   "kernels_config": {
    "python": {
     "delete_cmd_postfix": "",
     "delete_cmd_prefix": "del ",
     "library": "var_list.py",
     "varRefreshCmd": "print(var_dic_list())"
    },
    "r": {
     "delete_cmd_postfix": ") ",
     "delete_cmd_prefix": "rm(",
     "library": "var_list.r",
     "varRefreshCmd": "cat(var_dic_list()) "
    }
   },
   "types_to_exclude": [
    "module",
    "function",
    "builtin_function_or_method",
    "instance",
    "_Feature"
   ],
   "window_display": false
  }
 },
 "nbformat": 4,
 "nbformat_minor": 2
}
