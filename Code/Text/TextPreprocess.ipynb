{
 "cells": [
  {
   "cell_type": "code",
   "execution_count": 31,
   "metadata": {
    "ExecuteTime": {
     "end_time": "2019-05-14T06:44:20.452775Z",
     "start_time": "2019-05-14T06:44:20.439293Z"
    }
   },
   "outputs": [
    {
     "name": "stdout",
     "output_type": "stream",
     "text": [
      "Using matplotlib backend: Qt5Agg\n"
     ]
    }
   ],
   "source": [
    "import json\n",
    "import jieba\n",
    "from IPython.display import display\n",
    "import matplotlib.pyplot as plt\n",
    "import pandas as pd\n",
    "import numpy as np\n",
    "import seaborn as sns\n",
    "import matplotlib as mpl\n",
    "import warnings\n",
    "import time\n",
    "import codecs\n",
    "\n",
    "from collections import Counter\n",
    "warnings.filterwarnings(\"ignore\")\n",
    "%matplotlib\n",
    "\n",
    "stopwords = [line.strip() for line in codecs.open(\n",
    "    r'./stopwords.txt', 'r', 'utf-8').readlines()]"
   ]
  },
  {
   "cell_type": "code",
   "execution_count": 2,
   "metadata": {
    "ExecuteTime": {
     "end_time": "2019-05-14T02:27:57.264848Z",
     "start_time": "2019-05-14T02:27:56.495534Z"
    }
   },
   "outputs": [],
   "source": [
    "text = pd.read_csv(r'../../Data/TRAINSET_NEWS.csv')\n",
    "stock = pd.read_csv(r'../../Data/TRAINSET_STOCK.csv')"
   ]
  },
  {
   "cell_type": "markdown",
   "metadata": {},
   "source": [
    "# Get target vector"
   ]
  },
  {
   "cell_type": "code",
   "execution_count": 3,
   "metadata": {
    "ExecuteTime": {
     "end_time": "2019-05-14T02:27:57.306264Z",
     "start_time": "2019-05-14T02:27:57.269736Z"
    }
   },
   "outputs": [
    {
     "data": {
      "text/html": [
       "<div>\n",
       "<style scoped>\n",
       "    .dataframe tbody tr th:only-of-type {\n",
       "        vertical-align: middle;\n",
       "    }\n",
       "\n",
       "    .dataframe tbody tr th {\n",
       "        vertical-align: top;\n",
       "    }\n",
       "\n",
       "    .dataframe thead th {\n",
       "        text-align: right;\n",
       "    }\n",
       "</style>\n",
       "<table border=\"1\" class=\"dataframe\">\n",
       "  <thead>\n",
       "    <tr style=\"text-align: right;\">\n",
       "      <th></th>\n",
       "      <th>ts_code</th>\n",
       "      <th>trade_date</th>\n",
       "      <th>name</th>\n",
       "      <th>open</th>\n",
       "      <th>low</th>\n",
       "      <th>high</th>\n",
       "      <th>close</th>\n",
       "      <th>change</th>\n",
       "      <th>pct_change</th>\n",
       "      <th>vol</th>\n",
       "      <th>amount</th>\n",
       "      <th>pe</th>\n",
       "      <th>pb</th>\n",
       "      <th>y</th>\n",
       "    </tr>\n",
       "  </thead>\n",
       "  <tbody>\n",
       "    <tr>\n",
       "      <th>0</th>\n",
       "      <td>801010</td>\n",
       "      <td>20140401</td>\n",
       "      <td>农林牧渔</td>\n",
       "      <td>1668.75</td>\n",
       "      <td>1668.54</td>\n",
       "      <td>1689.12</td>\n",
       "      <td>1689.07</td>\n",
       "      <td>22.13</td>\n",
       "      <td>1.33</td>\n",
       "      <td>34914.0</td>\n",
       "      <td>291113.0</td>\n",
       "      <td>41.51</td>\n",
       "      <td>2.77</td>\n",
       "      <td>1</td>\n",
       "    </tr>\n",
       "    <tr>\n",
       "      <th>1</th>\n",
       "      <td>801010</td>\n",
       "      <td>20140402</td>\n",
       "      <td>农林牧渔</td>\n",
       "      <td>1688.72</td>\n",
       "      <td>1684.53</td>\n",
       "      <td>1693.41</td>\n",
       "      <td>1692.24</td>\n",
       "      <td>3.17</td>\n",
       "      <td>0.19</td>\n",
       "      <td>36300.0</td>\n",
       "      <td>289020.0</td>\n",
       "      <td>41.63</td>\n",
       "      <td>2.79</td>\n",
       "      <td>1</td>\n",
       "    </tr>\n",
       "    <tr>\n",
       "      <th>2</th>\n",
       "      <td>801010</td>\n",
       "      <td>20140403</td>\n",
       "      <td>农林牧渔</td>\n",
       "      <td>1693.05</td>\n",
       "      <td>1679.85</td>\n",
       "      <td>1697.73</td>\n",
       "      <td>1685.71</td>\n",
       "      <td>-6.53</td>\n",
       "      <td>-0.39</td>\n",
       "      <td>31403.0</td>\n",
       "      <td>259464.0</td>\n",
       "      <td>41.38</td>\n",
       "      <td>2.78</td>\n",
       "      <td>0</td>\n",
       "    </tr>\n",
       "    <tr>\n",
       "      <th>3</th>\n",
       "      <td>801010</td>\n",
       "      <td>20140404</td>\n",
       "      <td>农林牧渔</td>\n",
       "      <td>1681.92</td>\n",
       "      <td>1680.34</td>\n",
       "      <td>1698.44</td>\n",
       "      <td>1698.25</td>\n",
       "      <td>12.54</td>\n",
       "      <td>0.74</td>\n",
       "      <td>28648.0</td>\n",
       "      <td>240940.0</td>\n",
       "      <td>41.76</td>\n",
       "      <td>2.80</td>\n",
       "      <td>1</td>\n",
       "    </tr>\n",
       "    <tr>\n",
       "      <th>4</th>\n",
       "      <td>801010</td>\n",
       "      <td>20140408</td>\n",
       "      <td>农林牧渔</td>\n",
       "      <td>1693.24</td>\n",
       "      <td>1692.22</td>\n",
       "      <td>1706.84</td>\n",
       "      <td>1706.84</td>\n",
       "      <td>8.59</td>\n",
       "      <td>0.51</td>\n",
       "      <td>35012.0</td>\n",
       "      <td>312423.0</td>\n",
       "      <td>42.00</td>\n",
       "      <td>2.79</td>\n",
       "      <td>1</td>\n",
       "    </tr>\n",
       "  </tbody>\n",
       "</table>\n",
       "</div>"
      ],
      "text/plain": [
       "   ts_code  trade_date  name     open      low     high    close  change  \\\n",
       "0   801010    20140401  农林牧渔  1668.75  1668.54  1689.12  1689.07   22.13   \n",
       "1   801010    20140402  农林牧渔  1688.72  1684.53  1693.41  1692.24    3.17   \n",
       "2   801010    20140403  农林牧渔  1693.05  1679.85  1697.73  1685.71   -6.53   \n",
       "3   801010    20140404  农林牧渔  1681.92  1680.34  1698.44  1698.25   12.54   \n",
       "4   801010    20140408  农林牧渔  1693.24  1692.22  1706.84  1706.84    8.59   \n",
       "\n",
       "   pct_change      vol    amount     pe    pb  y  \n",
       "0        1.33  34914.0  291113.0  41.51  2.77  1  \n",
       "1        0.19  36300.0  289020.0  41.63  2.79  1  \n",
       "2       -0.39  31403.0  259464.0  41.38  2.78  0  \n",
       "3        0.74  28648.0  240940.0  41.76  2.80  1  \n",
       "4        0.51  35012.0  312423.0  42.00  2.79  1  "
      ]
     },
     "execution_count": 3,
     "metadata": {},
     "output_type": "execute_result"
    }
   ],
   "source": [
    "stock.head()"
   ]
  },
  {
   "cell_type": "code",
   "execution_count": 20,
   "metadata": {
    "ExecuteTime": {
     "end_time": "2019-05-14T06:33:12.098658Z",
     "start_time": "2019-05-14T06:33:12.074399Z"
    }
   },
   "outputs": [],
   "source": [
    "target_df = (stock.loc[(stock['y'] == 1)]).groupby(['trade_date', 'ts_code'])[\n",
    "    'y'].count().unstack().fillna(0).astype(int)"
   ]
  },
  {
   "cell_type": "code",
   "execution_count": 22,
   "metadata": {
    "ExecuteTime": {
     "end_time": "2019-05-14T06:33:24.612642Z",
     "start_time": "2019-05-14T06:33:24.604062Z"
    }
   },
   "outputs": [
    {
     "name": "stdout",
     "output_type": "stream",
     "text": [
      "(1064, 34)\n"
     ]
    },
    {
     "data": {
      "text/plain": [
       "array([[1, 1, 1, ..., 1, 1, 1],\n",
       "       [1, 1, 0, ..., 1, 0, 0],\n",
       "       [0, 0, 1, ..., 0, 0, 1],\n",
       "       ...,\n",
       "       [0, 0, 0, ..., 0, 0, 0],\n",
       "       [1, 1, 1, ..., 1, 1, 1],\n",
       "       [1, 1, 1, ..., 1, 1, 1]])"
      ]
     },
     "execution_count": 22,
     "metadata": {},
     "output_type": "execute_result"
    }
   ],
   "source": [
    "print(target_df.shape)\n",
    "target = target_df.values\n",
    "target"
   ]
  },
  {
   "cell_type": "markdown",
   "metadata": {},
   "source": [
    "# Prepare text"
   ]
  },
  {
   "cell_type": "code",
   "execution_count": 6,
   "metadata": {
    "ExecuteTime": {
     "end_time": "2019-05-14T02:27:57.471434Z",
     "start_time": "2019-05-14T02:27:57.415875Z"
    }
   },
   "outputs": [
    {
     "data": {
      "text/html": [
       "<div>\n",
       "<style scoped>\n",
       "    .dataframe tbody tr th:only-of-type {\n",
       "        vertical-align: middle;\n",
       "    }\n",
       "\n",
       "    .dataframe tbody tr th {\n",
       "        vertical-align: top;\n",
       "    }\n",
       "\n",
       "    .dataframe thead th {\n",
       "        text-align: right;\n",
       "    }\n",
       "</style>\n",
       "<table border=\"1\" class=\"dataframe\">\n",
       "  <thead>\n",
       "    <tr style=\"text-align: right;\">\n",
       "      <th></th>\n",
       "      <th>id</th>\n",
       "      <th>date</th>\n",
       "      <th>title</th>\n",
       "      <th>content</th>\n",
       "    </tr>\n",
       "  </thead>\n",
       "  <tbody>\n",
       "    <tr>\n",
       "      <th>0</th>\n",
       "      <td>20140414_00</td>\n",
       "      <td>20140414</td>\n",
       "      <td>习近平在空军机关调研时强调 加快建设一支空天一体攻防兼备的强大人民空军 为实现中国梦强军梦提...</td>\n",
       "      <td>中共中央总书记、国家主席、中央军委主席习近平14日专程到空军机关就空军建设和军事斗争准备进行...</td>\n",
       "    </tr>\n",
       "    <tr>\n",
       "      <th>1</th>\n",
       "      <td>20140414_01</td>\n",
       "      <td>20140414</td>\n",
       "      <td>利比亚临时政府总理辞职</td>\n",
       "      <td>本月8号刚刚被正式任命为利比亚临时政府总理的阿卜杜拉·萨尼13号发表声明说，12号晚他和家人...</td>\n",
       "    </tr>\n",
       "    <tr>\n",
       "      <th>2</th>\n",
       "      <td>20140414_02</td>\n",
       "      <td>20140414</td>\n",
       "      <td>关注乌克兰局势</td>\n",
       "      <td>代行乌克兰总统职责的乌克兰议长图尔奇诺夫13号发表讲话，要求占领东部地方政府建筑的抗议者，在...</td>\n",
       "    </tr>\n",
       "    <tr>\n",
       "      <th>3</th>\n",
       "      <td>20140414_03</td>\n",
       "      <td>20140414</td>\n",
       "      <td>国内联播快讯</td>\n",
       "      <td>低碳中国行活动正式启动由国家发展改革委等部门共同发起的低碳中国行活动今天正式启动，活动以引导...</td>\n",
       "    </tr>\n",
       "    <tr>\n",
       "      <th>4</th>\n",
       "      <td>20140414_04</td>\n",
       "      <td>20140414</td>\n",
       "      <td>刘汉等36人涉黑案继续开庭审理</td>\n",
       "      <td>刘汉、刘维等36人涉嫌犯组织、领导、参加黑社会性质组织罪以及故意杀人罪、包庇、纵容黑社会性质...</td>\n",
       "    </tr>\n",
       "  </tbody>\n",
       "</table>\n",
       "</div>"
      ],
      "text/plain": [
       "            id      date                                              title  \\\n",
       "0  20140414_00  20140414  习近平在空军机关调研时强调 加快建设一支空天一体攻防兼备的强大人民空军 为实现中国梦强军梦提...   \n",
       "1  20140414_01  20140414                                        利比亚临时政府总理辞职   \n",
       "2  20140414_02  20140414                                            关注乌克兰局势   \n",
       "3  20140414_03  20140414                                             国内联播快讯   \n",
       "4  20140414_04  20140414                                    刘汉等36人涉黑案继续开庭审理   \n",
       "\n",
       "                                             content  \n",
       "0  中共中央总书记、国家主席、中央军委主席习近平14日专程到空军机关就空军建设和军事斗争准备进行...  \n",
       "1  本月8号刚刚被正式任命为利比亚临时政府总理的阿卜杜拉·萨尼13号发表声明说，12号晚他和家人...  \n",
       "2  代行乌克兰总统职责的乌克兰议长图尔奇诺夫13号发表讲话，要求占领东部地方政府建筑的抗议者，在...  \n",
       "3  低碳中国行活动正式启动由国家发展改革委等部门共同发起的低碳中国行活动今天正式启动，活动以引导...  \n",
       "4  刘汉、刘维等36人涉嫌犯组织、领导、参加黑社会性质组织罪以及故意杀人罪、包庇、纵容黑社会性质...  "
      ]
     },
     "execution_count": 6,
     "metadata": {},
     "output_type": "execute_result"
    }
   ],
   "source": [
    "text.head()"
   ]
  },
  {
   "cell_type": "markdown",
   "metadata": {},
   "source": [
    "## Word segment"
   ]
  },
  {
   "cell_type": "code",
   "execution_count": 53,
   "metadata": {
    "ExecuteTime": {
     "end_time": "2019-05-14T07:07:34.290176Z",
     "start_time": "2019-05-14T07:07:34.273142Z"
    }
   },
   "outputs": [
    {
     "data": {
      "text/html": [
       "<div>\n",
       "<style scoped>\n",
       "    .dataframe tbody tr th:only-of-type {\n",
       "        vertical-align: middle;\n",
       "    }\n",
       "\n",
       "    .dataframe tbody tr th {\n",
       "        vertical-align: top;\n",
       "    }\n",
       "\n",
       "    .dataframe thead th {\n",
       "        text-align: right;\n",
       "    }\n",
       "</style>\n",
       "<table border=\"1\" class=\"dataframe\">\n",
       "  <thead>\n",
       "    <tr style=\"text-align: right;\">\n",
       "      <th></th>\n",
       "      <th>date</th>\n",
       "      <th>title</th>\n",
       "      <th>content</th>\n",
       "    </tr>\n",
       "  </thead>\n",
       "  <tbody>\n",
       "    <tr>\n",
       "      <th>0</th>\n",
       "      <td>20140414</td>\n",
       "      <td>习近平在空军机关调研时强调 加快建设一支空天一体攻防兼备的强大人民空军 为实现中国梦强军梦提...</td>\n",
       "      <td>中共中央总书记、国家主席、中央军委主席习近平14日专程到空军机关就空军建设和军事斗争准备进行...</td>\n",
       "    </tr>\n",
       "    <tr>\n",
       "      <th>1</th>\n",
       "      <td>20140414</td>\n",
       "      <td>利比亚临时政府总理辞职</td>\n",
       "      <td>本月8号刚刚被正式任命为利比亚临时政府总理的阿卜杜拉·萨尼13号发表声明说，12号晚他和家人...</td>\n",
       "    </tr>\n",
       "    <tr>\n",
       "      <th>2</th>\n",
       "      <td>20140414</td>\n",
       "      <td>关注乌克兰局势</td>\n",
       "      <td>代行乌克兰总统职责的乌克兰议长图尔奇诺夫13号发表讲话，要求占领东部地方政府建筑的抗议者，在...</td>\n",
       "    </tr>\n",
       "    <tr>\n",
       "      <th>3</th>\n",
       "      <td>20140414</td>\n",
       "      <td>国内联播快讯</td>\n",
       "      <td>低碳中国行活动正式启动由国家发展改革委等部门共同发起的低碳中国行活动今天正式启动，活动以引导...</td>\n",
       "    </tr>\n",
       "    <tr>\n",
       "      <th>4</th>\n",
       "      <td>20140414</td>\n",
       "      <td>刘汉等36人涉黑案继续开庭审理</td>\n",
       "      <td>刘汉、刘维等36人涉嫌犯组织、领导、参加黑社会性质组织罪以及故意杀人罪、包庇、纵容黑社会性质...</td>\n",
       "    </tr>\n",
       "  </tbody>\n",
       "</table>\n",
       "</div>"
      ],
      "text/plain": [
       "       date                                              title  \\\n",
       "0  20140414  习近平在空军机关调研时强调 加快建设一支空天一体攻防兼备的强大人民空军 为实现中国梦强军梦提...   \n",
       "1  20140414                                        利比亚临时政府总理辞职   \n",
       "2  20140414                                            关注乌克兰局势   \n",
       "3  20140414                                             国内联播快讯   \n",
       "4  20140414                                    刘汉等36人涉黑案继续开庭审理   \n",
       "\n",
       "                                             content  \n",
       "0  中共中央总书记、国家主席、中央军委主席习近平14日专程到空军机关就空军建设和军事斗争准备进行...  \n",
       "1  本月8号刚刚被正式任命为利比亚临时政府总理的阿卜杜拉·萨尼13号发表声明说，12号晚他和家人...  \n",
       "2  代行乌克兰总统职责的乌克兰议长图尔奇诺夫13号发表讲话，要求占领东部地方政府建筑的抗议者，在...  \n",
       "3  低碳中国行活动正式启动由国家发展改革委等部门共同发起的低碳中国行活动今天正式启动，活动以引导...  \n",
       "4  刘汉、刘维等36人涉嫌犯组织、领导、参加黑社会性质组织罪以及故意杀人罪、包庇、纵容黑社会性质...  "
      ]
     },
     "execution_count": 53,
     "metadata": {},
     "output_type": "execute_result"
    }
   ],
   "source": [
    "text_data = text[['date', 'title', 'content']]\n",
    "text_data.head()"
   ]
  },
  {
   "cell_type": "code",
   "execution_count": null,
   "metadata": {
    "ExecuteTime": {
     "start_time": "2019-05-14T07:09:42.180Z"
    }
   },
   "outputs": [],
   "source": [
    "def seg_func(x):\n",
    "    return ' '.join(list(filter(lambda w: w not in stopwords,jieba.cut(x, cut_all=False))))"
   ]
  },
  {
   "cell_type": "code",
   "execution_count": null,
   "metadata": {
    "ExecuteTime": {
     "start_time": "2019-05-14T07:08:59.392Z"
    }
   },
   "outputs": [],
   "source": [
    "text_data['title'] = (text_data['title'].astype(str)).apply(seg_func)\n",
    "text_data['content'] = (text_data['content'].astype(str)).apply(seg_func)"
   ]
  },
  {
   "cell_type": "markdown",
   "metadata": {},
   "source": [
    "## Merge news title from the same date"
   ]
  },
  {
   "cell_type": "code",
   "execution_count": 7,
   "metadata": {
    "ExecuteTime": {
     "end_time": "2019-05-14T02:27:58.036114Z",
     "start_time": "2019-05-14T02:27:57.475746Z"
    }
   },
   "outputs": [
    {
     "data": {
      "text/html": [
       "<div>\n",
       "<style scoped>\n",
       "    .dataframe tbody tr th:only-of-type {\n",
       "        vertical-align: middle;\n",
       "    }\n",
       "\n",
       "    .dataframe tbody tr th {\n",
       "        vertical-align: top;\n",
       "    }\n",
       "\n",
       "    .dataframe thead th {\n",
       "        text-align: right;\n",
       "    }\n",
       "</style>\n",
       "<table border=\"1\" class=\"dataframe\">\n",
       "  <thead>\n",
       "    <tr style=\"text-align: right;\">\n",
       "      <th></th>\n",
       "      <th>date</th>\n",
       "      <th>title</th>\n",
       "    </tr>\n",
       "  </thead>\n",
       "  <tbody>\n",
       "    <tr>\n",
       "      <th>0</th>\n",
       "      <td>20140414</td>\n",
       "      <td>习近平在空军机关调研时强调 加快建设一支空天一体攻防兼备的强大人民空军 为实现中国梦强军梦提...</td>\n",
       "    </tr>\n",
       "    <tr>\n",
       "      <th>1</th>\n",
       "      <td>20140415</td>\n",
       "      <td>医生贾永青：传递爱和感动;国际联播快讯;搜寻MH370航班：“蓝鳍金枪鱼”首次下水暂无发现;...</td>\n",
       "    </tr>\n",
       "    <tr>\n",
       "      <th>2</th>\n",
       "      <td>20140416</td>\n",
       "      <td>国际联播快讯;关注乌克兰局势：乌军队在东部地区开展强力行动;载有四百多人的韩国客轮进水下沉：...</td>\n",
       "    </tr>\n",
       "    <tr>\n",
       "      <th>3</th>\n",
       "      <td>20140417</td>\n",
       "      <td>【凡人善举】广西：市民见义勇为 巧施妙计擒劫匪;国际联播快讯;关注乌克兰局势;国内联播快讯;...</td>\n",
       "    </tr>\n",
       "    <tr>\n",
       "      <th>4</th>\n",
       "      <td>20140418</td>\n",
       "      <td>国际联播快讯;俄罗斯总统与俄民众“直接对话” 普京：乌境内绝无俄罗斯军队;关注乌克兰局势：四...</td>\n",
       "    </tr>\n",
       "  </tbody>\n",
       "</table>\n",
       "</div>"
      ],
      "text/plain": [
       "       date                                              title\n",
       "0  20140414  习近平在空军机关调研时强调 加快建设一支空天一体攻防兼备的强大人民空军 为实现中国梦强军梦提...\n",
       "1  20140415  医生贾永青：传递爱和感动;国际联播快讯;搜寻MH370航班：“蓝鳍金枪鱼”首次下水暂无发现;...\n",
       "2  20140416  国际联播快讯;关注乌克兰局势：乌军队在东部地区开展强力行动;载有四百多人的韩国客轮进水下沉：...\n",
       "3  20140417  【凡人善举】广西：市民见义勇为 巧施妙计擒劫匪;国际联播快讯;关注乌克兰局势;国内联播快讯;...\n",
       "4  20140418  国际联播快讯;俄罗斯总统与俄民众“直接对话” 普京：乌境内绝无俄罗斯军队;关注乌克兰局势：四..."
      ]
     },
     "execution_count": 7,
     "metadata": {},
     "output_type": "execute_result"
    }
   ],
   "source": [
    "join_title = text[['date', 'title']]\n",
    "join_title['title'] = join_title['title'].astype(str)\n",
    "join_title = join_title.groupby(\n",
    "    ['date'])['title'].apply(';'.join).reset_index()\n",
    "join_title.head()"
   ]
  },
  {
   "cell_type": "markdown",
   "metadata": {},
   "source": [
    "## Merge news content from the same date"
   ]
  },
  {
   "cell_type": "code",
   "execution_count": 8,
   "metadata": {
    "ExecuteTime": {
     "end_time": "2019-05-14T02:27:58.461267Z",
     "start_time": "2019-05-14T02:27:58.039579Z"
    }
   },
   "outputs": [
    {
     "data": {
      "text/html": [
       "<div>\n",
       "<style scoped>\n",
       "    .dataframe tbody tr th:only-of-type {\n",
       "        vertical-align: middle;\n",
       "    }\n",
       "\n",
       "    .dataframe tbody tr th {\n",
       "        vertical-align: top;\n",
       "    }\n",
       "\n",
       "    .dataframe thead th {\n",
       "        text-align: right;\n",
       "    }\n",
       "</style>\n",
       "<table border=\"1\" class=\"dataframe\">\n",
       "  <thead>\n",
       "    <tr style=\"text-align: right;\">\n",
       "      <th></th>\n",
       "      <th>date</th>\n",
       "      <th>content</th>\n",
       "    </tr>\n",
       "  </thead>\n",
       "  <tbody>\n",
       "    <tr>\n",
       "      <th>0</th>\n",
       "      <td>20140414</td>\n",
       "      <td>中共中央总书记、国家主席、中央军委主席习近平14日专程到空军机关就空军建设和军事斗争准备进行...</td>\n",
       "    </tr>\n",
       "    <tr>\n",
       "      <th>1</th>\n",
       "      <td>20140415</td>\n",
       "      <td>这几天我台走基层节目连续报道了河北定州人民医院32岁女医生贾永青身患癌症却隐瞒病情、仍然带病...</td>\n",
       "    </tr>\n",
       "    <tr>\n",
       "      <th>2</th>\n",
       "      <td>20140416</td>\n",
       "      <td>约旦驻利比亚大使遭绑架利比亚外交部15号证实，约旦驻利比亚大使法瓦兹·埃坦当天上午在利比亚首...</td>\n",
       "    </tr>\n",
       "    <tr>\n",
       "      <th>3</th>\n",
       "      <td>20140417</td>\n",
       "      <td>前两天，在广西北海，一位市民在目睹了一起抢夺案后，没有选择离开，而是机智地与民警一起将歹徒抓...</td>\n",
       "    </tr>\n",
       "    <tr>\n",
       "      <th>4</th>\n",
       "      <td>20140418</td>\n",
       "      <td>伊朗举行建军节阅兵式18号，伊朗在首都德黑兰南郊的霍梅尼陵举行一年一度的建军节阅兵式。伊朗总...</td>\n",
       "    </tr>\n",
       "  </tbody>\n",
       "</table>\n",
       "</div>"
      ],
      "text/plain": [
       "       date                                            content\n",
       "0  20140414  中共中央总书记、国家主席、中央军委主席习近平14日专程到空军机关就空军建设和军事斗争准备进行...\n",
       "1  20140415  这几天我台走基层节目连续报道了河北定州人民医院32岁女医生贾永青身患癌症却隐瞒病情、仍然带病...\n",
       "2  20140416  约旦驻利比亚大使遭绑架利比亚外交部15号证实，约旦驻利比亚大使法瓦兹·埃坦当天上午在利比亚首...\n",
       "3  20140417  前两天，在广西北海，一位市民在目睹了一起抢夺案后，没有选择离开，而是机智地与民警一起将歹徒抓...\n",
       "4  20140418  伊朗举行建军节阅兵式18号，伊朗在首都德黑兰南郊的霍梅尼陵举行一年一度的建军节阅兵式。伊朗总..."
      ]
     },
     "execution_count": 8,
     "metadata": {},
     "output_type": "execute_result"
    }
   ],
   "source": [
    "join_content = text[['date', 'content']]\n",
    "join_content['content'] = join_content['content'].astype(str)\n",
    "join_content = join_content.groupby(\n",
    "    ['date'])['content'].apply(';'.join).reset_index()\n",
    "join_content.head()"
   ]
  },
  {
   "cell_type": "markdown",
   "metadata": {},
   "source": [
    "## Contact title and content"
   ]
  },
  {
   "cell_type": "code",
   "execution_count": 9,
   "metadata": {
    "ExecuteTime": {
     "end_time": "2019-05-14T02:27:58.494476Z",
     "start_time": "2019-05-14T02:27:58.465329Z"
    }
   },
   "outputs": [
    {
     "data": {
      "text/html": [
       "<div>\n",
       "<style scoped>\n",
       "    .dataframe tbody tr th:only-of-type {\n",
       "        vertical-align: middle;\n",
       "    }\n",
       "\n",
       "    .dataframe tbody tr th {\n",
       "        vertical-align: top;\n",
       "    }\n",
       "\n",
       "    .dataframe thead th {\n",
       "        text-align: right;\n",
       "    }\n",
       "</style>\n",
       "<table border=\"1\" class=\"dataframe\">\n",
       "  <thead>\n",
       "    <tr style=\"text-align: right;\">\n",
       "      <th></th>\n",
       "      <th>date</th>\n",
       "      <th>title</th>\n",
       "      <th>content</th>\n",
       "    </tr>\n",
       "  </thead>\n",
       "  <tbody>\n",
       "    <tr>\n",
       "      <th>0</th>\n",
       "      <td>20140414</td>\n",
       "      <td>习近平在空军机关调研时强调 加快建设一支空天一体攻防兼备的强大人民空军 为实现中国梦强军梦提...</td>\n",
       "      <td>中共中央总书记、国家主席、中央军委主席习近平14日专程到空军机关就空军建设和军事斗争准备进行...</td>\n",
       "    </tr>\n",
       "    <tr>\n",
       "      <th>1</th>\n",
       "      <td>20140415</td>\n",
       "      <td>医生贾永青：传递爱和感动;国际联播快讯;搜寻MH370航班：“蓝鳍金枪鱼”首次下水暂无发现;...</td>\n",
       "      <td>这几天我台走基层节目连续报道了河北定州人民医院32岁女医生贾永青身患癌症却隐瞒病情、仍然带病...</td>\n",
       "    </tr>\n",
       "    <tr>\n",
       "      <th>2</th>\n",
       "      <td>20140416</td>\n",
       "      <td>国际联播快讯;关注乌克兰局势：乌军队在东部地区开展强力行动;载有四百多人的韩国客轮进水下沉：...</td>\n",
       "      <td>约旦驻利比亚大使遭绑架利比亚外交部15号证实，约旦驻利比亚大使法瓦兹·埃坦当天上午在利比亚首...</td>\n",
       "    </tr>\n",
       "    <tr>\n",
       "      <th>3</th>\n",
       "      <td>20140417</td>\n",
       "      <td>【凡人善举】广西：市民见义勇为 巧施妙计擒劫匪;国际联播快讯;关注乌克兰局势;国内联播快讯;...</td>\n",
       "      <td>前两天，在广西北海，一位市民在目睹了一起抢夺案后，没有选择离开，而是机智地与民警一起将歹徒抓...</td>\n",
       "    </tr>\n",
       "    <tr>\n",
       "      <th>4</th>\n",
       "      <td>20140418</td>\n",
       "      <td>国际联播快讯;俄罗斯总统与俄民众“直接对话” 普京：乌境内绝无俄罗斯军队;关注乌克兰局势：四...</td>\n",
       "      <td>伊朗举行建军节阅兵式18号，伊朗在首都德黑兰南郊的霍梅尼陵举行一年一度的建军节阅兵式。伊朗总...</td>\n",
       "    </tr>\n",
       "  </tbody>\n",
       "</table>\n",
       "</div>"
      ],
      "text/plain": [
       "       date                                              title  \\\n",
       "0  20140414  习近平在空军机关调研时强调 加快建设一支空天一体攻防兼备的强大人民空军 为实现中国梦强军梦提...   \n",
       "1  20140415  医生贾永青：传递爱和感动;国际联播快讯;搜寻MH370航班：“蓝鳍金枪鱼”首次下水暂无发现;...   \n",
       "2  20140416  国际联播快讯;关注乌克兰局势：乌军队在东部地区开展强力行动;载有四百多人的韩国客轮进水下沉：...   \n",
       "3  20140417  【凡人善举】广西：市民见义勇为 巧施妙计擒劫匪;国际联播快讯;关注乌克兰局势;国内联播快讯;...   \n",
       "4  20140418  国际联播快讯;俄罗斯总统与俄民众“直接对话” 普京：乌境内绝无俄罗斯军队;关注乌克兰局势：四...   \n",
       "\n",
       "                                             content  \n",
       "0  中共中央总书记、国家主席、中央军委主席习近平14日专程到空军机关就空军建设和军事斗争准备进行...  \n",
       "1  这几天我台走基层节目连续报道了河北定州人民医院32岁女医生贾永青身患癌症却隐瞒病情、仍然带病...  \n",
       "2  约旦驻利比亚大使遭绑架利比亚外交部15号证实，约旦驻利比亚大使法瓦兹·埃坦当天上午在利比亚首...  \n",
       "3  前两天，在广西北海，一位市民在目睹了一起抢夺案后，没有选择离开，而是机智地与民警一起将歹徒抓...  \n",
       "4  伊朗举行建军节阅兵式18号，伊朗在首都德黑兰南郊的霍梅尼陵举行一年一度的建军节阅兵式。伊朗总...  "
      ]
     },
     "execution_count": 9,
     "metadata": {},
     "output_type": "execute_result"
    }
   ],
   "source": [
    "joined_text = join_title.merge(join_content, on='date')\n",
    "joined_text.head()"
   ]
  },
  {
   "cell_type": "markdown",
   "metadata": {},
   "source": [
    "## Rolling text"
   ]
  },
  {
   "cell_type": "code",
   "execution_count": 14,
   "metadata": {
    "ExecuteTime": {
     "end_time": "2019-05-14T05:11:41.920999Z",
     "start_time": "2019-05-14T05:11:41.912787Z"
    }
   },
   "outputs": [],
   "source": [
    "def func1(x):\n",
    "    print(x)\n",
    "    x = list(x)\n",
    "    x.reverse()\n",
    "    return ';'.join(x)"
   ]
  },
  {
   "cell_type": "code",
   "execution_count": 16,
   "metadata": {
    "ExecuteTime": {
     "end_time": "2019-05-14T05:11:55.098626Z",
     "start_time": "2019-05-14T05:11:55.052060Z"
    }
   },
   "outputs": [
    {
     "ename": "TypeError",
     "evalue": "cannot handle this type -> object",
     "output_type": "error",
     "traceback": [
      "\u001b[0;31m---------------------------------------------------------------------------\u001b[0m",
      "\u001b[0;31mValueError\u001b[0m                                Traceback (most recent call last)",
      "\u001b[0;32m~/anaconda3/lib/python3.6/site-packages/pandas/core/window.py\u001b[0m in \u001b[0;36m_prep_values\u001b[0;34m(self, values, kill_inf)\u001b[0m\n\u001b[1;32m    210\u001b[0m             \u001b[0;32mtry\u001b[0m\u001b[0;34m:\u001b[0m\u001b[0;34m\u001b[0m\u001b[0;34m\u001b[0m\u001b[0m\n\u001b[0;32m--> 211\u001b[0;31m                 \u001b[0mvalues\u001b[0m \u001b[0;34m=\u001b[0m \u001b[0mensure_float64\u001b[0m\u001b[0;34m(\u001b[0m\u001b[0mvalues\u001b[0m\u001b[0;34m)\u001b[0m\u001b[0;34m\u001b[0m\u001b[0;34m\u001b[0m\u001b[0m\n\u001b[0m\u001b[1;32m    212\u001b[0m             \u001b[0;32mexcept\u001b[0m \u001b[0;34m(\u001b[0m\u001b[0mValueError\u001b[0m\u001b[0;34m,\u001b[0m \u001b[0mTypeError\u001b[0m\u001b[0;34m)\u001b[0m\u001b[0;34m:\u001b[0m\u001b[0;34m\u001b[0m\u001b[0;34m\u001b[0m\u001b[0m\n",
      "\u001b[0;32mpandas/_libs/algos_common_helper.pxi\u001b[0m in \u001b[0;36mpandas._libs.algos.ensure_float64\u001b[0;34m()\u001b[0m\n",
      "\u001b[0;31mValueError\u001b[0m: could not convert string to float: '中国轮胎企业在欧洲建首家工厂;国际联播快讯;第六批在韩中国人民志愿军烈士遗骸装殓仪式举行;阿盟峰会聚焦戈兰高地问题;国内联播快讯;四川凉山木里县发生森林火灾;国新办：我国对芬太尼类物质实施整类列管;我国成功发射“天链二号01星”;深化增值税改革系列措施今起实施;王岐山会见蒙古国外长;汪洋会见澳区省级政协委员联谊会访京团;汪洋在脱贫攻坚民主监督工作座谈会上强调 聚焦脱贫攻坚突出问题 不断提高民主监督工作实效;李克强同新西兰总理举行会谈;李克强举行仪式欢迎新西兰总理访华;习近平向2019“中国—太平洋岛国旅游年”开幕式致贺词;习近平会见“元老会”代表团;习近平会见新西兰总理'",
      "\nDuring handling of the above exception, another exception occurred:\n",
      "\u001b[0;31mTypeError\u001b[0m                                 Traceback (most recent call last)",
      "\u001b[0;32m<ipython-input-16-c13bfe78f61b>\u001b[0m in \u001b[0;36m<module>\u001b[0;34m\u001b[0m\n\u001b[0;32m----> 1\u001b[0;31m \u001b[0mjoined_text\u001b[0m\u001b[0;34m[\u001b[0m\u001b[0;34m'title'\u001b[0m\u001b[0;34m]\u001b[0m\u001b[0;34m.\u001b[0m\u001b[0mrolling\u001b[0m\u001b[0;34m(\u001b[0m\u001b[0mwindow\u001b[0m\u001b[0;34m=\u001b[0m\u001b[0;36m5\u001b[0m\u001b[0;34m)\u001b[0m\u001b[0;34m.\u001b[0m\u001b[0mapply\u001b[0m\u001b[0;34m(\u001b[0m\u001b[0mfunc1\u001b[0m\u001b[0;34m)\u001b[0m\u001b[0;34m\u001b[0m\u001b[0;34m\u001b[0m\u001b[0m\n\u001b[0m",
      "\u001b[0;32m~/anaconda3/lib/python3.6/site-packages/pandas/core/window.py\u001b[0m in \u001b[0;36mapply\u001b[0;34m(self, func, raw, args, kwargs)\u001b[0m\n\u001b[1;32m   1701\u001b[0m     \u001b[0;32mdef\u001b[0m \u001b[0mapply\u001b[0m\u001b[0;34m(\u001b[0m\u001b[0mself\u001b[0m\u001b[0;34m,\u001b[0m \u001b[0mfunc\u001b[0m\u001b[0;34m,\u001b[0m \u001b[0mraw\u001b[0m\u001b[0;34m=\u001b[0m\u001b[0;32mNone\u001b[0m\u001b[0;34m,\u001b[0m \u001b[0margs\u001b[0m\u001b[0;34m=\u001b[0m\u001b[0;34m(\u001b[0m\u001b[0;34m)\u001b[0m\u001b[0;34m,\u001b[0m \u001b[0mkwargs\u001b[0m\u001b[0;34m=\u001b[0m\u001b[0;34m{\u001b[0m\u001b[0;34m}\u001b[0m\u001b[0;34m)\u001b[0m\u001b[0;34m:\u001b[0m\u001b[0;34m\u001b[0m\u001b[0;34m\u001b[0m\u001b[0m\n\u001b[1;32m   1702\u001b[0m         return super(Rolling, self).apply(\n\u001b[0;32m-> 1703\u001b[0;31m             func, raw=raw, args=args, kwargs=kwargs)\n\u001b[0m\u001b[1;32m   1704\u001b[0m \u001b[0;34m\u001b[0m\u001b[0m\n\u001b[1;32m   1705\u001b[0m     \u001b[0;34m@\u001b[0m\u001b[0mSubstitution\u001b[0m\u001b[0;34m(\u001b[0m\u001b[0mname\u001b[0m\u001b[0;34m=\u001b[0m\u001b[0;34m'rolling'\u001b[0m\u001b[0;34m)\u001b[0m\u001b[0;34m\u001b[0m\u001b[0;34m\u001b[0m\u001b[0m\n",
      "\u001b[0;32m~/anaconda3/lib/python3.6/site-packages/pandas/core/window.py\u001b[0m in \u001b[0;36mapply\u001b[0;34m(self, func, raw, args, kwargs)\u001b[0m\n\u001b[1;32m   1010\u001b[0m \u001b[0;34m\u001b[0m\u001b[0m\n\u001b[1;32m   1011\u001b[0m         return self._apply(f, func, args=args, kwargs=kwargs,\n\u001b[0;32m-> 1012\u001b[0;31m                            center=False, raw=raw)\n\u001b[0m\u001b[1;32m   1013\u001b[0m \u001b[0;34m\u001b[0m\u001b[0m\n\u001b[1;32m   1014\u001b[0m     \u001b[0;32mdef\u001b[0m \u001b[0msum\u001b[0m\u001b[0;34m(\u001b[0m\u001b[0mself\u001b[0m\u001b[0;34m,\u001b[0m \u001b[0;34m*\u001b[0m\u001b[0margs\u001b[0m\u001b[0;34m,\u001b[0m \u001b[0;34m**\u001b[0m\u001b[0mkwargs\u001b[0m\u001b[0;34m)\u001b[0m\u001b[0;34m:\u001b[0m\u001b[0;34m\u001b[0m\u001b[0;34m\u001b[0m\u001b[0m\n",
      "\u001b[0;32m~/anaconda3/lib/python3.6/site-packages/pandas/core/window.py\u001b[0m in \u001b[0;36m_apply\u001b[0;34m(self, func, name, window, center, check_minp, **kwargs)\u001b[0m\n\u001b[1;32m    839\u001b[0m         \u001b[0mresults\u001b[0m \u001b[0;34m=\u001b[0m \u001b[0;34m[\u001b[0m\u001b[0;34m]\u001b[0m\u001b[0;34m\u001b[0m\u001b[0;34m\u001b[0m\u001b[0m\n\u001b[1;32m    840\u001b[0m         \u001b[0;32mfor\u001b[0m \u001b[0mb\u001b[0m \u001b[0;32min\u001b[0m \u001b[0mblocks\u001b[0m\u001b[0;34m:\u001b[0m\u001b[0;34m\u001b[0m\u001b[0;34m\u001b[0m\u001b[0m\n\u001b[0;32m--> 841\u001b[0;31m             \u001b[0mvalues\u001b[0m \u001b[0;34m=\u001b[0m \u001b[0mself\u001b[0m\u001b[0;34m.\u001b[0m\u001b[0m_prep_values\u001b[0m\u001b[0;34m(\u001b[0m\u001b[0mb\u001b[0m\u001b[0;34m.\u001b[0m\u001b[0mvalues\u001b[0m\u001b[0;34m)\u001b[0m\u001b[0;34m\u001b[0m\u001b[0;34m\u001b[0m\u001b[0m\n\u001b[0m\u001b[1;32m    842\u001b[0m \u001b[0;34m\u001b[0m\u001b[0m\n\u001b[1;32m    843\u001b[0m             \u001b[0;32mif\u001b[0m \u001b[0mvalues\u001b[0m\u001b[0;34m.\u001b[0m\u001b[0msize\u001b[0m \u001b[0;34m==\u001b[0m \u001b[0;36m0\u001b[0m\u001b[0;34m:\u001b[0m\u001b[0;34m\u001b[0m\u001b[0;34m\u001b[0m\u001b[0m\n",
      "\u001b[0;32m~/anaconda3/lib/python3.6/site-packages/pandas/core/window.py\u001b[0m in \u001b[0;36m_prep_values\u001b[0;34m(self, values, kill_inf)\u001b[0m\n\u001b[1;32m    212\u001b[0m             \u001b[0;32mexcept\u001b[0m \u001b[0;34m(\u001b[0m\u001b[0mValueError\u001b[0m\u001b[0;34m,\u001b[0m \u001b[0mTypeError\u001b[0m\u001b[0;34m)\u001b[0m\u001b[0;34m:\u001b[0m\u001b[0;34m\u001b[0m\u001b[0;34m\u001b[0m\u001b[0m\n\u001b[1;32m    213\u001b[0m                 raise TypeError(\"cannot handle this type -> {0}\"\n\u001b[0;32m--> 214\u001b[0;31m                                 \"\".format(values.dtype))\n\u001b[0m\u001b[1;32m    215\u001b[0m \u001b[0;34m\u001b[0m\u001b[0m\n\u001b[1;32m    216\u001b[0m         \u001b[0;32mif\u001b[0m \u001b[0mkill_inf\u001b[0m\u001b[0;34m:\u001b[0m\u001b[0;34m\u001b[0m\u001b[0;34m\u001b[0m\u001b[0m\n",
      "\u001b[0;31mTypeError\u001b[0m: cannot handle this type -> object"
     ]
    }
   ],
   "source": [
    "joined_text['title'].rolling(window=5).apply(func1)"
   ]
  },
  {
   "cell_type": "code",
   "execution_count": null,
   "metadata": {},
   "outputs": [],
   "source": []
  }
 ],
 "metadata": {
  "kernelspec": {
   "display_name": "Python 3",
   "language": "python",
   "name": "python3"
  },
  "language_info": {
   "codemirror_mode": {
    "name": "ipython",
    "version": 3
   },
   "file_extension": ".py",
   "mimetype": "text/x-python",
   "name": "python",
   "nbconvert_exporter": "python",
   "pygments_lexer": "ipython3",
   "version": "3.6.8"
  },
  "toc": {
   "base_numbering": 1,
   "nav_menu": {},
   "number_sections": true,
   "sideBar": true,
   "skip_h1_title": false,
   "title_cell": "Table of Contents",
   "title_sidebar": "Contents",
   "toc_cell": false,
   "toc_position": {
    "height": "calc(100% - 180px)",
    "left": "10px",
    "top": "150px",
    "width": "377px"
   },
   "toc_section_display": true,
   "toc_window_display": true
  },
  "varInspector": {
   "cols": {
    "lenName": 16,
    "lenType": 16,
    "lenVar": 40
   },
   "kernels_config": {
    "python": {
     "delete_cmd_postfix": "",
     "delete_cmd_prefix": "del ",
     "library": "var_list.py",
     "varRefreshCmd": "print(var_dic_list())"
    },
    "r": {
     "delete_cmd_postfix": ") ",
     "delete_cmd_prefix": "rm(",
     "library": "var_list.r",
     "varRefreshCmd": "cat(var_dic_list()) "
    }
   },
   "types_to_exclude": [
    "module",
    "function",
    "builtin_function_or_method",
    "instance",
    "_Feature"
   ],
   "window_display": false
  }
 },
 "nbformat": 4,
 "nbformat_minor": 2
}
