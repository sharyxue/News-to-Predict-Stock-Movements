{
 "cells": [
  {
   "cell_type": "code",
   "execution_count": 1,
   "metadata": {
    "ExecuteTime": {
     "end_time": "2019-05-13T06:11:37.055285Z",
     "start_time": "2019-05-13T06:11:35.073849Z"
    }
   },
   "outputs": [
    {
     "name": "stdout",
     "output_type": "stream",
     "text": [
      "Using matplotlib backend: MacOSX\n"
     ]
    }
   ],
   "source": [
    "from IPython.display import display\n",
    "import matplotlib.pyplot as plt\n",
    "import pandas as pd\n",
    "import numpy as np\n",
    "import seaborn as sns\n",
    "import matplotlib as mpl\n",
    "import warnings\n",
    "import time\n",
    "from collections import Counter\n",
    "warnings.filterwarnings(\"ignore\")\n",
    "%matplotlib"
   ]
  },
  {
   "cell_type": "code",
   "execution_count": 2,
   "metadata": {
    "ExecuteTime": {
     "end_time": "2019-05-13T06:11:37.437786Z",
     "start_time": "2019-05-13T06:11:37.356980Z"
    }
   },
   "outputs": [],
   "source": [
    "text = pd.read_csv(r'../../Data/TRAINSET_NEWS.csv')\n",
    "stock = pd.read_csv(r'../../Data/TRAINSET_STOCK.csv')"
   ]
  },
  {
   "cell_type": "markdown",
   "metadata": {},
   "source": [
    "# Get target vector"
   ]
  },
  {
   "cell_type": "code",
   "execution_count": 3,
   "metadata": {
    "ExecuteTime": {
     "end_time": "2019-05-13T06:11:37.520696Z",
     "start_time": "2019-05-13T06:11:37.490711Z"
    }
   },
   "outputs": [
    {
     "data": {
      "text/html": [
       "<div>\n",
       "<style scoped>\n",
       "    .dataframe tbody tr th:only-of-type {\n",
       "        vertical-align: middle;\n",
       "    }\n",
       "\n",
       "    .dataframe tbody tr th {\n",
       "        vertical-align: top;\n",
       "    }\n",
       "\n",
       "    .dataframe thead th {\n",
       "        text-align: right;\n",
       "    }\n",
       "</style>\n",
       "<table border=\"1\" class=\"dataframe\">\n",
       "  <thead>\n",
       "    <tr style=\"text-align: right;\">\n",
       "      <th></th>\n",
       "      <th>ts_code</th>\n",
       "      <th>trade_date</th>\n",
       "      <th>name</th>\n",
       "      <th>open</th>\n",
       "      <th>low</th>\n",
       "      <th>high</th>\n",
       "      <th>close</th>\n",
       "      <th>change</th>\n",
       "      <th>pct_change</th>\n",
       "      <th>vol</th>\n",
       "      <th>amount</th>\n",
       "      <th>pe</th>\n",
       "      <th>pb</th>\n",
       "      <th>y</th>\n",
       "    </tr>\n",
       "  </thead>\n",
       "  <tbody>\n",
       "    <tr>\n",
       "      <th>0</th>\n",
       "      <td>801010</td>\n",
       "      <td>20190402</td>\n",
       "      <td>农林牧渔</td>\n",
       "      <td>3605.26</td>\n",
       "      <td>3485.11</td>\n",
       "      <td>3605.26</td>\n",
       "      <td>3513.06</td>\n",
       "      <td>-41.36</td>\n",
       "      <td>-1.16</td>\n",
       "      <td>236389.0</td>\n",
       "      <td>2761598.0</td>\n",
       "      <td>39.92</td>\n",
       "      <td>3.78</td>\n",
       "      <td>0</td>\n",
       "    </tr>\n",
       "    <tr>\n",
       "      <th>1</th>\n",
       "      <td>801020</td>\n",
       "      <td>20190402</td>\n",
       "      <td>采掘</td>\n",
       "      <td>2935.97</td>\n",
       "      <td>2905.01</td>\n",
       "      <td>2941.36</td>\n",
       "      <td>2935.37</td>\n",
       "      <td>22.18</td>\n",
       "      <td>0.76</td>\n",
       "      <td>282181.0</td>\n",
       "      <td>1732160.0</td>\n",
       "      <td>15.25</td>\n",
       "      <td>1.34</td>\n",
       "      <td>1</td>\n",
       "    </tr>\n",
       "    <tr>\n",
       "      <th>2</th>\n",
       "      <td>801030</td>\n",
       "      <td>20190402</td>\n",
       "      <td>化工</td>\n",
       "      <td>2971.25</td>\n",
       "      <td>2961.67</td>\n",
       "      <td>3011.61</td>\n",
       "      <td>2996.91</td>\n",
       "      <td>55.41</td>\n",
       "      <td>1.88</td>\n",
       "      <td>762659.0</td>\n",
       "      <td>7911222.0</td>\n",
       "      <td>18.94</td>\n",
       "      <td>2.06</td>\n",
       "      <td>1</td>\n",
       "    </tr>\n",
       "    <tr>\n",
       "      <th>3</th>\n",
       "      <td>801040</td>\n",
       "      <td>20190402</td>\n",
       "      <td>钢铁</td>\n",
       "      <td>2743.16</td>\n",
       "      <td>2711.59</td>\n",
       "      <td>2743.16</td>\n",
       "      <td>2732.47</td>\n",
       "      <td>0.80</td>\n",
       "      <td>0.03</td>\n",
       "      <td>195360.0</td>\n",
       "      <td>1062437.0</td>\n",
       "      <td>7.85</td>\n",
       "      <td>1.23</td>\n",
       "      <td>1</td>\n",
       "    </tr>\n",
       "    <tr>\n",
       "      <th>4</th>\n",
       "      <td>801050</td>\n",
       "      <td>20190402</td>\n",
       "      <td>有色金属</td>\n",
       "      <td>3195.75</td>\n",
       "      <td>3152.60</td>\n",
       "      <td>3261.40</td>\n",
       "      <td>3234.95</td>\n",
       "      <td>63.39</td>\n",
       "      <td>2.00</td>\n",
       "      <td>582889.0</td>\n",
       "      <td>5159532.0</td>\n",
       "      <td>32.45</td>\n",
       "      <td>2.26</td>\n",
       "      <td>1</td>\n",
       "    </tr>\n",
       "  </tbody>\n",
       "</table>\n",
       "</div>"
      ],
      "text/plain": [
       "   ts_code  trade_date  name     open      low     high    close  change  \\\n",
       "0   801010    20190402  农林牧渔  3605.26  3485.11  3605.26  3513.06  -41.36   \n",
       "1   801020    20190402    采掘  2935.97  2905.01  2941.36  2935.37   22.18   \n",
       "2   801030    20190402    化工  2971.25  2961.67  3011.61  2996.91   55.41   \n",
       "3   801040    20190402    钢铁  2743.16  2711.59  2743.16  2732.47    0.80   \n",
       "4   801050    20190402  有色金属  3195.75  3152.60  3261.40  3234.95   63.39   \n",
       "\n",
       "   pct_change       vol     amount     pe    pb  y  \n",
       "0       -1.16  236389.0  2761598.0  39.92  3.78  0  \n",
       "1        0.76  282181.0  1732160.0  15.25  1.34  1  \n",
       "2        1.88  762659.0  7911222.0  18.94  2.06  1  \n",
       "3        0.03  195360.0  1062437.0   7.85  1.23  1  \n",
       "4        2.00  582889.0  5159532.0  32.45  2.26  1  "
      ]
     },
     "execution_count": 3,
     "metadata": {},
     "output_type": "execute_result"
    }
   ],
   "source": [
    "stock.head()"
   ]
  },
  {
   "cell_type": "code",
   "execution_count": 4,
   "metadata": {
    "ExecuteTime": {
     "end_time": "2019-05-13T06:11:37.579534Z",
     "start_time": "2019-05-13T06:11:37.573715Z"
    }
   },
   "outputs": [],
   "source": [
    "# stock.groupby(['trade_date'])['name','y'].count()\n",
    "# (stock[['trade_date','name','y']].sort_values(by=['trade_date'])).head(68)\n",
    "area_json={}\n",
    "i=0\n",
    "for a in stock['name'].unique():\n",
    "    area_json[a]=i\n",
    "    i+=1"
   ]
  },
  {
   "cell_type": "code",
   "execution_count": 5,
   "metadata": {
    "ExecuteTime": {
     "end_time": "2019-05-13T06:11:37.640160Z",
     "start_time": "2019-05-13T06:11:37.633845Z"
    }
   },
   "outputs": [],
   "source": [
    "import json\n",
    "with open(r'../../Data/Area.json', 'w') as f:\n",
    "    f.write(json.dumps(area_json, ensure_ascii=False))"
   ]
  },
  {
   "cell_type": "code",
   "execution_count": null,
   "metadata": {},
   "outputs": [],
   "source": []
  }
 ],
 "metadata": {
  "kernelspec": {
   "display_name": "Python 3",
   "language": "python",
   "name": "python3"
  },
  "language_info": {
   "codemirror_mode": {
    "name": "ipython",
    "version": 3
   },
   "file_extension": ".py",
   "mimetype": "text/x-python",
   "name": "python",
   "nbconvert_exporter": "python",
   "pygments_lexer": "ipython3",
   "version": "3.6.2"
  },
  "toc": {
   "base_numbering": 1,
   "nav_menu": {},
   "number_sections": true,
   "sideBar": true,
   "skip_h1_title": false,
   "title_cell": "Table of Contents",
   "title_sidebar": "Contents",
   "toc_cell": false,
   "toc_position": {},
   "toc_section_display": true,
   "toc_window_display": false
  },
  "varInspector": {
   "cols": {
    "lenName": 16,
    "lenType": 16,
    "lenVar": 40
   },
   "kernels_config": {
    "python": {
     "delete_cmd_postfix": "",
     "delete_cmd_prefix": "del ",
     "library": "var_list.py",
     "varRefreshCmd": "print(var_dic_list())"
    },
    "r": {
     "delete_cmd_postfix": ") ",
     "delete_cmd_prefix": "rm(",
     "library": "var_list.r",
     "varRefreshCmd": "cat(var_dic_list()) "
    }
   },
   "types_to_exclude": [
    "module",
    "function",
    "builtin_function_or_method",
    "instance",
    "_Feature"
   ],
   "window_display": false
  }
 },
 "nbformat": 4,
 "nbformat_minor": 2
}
