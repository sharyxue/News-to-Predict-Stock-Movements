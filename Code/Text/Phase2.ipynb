{
 "cells": [
  {
   "cell_type": "code",
   "execution_count": 1,
   "metadata": {
    "ExecuteTime": {
     "end_time": "2019-06-23T02:42:06.894494Z",
     "start_time": "2019-06-23T02:42:05.185356Z"
    }
   },
   "outputs": [],
   "source": [
    "import numpy as np\n",
    "import pandas as pd\n",
    "import tushare as ts\n",
    "\n",
    "from tqdm import tqdm\n",
    "import warnings\n",
    "import time\n",
    "\n",
    "import ast\n",
    "import jieba\n",
    "import datetime\n",
    "from gensim.models import word2vec\n",
    "from gensim.models import FastText\n",
    "from glove import Glove, Corpus\n",
    "\n",
    "pro = ts.pro_api('52119551ebc32c734a42fd61ccf33344fde3c6195b0aacec58d15140')\n",
    "STARTDATE = '20190101'\n",
    "ENDDATE = '20190622'"
   ]
  },
  {
   "cell_type": "markdown",
   "metadata": {},
   "source": [
    "# Import previous data"
   ]
  },
  {
   "cell_type": "code",
   "execution_count": 2,
   "metadata": {
    "ExecuteTime": {
     "end_time": "2019-06-23T02:42:09.118588Z",
     "start_time": "2019-06-23T02:42:09.105546Z"
    }
   },
   "outputs": [],
   "source": [
    "start = datetime.datetime(2014, 4, 1, 0, 0, 0)\n",
    "end = datetime.datetime(2019, 6, 22, 0, 0, 0)\n",
    "\n",
    "delta = end - start\n",
    "\n",
    "def get_new(news):\n",
    "    news_text = []\n",
    "    for i in tqdm(range(0, delta.days + 1, 2)):\n",
    "        startdate = (start + datetime.timedelta(days=i)).date()\n",
    "        enddate = (start + datetime.timedelta(days=i+1)).date()\n",
    "        df = pro.news(src=news, start_date=str(startdate), end_date=str(enddate))\n",
    "        news_text.append(df)\n",
    "        time.sleep(0.5)\n",
    "    return news_text"
   ]
  },
  {
   "cell_type": "code",
   "execution_count": 3,
   "metadata": {
    "ExecuteTime": {
     "end_time": "2019-06-23T02:58:15.438156Z",
     "start_time": "2019-06-23T02:42:11.529282Z"
    }
   },
   "outputs": [
    {
     "name": "stderr",
     "output_type": "stream",
     "text": [
      "100%|██████████| 955/955 [16:03<00:00,  1.13s/it]\n"
     ]
    }
   ],
   "source": [
    "df_10jqka_list = get_new('10jqka')"
   ]
  },
  {
   "cell_type": "code",
   "execution_count": 5,
   "metadata": {
    "ExecuteTime": {
     "end_time": "2019-06-23T03:33:58.938860Z",
     "start_time": "2019-06-23T03:16:31.892223Z"
    }
   },
   "outputs": [
    {
     "name": "stderr",
     "output_type": "stream",
     "text": [
      "100%|██████████| 955/955 [17:27<00:00,  1.46s/it]\n"
     ]
    }
   ],
   "source": [
    "df_eastmoney_list = get_new('eastmoney')"
   ]
  },
  {
   "cell_type": "code",
   "execution_count": 6,
   "metadata": {
    "ExecuteTime": {
     "end_time": "2019-06-23T03:52:23.723032Z",
     "start_time": "2019-06-23T03:34:03.873317Z"
    }
   },
   "outputs": [
    {
     "name": "stderr",
     "output_type": "stream",
     "text": [
      "100%|██████████| 955/955 [18:19<00:00,  1.48s/it]\n"
     ]
    }
   ],
   "source": [
    "df_sina_list = get_new('sina')"
   ]
  },
  {
   "cell_type": "code",
   "execution_count": 18,
   "metadata": {
    "ExecuteTime": {
     "end_time": "2019-06-23T04:04:40.038914Z",
     "start_time": "2019-06-23T04:04:39.516900Z"
    }
   },
   "outputs": [],
   "source": [
    "df_sina = pd.concat(df_sina_list)\n",
    "df_10jqka = pd.concat(df_10jqka_list)\n",
    "df_eastmoney = pd.concat(df_eastmoney_list)"
   ]
  },
  {
   "cell_type": "code",
   "execution_count": 19,
   "metadata": {
    "ExecuteTime": {
     "end_time": "2019-06-23T04:05:30.896021Z",
     "start_time": "2019-06-23T04:05:30.004546Z"
    }
   },
   "outputs": [],
   "source": [
    "df_sina.to_csv(r'./sina_news.csv')\n",
    "df_10jqka.to_csv(r'./10jqka_news.csv')\n",
    "df_eastmoney.to_csv(r'./eastmoney_news.csv')"
   ]
  },
  {
   "cell_type": "code",
   "execution_count": 20,
   "metadata": {
    "ExecuteTime": {
     "end_time": "2019-06-23T04:06:48.454908Z",
     "start_time": "2019-06-23T04:06:48.446921Z"
    }
   },
   "outputs": [],
   "source": [
    "# text_df = [df_sina, df_10jqka, df_eastmoney, df_yuncaijing]\n",
    "text_df = [df_sina, df_10jqka, df_eastmoney]"
   ]
  },
  {
   "cell_type": "code",
   "execution_count": 21,
   "metadata": {
    "ExecuteTime": {
     "end_time": "2019-06-23T04:07:02.503519Z",
     "start_time": "2019-06-23T04:07:01.660797Z"
    }
   },
   "outputs": [],
   "source": [
    "for i, df in enumerate(text_df):\n",
    "    df['datetime'] = df['datetime'].str.split(' ').apply(lambda x: x[0])\n",
    "    df[str(i)+'_content'] = df['content']\n",
    "    df[str(i)+'_title'] = df['title']\n",
    "    df.drop(columns=[\"content\", \"title\"], inplace=True)"
   ]
  },
  {
   "cell_type": "code",
   "execution_count": 24,
   "metadata": {
    "ExecuteTime": {
     "end_time": "2019-06-23T04:14:49.140876Z",
     "start_time": "2019-06-23T04:14:49.133022Z"
    }
   },
   "outputs": [
    {
     "data": {
      "text/plain": [
       "(array(['datetime', '0_content', '0_title'], dtype=object),\n",
       " array(['datetime', '1_content', '1_title'], dtype=object),\n",
       " array(['datetime', '2_content', '2_title'], dtype=object))"
      ]
     },
     "execution_count": 24,
     "metadata": {},
     "output_type": "execute_result"
    }
   ],
   "source": [
    "df_sina.columns.values, df_10jqka.columns.values, df_eastmoney.columns.values,"
   ]
  },
  {
   "cell_type": "code",
   "execution_count": 40,
   "metadata": {
    "ExecuteTime": {
     "end_time": "2019-06-23T05:02:26.555689Z",
     "start_time": "2019-06-23T05:02:25.488065Z"
    }
   },
   "outputs": [
    {
     "name": "stderr",
     "output_type": "stream",
     "text": [
      "/home/alan/anaconda3/lib/python3.6/site-packages/ipykernel_launcher.py:14: SettingWithCopyWarning: \n",
      "A value is trying to be set on a copy of a slice from a DataFrame.\n",
      "Try using .loc[row_indexer,col_indexer] = value instead\n",
      "\n",
      "See the caveats in the documentation: http://pandas.pydata.org/pandas-docs/stable/indexing.html#indexing-view-versus-copy\n",
      "  \n"
     ]
    }
   ],
   "source": [
    "merge_date_sina = df_sina[['datetime', '0_content']]\n",
    "merge_date_sina = merge_date_sina.groupby(\n",
    "    ['datetime'])['0_content'].apply(';'.join).reset_index()\n",
    "\n",
    "merge_date_sina_title = df_sina[['datetime', '0_title']]\n",
    "merge_date_sina_title = merge_date_sina_title.groupby(\n",
    "    ['datetime'])['0_title'].apply(';'.join).reset_index()\n",
    "merge_date_sina = merge_date_sina.merge(merge_date_sina_title, on=\"datetime\", how=\"left\")\n",
    "merge_date_sina['0_text'] = merge_date_sina[['0_content', '0_title']].apply(lambda x: ';'.join(x), axis=1)\n",
    "merge_date_sina.drop(columns=[\"0_content\", \"0_title\"], inplace=True)\n",
    "\n",
    "\n",
    "merge_date_10jqka = df_10jqka[['datetime', '1_content']]\n",
    "merge_date_10jqka['1_content'] = merge_date_10jqka['1_content'].astype(str)\n",
    "merge_date_10jqka = merge_date_10jqka.groupby(\n",
    "    ['datetime'])['1_content'].apply(';'.join).reset_index()\n",
    "\n",
    "merge_date_10jqka_title = df_10jqka[['datetime', '1_title']]\n",
    "merge_date_10jqka_title = merge_date_10jqka_title.groupby(\n",
    "    ['datetime'])['1_title'].apply(';'.join).reset_index()\n",
    "merge_date_10jqka = merge_date_10jqka.merge(merge_date_10jqka_title, on=\"datetime\", how=\"left\")\n",
    "merge_date_10jqka['1_text'] = merge_date_10jqka[['1_content', '1_title']].apply(lambda x: ';'.join(x), axis=1)\n",
    "merge_date_10jqka.drop(columns=[\"1_content\", \"1_title\"], inplace=True)\n",
    "\n",
    "\n",
    "merge_date_eastmoney = df_eastmoney[['datetime', '2_content']]\n",
    "merge_date_eastmoney = merge_date_eastmoney.groupby(\n",
    "    ['datetime'])['2_content'].apply(';'.join).reset_index()\n",
    "\n",
    "merge_date_eastmoney_title = df_eastmoney[['datetime', '2_title']]\n",
    "merge_date_eastmoney_title = merge_date_eastmoney_title.groupby(\n",
    "    ['datetime'])['2_title'].apply(';'.join).reset_index()\n",
    "merge_date_eastmoney = merge_date_eastmoney.merge(merge_date_eastmoney_title, on=\"datetime\", how=\"left\")\n",
    "merge_date_eastmoney['2_text'] = merge_date_eastmoney[['2_content', '2_title']].apply(lambda x: ';'.join(x), axis=1)\n",
    "merge_date_eastmoney.drop(columns=[\"2_content\", \"2_title\"], inplace=True)"
   ]
  },
  {
   "cell_type": "code",
   "execution_count": 42,
   "metadata": {
    "ExecuteTime": {
     "end_time": "2019-06-23T05:04:05.551631Z",
     "start_time": "2019-06-23T05:04:05.527166Z"
    }
   },
   "outputs": [
    {
     "data": {
      "text/html": [
       "<div>\n",
       "<style scoped>\n",
       "    .dataframe tbody tr th:only-of-type {\n",
       "        vertical-align: middle;\n",
       "    }\n",
       "\n",
       "    .dataframe tbody tr th {\n",
       "        vertical-align: top;\n",
       "    }\n",
       "\n",
       "    .dataframe thead th {\n",
       "        text-align: right;\n",
       "    }\n",
       "</style>\n",
       "<table border=\"1\" class=\"dataframe\">\n",
       "  <thead>\n",
       "    <tr style=\"text-align: right;\">\n",
       "      <th></th>\n",
       "      <th>datetime</th>\n",
       "      <th>0_text</th>\n",
       "      <th>1_text</th>\n",
       "      <th>2_text</th>\n",
       "    </tr>\n",
       "  </thead>\n",
       "  <tbody>\n",
       "    <tr>\n",
       "      <th>0</th>\n",
       "      <td>2018-10-09</td>\n",
       "      <td>在岸人民币兑美元（CNY）北京时间23:30收报6.9225元，较周一夜盘收盘涨60点；全天...</td>\n",
       "      <td>NaN</td>\n",
       "      <td>NaN</td>\n",
       "    </tr>\n",
       "    <tr>\n",
       "      <th>1</th>\n",
       "      <td>2018-10-11</td>\n",
       "      <td>现货白银扩大涨幅至2%，现报14.56美元/盎司。;纳指再度转涨。;哥伦比亚广播下跌2....</td>\n",
       "      <td>NaN</td>\n",
       "      <td>NaN</td>\n",
       "    </tr>\n",
       "    <tr>\n",
       "      <th>2</th>\n",
       "      <td>2018-10-13</td>\n",
       "      <td>意大利副总理Salvini：预算法律可能会在周末之前准备就绪。;【粤港澳大湾区现代化交通运输...</td>\n",
       "      <td>NaN</td>\n",
       "      <td>NaN</td>\n",
       "    </tr>\n",
       "    <tr>\n",
       "      <th>3</th>\n",
       "      <td>2018-10-15</td>\n",
       "      <td>摩根大通策略师：波动率上升释放买入标普500指数的信号。;美国纽约联储GDPNowcast模...</td>\n",
       "      <td>NaN</td>\n",
       "      <td>NaN</td>\n",
       "    </tr>\n",
       "    <tr>\n",
       "      <th>4</th>\n",
       "      <td>2018-10-17</td>\n",
       "      <td>道指跌幅收窄至不到60点。;特斯拉跌3.2%。;美国财政部雇员因为泄露敏感信息而被捕。;立陶...</td>\n",
       "      <td>NaN</td>\n",
       "      <td>NaN</td>\n",
       "    </tr>\n",
       "  </tbody>\n",
       "</table>\n",
       "</div>"
      ],
      "text/plain": [
       "     datetime                                             0_text 1_text 2_text\n",
       "0  2018-10-09  在岸人民币兑美元（CNY）北京时间23:30收报6.9225元，较周一夜盘收盘涨60点；全天...    NaN    NaN\n",
       "1  2018-10-11    现货白银扩大涨幅至2%，现报14.56美元/盎司。;纳指再度转涨。;哥伦比亚广播下跌2....    NaN    NaN\n",
       "2  2018-10-13  意大利副总理Salvini：预算法律可能会在周末之前准备就绪。;【粤港澳大湾区现代化交通运输...    NaN    NaN\n",
       "3  2018-10-15  摩根大通策略师：波动率上升释放买入标普500指数的信号。;美国纽约联储GDPNowcast模...    NaN    NaN\n",
       "4  2018-10-17  道指跌幅收窄至不到60点。;特斯拉跌3.2%。;美国财政部雇员因为泄露敏感信息而被捕。;立陶...    NaN    NaN"
      ]
     },
     "execution_count": 42,
     "metadata": {},
     "output_type": "execute_result"
    }
   ],
   "source": [
    "merge_date_sina = merge_date_sina.merge(merge_date_10jqka, on=\"datetime\", how=\"left\")\n",
    "merge_date_sina = merge_date_sina.merge(merge_date_eastmoney, on=\"datetime\", how=\"left\")\n",
    "merge_date_sina.head()"
   ]
  },
  {
   "cell_type": "code",
   "execution_count": 45,
   "metadata": {
    "ExecuteTime": {
     "end_time": "2019-06-23T05:06:42.431801Z",
     "start_time": "2019-06-23T05:06:42.392918Z"
    }
   },
   "outputs": [
    {
     "data": {
      "text/html": [
       "<div>\n",
       "<style scoped>\n",
       "    .dataframe tbody tr th:only-of-type {\n",
       "        vertical-align: middle;\n",
       "    }\n",
       "\n",
       "    .dataframe tbody tr th {\n",
       "        vertical-align: top;\n",
       "    }\n",
       "\n",
       "    .dataframe thead th {\n",
       "        text-align: right;\n",
       "    }\n",
       "</style>\n",
       "<table border=\"1\" class=\"dataframe\">\n",
       "  <thead>\n",
       "    <tr style=\"text-align: right;\">\n",
       "      <th></th>\n",
       "      <th>datetime</th>\n",
       "      <th>text</th>\n",
       "    </tr>\n",
       "  </thead>\n",
       "  <tbody>\n",
       "    <tr>\n",
       "      <th>0</th>\n",
       "      <td>2018-10-09</td>\n",
       "      <td>在岸人民币兑美元（CNY）北京时间23:30收报6.9225元，较周一夜盘收盘涨60点；全天...</td>\n",
       "    </tr>\n",
       "    <tr>\n",
       "      <th>1</th>\n",
       "      <td>2018-10-11</td>\n",
       "      <td>现货白银扩大涨幅至2%，现报14.56美元/盎司。;纳指再度转涨。;哥伦比亚广播下跌2....</td>\n",
       "    </tr>\n",
       "    <tr>\n",
       "      <th>2</th>\n",
       "      <td>2018-10-13</td>\n",
       "      <td>意大利副总理Salvini：预算法律可能会在周末之前准备就绪。;【粤港澳大湾区现代化交通运输...</td>\n",
       "    </tr>\n",
       "    <tr>\n",
       "      <th>3</th>\n",
       "      <td>2018-10-15</td>\n",
       "      <td>摩根大通策略师：波动率上升释放买入标普500指数的信号。;美国纽约联储GDPNowcast模...</td>\n",
       "    </tr>\n",
       "    <tr>\n",
       "      <th>4</th>\n",
       "      <td>2018-10-17</td>\n",
       "      <td>道指跌幅收窄至不到60点。;特斯拉跌3.2%。;美国财政部雇员因为泄露敏感信息而被捕。;立陶...</td>\n",
       "    </tr>\n",
       "  </tbody>\n",
       "</table>\n",
       "</div>"
      ],
      "text/plain": [
       "     datetime                                               text\n",
       "0  2018-10-09  在岸人民币兑美元（CNY）北京时间23:30收报6.9225元，较周一夜盘收盘涨60点；全天...\n",
       "1  2018-10-11    现货白银扩大涨幅至2%，现报14.56美元/盎司。;纳指再度转涨。;哥伦比亚广播下跌2....\n",
       "2  2018-10-13  意大利副总理Salvini：预算法律可能会在周末之前准备就绪。;【粤港澳大湾区现代化交通运输...\n",
       "3  2018-10-15  摩根大通策略师：波动率上升释放买入标普500指数的信号。;美国纽约联储GDPNowcast模...\n",
       "4  2018-10-17  道指跌幅收窄至不到60点。;特斯拉跌3.2%。;美国财政部雇员因为泄露敏感信息而被捕。;立陶..."
      ]
     },
     "execution_count": 45,
     "metadata": {},
     "output_type": "execute_result"
    }
   ],
   "source": [
    "merge_date_sina = merge_date_sina.fillna('')\n",
    "merge_date_sina['text'] = merge_date_sina[['0_text', '1_text', '2_text']].apply(lambda x: ';'.join(x), axis=1)\n",
    "merge_date_sina.drop(columns=['0_text', '1_text', '2_text'], inplace=True)\n",
    "merge_date_sina.head()"
   ]
  },
  {
   "cell_type": "code",
   "execution_count": 46,
   "metadata": {
    "ExecuteTime": {
     "end_time": "2019-06-23T05:07:06.114298Z",
     "start_time": "2019-06-23T05:07:06.109014Z"
    }
   },
   "outputs": [],
   "source": [
    "text_df = merge_date_sina.copy()"
   ]
  },
  {
   "cell_type": "code",
   "execution_count": 47,
   "metadata": {
    "ExecuteTime": {
     "end_time": "2019-06-23T05:07:15.483881Z",
     "start_time": "2019-06-23T05:07:15.475830Z"
    }
   },
   "outputs": [
    {
     "data": {
      "text/plain": [
       "(129, 2)"
      ]
     },
     "execution_count": 47,
     "metadata": {},
     "output_type": "execute_result"
    }
   ],
   "source": [
    "text_df.shape"
   ]
  },
  {
   "cell_type": "code",
   "execution_count": 13,
   "metadata": {
    "ExecuteTime": {
     "end_time": "2019-06-22T17:09:33.448482Z",
     "start_time": "2019-06-22T17:09:32.489059Z"
    }
   },
   "outputs": [],
   "source": [
    "df = pro.news(src='10jqka', start_date='20140401', end_date=ENDDATE)"
   ]
  },
  {
   "cell_type": "code",
   "execution_count": 15,
   "metadata": {
    "ExecuteTime": {
     "end_time": "2019-06-22T17:09:54.547060Z",
     "start_time": "2019-06-22T17:09:54.538025Z"
    }
   },
   "outputs": [],
   "source": [
    "df['datetime'] = df['datetime'].str.split(' ').apply(lambda x: x[0])"
   ]
  },
  {
   "cell_type": "code",
   "execution_count": 18,
   "metadata": {
    "ExecuteTime": {
     "end_time": "2019-06-22T17:10:16.560872Z",
     "start_time": "2019-06-22T17:10:16.553011Z"
    }
   },
   "outputs": [
    {
     "data": {
      "text/plain": [
       "array(['2019-06-21', '2019-06-20', '2019-06-19', '2019-06-18'],\n",
       "      dtype=object)"
      ]
     },
     "execution_count": 18,
     "metadata": {},
     "output_type": "execute_result"
    }
   ],
   "source": [
    "df['datetime'].unique()"
   ]
  },
  {
   "cell_type": "code",
   "execution_count": 19,
   "metadata": {
    "ExecuteTime": {
     "end_time": "2019-06-22T17:10:33.816780Z",
     "start_time": "2019-06-22T17:10:33.806776Z"
    }
   },
   "outputs": [
    {
     "data": {
      "text/plain": [
       "(1000,)"
      ]
     },
     "execution_count": 19,
     "metadata": {},
     "output_type": "execute_result"
    }
   ],
   "source": [
    "df['datetime'].shape"
   ]
  },
  {
   "cell_type": "code",
   "execution_count": null,
   "metadata": {},
   "outputs": [],
   "source": []
  }
 ],
 "metadata": {
  "kernelspec": {
   "display_name": "Python 3",
   "language": "python",
   "name": "python3"
  },
  "language_info": {
   "codemirror_mode": {
    "name": "ipython",
    "version": 3
   },
   "file_extension": ".py",
   "mimetype": "text/x-python",
   "name": "python",
   "nbconvert_exporter": "python",
   "pygments_lexer": "ipython3",
   "version": "3.6.8"
  },
  "toc": {
   "base_numbering": 1,
   "nav_menu": {},
   "number_sections": true,
   "sideBar": true,
   "skip_h1_title": false,
   "title_cell": "Table of Contents",
   "title_sidebar": "Contents",
   "toc_cell": false,
   "toc_position": {},
   "toc_section_display": true,
   "toc_window_display": false
  },
  "varInspector": {
   "cols": {
    "lenName": 16,
    "lenType": 16,
    "lenVar": 40
   },
   "kernels_config": {
    "python": {
     "delete_cmd_postfix": "",
     "delete_cmd_prefix": "del ",
     "library": "var_list.py",
     "varRefreshCmd": "print(var_dic_list())"
    },
    "r": {
     "delete_cmd_postfix": ") ",
     "delete_cmd_prefix": "rm(",
     "library": "var_list.r",
     "varRefreshCmd": "cat(var_dic_list()) "
    }
   },
   "types_to_exclude": [
    "module",
    "function",
    "builtin_function_or_method",
    "instance",
    "_Feature"
   ],
   "window_display": false
  }
 },
 "nbformat": 4,
 "nbformat_minor": 2
}
