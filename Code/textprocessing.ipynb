{
 "cells": [
  {
   "cell_type": "code",
   "execution_count": 1,
   "metadata": {
    "ExecuteTime": {
     "end_time": "2019-05-02T08:18:49.573731Z",
     "start_time": "2019-05-02T08:18:49.314284Z"
    }
   },
   "outputs": [],
   "source": [
    "import pandas as pd\n",
    "import numpy as np"
   ]
  },
  {
   "cell_type": "code",
   "execution_count": 2,
   "metadata": {
    "ExecuteTime": {
     "end_time": "2019-05-02T08:19:16.496720Z",
     "start_time": "2019-05-02T08:19:16.008945Z"
    }
   },
   "outputs": [],
   "source": [
    "text = pd.read_csv(r'../Data/TRAINSET_NEWS.csv')"
   ]
  },
  {
   "cell_type": "code",
   "execution_count": 3,
   "metadata": {
    "ExecuteTime": {
     "end_time": "2019-05-02T08:19:24.360218Z",
     "start_time": "2019-05-02T08:19:24.345927Z"
    }
   },
   "outputs": [
    {
     "data": {
      "text/plain": [
       "(26399, 4)"
      ]
     },
     "execution_count": 3,
     "metadata": {},
     "output_type": "execute_result"
    }
   ],
   "source": [
    "text.shape"
   ]
  },
  {
   "cell_type": "code",
   "execution_count": 4,
   "metadata": {
    "ExecuteTime": {
     "end_time": "2019-05-02T08:19:32.688624Z",
     "start_time": "2019-05-02T08:19:32.674664Z"
    }
   },
   "outputs": [
    {
     "data": {
      "text/html": [
       "<div>\n",
       "<style scoped>\n",
       "    .dataframe tbody tr th:only-of-type {\n",
       "        vertical-align: middle;\n",
       "    }\n",
       "\n",
       "    .dataframe tbody tr th {\n",
       "        vertical-align: top;\n",
       "    }\n",
       "\n",
       "    .dataframe thead th {\n",
       "        text-align: right;\n",
       "    }\n",
       "</style>\n",
       "<table border=\"1\" class=\"dataframe\">\n",
       "  <thead>\n",
       "    <tr style=\"text-align: right;\">\n",
       "      <th></th>\n",
       "      <th>id</th>\n",
       "      <th>date</th>\n",
       "      <th>title</th>\n",
       "      <th>content</th>\n",
       "    </tr>\n",
       "  </thead>\n",
       "  <tbody>\n",
       "    <tr>\n",
       "      <th>0</th>\n",
       "      <td>20140414_00</td>\n",
       "      <td>20140414</td>\n",
       "      <td>习近平在空军机关调研时强调 加快建设一支空天一体攻防兼备的强大人民空军 为实现中国梦强军梦提...</td>\n",
       "      <td>中共中央总书记、国家主席、中央军委主席习近平14日专程到空军机关就空军建设和军事斗争准备进行...</td>\n",
       "    </tr>\n",
       "    <tr>\n",
       "      <th>1</th>\n",
       "      <td>20140414_01</td>\n",
       "      <td>20140414</td>\n",
       "      <td>利比亚临时政府总理辞职</td>\n",
       "      <td>本月8号刚刚被正式任命为利比亚临时政府总理的阿卜杜拉·萨尼13号发表声明说，12号晚他和家人...</td>\n",
       "    </tr>\n",
       "    <tr>\n",
       "      <th>2</th>\n",
       "      <td>20140414_02</td>\n",
       "      <td>20140414</td>\n",
       "      <td>关注乌克兰局势</td>\n",
       "      <td>代行乌克兰总统职责的乌克兰议长图尔奇诺夫13号发表讲话，要求占领东部地方政府建筑的抗议者，在...</td>\n",
       "    </tr>\n",
       "    <tr>\n",
       "      <th>3</th>\n",
       "      <td>20140414_03</td>\n",
       "      <td>20140414</td>\n",
       "      <td>国内联播快讯</td>\n",
       "      <td>低碳中国行活动正式启动由国家发展改革委等部门共同发起的低碳中国行活动今天正式启动，活动以引导...</td>\n",
       "    </tr>\n",
       "    <tr>\n",
       "      <th>4</th>\n",
       "      <td>20140414_04</td>\n",
       "      <td>20140414</td>\n",
       "      <td>刘汉等36人涉黑案继续开庭审理</td>\n",
       "      <td>刘汉、刘维等36人涉嫌犯组织、领导、参加黑社会性质组织罪以及故意杀人罪、包庇、纵容黑社会性质...</td>\n",
       "    </tr>\n",
       "  </tbody>\n",
       "</table>\n",
       "</div>"
      ],
      "text/plain": [
       "            id      date                                              title  \\\n",
       "0  20140414_00  20140414  习近平在空军机关调研时强调 加快建设一支空天一体攻防兼备的强大人民空军 为实现中国梦强军梦提...   \n",
       "1  20140414_01  20140414                                        利比亚临时政府总理辞职   \n",
       "2  20140414_02  20140414                                            关注乌克兰局势   \n",
       "3  20140414_03  20140414                                             国内联播快讯   \n",
       "4  20140414_04  20140414                                    刘汉等36人涉黑案继续开庭审理   \n",
       "\n",
       "                                             content  \n",
       "0  中共中央总书记、国家主席、中央军委主席习近平14日专程到空军机关就空军建设和军事斗争准备进行...  \n",
       "1  本月8号刚刚被正式任命为利比亚临时政府总理的阿卜杜拉·萨尼13号发表声明说，12号晚他和家人...  \n",
       "2  代行乌克兰总统职责的乌克兰议长图尔奇诺夫13号发表讲话，要求占领东部地方政府建筑的抗议者，在...  \n",
       "3  低碳中国行活动正式启动由国家发展改革委等部门共同发起的低碳中国行活动今天正式启动，活动以引导...  \n",
       "4  刘汉、刘维等36人涉嫌犯组织、领导、参加黑社会性质组织罪以及故意杀人罪、包庇、纵容黑社会性质...  "
      ]
     },
     "execution_count": 4,
     "metadata": {},
     "output_type": "execute_result"
    }
   ],
   "source": [
    "text.head()"
   ]
  },
  {
   "cell_type": "code",
   "execution_count": 6,
   "metadata": {
    "ExecuteTime": {
     "end_time": "2019-05-02T08:20:38.084714Z",
     "start_time": "2019-05-02T08:20:38.075467Z"
    }
   },
   "outputs": [
    {
     "data": {
      "text/plain": [
       "1814"
      ]
     },
     "execution_count": 6,
     "metadata": {},
     "output_type": "execute_result"
    }
   ],
   "source": [
    "len(text['date'].unique())"
   ]
  },
  {
   "cell_type": "code",
   "execution_count": null,
   "metadata": {},
   "outputs": [],
   "source": []
  }
 ],
 "metadata": {
  "kernelspec": {
   "display_name": "Python 3",
   "language": "python",
   "name": "python3"
  },
  "language_info": {
   "codemirror_mode": {
    "name": "ipython",
    "version": 3
   },
   "file_extension": ".py",
   "mimetype": "text/x-python",
   "name": "python",
   "nbconvert_exporter": "python",
   "pygments_lexer": "ipython3",
   "version": "3.6.8"
  },
  "toc": {
   "base_numbering": 1,
   "nav_menu": {},
   "number_sections": true,
   "sideBar": true,
   "skip_h1_title": false,
   "title_cell": "Table of Contents",
   "title_sidebar": "Contents",
   "toc_cell": false,
   "toc_position": {},
   "toc_section_display": true,
   "toc_window_display": false
  },
  "varInspector": {
   "cols": {
    "lenName": 16,
    "lenType": 16,
    "lenVar": 40
   },
   "kernels_config": {
    "python": {
     "delete_cmd_postfix": "",
     "delete_cmd_prefix": "del ",
     "library": "var_list.py",
     "varRefreshCmd": "print(var_dic_list())"
    },
    "r": {
     "delete_cmd_postfix": ") ",
     "delete_cmd_prefix": "rm(",
     "library": "var_list.r",
     "varRefreshCmd": "cat(var_dic_list()) "
    }
   },
   "types_to_exclude": [
    "module",
    "function",
    "builtin_function_or_method",
    "instance",
    "_Feature"
   ],
   "window_display": false
  }
 },
 "nbformat": 4,
 "nbformat_minor": 2
}
