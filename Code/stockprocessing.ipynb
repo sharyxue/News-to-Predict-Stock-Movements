{
 "cells": [
  {
   "cell_type": "code",
   "execution_count": 1,
   "metadata": {
    "ExecuteTime": {
     "end_time": "2019-05-25T04:11:59.115909Z",
     "start_time": "2019-05-25T04:11:59.020966Z"
    },
    "colab": {},
    "colab_type": "code",
    "id": "LFLc-ooh5wTh"
   },
   "outputs": [],
   "source": [
    "import time\n",
    "from sklearn.model_selection import train_test_split\n",
    "import numpy as np\n",
    "import pandas as pd\n",
    "import datetime\n",
    "import seaborn as sns\n",
    "import matplotlib.pyplot as plt\n",
    "%matplotlib inline\n",
    "from sklearn.decomposition import PCA\n",
    "import math\n",
    "from sklearn.preprocessing import MinMaxScaler\n",
    "from sklearn.metrics import mean_squared_error\n",
    "from sklearn.preprocessing import StandardScaler\n",
    "import xgboost as xgb\n",
    "import warnings\n",
    "warnings.filterwarnings(\"ignore\")"
   ]
  },
  {
   "cell_type": "code",
   "execution_count": 0,
   "metadata": {
    "colab": {},
    "colab_type": "code",
    "id": "JyuMxbGQeE-8"
   },
   "outputs": [],
   "source": []
  },
  {
   "cell_type": "markdown",
   "metadata": {
    "colab_type": "text",
    "id": "DcFYK1bSUXvz"
   },
   "source": [
    "# 特征处理"
   ]
  },
  {
   "cell_type": "code",
   "execution_count": 2,
   "metadata": {
    "ExecuteTime": {
     "end_time": "2019-05-25T04:24:07.795105Z",
     "start_time": "2019-05-25T04:24:07.765127Z"
    },
    "colab": {},
    "colab_type": "code",
    "id": "Vzdq3q8DUXv1"
   },
   "outputs": [],
   "source": [
    "columns=['农林牧渔', '采掘', '化工', '钢铁', '有色金属', '电子', '家用电器', '食品饮料', '纺织服装',\n",
    "        '轻工制造', '医药生物', '公用事业', '交通运输', '房地产', '商业贸易', '休闲服务', '综合',\n",
    "        '申万制造', '申万消费', '申万投资', '申万服务', '申万300指数', '建筑材料', '建筑装饰',\n",
    "        '电气设备', '国防军工', '计算机', '传媒', '通信', '银行', '非银金融', '汽车', '机械设备',\n",
    "        '交银装备']"
   ]
  },
  {
   "cell_type": "code",
   "execution_count": 3,
   "metadata": {
    "ExecuteTime": {
     "end_time": "2019-05-25T04:24:38.499768Z",
     "start_time": "2019-05-25T04:24:36.877762Z"
    },
    "colab": {},
    "colab_type": "code",
    "id": "AFQtedZM5wTn"
   },
   "outputs": [],
   "source": [
    "df = pd.read_csv(r'../Data/TRAINSET_STOCK.csv')\n",
    "df_add1 = pd.read_csv(r'../Data/20190506_STOCK.csv')\n",
    "df_add2 = pd.read_csv(r'../Data/20190514_STOCK.csv')\n",
    "df_add3 = pd.read_csv(r'../Data/20190521_STOCK.csv')\n",
    "df_add4 = pd.read_csv(r'../Data/20190528_STOCK.csv')\n",
    "df = pd.concat([df,df_add1,df_add2,df_add3,df_add4])\n",
    "df = df[~df.index.duplicated()]\n",
    "\n"
   ]
  },
  {
   "cell_type": "code",
   "execution_count": 9,
   "metadata": {
    "ExecuteTime": {
     "end_time": "2019-05-25T04:25:54.546256Z",
     "start_time": "2019-05-25T04:25:54.483295Z"
    },
    "colab": {},
    "colab_type": "code",
    "id": "VjqF0fnlTUuc"
   },
   "outputs": [],
   "source": [
    "x = []\n",
    "y = []\n",
    "for arr in columns:\n",
    "    df1=df.loc[df['name']==arr]\n",
    "    df1=df1[['ts_code','trade_date','name','low','high','close','pct_change','vol','y']]\n",
    "    df1['vol_change'] = df1['vol'].pct_change()\n",
    "    df1['low_change'] = df1['low'].pct_change()\n",
    "    df1['high_change'] = df1['high'].pct_change()\n",
    "    df1['gaodi']=(df1['high']-df1['low'])/df1['low']\n",
    "    df1['gaoclo']=(df1['high']-df1['close'])/(df1['high']-df1['low'])\n",
    "    df1['diclo']=(df1['close']-df1['low'])/(df1['high']-df1['low'])\n",
    "    df1['pct_change']=df1['pct_change']/10\n",
    "    df1=df1[['pct_change','vol_change','high_change','low_change','gaodi','gaoclo','diclo','y']]\n",
    "    df1= df1.dropna()\n",
    "    dataset=df1.values\n",
    "    for i in range(len(dataset)-15):\n",
    "        x.append(dataset[i:(i+10),:8].tolist())\n",
    "        y.append(dataset[(i+10):(i+15),7,np.newaxis].tolist())\n",
    "xtrain, xtest, ytrain, ytest = train_test_split(x, y, test_size=0.2, random_state=30)\n",
    "xtrain, xtest, ytrain, ytest = np.array(xtrain),np.array(xtest),np.array(ytrain),np.array(ytest)\n",
    "# xtrain = np.reshape(xtrain, (xtrain.shape[0], xtrain.shape[1]*xtrain.shape[2], 1))\n",
    "# xtest = np.reshape(xtest, (xtest.shape[0], xtest.shape[1], 1))\n",
    "ytrain = np.reshape(ytrain, (ytrain.shape[0], ytrain.shape[1]))\n",
    "ytest= np.reshape(ytest, (ytest.shape[0], ytest.shape[1]))\n"
   ]
  },
  {
   "cell_type": "code",
   "execution_count": 10,
   "metadata": {
    "colab": {
     "base_uri": "https://localhost:8080/",
     "height": 136
    },
    "colab_type": "code",
    "id": "VIIQvEzxfYLq",
    "outputId": "988c3357-e335-4889-e3f9-e3229233b328"
   },
   "outputs": [
    {
     "data": {
      "text/plain": [
       "((30579, 10, 8), (7645, 10, 8), (30579, 5), (7645, 5))"
      ]
     },
     "execution_count": 10,
     "metadata": {},
     "output_type": "execute_result"
    }
   ],
   "source": [
    "xtrain.shape,xtest.shape,ytrain.shape,ytest.shape"
   ]
  },
  {
   "cell_type": "markdown",
   "metadata": {
    "colab_type": "text",
    "id": "p5w1qmY05wTt"
   },
   "source": [
    "# LSTM"
   ]
  },
  {
   "cell_type": "code",
   "execution_count": 11,
   "metadata": {
    "ExecuteTime": {
     "end_time": "2019-05-25T04:26:49.270427Z",
     "start_time": "2019-05-25T04:25:58.920725Z"
    },
    "colab": {
     "base_uri": "https://localhost:8080/",
     "height": 34
    },
    "colab_type": "code",
    "id": "wYtriXrZ5wTu",
    "outputId": "230f7353-9140-48e3-b8a7-e90233874e77"
   },
   "outputs": [
    {
     "name": "stderr",
     "output_type": "stream",
     "text": [
      "Using TensorFlow backend.\n"
     ]
    }
   ],
   "source": [
    "from keras.models import Sequential\n",
    "from keras.layers import Dense\n",
    "from keras.layers import LSTM\n",
    "from keras.layers import Dropout,Activation\n",
    "from sklearn.model_selection import KFold\n",
    "from sklearn.model_selection import train_test_split\n",
    "from sklearn.metrics import auc\n",
    "from sklearn.metrics import roc_curve"
   ]
  },
  {
   "cell_type": "markdown",
   "metadata": {
    "colab_type": "text",
    "id": "1d061AE55wTy"
   },
   "source": [
    "# 没有交叉验证\n"
   ]
  },
  {
   "cell_type": "code",
   "execution_count": 12,
   "metadata": {
    "ExecuteTime": {
     "end_time": "2019-05-25T04:29:16.654193Z",
     "start_time": "2019-05-25T04:29:07.292445Z"
    },
    "colab": {
     "base_uri": "https://localhost:8080/",
     "height": 139
    },
    "colab_type": "code",
    "id": "AiqbOOax6zBa",
    "outputId": "9a92dbb5-69de-497b-daa9-3dcadda18fc7"
   },
   "outputs": [
    {
     "name": "stdout",
     "output_type": "stream",
     "text": [
      "WARNING:tensorflow:From /Library/Frameworks/Python.framework/Versions/3.7/lib/python3.7/site-packages/tensorflow/python/framework/op_def_library.py:263: colocate_with (from tensorflow.python.framework.ops) is deprecated and will be removed in a future version.\n",
      "Instructions for updating:\n",
      "Colocations handled automatically by placer.\n",
      "WARNING:tensorflow:From /Library/Frameworks/Python.framework/Versions/3.7/lib/python3.7/site-packages/keras/backend/tensorflow_backend.py:3445: calling dropout (from tensorflow.python.ops.nn_ops) with keep_prob is deprecated and will be removed in a future version.\n",
      "Instructions for updating:\n",
      "Please use `rate` instead of `keep_prob`. Rate should be set to `rate = 1 - keep_prob`.\n"
     ]
    }
   ],
   "source": [
    "regressor = Sequential()\n",
    "regressor.add(LSTM(units = 70, return_sequences = True, input_shape = (xtrain.shape[1], 8)))\n",
    "regressor.add(Dropout(0.2))\n",
    "regressor.add(LSTM(units = 70, return_sequences = True))\n",
    "regressor.add(Dropout(0.2))\n",
    "regressor.add(LSTM(units = 70,return_sequences = True))\n",
    "regressor.add(Dropout(0.2))\n",
    "regressor.add(LSTM(units = 70))\n",
    "regressor.add(Dropout(0.2))\n",
    "regressor.add(Dense(units = 5))\n",
    "regressor.add(Activation('sigmoid'))\n",
    "regressor.compile(loss='categorical_crossentropy',\n",
    "                  optimizer='adam', metrics=['accuracy'])"
   ]
  },
  {
   "cell_type": "code",
   "execution_count": 13,
   "metadata": {
    "ExecuteTime": {
     "end_time": "2019-05-25T07:08:37.155529Z",
     "start_time": "2019-05-25T04:29:25.249036Z"
    },
    "colab": {
     "base_uri": "https://localhost:8080/",
     "height": 3505
    },
    "colab_type": "code",
    "id": "HO7ZzDVMUXwi",
    "outputId": "70920294-d304-434c-97f1-e9d46de73d56"
   },
   "outputs": [
    {
     "name": "stdout",
     "output_type": "stream",
     "text": [
      "WARNING:tensorflow:From /Library/Frameworks/Python.framework/Versions/3.7/lib/python3.7/site-packages/tensorflow/python/ops/math_ops.py:3066: to_int32 (from tensorflow.python.ops.math_ops) is deprecated and will be removed in a future version.\n",
      "Instructions for updating:\n",
      "Use tf.cast instead.\n",
      "Epoch 1/100\n",
      "30579/30579 [==============================] - 38s 1ms/step - loss: 4.3487 - acc: 0.1945\n",
      "Epoch 2/100\n",
      "30579/30579 [==============================] - 31s 1ms/step - loss: 4.3485 - acc: 0.2596\n",
      "Epoch 3/100\n",
      "30579/30579 [==============================] - 32s 1ms/step - loss: 4.3485 - acc: 0.2212\n",
      "Epoch 4/100\n",
      "30579/30579 [==============================] - 30s 967us/step - loss: 4.3483 - acc: 0.2655\n",
      "Epoch 5/100\n",
      "30579/30579 [==============================] - 32s 1ms/step - loss: 4.3455 - acc: 0.2311\n",
      "Epoch 6/100\n",
      "30579/30579 [==============================] - 32s 1ms/step - loss: 4.3352 - acc: 0.2099\n",
      "Epoch 7/100\n",
      "30579/30579 [==============================] - 32s 1ms/step - loss: 4.3247 - acc: 0.2366\n",
      "Epoch 8/100\n",
      "30579/30579 [==============================] - 31s 1ms/step - loss: 4.3131 - acc: 0.2297\n",
      "Epoch 9/100\n",
      "30579/30579 [==============================] - 31s 1ms/step - loss: 4.3010 - acc: 0.2372\n",
      "Epoch 10/100\n",
      "30579/30579 [==============================] - 31s 998us/step - loss: 4.2875 - acc: 0.2391\n",
      "Epoch 11/100\n",
      "30579/30579 [==============================] - 31s 1ms/step - loss: 4.2712 - acc: 0.2528\n",
      "Epoch 12/100\n",
      "30579/30579 [==============================] - 29s 938us/step - loss: 4.2515 - acc: 0.2459\n",
      "Epoch 13/100\n",
      "30579/30579 [==============================] - 29s 959us/step - loss: 4.2318 - acc: 0.2532\n",
      "Epoch 14/100\n",
      "30579/30579 [==============================] - 31s 1ms/step - loss: 4.2103 - acc: 0.2525\n",
      "Epoch 15/100\n",
      "30579/30579 [==============================] - 31s 1ms/step - loss: 4.1776 - acc: 0.2612\n",
      "Epoch 16/100\n",
      "30579/30579 [==============================] - 31s 1ms/step - loss: 4.1490 - acc: 0.2717\n",
      "Epoch 17/100\n",
      "30579/30579 [==============================] - 30s 972us/step - loss: 4.1228 - acc: 0.2726\n",
      "Epoch 18/100\n",
      "30579/30579 [==============================] - 29s 949us/step - loss: 4.0916 - acc: 0.2745\n",
      "Epoch 19/100\n",
      "30579/30579 [==============================] - 29s 942us/step - loss: 4.0663 - acc: 0.2874\n",
      "Epoch 20/100\n",
      "30579/30579 [==============================] - 29s 957us/step - loss: 4.0408 - acc: 0.2854\n",
      "Epoch 21/100\n",
      "30579/30579 [==============================] - 29s 936us/step - loss: 4.0178 - acc: 0.2855\n",
      "Epoch 22/100\n",
      "30579/30579 [==============================] - 31s 1ms/step - loss: 3.9945 - acc: 0.2965\n",
      "Epoch 23/100\n",
      "30579/30579 [==============================] - 30s 990us/step - loss: 3.9731 - acc: 0.2897\n",
      "Epoch 24/100\n",
      "30579/30579 [==============================] - 30s 985us/step - loss: 3.9519 - acc: 0.2998\n",
      "Epoch 25/100\n",
      "30579/30579 [==============================] - 30s 988us/step - loss: 3.9331 - acc: 0.2959\n",
      "Epoch 26/100\n",
      "30579/30579 [==============================] - 30s 989us/step - loss: 3.9174 - acc: 0.3013\n",
      "Epoch 27/100\n",
      "30579/30579 [==============================] - 30s 995us/step - loss: 3.8984 - acc: 0.3049\n",
      "Epoch 28/100\n",
      "30579/30579 [==============================] - 30s 996us/step - loss: 3.8800 - acc: 0.3011\n",
      "Epoch 29/100\n",
      "30579/30579 [==============================] - 30s 997us/step - loss: 3.8614 - acc: 0.3017\n",
      "Epoch 30/100\n",
      "30579/30579 [==============================] - 31s 1ms/step - loss: 3.8548 - acc: 0.3064\n",
      "Epoch 31/100\n",
      "30579/30579 [==============================] - 31s 1ms/step - loss: 3.8348 - acc: 0.3116\n",
      "Epoch 32/100\n",
      "30579/30579 [==============================] - 31s 1ms/step - loss: 3.8219 - acc: 0.3143\n",
      "Epoch 33/100\n",
      "30579/30579 [==============================] - 31s 1ms/step - loss: 3.8126 - acc: 0.3113\n",
      "Epoch 34/100\n",
      "30579/30579 [==============================] - 29s 956us/step - loss: 3.7959 - acc: 0.3182\n",
      "Epoch 35/100\n",
      "30579/30579 [==============================] - 30s 982us/step - loss: 3.7795 - acc: 0.3138\n",
      "Epoch 36/100\n",
      "30579/30579 [==============================] - 30s 982us/step - loss: 3.7701 - acc: 0.3126\n",
      "Epoch 37/100\n",
      "30579/30579 [==============================] - 29s 961us/step - loss: 3.7646 - acc: 0.3185\n",
      "Epoch 38/100\n",
      "30579/30579 [==============================] - 30s 969us/step - loss: 3.7524 - acc: 0.3150\n",
      "Epoch 39/100\n",
      "30579/30579 [==============================] - 30s 980us/step - loss: 3.7448 - acc: 0.3119\n",
      "Epoch 40/100\n",
      "30579/30579 [==============================] - 30s 979us/step - loss: 3.7374 - acc: 0.3212\n",
      "Epoch 41/100\n",
      "30579/30579 [==============================] - 31s 1ms/step - loss: 3.7247 - acc: 0.3242\n",
      "Epoch 42/100\n",
      "30579/30579 [==============================] - 29s 954us/step - loss: 3.7144 - acc: 0.3187\n",
      "Epoch 43/100\n",
      "30579/30579 [==============================] - 29s 950us/step - loss: 3.7096 - acc: 0.3239\n",
      "Epoch 44/100\n",
      "30579/30579 [==============================] - 29s 943us/step - loss: 3.7010 - acc: 0.3257\n",
      "Epoch 45/100\n",
      "30579/30579 [==============================] - 29s 947us/step - loss: 3.6962 - acc: 0.3222\n",
      "Epoch 46/100\n",
      "30579/30579 [==============================] - 29s 939us/step - loss: 3.6841 - acc: 0.3286\n",
      "Epoch 47/100\n",
      "30579/30579 [==============================] - 29s 946us/step - loss: 3.6841 - acc: 0.3242\n",
      "Epoch 48/100\n",
      "30579/30579 [==============================] - 29s 948us/step - loss: 3.6721 - acc: 0.3303\n",
      "Epoch 49/100\n",
      "30579/30579 [==============================] - 29s 946us/step - loss: 3.6686 - acc: 0.3247\n",
      "Epoch 50/100\n",
      "30579/30579 [==============================] - 29s 947us/step - loss: 3.6596 - acc: 0.3228\n",
      "Epoch 51/100\n",
      "30579/30579 [==============================] - 29s 951us/step - loss: 3.6544 - acc: 0.3259\n",
      "Epoch 52/100\n",
      "30579/30579 [==============================] - 29s 938us/step - loss: 3.6468 - acc: 0.3325\n",
      "Epoch 53/100\n",
      "30579/30579 [==============================] - 29s 940us/step - loss: 3.6373 - acc: 0.3308\n",
      "Epoch 54/100\n",
      "30579/30579 [==============================] - 29s 943us/step - loss: 3.6337 - acc: 0.3257\n",
      "Epoch 55/100\n",
      "30579/30579 [==============================] - 29s 947us/step - loss: 3.6314 - acc: 0.3272\n",
      "Epoch 56/100\n",
      "30579/30579 [==============================] - 29s 939us/step - loss: 3.6285 - acc: 0.3245\n",
      "Epoch 57/100\n",
      "30579/30579 [==============================] - 29s 943us/step - loss: 3.6222 - acc: 0.3267\n",
      "Epoch 58/100\n",
      "30579/30579 [==============================] - 30s 973us/step - loss: 3.6140 - acc: 0.3379\n",
      "Epoch 59/100\n",
      "30579/30579 [==============================] - 30s 972us/step - loss: 3.6109 - acc: 0.3327\n",
      "Epoch 60/100\n",
      "30579/30579 [==============================] - 30s 977us/step - loss: 3.6077 - acc: 0.3365\n",
      "Epoch 61/100\n",
      "30579/30579 [==============================] - 30s 985us/step - loss: 3.6015 - acc: 0.3302\n",
      "Epoch 62/100\n",
      "30579/30579 [==============================] - 30s 969us/step - loss: 3.5971 - acc: 0.3258\n",
      "Epoch 63/100\n",
      "30579/30579 [==============================] - 30s 992us/step - loss: 3.5965 - acc: 0.33280s - loss: 3.5950 - acc: 0\n",
      "Epoch 64/100\n",
      "30579/30579 [==============================] - 29s 945us/step - loss: 3.5902 - acc: 0.3312\n",
      "Epoch 65/100\n",
      "30579/30579 [==============================] - 29s 946us/step - loss: 3.5845 - acc: 0.3282\n",
      "Epoch 66/100\n",
      "30579/30579 [==============================] - 30s 991us/step - loss: 3.5801 - acc: 0.3319\n",
      "Epoch 67/100\n",
      "30579/30579 [==============================] - 31s 1ms/step - loss: 3.5747 - acc: 0.3317\n",
      "Epoch 68/100\n",
      "30579/30579 [==============================] - 30s 997us/step - loss: 3.5758 - acc: 0.3308\n",
      "Epoch 69/100\n",
      "30579/30579 [==============================] - 30s 994us/step - loss: 3.5675 - acc: 0.3350\n",
      "Epoch 70/100\n",
      "30579/30579 [==============================] - 31s 1ms/step - loss: 3.5679 - acc: 0.3302\n",
      "Epoch 71/100\n",
      "30579/30579 [==============================] - 31s 999us/step - loss: 3.5613 - acc: 0.3318\n",
      "Epoch 72/100\n",
      "30579/30579 [==============================] - 30s 993us/step - loss: 3.5610 - acc: 0.3319\n",
      "Epoch 73/100\n",
      "30579/30579 [==============================] - 30s 990us/step - loss: 3.5568 - acc: 0.3331\n",
      "Epoch 74/100\n",
      "30579/30579 [==============================] - 31s 1ms/step - loss: 3.5531 - acc: 0.3333\n",
      "Epoch 75/100\n",
      "30579/30579 [==============================] - 31s 1ms/step - loss: 3.5474 - acc: 0.3377\n",
      "Epoch 76/100\n",
      "30579/30579 [==============================] - 31s 1ms/step - loss: 3.5515 - acc: 0.3392\n",
      "Epoch 77/100\n",
      "30579/30579 [==============================] - 29s 935us/step - loss: 3.5433 - acc: 0.3328\n",
      "Epoch 78/100\n",
      "30579/30579 [==============================] - 29s 948us/step - loss: 3.5371 - acc: 0.33780s - loss: 3.5380 - acc:\n",
      "Epoch 79/100\n",
      "30579/30579 [==============================] - 29s 939us/step - loss: 3.5408 - acc: 0.3292\n",
      "Epoch 80/100\n",
      "30579/30579 [==============================] - 29s 936us/step - loss: 3.5300 - acc: 0.3414\n",
      "Epoch 81/100\n",
      "30579/30579 [==============================] - 29s 937us/step - loss: 3.5297 - acc: 0.3376\n",
      "Epoch 82/100\n",
      "30579/30579 [==============================] - 29s 934us/step - loss: 3.5283 - acc: 0.3380\n",
      "Epoch 83/100\n",
      "30579/30579 [==============================] - 29s 937us/step - loss: 3.5301 - acc: 0.3275\n",
      "Epoch 84/100\n",
      "30579/30579 [==============================] - 29s 947us/step - loss: 3.5184 - acc: 0.3396\n",
      "Epoch 85/100\n",
      "30579/30579 [==============================] - 29s 941us/step - loss: 3.5154 - acc: 0.3475\n",
      "Epoch 86/100\n",
      "30579/30579 [==============================] - 30s 989us/step - loss: 3.5153 - acc: 0.3274\n",
      "Epoch 87/100\n",
      "30579/30579 [==============================] - 29s 954us/step - loss: 3.5121 - acc: 0.3344\n",
      "Epoch 88/100\n",
      "30579/30579 [==============================] - 29s 947us/step - loss: 3.5080 - acc: 0.3264\n",
      "Epoch 89/100\n",
      "30579/30579 [==============================] - 29s 940us/step - loss: 3.5094 - acc: 0.3334\n",
      "Epoch 90/100\n",
      "30579/30579 [==============================] - 29s 946us/step - loss: 3.5056 - acc: 0.3376\n",
      "Epoch 91/100\n",
      "30579/30579 [==============================] - 29s 951us/step - loss: 3.5074 - acc: 0.3376\n",
      "Epoch 92/100\n",
      "30579/30579 [==============================] - 29s 941us/step - loss: 3.4977 - acc: 0.3339\n",
      "Epoch 93/100\n",
      "30579/30579 [==============================] - 29s 944us/step - loss: 3.4988 - acc: 0.3303\n",
      "Epoch 94/100\n",
      "30579/30579 [==============================] - 29s 939us/step - loss: 3.4970 - acc: 0.3399\n",
      "Epoch 95/100\n",
      "30579/30579 [==============================] - 29s 938us/step - loss: 3.4918 - acc: 0.3360\n",
      "Epoch 96/100\n",
      "30579/30579 [==============================] - 29s 944us/step - loss: 3.4928 - acc: 0.3420\n",
      "Epoch 97/100\n",
      "30579/30579 [==============================] - 29s 937us/step - loss: 3.4927 - acc: 0.3433\n",
      "Epoch 98/100\n",
      "30579/30579 [==============================] - 29s 945us/step - loss: 3.4851 - acc: 0.3406\n",
      "Epoch 99/100\n",
      "30579/30579 [==============================] - 29s 944us/step - loss: 3.4881 - acc: 0.3384\n",
      "Epoch 100/100\n",
      "30579/30579 [==============================] - 29s 944us/step - loss: 3.4843 - acc: 0.3427\n"
     ]
    },
    {
     "data": {
      "text/plain": [
       "<keras.callbacks.History at 0x140363b00>"
      ]
     },
     "execution_count": 13,
     "metadata": {},
     "output_type": "execute_result"
    }
   ],
   "source": [
    "regressor.fit(xtrain, ytrain, epochs = 100, batch_size = 50)"
   ]
  },
  {
   "cell_type": "code",
   "execution_count": 14,
   "metadata": {
    "colab": {},
    "colab_type": "code",
    "id": "lWi6HPVsUXwo"
   },
   "outputs": [
    {
     "data": {
      "text/plain": [
       "['./lstm.model']"
      ]
     },
     "execution_count": 14,
     "metadata": {},
     "output_type": "execute_result"
    }
   ],
   "source": [
    "from sklearn.externals import joblib\n",
    "joblib.dump(regressor,'./lstm.model')\n"
   ]
  },
  {
   "cell_type": "code",
   "execution_count": 15,
   "metadata": {
    "ExecuteTime": {
     "end_time": "2019-05-25T07:16:39.504403Z",
     "start_time": "2019-05-25T07:16:10.518278Z"
    },
    "colab": {
     "base_uri": "https://localhost:8080/",
     "height": 51
    },
    "colab_type": "code",
    "id": "Ye6HgKA-tqS7",
    "outputId": "a7d654e3-1186-4156-cebd-f831764c37f1"
   },
   "outputs": [
    {
     "data": {
      "text/plain": [
       "0    0.921948\n",
       "dtype: float64"
      ]
     },
     "execution_count": 15,
     "metadata": {},
     "output_type": "execute_result"
    }
   ],
   "source": [
    "predicted_stock_price = regressor.predict(xtest)\n",
    "a = []\n",
    "for i in range(len(ytest)):\n",
    "    fpr, tpr, thresholds = roc_curve(ytest[i], predicted_stock_price[i], pos_label=1)\n",
    "    each_a = auc(fpr, tpr)\n",
    "    a.append(each_a)\n",
    "a = pd.DataFrame(a)\n",
    "a = a.dropna()\n",
    "a.mean()"
   ]
  },
  {
   "cell_type": "markdown",
   "metadata": {
    "colab": {},
    "colab_type": "code",
    "id": "G7v_fVkCtt9f"
   },
   "source": [
    "# 预测结果"
   ]
  },
  {
   "cell_type": "code",
   "execution_count": 16,
   "metadata": {
    "ExecuteTime": {
     "end_time": "2019-05-25T07:18:15.206857Z",
     "start_time": "2019-05-25T07:18:14.929029Z"
    },
    "colab": {
     "base_uri": "https://localhost:8080/",
     "height": 238
    },
    "colab_type": "code",
    "id": "FI0fe0l8zu41",
    "outputId": "4c56b559-84ad-4aa6-db0a-6833c2be3024"
   },
   "outputs": [
    {
     "data": {
      "text/html": [
       "<div>\n",
       "<style scoped>\n",
       "    .dataframe tbody tr th:only-of-type {\n",
       "        vertical-align: middle;\n",
       "    }\n",
       "\n",
       "    .dataframe tbody tr th {\n",
       "        vertical-align: top;\n",
       "    }\n",
       "\n",
       "    .dataframe thead th {\n",
       "        text-align: right;\n",
       "    }\n",
       "</style>\n",
       "<table border=\"1\" class=\"dataframe\">\n",
       "  <thead>\n",
       "    <tr style=\"text-align: right;\">\n",
       "      <th></th>\n",
       "      <th>ts_code</th>\n",
       "      <th>trade_date</th>\n",
       "      <th>name</th>\n",
       "      <th>open</th>\n",
       "      <th>low</th>\n",
       "      <th>high</th>\n",
       "      <th>close</th>\n",
       "      <th>change</th>\n",
       "      <th>pct_change</th>\n",
       "      <th>vol</th>\n",
       "      <th>amount</th>\n",
       "      <th>pe</th>\n",
       "      <th>pb</th>\n",
       "      <th>y</th>\n",
       "    </tr>\n",
       "  </thead>\n",
       "  <tbody>\n",
       "    <tr>\n",
       "      <th>0</th>\n",
       "      <td>801010</td>\n",
       "      <td>20190506</td>\n",
       "      <td>农林牧渔</td>\n",
       "      <td>3446.17</td>\n",
       "      <td>3324.46</td>\n",
       "      <td>3553.36</td>\n",
       "      <td>3364.21</td>\n",
       "      <td>-208.12</td>\n",
       "      <td>-5.83</td>\n",
       "      <td>251935.0</td>\n",
       "      <td>2814423.0</td>\n",
       "      <td>48.91</td>\n",
       "      <td>3.61</td>\n",
       "      <td>0</td>\n",
       "    </tr>\n",
       "    <tr>\n",
       "      <th>1</th>\n",
       "      <td>801020</td>\n",
       "      <td>20190506</td>\n",
       "      <td>采掘</td>\n",
       "      <td>2787.37</td>\n",
       "      <td>2669.82</td>\n",
       "      <td>2790.80</td>\n",
       "      <td>2698.85</td>\n",
       "      <td>-171.23</td>\n",
       "      <td>-5.97</td>\n",
       "      <td>223412.0</td>\n",
       "      <td>1432666.0</td>\n",
       "      <td>13.70</td>\n",
       "      <td>1.21</td>\n",
       "      <td>0</td>\n",
       "    </tr>\n",
       "    <tr>\n",
       "      <th>2</th>\n",
       "      <td>801030</td>\n",
       "      <td>20190506</td>\n",
       "      <td>化工</td>\n",
       "      <td>2685.53</td>\n",
       "      <td>2559.36</td>\n",
       "      <td>2687.45</td>\n",
       "      <td>2581.85</td>\n",
       "      <td>-203.82</td>\n",
       "      <td>-7.32</td>\n",
       "      <td>469011.0</td>\n",
       "      <td>4412583.0</td>\n",
       "      <td>18.44</td>\n",
       "      <td>1.84</td>\n",
       "      <td>0</td>\n",
       "    </tr>\n",
       "    <tr>\n",
       "      <th>3</th>\n",
       "      <td>801040</td>\n",
       "      <td>20190506</td>\n",
       "      <td>钢铁</td>\n",
       "      <td>2447.10</td>\n",
       "      <td>2323.86</td>\n",
       "      <td>2447.10</td>\n",
       "      <td>2355.31</td>\n",
       "      <td>-138.63</td>\n",
       "      <td>-5.56</td>\n",
       "      <td>142708.0</td>\n",
       "      <td>609866.0</td>\n",
       "      <td>7.54</td>\n",
       "      <td>1.03</td>\n",
       "      <td>0</td>\n",
       "    </tr>\n",
       "    <tr>\n",
       "      <th>4</th>\n",
       "      <td>801050</td>\n",
       "      <td>20190506</td>\n",
       "      <td>有色金属</td>\n",
       "      <td>2741.15</td>\n",
       "      <td>2613.66</td>\n",
       "      <td>2758.79</td>\n",
       "      <td>2637.87</td>\n",
       "      <td>-195.66</td>\n",
       "      <td>-6.91</td>\n",
       "      <td>279336.0</td>\n",
       "      <td>2089373.0</td>\n",
       "      <td>31.89</td>\n",
       "      <td>1.90</td>\n",
       "      <td>0</td>\n",
       "    </tr>\n",
       "  </tbody>\n",
       "</table>\n",
       "</div>"
      ],
      "text/plain": [
       "   ts_code  trade_date  name     open      low     high    close  change  \\\n",
       "0   801010    20190506  农林牧渔  3446.17  3324.46  3553.36  3364.21 -208.12   \n",
       "1   801020    20190506    采掘  2787.37  2669.82  2790.80  2698.85 -171.23   \n",
       "2   801030    20190506    化工  2685.53  2559.36  2687.45  2581.85 -203.82   \n",
       "3   801040    20190506    钢铁  2447.10  2323.86  2447.10  2355.31 -138.63   \n",
       "4   801050    20190506  有色金属  2741.15  2613.66  2758.79  2637.87 -195.66   \n",
       "\n",
       "   pct_change       vol     amount     pe    pb  y  \n",
       "0       -5.83  251935.0  2814423.0  48.91  3.61  0  \n",
       "1       -5.97  223412.0  1432666.0  13.70  1.21  0  \n",
       "2       -7.32  469011.0  4412583.0  18.44  1.84  0  \n",
       "3       -5.56  142708.0   609866.0   7.54  1.03  0  \n",
       "4       -6.91  279336.0  2089373.0  31.89  1.90  0  "
      ]
     },
     "execution_count": 16,
     "metadata": {},
     "output_type": "execute_result"
    }
   ],
   "source": [
    "regressor=joblib.load('./lstm.model')\n",
    "df_test1 = pd.read_csv(r'../Data/20190521_STOCK.csv')\n",
    "df_test2 = pd.read_csv(r'../Data/20190528_STOCK.csv')\n",
    "df_test3 = pd.read_csv(r'../Data/20190604_STOCK.csv')\n",
    "df_test4 = pd.concat([df_test1,df_test2,df_test3])\n",
    "# df_test4.iloc[1:3]\n",
    "# df_test4 = df_test4[~df_test4.index.duplicated()]\n",
    "df_test4.head()\n",
    "# df_test4\n",
    "    \n"
   ]
  },
  {
   "cell_type": "code",
   "execution_count": 17,
   "metadata": {
    "ExecuteTime": {
     "end_time": "2019-05-25T07:18:19.453676Z",
     "start_time": "2019-05-25T07:18:18.380334Z"
    },
    "colab": {},
    "colab_type": "code",
    "id": "Cb7oId-wOnR0"
   },
   "outputs": [],
   "source": [
    "df_test4['vol_change'] = df_test4.groupby([\"ts_code\"])['vol'].pct_change()\n",
    "df_test4['low_change'] = df_test4.groupby([\"ts_code\"])['low'].pct_change()\n",
    "df_test4['high_change'] = df_test4.groupby([\"ts_code\"])['high'].pct_change()\n",
    "df_test4['gaodi']=(df_test4['high']-df_test4['low'])/df_test4['low']\n",
    "df_test4['gaoclo']=(df_test4['high']-df_test4['close'])/(df_test4['high']-df_test4['low'])\n",
    "df_test4['diclo']=(df_test4['close']-df_test4['low'])/(df_test4['high']-df_test4['low'])\n",
    "df_test4['pct_change']=df_test4['pct_change']/10\n",
    "df_test4=df_test4[['ts_code','trade_date','name','pct_change','vol_change','high_change','low_change','gaodi','gaoclo','diclo','y']]\n"
   ]
  },
  {
   "cell_type": "markdown",
   "metadata": {
    "colab_type": "text",
    "id": "YH6wAN-_UXx_"
   },
   "source": [
    "# 预测5.29-6.04"
   ]
  },
  {
   "cell_type": "code",
   "execution_count": 18,
   "metadata": {
    "colab": {},
    "colab_type": "code",
    "id": "W7yIcgichdP0"
   },
   "outputs": [],
   "source": [
    "# 预测未来五天的结果\n",
    "\n",
    "colums=[801010, 801020, 801030, 801040, 801050, 801080, 801110, 801120,\n",
    "        801130, 801140, 801150, 801160, 801170, 801180, 801200, 801210,\n",
    "        801230, 801250, 801260, 801270, 801280, 801300, 801710, 801720,\n",
    "        801730, 801740, 801750, 801760, 801770, 801780, 801790, 801880,\n",
    "        801890, 802600]\n",
    "range_index = (df_test4.trade_date > 20190521)\n",
    "df_final = df_test4[range_index]\n",
    "df_pr=pd.DataFrame()\n",
    "for arr in colums:\n",
    "    df3 = df_final.loc[df_final['ts_code']==arr]\n",
    "    dataset2=df3.values\n",
    "    x1=dataset2[0:10,3:11].tolist()\n",
    "    x1=np.array(x1)\n",
    "    x1=np.reshape(x1, (1,x1.shape[0],x1.shape[1]))\n",
    "    ytest1=regressor.predict(x1)\n",
    "    y_p=pd.DataFrame(ytest1)\n",
    "    y_p=y_p.T\n",
    "    y_p['ts_code']=arr\n",
    "    y_p['trade_date']=[20190529,20190530,20190531,20190603,201900604]\n",
    "    df_pr = pd.concat([df_pr,y_p])\n",
    "# df_pr=df_me.merge(df_pr,how='left',on='name')\n",
    "df_pr.columns=['p','ts_code','trade_date']\n",
    "df_pr=df_pr[['ts_code','trade_date','p']]\n",
    "range_index = (df_pr.trade_date != 20190607)\n",
    "df_prl = df_pr[range_index]\n",
    "df_pr1.to_csv('./结果提交第五周最终.csv')"
   ]
  },
  {
   "cell_type": "markdown",
   "metadata": {
    "colab": {},
    "colab_type": "code",
    "id": "E2BcbATVwL5R"
   },
   "source": [
    "# 交叉验证"
   ]
  },
  {
   "cell_type": "code",
   "execution_count": 20,
   "metadata": {
    "colab": {},
    "colab_type": "code",
    "id": "yvmtHpHZUXyk"
   },
   "outputs": [],
   "source": [
    "kf = KFold(n_splits=5, shuffle=True, random_state=520)"
   ]
  },
  {
   "cell_type": "code",
   "execution_count": 21,
   "metadata": {
    "colab": {
     "base_uri": "https://localhost:8080/",
     "height": 3653
    },
    "colab_type": "code",
    "id": "zAZXsJgo5wT9",
    "outputId": "c7e4d28b-261f-4b4d-d245-2a23e03b3ac2"
   },
   "outputs": [
    {
     "name": "stdout",
     "output_type": "stream",
     "text": [
      "0 fold\n",
      "Epoch 1/100\n",
      "24463/24463 [==============================] - 21s 850us/step - loss: 4.3401 - acc: 0.2091\n",
      "Epoch 2/100\n",
      "24463/24463 [==============================] - 17s 712us/step - loss: 4.3400 - acc: 0.2271\n",
      "Epoch 3/100\n",
      "24463/24463 [==============================] - 17s 706us/step - loss: 4.3399 - acc: 0.2251\n",
      "Epoch 4/100\n",
      "24463/24463 [==============================] - 18s 738us/step - loss: 4.3399 - acc: 0.2577\n",
      "Epoch 5/100\n",
      "24463/24463 [==============================] - 19s 781us/step - loss: 4.3399 - acc: 0.2299\n",
      "Epoch 6/100\n",
      "24463/24463 [==============================] - 20s 799us/step - loss: 4.3398 - acc: 0.2440\n",
      "Epoch 7/100\n",
      "24463/24463 [==============================] - 19s 760us/step - loss: 4.3398 - acc: 0.2261\n",
      "Epoch 8/100\n",
      "24463/24463 [==============================] - 19s 779us/step - loss: 4.3396 - acc: 0.2423\n",
      "Epoch 9/100\n",
      "24463/24463 [==============================] - 19s 776us/step - loss: 4.3390 - acc: 0.2739\n",
      "Epoch 10/100\n",
      "24463/24463 [==============================] - 18s 747us/step - loss: 4.3366 - acc: 0.2570\n",
      "Epoch 11/100\n",
      "24463/24463 [==============================] - 17s 684us/step - loss: 4.3304 - acc: 0.2179\n",
      "Epoch 12/100\n",
      "24463/24463 [==============================] - 17s 683us/step - loss: 4.3219 - acc: 0.2263\n",
      "Epoch 13/100\n",
      "24463/24463 [==============================] - 17s 695us/step - loss: 4.3136 - acc: 0.2369\n",
      "Epoch 14/100\n",
      "24463/24463 [==============================] - 18s 723us/step - loss: 4.3067 - acc: 0.2269\n",
      "Epoch 15/100\n",
      "24463/24463 [==============================] - 17s 705us/step - loss: 4.2980 - acc: 0.2227\n",
      "Epoch 16/100\n",
      "24463/24463 [==============================] - 17s 704us/step - loss: 4.2880 - acc: 0.2093\n",
      "Epoch 17/100\n",
      "24463/24463 [==============================] - 17s 705us/step - loss: 4.2775 - acc: 0.2182\n",
      "Epoch 18/100\n",
      "24463/24463 [==============================] - 17s 705us/step - loss: 4.2696 - acc: 0.2245\n",
      "Epoch 19/100\n",
      "24463/24463 [==============================] - 17s 704us/step - loss: 4.2598 - acc: 0.2329\n",
      "Epoch 20/100\n",
      "24463/24463 [==============================] - 17s 708us/step - loss: 4.2496 - acc: 0.2409\n",
      "Epoch 21/100\n",
      "24463/24463 [==============================] - 18s 722us/step - loss: 4.2394 - acc: 0.2474\n",
      "Epoch 22/100\n",
      "24463/24463 [==============================] - 17s 711us/step - loss: 4.2303 - acc: 0.2485\n",
      "Epoch 23/100\n",
      "24463/24463 [==============================] - 17s 709us/step - loss: 4.2194 - acc: 0.2557\n",
      "Epoch 24/100\n",
      "24463/24463 [==============================] - 17s 712us/step - loss: 4.2092 - acc: 0.2548\n",
      "Epoch 25/100\n",
      "24463/24463 [==============================] - 17s 711us/step - loss: 4.1962 - acc: 0.2623\n",
      "Epoch 26/100\n",
      "24463/24463 [==============================] - 17s 714us/step - loss: 4.1883 - acc: 0.2650\n",
      "Epoch 27/100\n",
      "24463/24463 [==============================] - 17s 713us/step - loss: 4.1768 - acc: 0.2657\n",
      "Epoch 28/100\n",
      "24463/24463 [==============================] - 17s 715us/step - loss: 4.1667 - acc: 0.2760\n",
      "Epoch 29/100\n",
      "24463/24463 [==============================] - 17s 713us/step - loss: 4.1558 - acc: 0.2774\n",
      "Epoch 30/100\n",
      "24463/24463 [==============================] - 17s 711us/step - loss: 4.1443 - acc: 0.2850\n",
      "Epoch 31/100\n",
      "24463/24463 [==============================] - 17s 709us/step - loss: 4.1359 - acc: 0.2834\n",
      "Epoch 32/100\n",
      "24463/24463 [==============================] - 17s 710us/step - loss: 4.1238 - acc: 0.2869\n",
      "Epoch 33/100\n",
      "24463/24463 [==============================] - 17s 711us/step - loss: 4.1155 - acc: 0.2822\n",
      "Epoch 34/100\n",
      "24463/24463 [==============================] - 18s 725us/step - loss: 4.1001 - acc: 0.2891\n",
      "Epoch 35/100\n",
      "24463/24463 [==============================] - 18s 720us/step - loss: 4.0900 - acc: 0.2857\n",
      "Epoch 36/100\n",
      "24463/24463 [==============================] - 17s 715us/step - loss: 4.0812 - acc: 0.2957\n",
      "Epoch 37/100\n",
      "24463/24463 [==============================] - 17s 712us/step - loss: 4.0684 - acc: 0.2982\n",
      "Epoch 38/100\n",
      "24463/24463 [==============================] - 17s 709us/step - loss: 4.0576 - acc: 0.2942\n",
      "Epoch 39/100\n",
      "24463/24463 [==============================] - 17s 715us/step - loss: 4.0472 - acc: 0.2966\n",
      "Epoch 40/100\n",
      "24463/24463 [==============================] - 17s 708us/step - loss: 4.0364 - acc: 0.2986\n",
      "Epoch 41/100\n",
      "24463/24463 [==============================] - 18s 717us/step - loss: 4.0271 - acc: 0.3039\n",
      "Epoch 42/100\n",
      "24463/24463 [==============================] - 17s 715us/step - loss: 4.0142 - acc: 0.3036\n",
      "Epoch 43/100\n",
      "24463/24463 [==============================] - 18s 721us/step - loss: 4.0080 - acc: 0.3066\n",
      "Epoch 44/100\n",
      "24463/24463 [==============================] - 17s 715us/step - loss: 3.9963 - acc: 0.3115\n",
      "Epoch 45/100\n",
      "24463/24463 [==============================] - 17s 715us/step - loss: 3.9858 - acc: 0.3106\n",
      "Epoch 46/100\n",
      "24463/24463 [==============================] - 17s 714us/step - loss: 3.9787 - acc: 0.3100\n",
      "Epoch 47/100\n",
      "24463/24463 [==============================] - 18s 730us/step - loss: 3.9699 - acc: 0.3116\n",
      "Epoch 48/100\n",
      "24463/24463 [==============================] - 18s 717us/step - loss: 3.9578 - acc: 0.3139\n",
      "Epoch 49/100\n",
      "24463/24463 [==============================] - 17s 715us/step - loss: 3.9511 - acc: 0.3155\n",
      "Epoch 50/100\n",
      "24463/24463 [==============================] - 17s 711us/step - loss: 3.9432 - acc: 0.3175\n",
      "Epoch 51/100\n",
      "24463/24463 [==============================] - 17s 713us/step - loss: 3.9332 - acc: 0.3025\n",
      "Epoch 52/100\n",
      "24463/24463 [==============================] - 17s 714us/step - loss: 3.9263 - acc: 0.3120\n",
      "Epoch 53/100\n",
      "24463/24463 [==============================] - 18s 721us/step - loss: 3.9176 - acc: 0.3125\n",
      "Epoch 54/100\n",
      "24463/24463 [==============================] - 18s 726us/step - loss: 3.9094 - acc: 0.3154\n",
      "Epoch 55/100\n",
      "24463/24463 [==============================] - 18s 717us/step - loss: 3.9025 - acc: 0.3108\n",
      "Epoch 56/100\n",
      "24463/24463 [==============================] - 17s 713us/step - loss: 3.8939 - acc: 0.3132\n",
      "Epoch 57/100\n",
      "24463/24463 [==============================] - 17s 709us/step - loss: 3.8913 - acc: 0.3192\n",
      "Epoch 58/100\n",
      "24463/24463 [==============================] - 17s 709us/step - loss: 3.8840 - acc: 0.3252\n",
      "Epoch 59/100\n",
      "24463/24463 [==============================] - 18s 720us/step - loss: 3.8770 - acc: 0.3223\n",
      "Epoch 60/100\n",
      "24463/24463 [==============================] - 18s 727us/step - loss: 3.8697 - acc: 0.3240\n",
      "Epoch 61/100\n",
      "24463/24463 [==============================] - 18s 723us/step - loss: 3.8598 - acc: 0.3203\n",
      "Epoch 62/100\n",
      "24463/24463 [==============================] - 18s 738us/step - loss: 3.8553 - acc: 0.3247\n",
      "Epoch 63/100\n",
      "24463/24463 [==============================] - 18s 725us/step - loss: 3.8495 - acc: 0.3193\n",
      "Epoch 64/100\n",
      "24463/24463 [==============================] - 18s 733us/step - loss: 3.8450 - acc: 0.3229\n",
      "Epoch 65/100\n",
      "24463/24463 [==============================] - 18s 729us/step - loss: 3.8416 - acc: 0.3184\n",
      "Epoch 66/100\n",
      "24463/24463 [==============================] - 16s 646us/step - loss: 3.8321 - acc: 0.3215\n",
      "Epoch 67/100\n",
      "24463/24463 [==============================] - 16s 639us/step - loss: 3.8272 - acc: 0.3265\n",
      "Epoch 68/100\n",
      "24463/24463 [==============================] - 16s 634us/step - loss: 3.8220 - acc: 0.3310\n",
      "Epoch 69/100\n",
      "24463/24463 [==============================] - 16s 636us/step - loss: 3.8165 - acc: 0.3268\n",
      "Epoch 70/100\n",
      "24463/24463 [==============================] - 15s 633us/step - loss: 3.8083 - acc: 0.3297\n",
      "Epoch 71/100\n",
      "24463/24463 [==============================] - 15s 630us/step - loss: 3.8051 - acc: 0.3303\n",
      "Epoch 72/100\n",
      "24463/24463 [==============================] - 16s 642us/step - loss: 3.7986 - acc: 0.3307\n",
      "Epoch 73/100\n",
      "24463/24463 [==============================] - 16s 642us/step - loss: 3.7940 - acc: 0.3286\n",
      "Epoch 74/100\n",
      "24463/24463 [==============================] - 15s 621us/step - loss: 3.7932 - acc: 0.3224\n",
      "Epoch 75/100\n",
      "24463/24463 [==============================] - 16s 635us/step - loss: 3.7851 - acc: 0.3222\n",
      "Epoch 76/100\n",
      "24463/24463 [==============================] - 16s 634us/step - loss: 3.7792 - acc: 0.3213\n",
      "Epoch 77/100\n",
      "24463/24463 [==============================] - 16s 635us/step - loss: 3.7792 - acc: 0.3213\n",
      "Epoch 78/100\n",
      "24463/24463 [==============================] - 16s 638us/step - loss: 3.7735 - acc: 0.3280\n",
      "Epoch 79/100\n",
      "24463/24463 [==============================] - 15s 622us/step - loss: 3.7694 - acc: 0.3245\n",
      "Epoch 80/100\n",
      "24463/24463 [==============================] - 15s 624us/step - loss: 3.7651 - acc: 0.3292\n",
      "Epoch 81/100\n",
      "24463/24463 [==============================] - 15s 622us/step - loss: 3.7565 - acc: 0.3346\n",
      "Epoch 82/100\n",
      "24463/24463 [==============================] - 15s 605us/step - loss: 3.7549 - acc: 0.3331\n",
      "Epoch 83/100\n",
      "24463/24463 [==============================] - 15s 616us/step - loss: 3.7510 - acc: 0.3351\n",
      "Epoch 84/100\n",
      "24463/24463 [==============================] - 15s 631us/step - loss: 3.7501 - acc: 0.3257\n",
      "Epoch 85/100\n",
      "24463/24463 [==============================] - 15s 626us/step - loss: 3.7446 - acc: 0.3261\n",
      "Epoch 86/100\n",
      "24463/24463 [==============================] - 15s 621us/step - loss: 3.7413 - acc: 0.3354\n",
      "Epoch 87/100\n",
      "24463/24463 [==============================] - 15s 625us/step - loss: 3.7372 - acc: 0.3337\n",
      "Epoch 88/100\n",
      "24463/24463 [==============================] - 15s 623us/step - loss: 3.7381 - acc: 0.3252\n",
      "Epoch 89/100\n",
      "24463/24463 [==============================] - 15s 617us/step - loss: 3.7255 - acc: 0.3292\n",
      "Epoch 90/100\n",
      "24463/24463 [==============================] - 15s 624us/step - loss: 3.7244 - acc: 0.3225\n",
      "Epoch 91/100\n",
      "24463/24463 [==============================] - 15s 619us/step - loss: 3.7237 - acc: 0.3256\n",
      "Epoch 92/100\n",
      "24463/24463 [==============================] - 15s 622us/step - loss: 3.7199 - acc: 0.3302\n",
      "Epoch 93/100\n",
      "24463/24463 [==============================] - 15s 620us/step - loss: 3.7126 - acc: 0.3266\n",
      "Epoch 94/100\n",
      "24463/24463 [==============================] - 17s 688us/step - loss: 3.7112 - acc: 0.3359\n",
      "Epoch 95/100\n",
      "24463/24463 [==============================] - 17s 709us/step - loss: 3.7106 - acc: 0.3264\n",
      "Epoch 96/100\n",
      "24463/24463 [==============================] - 17s 704us/step - loss: 3.7029 - acc: 0.3305\n",
      "Epoch 97/100\n",
      "24463/24463 [==============================] - 16s 674us/step - loss: 3.7009 - acc: 0.3320\n",
      "Epoch 98/100\n",
      "24463/24463 [==============================] - 16s 672us/step - loss: 3.6972 - acc: 0.3332\n",
      "Epoch 99/100\n",
      "24463/24463 [==============================] - 16s 671us/step - loss: 3.6999 - acc: 0.3298\n",
      "Epoch 100/100\n",
      "24463/24463 [==============================] - 17s 681us/step - loss: 3.6996 - acc: 0.3292\n",
      "0    0.868691\n",
      "dtype: float64\n"
     ]
    },
    {
     "ename": "ValueError",
     "evalue": "Found input variables with inconsistent numbers of samples: [5, 7645]",
     "output_type": "error",
     "traceback": [
      "\u001b[0;31m---------------------------------------------------------------------------\u001b[0m",
      "\u001b[0;31mValueError\u001b[0m                                Traceback (most recent call last)",
      "\u001b[0;32m<ipython-input-21-21a23d6f41ad>\u001b[0m in \u001b[0;36m<module>\u001b[0;34m\u001b[0m\n\u001b[1;32m     32\u001b[0m     \u001b[0mpredicted_stock_price2\u001b[0m \u001b[0;34m=\u001b[0m \u001b[0mpd\u001b[0m\u001b[0;34m.\u001b[0m\u001b[0mDataFrame\u001b[0m\u001b[0;34m(\u001b[0m\u001b[0mregressor1\u001b[0m\u001b[0;34m.\u001b[0m\u001b[0mpredict\u001b[0m\u001b[0;34m(\u001b[0m\u001b[0mxtest\u001b[0m\u001b[0;34m)\u001b[0m\u001b[0;34m)\u001b[0m\u001b[0;34m\u001b[0m\u001b[0;34m\u001b[0m\u001b[0m\n\u001b[1;32m     33\u001b[0m     \u001b[0;32mfor\u001b[0m \u001b[0mk\u001b[0m \u001b[0;32min\u001b[0m \u001b[0mrange\u001b[0m\u001b[0;34m(\u001b[0m\u001b[0mlen\u001b[0m\u001b[0;34m(\u001b[0m\u001b[0mytest\u001b[0m\u001b[0;34m)\u001b[0m\u001b[0;34m)\u001b[0m\u001b[0;34m:\u001b[0m\u001b[0;34m\u001b[0m\u001b[0;34m\u001b[0m\u001b[0m\n\u001b[0;32m---> 34\u001b[0;31m         \u001b[0mfpr2\u001b[0m\u001b[0;34m,\u001b[0m \u001b[0mtpr2\u001b[0m\u001b[0;34m,\u001b[0m \u001b[0mthresholds2\u001b[0m \u001b[0;34m=\u001b[0m \u001b[0mroc_curve\u001b[0m\u001b[0;34m(\u001b[0m\u001b[0mytest\u001b[0m\u001b[0;34m[\u001b[0m\u001b[0mk\u001b[0m\u001b[0;34m]\u001b[0m\u001b[0;34m,\u001b[0m \u001b[0mpredicted_stock_price2\u001b[0m\u001b[0;34m[\u001b[0m\u001b[0mk\u001b[0m\u001b[0;34m]\u001b[0m\u001b[0;34m,\u001b[0m \u001b[0mpos_label\u001b[0m\u001b[0;34m=\u001b[0m\u001b[0;36m1\u001b[0m\u001b[0;34m)\u001b[0m\u001b[0;34m\u001b[0m\u001b[0;34m\u001b[0m\u001b[0m\n\u001b[0m\u001b[1;32m     35\u001b[0m         \u001b[0mb\u001b[0m\u001b[0;34m.\u001b[0m\u001b[0mappend\u001b[0m\u001b[0;34m(\u001b[0m\u001b[0mauc\u001b[0m\u001b[0;34m(\u001b[0m\u001b[0mfpr2\u001b[0m\u001b[0;34m,\u001b[0m \u001b[0mtpr2\u001b[0m\u001b[0;34m)\u001b[0m\u001b[0;34m)\u001b[0m\u001b[0;34m\u001b[0m\u001b[0;34m\u001b[0m\u001b[0m\n\u001b[1;32m     36\u001b[0m     \u001b[0mb\u001b[0m\u001b[0;34m=\u001b[0m\u001b[0mpd\u001b[0m\u001b[0;34m.\u001b[0m\u001b[0mDataFrame\u001b[0m\u001b[0;34m(\u001b[0m\u001b[0mb\u001b[0m\u001b[0;34m)\u001b[0m\u001b[0;34m\u001b[0m\u001b[0;34m\u001b[0m\u001b[0m\n",
      "\u001b[0;32m/Library/Frameworks/Python.framework/Versions/3.7/lib/python3.7/site-packages/sklearn/metrics/ranking.py\u001b[0m in \u001b[0;36mroc_curve\u001b[0;34m(y_true, y_score, pos_label, sample_weight, drop_intermediate)\u001b[0m\n\u001b[1;32m    616\u001b[0m     \"\"\"\n\u001b[1;32m    617\u001b[0m     fps, tps, thresholds = _binary_clf_curve(\n\u001b[0;32m--> 618\u001b[0;31m         y_true, y_score, pos_label=pos_label, sample_weight=sample_weight)\n\u001b[0m\u001b[1;32m    619\u001b[0m \u001b[0;34m\u001b[0m\u001b[0m\n\u001b[1;32m    620\u001b[0m     \u001b[0;31m# Attempt to drop thresholds corresponding to points in between and\u001b[0m\u001b[0;34m\u001b[0m\u001b[0;34m\u001b[0m\u001b[0;34m\u001b[0m\u001b[0m\n",
      "\u001b[0;32m/Library/Frameworks/Python.framework/Versions/3.7/lib/python3.7/site-packages/sklearn/metrics/ranking.py\u001b[0m in \u001b[0;36m_binary_clf_curve\u001b[0;34m(y_true, y_score, pos_label, sample_weight)\u001b[0m\n\u001b[1;32m    397\u001b[0m         \u001b[0;32mraise\u001b[0m \u001b[0mValueError\u001b[0m\u001b[0;34m(\u001b[0m\u001b[0;34m\"{0} format is not supported\"\u001b[0m\u001b[0;34m.\u001b[0m\u001b[0mformat\u001b[0m\u001b[0;34m(\u001b[0m\u001b[0my_type\u001b[0m\u001b[0;34m)\u001b[0m\u001b[0;34m)\u001b[0m\u001b[0;34m\u001b[0m\u001b[0;34m\u001b[0m\u001b[0m\n\u001b[1;32m    398\u001b[0m \u001b[0;34m\u001b[0m\u001b[0m\n\u001b[0;32m--> 399\u001b[0;31m     \u001b[0mcheck_consistent_length\u001b[0m\u001b[0;34m(\u001b[0m\u001b[0my_true\u001b[0m\u001b[0;34m,\u001b[0m \u001b[0my_score\u001b[0m\u001b[0;34m,\u001b[0m \u001b[0msample_weight\u001b[0m\u001b[0;34m)\u001b[0m\u001b[0;34m\u001b[0m\u001b[0;34m\u001b[0m\u001b[0m\n\u001b[0m\u001b[1;32m    400\u001b[0m     \u001b[0my_true\u001b[0m \u001b[0;34m=\u001b[0m \u001b[0mcolumn_or_1d\u001b[0m\u001b[0;34m(\u001b[0m\u001b[0my_true\u001b[0m\u001b[0;34m)\u001b[0m\u001b[0;34m\u001b[0m\u001b[0;34m\u001b[0m\u001b[0m\n\u001b[1;32m    401\u001b[0m     \u001b[0my_score\u001b[0m \u001b[0;34m=\u001b[0m \u001b[0mcolumn_or_1d\u001b[0m\u001b[0;34m(\u001b[0m\u001b[0my_score\u001b[0m\u001b[0;34m)\u001b[0m\u001b[0;34m\u001b[0m\u001b[0;34m\u001b[0m\u001b[0m\n",
      "\u001b[0;32m/Library/Frameworks/Python.framework/Versions/3.7/lib/python3.7/site-packages/sklearn/utils/validation.py\u001b[0m in \u001b[0;36mcheck_consistent_length\u001b[0;34m(*arrays)\u001b[0m\n\u001b[1;32m    233\u001b[0m     \u001b[0;32mif\u001b[0m \u001b[0mlen\u001b[0m\u001b[0;34m(\u001b[0m\u001b[0muniques\u001b[0m\u001b[0;34m)\u001b[0m \u001b[0;34m>\u001b[0m \u001b[0;36m1\u001b[0m\u001b[0;34m:\u001b[0m\u001b[0;34m\u001b[0m\u001b[0;34m\u001b[0m\u001b[0m\n\u001b[1;32m    234\u001b[0m         raise ValueError(\"Found input variables with inconsistent numbers of\"\n\u001b[0;32m--> 235\u001b[0;31m                          \" samples: %r\" % [int(l) for l in lengths])\n\u001b[0m\u001b[1;32m    236\u001b[0m \u001b[0;34m\u001b[0m\u001b[0m\n\u001b[1;32m    237\u001b[0m \u001b[0;34m\u001b[0m\u001b[0m\n",
      "\u001b[0;31mValueError\u001b[0m: Found input variables with inconsistent numbers of samples: [5, 7645]"
     ]
    }
   ],
   "source": [
    "i=0\n",
    "df_yanz=pd.DataFrame()\n",
    "df_jieguo=pd.DataFrame()\n",
    "for train,test in kf.split(xtrain):\n",
    "    a = []\n",
    "    b= []\n",
    "    X_train, X_valid= xtrain[train,:], xtrain[test,:]\n",
    "    y_train, y_valid = ytrain[train,:], ytrain[test,:]\n",
    "    print(i, 'fold')\n",
    "    regressor1 = Sequential()\n",
    "    regressor1.add(LSTM(units = 60, return_sequences = True, input_shape = (xtrain.shape[1], 8)))\n",
    "    regressor1.add(Dropout(0.2))\n",
    "    regressor1.add(LSTM(units = 60, return_sequences = True))\n",
    "    regressor1.add(Dropout(0.2))\n",
    "    regressor1.add(LSTM(units = 60,return_sequences = True))\n",
    "    regressor1.add(Dropout(0.2))\n",
    "    regressor1.add(LSTM(units = 60))\n",
    "    regressor1.add(Dropout(0.2))\n",
    "    regressor1.add(Dense(units = 5))\n",
    "    regressor1.add(Activation('sigmoid'))\n",
    "    regressor1.compile(loss='categorical_crossentropy',\n",
    "                  optimizer='adam', metrics=['accuracy'])\n",
    "    regressor1.fit(X_train,y_train, epochs = 100, batch_size = 80)\n",
    "    joblib.dump(regressor1,'./lstm{i}.model')\n",
    "    predicted_stock_price1 = regressor1.predict(X_valid)\n",
    "    for j in range(len(y_valid)):\n",
    "        fpr1, tpr1, thresholds1 = roc_curve(y_valid[j],predicted_stock_price1[j], pos_label=1)\n",
    "        a.append(auc(fpr1, tpr1))\n",
    "    a=pd.DataFrame(a)\n",
    "    a=a.dropna()\n",
    "    print(a.mean())\n",
    "    predicted_stock_price2 = regressor1.predict(xtest)\n",
    "    for k in range(len(ytest)):\n",
    "        fpr2, tpr2, thresholds2 = roc_curve(ytest[k], predicted_stock_price2[k], pos_label=1)\n",
    "        b.append(auc(fpr2, tpr2))\n",
    "    b=pd.DataFrame(b)\n",
    "    b=b.dropna()\n",
    "    print(b.mean())\n",
    "    df_yanz=df_yanz+pd.DataFrame(predicted_stock_price2)\n",
    "    df_pr=pd.DataFrame()\n",
    "    for arr in colums:\n",
    "        df4 = df_final.loc[df_final['ts_code']==arr]\n",
    "        dataset4=df4.values\n",
    "        x1=dataset2[0:10,3:8].tolist()\n",
    "        x1=np.array(x1)\n",
    "        x1=np.reshape(x1, (1,x1.shape[0],x1.shape[1]))\n",
    "        ytest1=regressor1.predict(x1)\n",
    "        y_p=pd.DataFrame(ytest1)\n",
    "        y_p=y_p.T\n",
    "        y_p['ts_code']=arr\n",
    "        y_p['trade_date']=[20190529,20190530,20190531,20190603,201900604]\n",
    "    df_pr = pd.concat([df_pr,y_p])\n",
    "# df_pr=df_me.merge(df_pr,how='left',on='name')\n",
    "    df_pr.columns=['i','ts_code','trade_date']\n",
    "    df_pr=df_pr[['ts_code','trade_date','i']]\n",
    "    df_jieguo['ts_code']=df_pr['ts_code']\n",
    "    df_jieguo['trade_date']=df_pr['trade_date']\n",
    "    df_jieguo['i']=df_pr['i']\n",
    "    i=i+1\n",
    "    \n",
    "    "
   ]
  },
  {
   "cell_type": "markdown",
   "metadata": {
    "colab_type": "text",
    "id": "qoqDrHwX5wUJ"
   },
   "source": [
    "# 新闻"
   ]
  },
  {
   "cell_type": "code",
   "execution_count": 0,
   "metadata": {
    "colab": {},
    "colab_type": "code",
    "id": "7vy98Vht5wUK"
   },
   "outputs": [],
   "source": [
    "df1 = pd.read_csv(r'./TRAINSET_STOCK.csv')\n",
    "df_add = pd.read_csv(r'./20190506_STOCK.csv')\n",
    "df_test = pd.read_csv(r'./20190514_STOCK.csv')\n",
    "df1 = pd.concat([df1,df_add,df_test])"
   ]
  },
  {
   "cell_type": "code",
   "execution_count": 0,
   "metadata": {
    "colab": {
     "base_uri": "https://localhost:8080/",
     "height": 165
    },
    "colab_type": "code",
    "id": "CwBRWOcgnAw7",
    "outputId": "f0606309-a225-42a7-efac-e892060cf77c"
   },
   "outputs": [
    {
     "data": {
      "text/html": [
       "<div>\n",
       "<style scoped>\n",
       "    .dataframe tbody tr th:only-of-type {\n",
       "        vertical-align: middle;\n",
       "    }\n",
       "\n",
       "    .dataframe tbody tr th {\n",
       "        vertical-align: top;\n",
       "    }\n",
       "\n",
       "    .dataframe thead th {\n",
       "        text-align: right;\n",
       "    }\n",
       "</style>\n",
       "<table border=\"1\" class=\"dataframe\">\n",
       "  <thead>\n",
       "    <tr style=\"text-align: right;\">\n",
       "      <th></th>\n",
       "      <th>0</th>\n",
       "      <th>1152</th>\n",
       "      <th>2304</th>\n",
       "      <th>3456</th>\n",
       "      <th>3656</th>\n",
       "      <th>4608</th>\n",
       "      <th>5760</th>\n",
       "      <th>6912</th>\n",
       "      <th>8064</th>\n",
       "      <th>9216</th>\n",
       "      <th>10368</th>\n",
       "      <th>11520</th>\n",
       "      <th>12672</th>\n",
       "      <th>13824</th>\n",
       "      <th>14976</th>\n",
       "      <th>16128</th>\n",
       "      <th>17280</th>\n",
       "      <th>17480</th>\n",
       "      <th>18432</th>\n",
       "      <th>19584</th>\n",
       "      <th>20736</th>\n",
       "      <th>21888</th>\n",
       "      <th>23040</th>\n",
       "      <th>24192</th>\n",
       "      <th>25344</th>\n",
       "      <th>26496</th>\n",
       "      <th>27648</th>\n",
       "      <th>28800</th>\n",
       "      <th>29952</th>\n",
       "      <th>31104</th>\n",
       "      <th>32256</th>\n",
       "      <th>33408</th>\n",
       "      <th>34560</th>\n",
       "      <th>35712</th>\n",
       "      <th>36864</th>\n",
       "      <th>38016</th>\n",
       "    </tr>\n",
       "  </thead>\n",
       "  <tbody>\n",
       "    <tr>\n",
       "      <th>name</th>\n",
       "      <td>农林牧渔</td>\n",
       "      <td>采掘</td>\n",
       "      <td>化工</td>\n",
       "      <td>黑色金属</td>\n",
       "      <td>钢铁</td>\n",
       "      <td>有色金属</td>\n",
       "      <td>电子</td>\n",
       "      <td>家用电器</td>\n",
       "      <td>食品饮料</td>\n",
       "      <td>纺织服装</td>\n",
       "      <td>轻工制造</td>\n",
       "      <td>医药生物</td>\n",
       "      <td>公用事业</td>\n",
       "      <td>交通运输</td>\n",
       "      <td>房地产</td>\n",
       "      <td>商业贸易</td>\n",
       "      <td>餐饮旅游</td>\n",
       "      <td>休闲服务</td>\n",
       "      <td>综合</td>\n",
       "      <td>申万制造</td>\n",
       "      <td>申万消费</td>\n",
       "      <td>申万投资</td>\n",
       "      <td>申万服务</td>\n",
       "      <td>申万300指数</td>\n",
       "      <td>建筑材料</td>\n",
       "      <td>建筑装饰</td>\n",
       "      <td>电气设备</td>\n",
       "      <td>国防军工</td>\n",
       "      <td>计算机</td>\n",
       "      <td>传媒</td>\n",
       "      <td>通信</td>\n",
       "      <td>银行</td>\n",
       "      <td>非银金融</td>\n",
       "      <td>汽车</td>\n",
       "      <td>机械设备</td>\n",
       "      <td>交银装备</td>\n",
       "    </tr>\n",
       "    <tr>\n",
       "      <th>ts_code</th>\n",
       "      <td>801010</td>\n",
       "      <td>801020</td>\n",
       "      <td>801030</td>\n",
       "      <td>801040</td>\n",
       "      <td>801040</td>\n",
       "      <td>801050</td>\n",
       "      <td>801080</td>\n",
       "      <td>801110</td>\n",
       "      <td>801120</td>\n",
       "      <td>801130</td>\n",
       "      <td>801140</td>\n",
       "      <td>801150</td>\n",
       "      <td>801160</td>\n",
       "      <td>801170</td>\n",
       "      <td>801180</td>\n",
       "      <td>801200</td>\n",
       "      <td>801210</td>\n",
       "      <td>801210</td>\n",
       "      <td>801230</td>\n",
       "      <td>801250</td>\n",
       "      <td>801260</td>\n",
       "      <td>801270</td>\n",
       "      <td>801280</td>\n",
       "      <td>801300</td>\n",
       "      <td>801710</td>\n",
       "      <td>801720</td>\n",
       "      <td>801730</td>\n",
       "      <td>801740</td>\n",
       "      <td>801750</td>\n",
       "      <td>801760</td>\n",
       "      <td>801770</td>\n",
       "      <td>801780</td>\n",
       "      <td>801790</td>\n",
       "      <td>801880</td>\n",
       "      <td>801890</td>\n",
       "      <td>802600</td>\n",
       "    </tr>\n",
       "  </tbody>\n",
       "</table>\n",
       "</div>"
      ],
      "text/plain": [
       "          0       1152    2304    3456   ...   34560   35712   36864   38016\n",
       "name       农林牧渔      采掘      化工    黑色金属  ...    非银金融      汽车    机械设备    交银装备\n",
       "ts_code  801010  801020  801030  801040  ...  801790  801880  801890  802600\n",
       "\n",
       "[2 rows x 36 columns]"
      ]
     },
     "execution_count": 84,
     "metadata": {
      "tags": []
     },
     "output_type": "execute_result"
    }
   ],
   "source": [
    "df2=df1[['name','ts_code']]\n",
    "df2 = df2.drop_duplicates(keep='first')\n"
   ]
  },
  {
   "cell_type": "code",
   "execution_count": 0,
   "metadata": {
    "colab": {
     "base_uri": "https://localhost:8080/",
     "height": 170
    },
    "colab_type": "code",
    "id": "5aBT8rQpq5oQ",
    "outputId": "badae5dd-a38d-47ae-edf8-684cd80752be"
   },
   "outputs": [
    {
     "name": "stdout",
     "output_type": "stream",
     "text": [
      "<class 'pandas.core.frame.DataFrame'>\n",
      "Int64Index: 27077 entries, 0 to 112\n",
      "Data columns (total 4 columns):\n",
      "id         27077 non-null object\n",
      "date       27077 non-null int64\n",
      "title      27048 non-null object\n",
      "content    26915 non-null object\n",
      "dtypes: int64(1), object(3)\n",
      "memory usage: 1.0+ MB\n"
     ]
    }
   ],
   "source": [
    "df_news1 = pd.read_csv(r'./TRAINSET_NEWS.csv')\n",
    "df_news2= pd.read_csv(r'./20190506_NEWS.csv')\n",
    "df_news3= pd.read_csv(r'./20190514_NEWS.csv')\n",
    "df_news = pd.concat([df_news1,df_news2,df_news3])\n",
    "df_news.info"
   ]
  },
  {
   "cell_type": "code",
   "execution_count": 0,
   "metadata": {
    "colab": {},
    "colab_type": "code",
    "id": "lMIF6YHBrwiO"
   },
   "outputs": [],
   "source": []
  },
  {
   "cell_type": "markdown",
   "metadata": {
    "colab_type": "text",
    "id": "-QhyFLGZ5wUP"
   },
   "source": [
    "# Tensorflow"
   ]
  },
  {
   "cell_type": "code",
   "execution_count": 0,
   "metadata": {
    "colab": {},
    "colab_type": "code",
    "id": "3Y4w2xzF5wUU"
   },
   "outputs": [],
   "source": [
    "import tensorflow as tf\n",
    "time_step=10      #时间步\n",
    "rnn_unit=25       #hidden layer units\n",
    "batch_size=80     #每一批次训练多少个样例\n",
    "input_size=3      #输入层维度\n",
    "output_size=1     #输出层维度\n",
    "lr=0.0006 \n"
   ]
  },
  {
   "cell_type": "code",
   "execution_count": 0,
   "metadata": {
    "colab": {},
    "colab_type": "code",
    "id": "PES9y7Tr5wUX"
   },
   "outputs": [],
   "source": [
    "# 训练集\n",
    "def get_train_data(batch_size=80,time_step=10,train_begin=0,train_end=30000):\n",
    "    batch_index=[]\n",
    "    data_train=dataset[train_begin:train_end]\n",
    "    normalized_train_data=(data_train-np.mean(data_train,axis=0))/np.std(data_train,axis=0)  #标准化\n",
    "    train_x,train_y=[],[]   #训练集x和y初定义\n",
    "    for i in range(len(normalized_train_data)-time_step):\n",
    "        if i % batch_size==0:\n",
    "            batch_index.append(i)\n",
    "            x=normalized_train_data[i:i+time_step,:8]\n",
    "            y=normalized_train_data[i:i+time_step,7,np.newaxis]\n",
    "            train_x.append(x.tolist())\n",
    "            train_y.append(y.tolist())\n",
    "    batch_index.append((len(normalized_train_data)-time_step))\n",
    "    return batch_index,train_x,train_y\n",
    " \n"
   ]
  },
  {
   "cell_type": "code",
   "execution_count": 0,
   "metadata": {
    "colab": {},
    "colab_type": "code",
    "id": "gAZ4wvn5t8sD"
   },
   "outputs": [],
   "source": [
    "# 测试集\n",
    "def get_test_data(time_step=10,test_begin=30000):\n",
    "    data_test=dataset[test_begin:]\n",
    "    mean=np.mean(data_test,axis=0)\n",
    "    std=np.std(data_test,axis=0)\n",
    "    normalized_test_data=(data_test-mean)/std  #标准化\n",
    "    size=(len(normalized_test_data)+time_step-1)//time_step  #有size个sample \n",
    "    test_x,test_y=[],[]  \n",
    "    for i in range(size-1):\n",
    "        x=normalized_test_data[i*time_step:(i+1)*time_step,:8]\n",
    "        y=normalized_test_data[i*time_step:(i+1)*time_step,7]\n",
    "        test_x.append(x.tolist())\n",
    "        test_y.extend(y)\n",
    "    test_x.append((normalized_test_data[(i+1)*time_step:,:3]).tolist())\n",
    "    test_y.extend((normalized_test_data[(i+1)*time_step:,2]).tolist())\n",
    "    return mean,std,test_x,test_y"
   ]
  },
  {
   "cell_type": "code",
   "execution_count": 0,
   "metadata": {
    "colab": {},
    "colab_type": "code",
    "id": "XAycDdYMuK4c"
   },
   "outputs": [],
   "source": [
    "# 模型搭建\n",
    "weights = {\n",
    "    'in': tf.Variable(tf.random_normal([input_size, rnn_unit])),\n",
    "    'out': tf.Variable(tf.random_normal([rnn_unit, 1]))\n",
    "}\n",
    "biases = {\n",
    "    'in': tf.Variable(tf.constant(0.1, shape=[rnn_unit, ])),\n",
    "    'out': tf.Variable(tf.constant(0.1, shape=[1, ]))\n",
    "}\n",
    "def lstm(X):     \n",
    "    batch_size=tf.shape(X)[0]\n",
    "    time_step=tf.shape(X)[1]\n",
    "    w_in=weights['in']\n",
    "    b_in=biases['in']  \n",
    "    input=tf.reshape(X,[-1,input_size])  #需要将tensor转成2维进行计算，计算后的结果作为隐藏层的输入\n",
    "    input_rnn=tf.matmul(input,w_in)+b_in\n",
    "    input_rnn=tf.reshape(input_rnn,[-1,time_step,rnn_unit])  #将tensor转成3维，作为lstm cell的输入\n",
    "    cell=tf.nn.rnn_cell.BasicLSTMCell(rnn_unit)\n",
    "    init_state=cell.zero_state(batch_size,dtype=tf.float32)\n",
    "    output_rnn,final_states=tf.nn.dynamic_rnn(cell, input_rnn,initial_state=init_state, dtype=tf.float32)  #output_rnn是记录lstm每个输出节点的结果，final_states是最后一个cell的结果\n",
    "    output=tf.reshape(output_rnn,[-1,rnn_unit]) #作为输出层的输入\n",
    "    w_out=weights['out']\n",
    "    b_out=biases['out']\n",
    "    pred=tf.matmul(output,w_out)+b_out\n",
    "    return pred,final_states"
   ]
  },
  {
   "cell_type": "code",
   "execution_count": 0,
   "metadata": {
    "colab": {},
    "colab_type": "code",
    "id": "RwDt36biuWX1"
   },
   "outputs": [],
   "source": [
    "def train_lstm(batch_size=80,time_step=10,train_begin=0,train_end=30000):\n",
    "    X=tf.placeholder(tf.float32, shape=[None,time_step,input_size])\n",
    "    Y=tf.placeholder(tf.float32, shape=[None,time_step,output_size])\n",
    "    batch_index,train_x,train_y=get_train_data(batch_size,time_step,train_begin,train_end)\n",
    "    pred=lstm(X)\n",
    "    #损失函数\n",
    "    loss=tf.reduce_mean(tf.square(tf.reshape(pred,[-1])-tf.reshape(Y, [-1])))\n",
    "    train_op=tf.train.AdamOptimizer(lr).minimize(loss)\n",
    "    saver=tf.train.Saver(tf.global_variables(),max_to_keep=15)\n",
    "    module_file = tf.train.latest_checkpoint()    \n",
    "    with tf.Session() as sess:\n",
    "        #sess.run(tf.global_variables_initializer())\n",
    "        saver.restore(sess, module_file)\n",
    "        #重复训练2000次\n",
    "        for i in range(2000):\n",
    "            for step in range(len(batch_index)-1):\n",
    "                loss_=sess.run([train_op,loss],feed_dict={X:train_x[batch_index[step]:batch_index[step+1]],Y:train_y[batch_index[step]:batch_index[step+1]]})\n",
    "            print(i,loss_)\n",
    "            if i % 200==0:\n",
    "                print(\"保存模型：\",saver.save(sess,'stock{i}.model',global_step=i))"
   ]
  },
  {
   "cell_type": "code",
   "execution_count": 0,
   "metadata": {
    "colab": {},
    "colab_type": "code",
    "id": "BI6Foo891rww"
   },
   "outputs": [],
   "source": []
  },
  {
   "cell_type": "code",
   "execution_count": 0,
   "metadata": {
    "colab": {},
    "colab_type": "code",
    "id": "2nLy-UqwUX0B"
   },
   "outputs": [],
   "source": []
  }
 ],
 "metadata": {
  "colab": {
   "collapsed_sections": [],
   "name": "stockprocessing.ipynb",
   "provenance": [],
   "toc_visible": true,
   "version": "0.3.2"
  },
  "kernelspec": {
   "display_name": "Python 3",
   "language": "python",
   "name": "python3"
  },
  "language_info": {
   "codemirror_mode": {
    "name": "ipython",
    "version": 3
   },
   "file_extension": ".py",
   "mimetype": "text/x-python",
   "name": "python",
   "nbconvert_exporter": "python",
   "pygments_lexer": "ipython3",
   "version": "3.7.2"
  }
 },
 "nbformat": 4,
 "nbformat_minor": 1
}
