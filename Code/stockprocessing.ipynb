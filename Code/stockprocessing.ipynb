{
 "cells": [
  {
   "cell_type": "code",
   "execution_count": 1,
   "metadata": {
    "colab": {},
    "colab_type": "code",
    "id": "LFLc-ooh5wTh"
   },
   "outputs": [],
   "source": [
    "import time\n",
    "from sklearn.model_selection import train_test_split\n",
    "import numpy as np\n",
    "import pandas as pd\n",
    "import datetime\n",
    "import seaborn as sns\n",
    "import matplotlib.pyplot as plt\n",
    "%matplotlib inline\n",
    "from sklearn.decomposition import PCA\n",
    "import math\n",
    "from sklearn.preprocessing import MinMaxScaler\n",
    "from sklearn.metrics import mean_squared_error\n",
    "from sklearn.preprocessing import StandardScaler\n",
    "import xgboost as xgb\n",
    "import warnings\n",
    "warnings.filterwarnings(\"ignore\")"
   ]
  },
  {
   "cell_type": "markdown",
   "metadata": {},
   "source": [
    "# 特征处理"
   ]
  },
  {
   "cell_type": "code",
   "execution_count": 4,
   "metadata": {
    "colab": {},
    "colab_type": "code",
    "id": "AFQtedZM5wTn"
   },
   "outputs": [],
   "source": [
    "df = pd.read_csv(r'./TRAINSET_STOCK.csv')\n",
    "df_add = pd.read_csv(r'./20190506_STOCK.csv')\n",
    "df_test = pd.read_csv(r'./20190514_STOCK.csv')\n",
    "df = pd.concat([df,df_add,df_test])\n",
    "df['vol_change'] = df.groupby([\"ts_code\"])['vol'].pct_change()\n",
    "df['low_change'] = df.groupby([\"ts_code\"])['low'].pct_change()\n",
    "df['high_change'] = df.groupby([\"ts_code\"])['high'].pct_change()\n",
    "df['vol_change'] = df['vol_change'].fillna(0)\n",
    "df['low_change'] = df['vol_change'].fillna(0)\n",
    "df['high_change'] = df['vol_change'].fillna(0)\n",
    "df =  df[['ts_code','trade_date','name','pct_change','vol_change','high_change','low_change','y']]\n",
    "# l=0\n",
    "# for arr in df['ts_code']:\n",
    "#   df.loc[(df['ts_code'] ==arr) == True, '行业'] = l\n",
    "#   l=l+1\n"
   ]
  },
  {
   "cell_type": "code",
   "execution_count": 70,
   "metadata": {
    "colab": {
     "base_uri": "https://localhost:8080/",
     "height": 204
    },
    "colab_type": "code",
    "id": "VjqF0fnlTUuc",
    "outputId": "dfddefe2-cef7-4d97-da17-9bd8a286df39"
   },
   "outputs": [
    {
     "data": {
      "text/html": [
       "<div>\n",
       "<style scoped>\n",
       "    .dataframe tbody tr th:only-of-type {\n",
       "        vertical-align: middle;\n",
       "    }\n",
       "\n",
       "    .dataframe tbody tr th {\n",
       "        vertical-align: top;\n",
       "    }\n",
       "\n",
       "    .dataframe thead th {\n",
       "        text-align: right;\n",
       "    }\n",
       "</style>\n",
       "<table border=\"1\" class=\"dataframe\">\n",
       "  <thead>\n",
       "    <tr style=\"text-align: right;\">\n",
       "      <th></th>\n",
       "      <th>pct_change</th>\n",
       "      <th>vol_change</th>\n",
       "      <th>high_change</th>\n",
       "      <th>low_change</th>\n",
       "      <th>y</th>\n",
       "    </tr>\n",
       "  </thead>\n",
       "  <tbody>\n",
       "    <tr>\n",
       "      <th>0</th>\n",
       "      <td>1.33</td>\n",
       "      <td>0.000000</td>\n",
       "      <td>0.000000</td>\n",
       "      <td>0.000000</td>\n",
       "      <td>1</td>\n",
       "    </tr>\n",
       "    <tr>\n",
       "      <th>1</th>\n",
       "      <td>0.19</td>\n",
       "      <td>0.039698</td>\n",
       "      <td>0.039698</td>\n",
       "      <td>0.039698</td>\n",
       "      <td>1</td>\n",
       "    </tr>\n",
       "    <tr>\n",
       "      <th>2</th>\n",
       "      <td>-0.39</td>\n",
       "      <td>-0.134904</td>\n",
       "      <td>-0.134904</td>\n",
       "      <td>-0.134904</td>\n",
       "      <td>0</td>\n",
       "    </tr>\n",
       "    <tr>\n",
       "      <th>3</th>\n",
       "      <td>0.74</td>\n",
       "      <td>-0.087730</td>\n",
       "      <td>-0.087730</td>\n",
       "      <td>-0.087730</td>\n",
       "      <td>1</td>\n",
       "    </tr>\n",
       "    <tr>\n",
       "      <th>4</th>\n",
       "      <td>0.51</td>\n",
       "      <td>0.222145</td>\n",
       "      <td>0.222145</td>\n",
       "      <td>0.222145</td>\n",
       "      <td>1</td>\n",
       "    </tr>\n",
       "  </tbody>\n",
       "</table>\n",
       "</div>"
      ],
      "text/plain": [
       "   pct_change  vol_change  high_change  low_change  y\n",
       "0        1.33    0.000000     0.000000    0.000000  1\n",
       "1        0.19    0.039698     0.039698    0.039698  1\n",
       "2       -0.39   -0.134904    -0.134904   -0.134904  0\n",
       "3        0.74   -0.087730    -0.087730   -0.087730  1\n",
       "4        0.51    0.222145     0.222145    0.222145  1"
      ]
     },
     "execution_count": 70,
     "metadata": {
      "tags": []
     },
     "output_type": "execute_result"
    }
   ],
   "source": [
    "df = df[['pct_change','vol_change','high_change','low_change','y']]\n",
    "df.head()"
   ]
  },
  {
   "cell_type": "markdown",
   "metadata": {
    "colab_type": "text",
    "id": "p5w1qmY05wTt"
   },
   "source": [
    "# LSTM"
   ]
  },
  {
   "cell_type": "code",
   "execution_count": 0,
   "metadata": {
    "colab": {},
    "colab_type": "code",
    "id": "wYtriXrZ5wTu"
   },
   "outputs": [],
   "source": [
    "from keras.models import Sequential\n",
    "from keras.layers import Dense\n",
    "from keras.layers import LSTM\n",
    "from keras.layers import Dropout,Activation\n",
    "from sklearn.model_selection import KFold\n",
    "from sklearn.model_selection import train_test_split\n",
    "from sklearn.metrics import auc\n",
    "from sklearn.metrics import roc_curve"
   ]
  },
  {
   "cell_type": "markdown",
   "metadata": {
    "colab_type": "text",
    "id": "1d061AE55wTy"
   },
   "source": [
    "# 没有交叉验证\n"
   ]
  },
  {
   "cell_type": "code",
   "execution_count": 72,
   "metadata": {
    "colab": {
     "base_uri": "https://localhost:8080/",
     "height": 136
    },
    "colab_type": "code",
    "id": "txP6wDsM5wT0",
    "outputId": "3bd8f7a7-42b4-4cb3-a2ce-b02ff2fceeb1"
   },
   "outputs": [
    {
     "data": {
      "text/plain": [
       "array([[ 1.33      ,  0.        ,  0.        ,  0.        ,  1.        ],\n",
       "       [ 0.19      ,  0.03969754,  0.03969754,  0.03969754,  1.        ],\n",
       "       [-0.39      , -0.13490358, -0.13490358, -0.13490358,  0.        ],\n",
       "       ...,\n",
       "       [-0.83      , -0.07570617, -0.07570617, -0.07570617,  0.        ],\n",
       "       [-0.64      , -0.03678727, -0.03678727, -0.03678727,  0.        ],\n",
       "       [-0.54      , -0.01516826, -0.01516826, -0.01516826,  0.        ]])"
      ]
     },
     "execution_count": 72,
     "metadata": {
      "tags": []
     },
     "output_type": "execute_result"
    }
   ],
   "source": [
    "dataset = df.values\n",
    "dataset"
   ]
  },
  {
   "cell_type": "code",
   "execution_count": 86,
   "metadata": {
    "colab": {
     "base_uri": "https://localhost:8080/",
     "height": 34
    },
    "colab_type": "code",
    "id": "ESDm9Bnt5wT4",
    "outputId": "1d4d5833-493f-4f10-b0ed-c801748700e3"
   },
   "outputs": [
    {
     "data": {
      "text/plain": [
       "(32056, 10, 5)"
      ]
     },
     "execution_count": 86,
     "metadata": {
      "tags": []
     },
     "output_type": "execute_result"
    }
   ],
   "source": [
    "x = []\n",
    "y = []\n",
    "for i in range(len(dataset)-15):\n",
    "    x.append(dataset[i:(i+10),:5].tolist())\n",
    "    y.append(dataset[(i+10):(i+15),4,np.newaxis].tolist())\n",
    "xtrain, xtest, ytrain, ytest = train_test_split(\n",
    "    x, y, test_size=0.2, random_state=0)\n",
    "xtrain, xtest, ytrain, ytest = np.array(xtrain),np.array(xtest),np.array(ytrain),np.array(ytest)\n",
    "xtrain.shape, xtest.shape, ytrain.shape, ytest.shape\n",
    "# xtrain = np.reshape(xtrain, (xtrain.shape[0], xtrain.shape[1]*xtrain.shape[2], 1))\n",
    "# xtest = np.reshape(xtest, (xtest.shape[0], xtest.shape[1], 1))\n",
    "ytrain = np.reshape(ytrain, (ytrain.shape[0], ytrain.shape[1]))\n",
    "ytest= np.reshape(ytest, (ytest.shape[0], ytest.shape[1]))\n",
    "xtrain.shape\n"
   ]
  },
  {
   "cell_type": "code",
   "execution_count": 75,
   "metadata": {
    "colab": {
     "base_uri": "https://localhost:8080/",
     "height": 102
    },
    "colab_type": "code",
    "id": "PPgOluWakthb",
    "outputId": "ec2a1b5b-3f53-4ba2-84c6-de6e2a338ad8"
   },
   "outputs": [
    {
     "name": "stdout",
     "output_type": "stream",
     "text": [
      "(25644,) (6412,)\n",
      "(25645,) (6411,)\n",
      "(25645,) (6411,)\n",
      "(25645,) (6411,)\n",
      "(25645,) (6411,)\n"
     ]
    }
   ],
   "source": [
    "\n"
   ]
  },
  {
   "cell_type": "code",
   "execution_count": 108,
   "metadata": {
    "colab": {
     "base_uri": "https://localhost:8080/",
     "height": 3434
    },
    "colab_type": "code",
    "id": "AiqbOOax6zBa",
    "outputId": "42ddea67-5783-4c9b-d650-dfde05d036d7"
   },
   "outputs": [
    {
     "name": "stdout",
     "output_type": "stream",
     "text": [
      "Epoch 1/100\n",
      "32056/32056 [==============================] - 30s 930us/step - loss: 0.2478\n",
      "Epoch 2/100\n",
      "32056/32056 [==============================] - 23s 731us/step - loss: 0.2454\n",
      "Epoch 3/100\n",
      "32056/32056 [==============================] - 24s 734us/step - loss: 0.2430\n",
      "Epoch 4/100\n",
      "32056/32056 [==============================] - 24s 748us/step - loss: 0.2393\n",
      "Epoch 5/100\n",
      "32056/32056 [==============================] - 23s 726us/step - loss: 0.2348\n",
      "Epoch 6/100\n",
      "32056/32056 [==============================] - 23s 729us/step - loss: 0.2306\n",
      "Epoch 7/100\n",
      "32056/32056 [==============================] - 23s 728us/step - loss: 0.2273\n",
      "Epoch 8/100\n",
      "32056/32056 [==============================] - 24s 734us/step - loss: 0.2241\n",
      "Epoch 9/100\n",
      "32056/32056 [==============================] - 23s 728us/step - loss: 0.2207\n",
      "Epoch 10/100\n",
      "32056/32056 [==============================] - 23s 729us/step - loss: 0.2176\n",
      "Epoch 11/100\n",
      "32056/32056 [==============================] - 23s 732us/step - loss: 0.2143\n",
      "Epoch 12/100\n",
      "32056/32056 [==============================] - 23s 731us/step - loss: 0.2113\n",
      "Epoch 13/100\n",
      "32056/32056 [==============================] - 24s 736us/step - loss: 0.2077\n",
      "Epoch 14/100\n",
      "32056/32056 [==============================] - 24s 734us/step - loss: 0.2047\n",
      "Epoch 15/100\n",
      "32056/32056 [==============================] - 23s 730us/step - loss: 0.2008\n",
      "Epoch 16/100\n",
      "32056/32056 [==============================] - 24s 739us/step - loss: 0.1981\n",
      "Epoch 17/100\n",
      "32056/32056 [==============================] - 24s 757us/step - loss: 0.1945\n",
      "Epoch 18/100\n",
      "32056/32056 [==============================] - 24s 741us/step - loss: 0.1916\n",
      "Epoch 19/100\n",
      "32056/32056 [==============================] - 24s 735us/step - loss: 0.1883\n",
      "Epoch 20/100\n",
      "32056/32056 [==============================] - 23s 731us/step - loss: 0.1855\n",
      "Epoch 21/100\n",
      "32056/32056 [==============================] - 24s 745us/step - loss: 0.1831\n",
      "Epoch 22/100\n",
      "32056/32056 [==============================] - 24s 735us/step - loss: 0.1809\n",
      "Epoch 23/100\n",
      "32056/32056 [==============================] - 24s 735us/step - loss: 0.1783\n",
      "Epoch 24/100\n",
      "32056/32056 [==============================] - 24s 739us/step - loss: 0.1759\n",
      "Epoch 25/100\n",
      "32056/32056 [==============================] - 23s 733us/step - loss: 0.1735\n",
      "Epoch 26/100\n",
      "32056/32056 [==============================] - 23s 727us/step - loss: 0.1724\n",
      "Epoch 27/100\n",
      "32056/32056 [==============================] - 24s 735us/step - loss: 0.1698\n",
      "Epoch 28/100\n",
      "32056/32056 [==============================] - 24s 735us/step - loss: 0.1681\n",
      "Epoch 29/100\n",
      "32056/32056 [==============================] - 24s 734us/step - loss: 0.1666\n",
      "Epoch 30/100\n",
      "32056/32056 [==============================] - 26s 802us/step - loss: 0.1647\n",
      "Epoch 31/100\n",
      "32056/32056 [==============================] - 24s 754us/step - loss: 0.1627\n",
      "Epoch 32/100\n",
      "32056/32056 [==============================] - 24s 752us/step - loss: 0.1619\n",
      "Epoch 33/100\n",
      "32056/32056 [==============================] - 24s 747us/step - loss: 0.1599\n",
      "Epoch 34/100\n",
      "32056/32056 [==============================] - 24s 763us/step - loss: 0.1580\n",
      "Epoch 35/100\n",
      "32056/32056 [==============================] - 24s 750us/step - loss: 0.1568\n",
      "Epoch 36/100\n",
      "32056/32056 [==============================] - 24s 744us/step - loss: 0.1557\n",
      "Epoch 37/100\n",
      "32056/32056 [==============================] - 24s 748us/step - loss: 0.1544\n",
      "Epoch 38/100\n",
      "32056/32056 [==============================] - 24s 747us/step - loss: 0.1529\n",
      "Epoch 39/100\n",
      "32056/32056 [==============================] - 24s 748us/step - loss: 0.1517\n",
      "Epoch 40/100\n",
      "32056/32056 [==============================] - 24s 744us/step - loss: 0.1509\n",
      "Epoch 41/100\n",
      "32056/32056 [==============================] - 24s 741us/step - loss: 0.1496\n",
      "Epoch 42/100\n",
      "32056/32056 [==============================] - 24s 742us/step - loss: 0.1485\n",
      "Epoch 43/100\n",
      "32056/32056 [==============================] - 24s 753us/step - loss: 0.1476\n",
      "Epoch 44/100\n",
      "32056/32056 [==============================] - 24s 752us/step - loss: 0.1461\n",
      "Epoch 45/100\n",
      "32056/32056 [==============================] - 24s 741us/step - loss: 0.1455\n",
      "Epoch 46/100\n",
      "32056/32056 [==============================] - 24s 743us/step - loss: 0.1444\n",
      "Epoch 47/100\n",
      "32056/32056 [==============================] - 24s 742us/step - loss: 0.1432\n",
      "Epoch 48/100\n",
      "32056/32056 [==============================] - 24s 737us/step - loss: 0.1427\n",
      "Epoch 49/100\n",
      "32056/32056 [==============================] - 24s 737us/step - loss: 0.1409\n",
      "Epoch 50/100\n",
      "32056/32056 [==============================] - 24s 736us/step - loss: 0.1406\n",
      "Epoch 51/100\n",
      "32056/32056 [==============================] - 24s 738us/step - loss: 0.1404\n",
      "Epoch 52/100\n",
      "32056/32056 [==============================] - 24s 738us/step - loss: 0.1392\n",
      "Epoch 53/100\n",
      "32056/32056 [==============================] - 24s 741us/step - loss: 0.1379\n",
      "Epoch 54/100\n",
      "32056/32056 [==============================] - 24s 744us/step - loss: 0.1374\n",
      "Epoch 55/100\n",
      "32056/32056 [==============================] - 24s 739us/step - loss: 0.1365\n",
      "Epoch 56/100\n",
      "32056/32056 [==============================] - 24s 747us/step - loss: 0.1367\n",
      "Epoch 57/100\n",
      "32056/32056 [==============================] - 24s 753us/step - loss: 0.1361\n",
      "Epoch 58/100\n",
      "32056/32056 [==============================] - 24s 742us/step - loss: 0.1352\n",
      "Epoch 59/100\n",
      "32056/32056 [==============================] - 24s 749us/step - loss: 0.1344\n",
      "Epoch 60/100\n",
      "32056/32056 [==============================] - 24s 749us/step - loss: 0.1338\n",
      "Epoch 61/100\n",
      "32056/32056 [==============================] - 24s 748us/step - loss: 0.1330\n",
      "Epoch 62/100\n",
      "32056/32056 [==============================] - 24s 738us/step - loss: 0.1325\n",
      "Epoch 63/100\n",
      "32056/32056 [==============================] - 24s 737us/step - loss: 0.1318\n",
      "Epoch 64/100\n",
      "32056/32056 [==============================] - 24s 734us/step - loss: 0.1308\n",
      "Epoch 65/100\n",
      "32056/32056 [==============================] - 24s 740us/step - loss: 0.1306\n",
      "Epoch 66/100\n",
      "32056/32056 [==============================] - 24s 740us/step - loss: 0.1292\n",
      "Epoch 67/100\n",
      "32056/32056 [==============================] - 24s 737us/step - loss: 0.1293\n",
      "Epoch 68/100\n",
      "32056/32056 [==============================] - 24s 740us/step - loss: 0.1286\n",
      "Epoch 69/100\n",
      "32056/32056 [==============================] - 24s 739us/step - loss: 0.1285\n",
      "Epoch 70/100\n",
      "32056/32056 [==============================] - 24s 752us/step - loss: 0.1276\n",
      "Epoch 71/100\n",
      "32056/32056 [==============================] - 24s 733us/step - loss: 0.1272\n",
      "Epoch 72/100\n",
      "32056/32056 [==============================] - 24s 740us/step - loss: 0.1272\n",
      "Epoch 73/100\n",
      "32056/32056 [==============================] - 24s 737us/step - loss: 0.1270\n",
      "Epoch 74/100\n",
      "32056/32056 [==============================] - 24s 737us/step - loss: 0.1259\n",
      "Epoch 75/100\n",
      "32056/32056 [==============================] - 24s 737us/step - loss: 0.1252\n",
      "Epoch 76/100\n",
      "32056/32056 [==============================] - 24s 735us/step - loss: 0.1247\n",
      "Epoch 77/100\n",
      "32056/32056 [==============================] - 23s 733us/step - loss: 0.1240\n",
      "Epoch 78/100\n",
      "32056/32056 [==============================] - 24s 735us/step - loss: 0.1244\n",
      "Epoch 79/100\n",
      "32056/32056 [==============================] - 24s 735us/step - loss: 0.1239\n",
      "Epoch 80/100\n",
      "32056/32056 [==============================] - 24s 733us/step - loss: 0.1223\n",
      "Epoch 81/100\n",
      "32056/32056 [==============================] - 23s 732us/step - loss: 0.1231\n",
      "Epoch 82/100\n",
      "32056/32056 [==============================] - 24s 739us/step - loss: 0.1226\n",
      "Epoch 83/100\n",
      "32056/32056 [==============================] - 24s 751us/step - loss: 0.1219\n",
      "Epoch 84/100\n",
      "32056/32056 [==============================] - 24s 738us/step - loss: 0.1216\n",
      "Epoch 85/100\n",
      "32056/32056 [==============================] - 24s 740us/step - loss: 0.1210\n",
      "Epoch 86/100\n",
      "32056/32056 [==============================] - 24s 741us/step - loss: 0.1208\n",
      "Epoch 87/100\n",
      "32056/32056 [==============================] - 24s 735us/step - loss: 0.1202\n",
      "Epoch 88/100\n",
      "32056/32056 [==============================] - 24s 737us/step - loss: 0.1205\n",
      "Epoch 89/100\n",
      "32056/32056 [==============================] - 24s 737us/step - loss: 0.1195\n",
      "Epoch 90/100\n",
      "32056/32056 [==============================] - 24s 737us/step - loss: 0.1198\n",
      "Epoch 91/100\n",
      "32056/32056 [==============================] - 24s 736us/step - loss: 0.1187\n",
      "Epoch 92/100\n",
      "32056/32056 [==============================] - 24s 735us/step - loss: 0.1187\n",
      "Epoch 93/100\n",
      "32056/32056 [==============================] - 24s 738us/step - loss: 0.1186\n",
      "Epoch 94/100\n",
      "32056/32056 [==============================] - 24s 738us/step - loss: 0.1180\n",
      "Epoch 95/100\n",
      "32056/32056 [==============================] - 24s 741us/step - loss: 0.1183\n",
      "Epoch 96/100\n",
      "32056/32056 [==============================] - 24s 750us/step - loss: 0.1172\n",
      "Epoch 97/100\n",
      "32056/32056 [==============================] - 24s 736us/step - loss: 0.1177\n",
      "Epoch 98/100\n",
      "32056/32056 [==============================] - 24s 746us/step - loss: 0.1174\n",
      "Epoch 99/100\n",
      "32056/32056 [==============================] - 24s 752us/step - loss: 0.1166\n",
      "Epoch 100/100\n",
      "32056/32056 [==============================] - 24s 747us/step - loss: 0.1159\n"
     ]
    },
    {
     "data": {
      "text/plain": [
       "<keras.callbacks.History at 0x7f3ff88e7c18>"
      ]
     },
     "execution_count": 108,
     "metadata": {
      "tags": []
     },
     "output_type": "execute_result"
    }
   ],
   "source": [
    "regressor = Sequential()\n",
    "regressor.add(LSTM(units = 50, return_sequences = True, input_shape = (xtrain.shape[1], 5)))\n",
    "regressor.add(Dropout(0.2))\n",
    "regressor.add(LSTM(units = 50, return_sequences = True))\n",
    "regressor.add(Dropout(0.2))\n",
    "regressor.add(LSTM(units = 50,return_sequences = True))\n",
    "regressor.add(Dropout(0.2))\n",
    "regressor.add(LSTM(units = 50))\n",
    "regressor.add(Dropout(0.2))\n",
    "regressor.add(Dense(units = 5))\n",
    "regressor.add(Activation('sigmoid'))\n",
    "regressor.compile(optimizer = 'adam', loss = 'mean_squared_error')\n",
    "regressor.fit(xtrain, ytrain, epochs = 100, batch_size = 50)"
   ]
  },
  {
   "cell_type": "code",
   "execution_count": 109,
   "metadata": {
    "colab": {
     "base_uri": "https://localhost:8080/",
     "height": 51
    },
    "colab_type": "code",
    "id": "Ye6HgKA-tqS7",
    "outputId": "c1ab89fe-5065-4e12-ee6c-3a997c48a477"
   },
   "outputs": [
    {
     "data": {
      "text/plain": [
       "0    0.878099\n",
       "dtype: float64"
      ]
     },
     "execution_count": 109,
     "metadata": {
      "tags": []
     },
     "output_type": "execute_result"
    }
   ],
   "source": [
    "predicted_stock_price = regressor.predict(xtest)\n",
    "a = []\n",
    "for i in range(len(ytest)):\n",
    "    fpr, tpr, thresholds = roc_curve(ytest[i], predicted_stock_price[i], pos_label=1)\n",
    "    auc(fpr, tpr)\n",
    "    a.append(auc(fpr, tpr))\n",
    "a=pd.DataFrame(a)\n",
    "a=a.dropna()\n",
    "a.mean()"
   ]
  },
  {
   "cell_type": "markdown",
   "metadata": {
    "colab": {},
    "colab_type": "code",
    "id": "G7v_fVkCtt9f"
   },
   "source": [
    "# 预测结果"
   ]
  },
  {
   "cell_type": "code",
   "execution_count": 122,
   "metadata": {
    "colab": {
     "base_uri": "https://localhost:8080/",
     "height": 258
    },
    "colab_type": "code",
    "id": "FI0fe0l8zu41",
    "outputId": "f64b6487-1400-4bc2-9796-d31fdfacdc92"
   },
   "outputs": [
    {
     "data": {
      "text/html": [
       "<div>\n",
       "<style scoped>\n",
       "    .dataframe tbody tr th:only-of-type {\n",
       "        vertical-align: middle;\n",
       "    }\n",
       "\n",
       "    .dataframe tbody tr th {\n",
       "        vertical-align: top;\n",
       "    }\n",
       "\n",
       "    .dataframe thead th {\n",
       "        text-align: right;\n",
       "    }\n",
       "</style>\n",
       "<table border=\"1\" class=\"dataframe\">\n",
       "  <thead>\n",
       "    <tr style=\"text-align: right;\">\n",
       "      <th></th>\n",
       "      <th>ts_code</th>\n",
       "      <th>trade_date</th>\n",
       "      <th>name</th>\n",
       "      <th>open</th>\n",
       "      <th>low</th>\n",
       "      <th>high</th>\n",
       "      <th>close</th>\n",
       "      <th>change</th>\n",
       "      <th>pct_change</th>\n",
       "      <th>vol</th>\n",
       "      <th>amount</th>\n",
       "      <th>pe</th>\n",
       "      <th>pb</th>\n",
       "      <th>y</th>\n",
       "    </tr>\n",
       "  </thead>\n",
       "  <tbody>\n",
       "    <tr>\n",
       "      <th>0</th>\n",
       "      <td>801010</td>\n",
       "      <td>20190402</td>\n",
       "      <td>农林牧渔</td>\n",
       "      <td>3605.26</td>\n",
       "      <td>3485.11</td>\n",
       "      <td>3605.26</td>\n",
       "      <td>3513.06</td>\n",
       "      <td>-41.36</td>\n",
       "      <td>-1.16</td>\n",
       "      <td>236389.0</td>\n",
       "      <td>2761598.0</td>\n",
       "      <td>39.92</td>\n",
       "      <td>3.78</td>\n",
       "      <td>0</td>\n",
       "    </tr>\n",
       "    <tr>\n",
       "      <th>1</th>\n",
       "      <td>801020</td>\n",
       "      <td>20190402</td>\n",
       "      <td>采掘</td>\n",
       "      <td>2935.97</td>\n",
       "      <td>2905.01</td>\n",
       "      <td>2941.36</td>\n",
       "      <td>2935.37</td>\n",
       "      <td>22.18</td>\n",
       "      <td>0.76</td>\n",
       "      <td>282181.0</td>\n",
       "      <td>1732160.0</td>\n",
       "      <td>15.25</td>\n",
       "      <td>1.34</td>\n",
       "      <td>1</td>\n",
       "    </tr>\n",
       "    <tr>\n",
       "      <th>2</th>\n",
       "      <td>801030</td>\n",
       "      <td>20190402</td>\n",
       "      <td>化工</td>\n",
       "      <td>2971.25</td>\n",
       "      <td>2961.67</td>\n",
       "      <td>3011.61</td>\n",
       "      <td>2996.91</td>\n",
       "      <td>55.41</td>\n",
       "      <td>1.88</td>\n",
       "      <td>762659.0</td>\n",
       "      <td>7911222.0</td>\n",
       "      <td>18.94</td>\n",
       "      <td>2.06</td>\n",
       "      <td>1</td>\n",
       "    </tr>\n",
       "    <tr>\n",
       "      <th>3</th>\n",
       "      <td>801040</td>\n",
       "      <td>20190402</td>\n",
       "      <td>钢铁</td>\n",
       "      <td>2743.16</td>\n",
       "      <td>2711.59</td>\n",
       "      <td>2743.16</td>\n",
       "      <td>2732.47</td>\n",
       "      <td>0.80</td>\n",
       "      <td>0.03</td>\n",
       "      <td>195360.0</td>\n",
       "      <td>1062437.0</td>\n",
       "      <td>7.85</td>\n",
       "      <td>1.23</td>\n",
       "      <td>1</td>\n",
       "    </tr>\n",
       "    <tr>\n",
       "      <th>4</th>\n",
       "      <td>801050</td>\n",
       "      <td>20190402</td>\n",
       "      <td>有色金属</td>\n",
       "      <td>3195.75</td>\n",
       "      <td>3152.60</td>\n",
       "      <td>3261.40</td>\n",
       "      <td>3234.95</td>\n",
       "      <td>63.39</td>\n",
       "      <td>2.00</td>\n",
       "      <td>582889.0</td>\n",
       "      <td>5159532.0</td>\n",
       "      <td>32.45</td>\n",
       "      <td>2.26</td>\n",
       "      <td>1</td>\n",
       "    </tr>\n",
       "  </tbody>\n",
       "</table>\n",
       "</div>"
      ],
      "text/plain": [
       "   ts_code  trade_date  name     open  ...     amount     pe    pb  y\n",
       "0   801010    20190402  农林牧渔  3605.26  ...  2761598.0  39.92  3.78  0\n",
       "1   801020    20190402    采掘  2935.97  ...  1732160.0  15.25  1.34  1\n",
       "2   801030    20190402    化工  2971.25  ...  7911222.0  18.94  2.06  1\n",
       "3   801040    20190402    钢铁  2743.16  ...  1062437.0   7.85  1.23  1\n",
       "4   801050    20190402  有色金属  3195.75  ...  5159532.0  32.45  2.26  1\n",
       "\n",
       "[5 rows x 14 columns]"
      ]
     },
     "execution_count": 122,
     "metadata": {
      "tags": []
     },
     "output_type": "execute_result"
    }
   ],
   "source": [
    "df_test1= pd.read_csv(r'./20190506_STOCK.csv')\n",
    "df_test2 = pd.read_csv(r'./20190514_STOCK.csv')\n",
    "df_test3 = pd.read_csv(r'./20190521_STOCK.csv')\n",
    "df_test4 = pd.concat([df_test1,df_test2,df_test3])\n",
    "# df_test4.iloc[1:3]\n",
    "df_test4.head()\n",
    "    \n"
   ]
  },
  {
   "cell_type": "code",
   "execution_count": 0,
   "metadata": {
    "colab": {},
    "colab_type": "code",
    "id": "Cb7oId-wOnR0"
   },
   "outputs": [],
   "source": [
    "df_test4['vol_change'] = df_test4.groupby([\"ts_code\"])['vol'].pct_change()\n",
    "df_test4['low_change'] = df_test4.groupby([\"ts_code\"])['low'].pct_change()\n",
    "df_test4['high_change'] = df_test4.groupby([\"ts_code\"])['high'].pct_change()\n",
    "df_test4 =  df_test4[['ts_code','trade_date','name','pct_change','vol_change','high_change','low_change','y']]\n"
   ]
  },
  {
   "cell_type": "code",
   "execution_count": 144,
   "metadata": {
    "colab": {
     "base_uri": "https://localhost:8080/",
     "height": 102
    },
    "colab_type": "code",
    "id": "busktUTg6mGu",
    "outputId": "39f729c8-788b-48f6-b189-f041d0226a2f"
   },
   "outputs": [
    {
     "data": {
      "text/plain": [
       "array([['农林牧渔', '采掘', '化工', '钢铁', '有色金属', '电子', '家用电器', '食品饮料', '纺织服装',\n",
       "        '轻工制造', '医药生物', '公用事业', '交通运输', '房地产', '商业贸易', '休闲服务', '综合',\n",
       "        '申万制造', '申万消费', '申万投资', '申万服务', '申万300指数', '建筑材料', '建筑装饰',\n",
       "        '电气设备', '国防军工', '计算机', '传媒', '通信', '银行', '非银金融', '汽车', '机械设备',\n",
       "        '交银装备']], dtype=object)"
      ]
     },
     "execution_count": 144,
     "metadata": {
      "tags": []
     },
     "output_type": "execute_result"
    }
   ],
   "source": [
    "# 行业名字和行业代码的对应\n",
    "df_me=pd.DataFrame(df_test4[['ts_code','name']])\n",
    "df_me=df_me.drop_duplicates()\n",
    "df_me\n",
    "df8=df_me[['name']]\n",
    "df8=df8.T\n",
    "df8.values"
   ]
  },
  {
   "cell_type": "code",
   "execution_count": 0,
   "metadata": {
    "colab": {},
    "colab_type": "code",
    "id": "W7yIcgichdP0"
   },
   "outputs": [],
   "source": [
    "# 预测未来五天的结果\n",
    "colums=['农林牧渔', '采掘', '化工', '钢铁', '有色金属', '电子', '家用电器', '食品饮料', '纺织服装',\n",
    "        '轻工制造', '医药生物', '公用事业', '交通运输', '房地产', '商业贸易', '休闲服务', '综合',\n",
    "        '申万制造', '申万消费', '申万投资', '申万服务', '申万300指数', '建筑材料', '建筑装饰',\n",
    "        '电气设备', '国防军工', '计算机', '传媒', '通信', '银行', '非银金融', '汽车', '机械设备',\n",
    "        '交银装备']\n",
    "# colums=[801010, 801020, 801030, 801040, 801050, 801080, 801110, 801120,\n",
    "#         801130, 801140, 801150, 801160, 801170, 801180, 801200, 801210,\n",
    "#         801230, 801250, 801260, 801270, 801280, 801300, 801710, 801720,\n",
    "#         801730, 801740, 801750, 801760, 801770, 801780, 801790, 801880,\n",
    "#         801890, 802600]\n",
    "range_index = (df_test4.trade_date > 20190507)\n",
    "df_final = df_test4[range_index]\n",
    "df_pr=pd.DataFrame()\n",
    "for arr in colums:\n",
    "    df3 = df_final.loc[df_final['name']==arr]\n",
    "    dataset2=df3.values\n",
    "    x1=dataset2[0:10,3:8].tolist()\n",
    "    x1=np.array(x1)\n",
    "    x1=np.reshape(x1, (1,x1.shape[0],x1.shape[1]))\n",
    "    ytest1=regressor.predict(x1)\n",
    "    y_p=pd.DataFrame(ytest1)\n",
    "    y_p=y_p.T\n",
    "    y_p['name']=arr\n",
    "    y_p['trade_date']=[20190522,20190523,20190524,20190527,20190528]\n",
    "\n",
    "df_pr=df_me.merge(df_pr,how='left', on='name')\n",
    "\n",
    "df_pr.columns=['ts_code','name','p','trade_date']\n",
    "df_pr=df_pr[['ts_code','trade_date','p']]\n",
    "df_pr\n",
    "df_pr.to_csv('./结果提交.csv')"
   ]
  },
  {
   "cell_type": "code",
   "execution_count": null,
   "metadata": {
    "colab": {
     "base_uri": "https://localhost:8080/",
     "height": 399
    },
    "colab_type": "code",
    "id": "Okj7vTEbR27Z",
    "outputId": "db8853f0-348a-4ff6-961c-128908ed415e"
   },
   "outputs": [],
   "source": []
  },
  {
   "cell_type": "markdown",
   "metadata": {
    "colab": {},
    "colab_type": "code",
    "id": "E2BcbATVwL5R"
   },
   "source": [
    "# 交叉验证"
   ]
  },
  {
   "cell_type": "code",
   "execution_count": null,
   "metadata": {},
   "outputs": [],
   "source": [
    "kf = KFold(n_splits=5, shuffle=True, random_state=520)"
   ]
  },
  {
   "cell_type": "code",
   "execution_count": 5,
   "metadata": {
    "colab": {
     "base_uri": "https://localhost:8080/",
     "height": 433
    },
    "colab_type": "code",
    "id": "zAZXsJgo5wT9",
    "outputId": "3e19317a-41ba-401b-d96a-8394ea32b09b"
   },
   "outputs": [],
   "source": [
    "for train,test in kf.split(xtrain):\n",
    "    a = []\n",
    "    b= []\n",
    "    X_train, X_valid= xtrain[train,:], xtrain[test,:]\n",
    "    y_train, y_valid = ytrain[train,:], ytrain[test,:]\n",
    "    print(i, 'fold')\n",
    "    model=regressor.fit(X_train,y_train, epochs = 100, batch_size = 50)\n",
    "    predicted_stock_price1 = regressor.predict(X_valid)\n",
    "    for j in range(len(y_valid)):\n",
    "        fpr1, tpr1, thresholds1 = roc_curve(y_valid[j],predicted_stock_price1[j], pos_label=1)\n",
    "        a.append(auc(fpr1, tpr1))\n",
    "    a=pd.DataFrame(a)\n",
    "    a=a.dropna()\n",
    "    print(a.mean())\n",
    "    predicted_stock_price2 = regressor.predict(xtest)\n",
    "    for k in range(len(ytest)):\n",
    "        fpr2, tpr2, thresholds2 = roc_curve(ytest[k], predicted_stock_price2[k], pos_label=1)\n",
    "        b.append(auc(fpr2, tpr2))\n",
    "    b=pd.DataFrame(b)\n",
    "    b=b.dropna()\n",
    "    print(b.mean())\n",
    "    i=i+1"
   ]
  },
  {
   "cell_type": "markdown",
   "metadata": {
    "colab_type": "text",
    "id": "qoqDrHwX5wUJ"
   },
   "source": [
    "# 新闻"
   ]
  },
  {
   "cell_type": "code",
   "execution_count": 0,
   "metadata": {
    "colab": {},
    "colab_type": "code",
    "id": "7vy98Vht5wUK"
   },
   "outputs": [],
   "source": [
    "df1 = pd.read_csv(r'./TRAINSET_STOCK.csv')\n",
    "df_add = pd.read_csv(r'./20190506_STOCK.csv')\n",
    "df_test = pd.read_csv(r'./20190514_STOCK.csv')\n",
    "df1 = pd.concat([df1,df_add,df_test])"
   ]
  },
  {
   "cell_type": "code",
   "execution_count": 84,
   "metadata": {
    "colab": {
     "base_uri": "https://localhost:8080/",
     "height": 165
    },
    "colab_type": "code",
    "id": "CwBRWOcgnAw7",
    "outputId": "f0606309-a225-42a7-efac-e892060cf77c"
   },
   "outputs": [
    {
     "data": {
      "text/html": [
       "<div>\n",
       "<style scoped>\n",
       "    .dataframe tbody tr th:only-of-type {\n",
       "        vertical-align: middle;\n",
       "    }\n",
       "\n",
       "    .dataframe tbody tr th {\n",
       "        vertical-align: top;\n",
       "    }\n",
       "\n",
       "    .dataframe thead th {\n",
       "        text-align: right;\n",
       "    }\n",
       "</style>\n",
       "<table border=\"1\" class=\"dataframe\">\n",
       "  <thead>\n",
       "    <tr style=\"text-align: right;\">\n",
       "      <th></th>\n",
       "      <th>0</th>\n",
       "      <th>1152</th>\n",
       "      <th>2304</th>\n",
       "      <th>3456</th>\n",
       "      <th>3656</th>\n",
       "      <th>4608</th>\n",
       "      <th>5760</th>\n",
       "      <th>6912</th>\n",
       "      <th>8064</th>\n",
       "      <th>9216</th>\n",
       "      <th>10368</th>\n",
       "      <th>11520</th>\n",
       "      <th>12672</th>\n",
       "      <th>13824</th>\n",
       "      <th>14976</th>\n",
       "      <th>16128</th>\n",
       "      <th>17280</th>\n",
       "      <th>17480</th>\n",
       "      <th>18432</th>\n",
       "      <th>19584</th>\n",
       "      <th>20736</th>\n",
       "      <th>21888</th>\n",
       "      <th>23040</th>\n",
       "      <th>24192</th>\n",
       "      <th>25344</th>\n",
       "      <th>26496</th>\n",
       "      <th>27648</th>\n",
       "      <th>28800</th>\n",
       "      <th>29952</th>\n",
       "      <th>31104</th>\n",
       "      <th>32256</th>\n",
       "      <th>33408</th>\n",
       "      <th>34560</th>\n",
       "      <th>35712</th>\n",
       "      <th>36864</th>\n",
       "      <th>38016</th>\n",
       "    </tr>\n",
       "  </thead>\n",
       "  <tbody>\n",
       "    <tr>\n",
       "      <th>name</th>\n",
       "      <td>农林牧渔</td>\n",
       "      <td>采掘</td>\n",
       "      <td>化工</td>\n",
       "      <td>黑色金属</td>\n",
       "      <td>钢铁</td>\n",
       "      <td>有色金属</td>\n",
       "      <td>电子</td>\n",
       "      <td>家用电器</td>\n",
       "      <td>食品饮料</td>\n",
       "      <td>纺织服装</td>\n",
       "      <td>轻工制造</td>\n",
       "      <td>医药生物</td>\n",
       "      <td>公用事业</td>\n",
       "      <td>交通运输</td>\n",
       "      <td>房地产</td>\n",
       "      <td>商业贸易</td>\n",
       "      <td>餐饮旅游</td>\n",
       "      <td>休闲服务</td>\n",
       "      <td>综合</td>\n",
       "      <td>申万制造</td>\n",
       "      <td>申万消费</td>\n",
       "      <td>申万投资</td>\n",
       "      <td>申万服务</td>\n",
       "      <td>申万300指数</td>\n",
       "      <td>建筑材料</td>\n",
       "      <td>建筑装饰</td>\n",
       "      <td>电气设备</td>\n",
       "      <td>国防军工</td>\n",
       "      <td>计算机</td>\n",
       "      <td>传媒</td>\n",
       "      <td>通信</td>\n",
       "      <td>银行</td>\n",
       "      <td>非银金融</td>\n",
       "      <td>汽车</td>\n",
       "      <td>机械设备</td>\n",
       "      <td>交银装备</td>\n",
       "    </tr>\n",
       "    <tr>\n",
       "      <th>ts_code</th>\n",
       "      <td>801010</td>\n",
       "      <td>801020</td>\n",
       "      <td>801030</td>\n",
       "      <td>801040</td>\n",
       "      <td>801040</td>\n",
       "      <td>801050</td>\n",
       "      <td>801080</td>\n",
       "      <td>801110</td>\n",
       "      <td>801120</td>\n",
       "      <td>801130</td>\n",
       "      <td>801140</td>\n",
       "      <td>801150</td>\n",
       "      <td>801160</td>\n",
       "      <td>801170</td>\n",
       "      <td>801180</td>\n",
       "      <td>801200</td>\n",
       "      <td>801210</td>\n",
       "      <td>801210</td>\n",
       "      <td>801230</td>\n",
       "      <td>801250</td>\n",
       "      <td>801260</td>\n",
       "      <td>801270</td>\n",
       "      <td>801280</td>\n",
       "      <td>801300</td>\n",
       "      <td>801710</td>\n",
       "      <td>801720</td>\n",
       "      <td>801730</td>\n",
       "      <td>801740</td>\n",
       "      <td>801750</td>\n",
       "      <td>801760</td>\n",
       "      <td>801770</td>\n",
       "      <td>801780</td>\n",
       "      <td>801790</td>\n",
       "      <td>801880</td>\n",
       "      <td>801890</td>\n",
       "      <td>802600</td>\n",
       "    </tr>\n",
       "  </tbody>\n",
       "</table>\n",
       "</div>"
      ],
      "text/plain": [
       "          0       1152    2304    3456   ...   34560   35712   36864   38016\n",
       "name       农林牧渔      采掘      化工    黑色金属  ...    非银金融      汽车    机械设备    交银装备\n",
       "ts_code  801010  801020  801030  801040  ...  801790  801880  801890  802600\n",
       "\n",
       "[2 rows x 36 columns]"
      ]
     },
     "execution_count": 84,
     "metadata": {
      "tags": []
     },
     "output_type": "execute_result"
    }
   ],
   "source": [
    "df2=df1[['name','ts_code']]\n",
    "df2 = df2.drop_duplicates(keep='first')\n"
   ]
  },
  {
   "cell_type": "code",
   "execution_count": 86,
   "metadata": {
    "colab": {
     "base_uri": "https://localhost:8080/",
     "height": 170
    },
    "colab_type": "code",
    "id": "5aBT8rQpq5oQ",
    "outputId": "badae5dd-a38d-47ae-edf8-684cd80752be"
   },
   "outputs": [
    {
     "name": "stdout",
     "output_type": "stream",
     "text": [
      "<class 'pandas.core.frame.DataFrame'>\n",
      "Int64Index: 27077 entries, 0 to 112\n",
      "Data columns (total 4 columns):\n",
      "id         27077 non-null object\n",
      "date       27077 non-null int64\n",
      "title      27048 non-null object\n",
      "content    26915 non-null object\n",
      "dtypes: int64(1), object(3)\n",
      "memory usage: 1.0+ MB\n"
     ]
    }
   ],
   "source": [
    "df_news1 = pd.read_csv(r'./TRAINSET_NEWS.csv')\n",
    "df_news2= pd.read_csv(r'./20190506_NEWS.csv')\n",
    "df_news3= pd.read_csv(r'./20190514_NEWS.csv')\n",
    "df_news = pd.concat([df_news1,df_news2,df_news3])\n",
    "df_news.info"
   ]
  },
  {
   "cell_type": "code",
   "execution_count": 0,
   "metadata": {
    "colab": {},
    "colab_type": "code",
    "id": "lMIF6YHBrwiO"
   },
   "outputs": [],
   "source": [
    "df  "
   ]
  },
  {
   "cell_type": "markdown",
   "metadata": {
    "colab_type": "text",
    "id": "-QhyFLGZ5wUP"
   },
   "source": [
    "# Tensorflow"
   ]
  },
  {
   "cell_type": "code",
   "execution_count": 0,
   "metadata": {
    "colab": {},
    "colab_type": "code",
    "id": "3Y4w2xzF5wUU"
   },
   "outputs": [],
   "source": [
    "import tensorflow as tf\n",
    "time_step=10      #时间步\n",
    "rnn_unit=25       #hidden layer units\n",
    "batch_size=80     #每一批次训练多少个样例\n",
    "input_size=3      #输入层维度\n",
    "output_size=1     #输出层维度\n",
    "lr=0.0006 \n"
   ]
  },
  {
   "cell_type": "code",
   "execution_count": 0,
   "metadata": {
    "colab": {},
    "colab_type": "code",
    "id": "PES9y7Tr5wUX"
   },
   "outputs": [],
   "source": [
    "# 训练集\n",
    "def get_train_data(batch_size=80,time_step=10,train_begin=0,train_end=30000):\n",
    "    batch_index=[]\n",
    "    data_train=dataset[train_begin:train_end]\n",
    "    normalized_train_data=(data_train-np.mean(data_train,axis=0))/np.std(data_train,axis=0)  #标准化\n",
    "    train_x,train_y=[],[]   #训练集x和y初定义\n",
    "    for i in range(len(normalized_train_data)-time_step):\n",
    "        if i % batch_size==0:\n",
    "            batch_index.append(i)\n",
    "            x=normalized_train_data[i:i+time_step,:3]\n",
    "            y=normalized_train_data[i:i+time_step,2,np.newaxis]\n",
    "            train_x.append(x.tolist())\n",
    "            train_y.append(y.tolist())\n",
    "    batch_index.append((len(normalized_train_data)-time_step))\n",
    "    return batch_index,train_x,train_y\n",
    " \n"
   ]
  },
  {
   "cell_type": "code",
   "execution_count": 0,
   "metadata": {
    "colab": {},
    "colab_type": "code",
    "id": "gAZ4wvn5t8sD"
   },
   "outputs": [],
   "source": [
    "# 测试集\n",
    "def get_test_data(time_step=10,test_begin=30000):\n",
    "    data_test=dataset[test_begin:]\n",
    "    mean=np.mean(data_test,axis=0)\n",
    "    std=np.std(data_test,axis=0)\n",
    "    normalized_test_data=(data_test-mean)/std  #标准化\n",
    "    size=(len(normalized_test_data)+time_step-1)//time_step  #有size个sample \n",
    "    test_x,test_y=[],[]  \n",
    "    for i in range(size-1):\n",
    "        x=normalized_test_data[i*time_step:(i+1)*time_step,:3]\n",
    "        y=normalized_test_data[i*time_step:(i+1)*time_step,2]\n",
    "        test_x.append(x.tolist())\n",
    "        test_y.extend(y)\n",
    "    test_x.append((normalized_test_data[(i+1)*time_step:,:3]).tolist())\n",
    "    test_y.extend((normalized_test_data[(i+1)*time_step:,2]).tolist())\n",
    "    return mean,std,test_x,test_y"
   ]
  },
  {
   "cell_type": "code",
   "execution_count": 0,
   "metadata": {
    "colab": {},
    "colab_type": "code",
    "id": "XAycDdYMuK4c"
   },
   "outputs": [],
   "source": [
    "# 模型搭建\n",
    "weights = {\n",
    "    'in': tf.Variable(tf.random_normal([input_size, rnn_unit])),\n",
    "    'out': tf.Variable(tf.random_normal([rnn_unit, 1]))\n",
    "}\n",
    "biases = {\n",
    "    'in': tf.Variable(tf.constant(0.1, shape=[rnn_unit, ])),\n",
    "    'out': tf.Variable(tf.constant(0.1, shape=[1, ]))\n",
    "}\n",
    "def lstm(X):     \n",
    "    batch_size=tf.shape(X)[0]\n",
    "    time_step=tf.shape(X)[1]\n",
    "    w_in=weights['in']\n",
    "    b_in=biases['in']  \n",
    "    input=tf.reshape(X,[-1,input_size])  #需要将tensor转成2维进行计算，计算后的结果作为隐藏层的输入\n",
    "    input_rnn=tf.matmul(input,w_in)+b_in\n",
    "    input_rnn=tf.reshape(input_rnn,[-1,time_step,rnn_unit])  #将tensor转成3维，作为lstm cell的输入\n",
    "    cell=tf.nn.rnn_cell.BasicLSTMCell(rnn_unit)\n",
    "    init_state=cell.zero_state(batch_size,dtype=tf.float32)\n",
    "    output_rnn,final_states=tf.nn.dynamic_rnn(cell, input_rnn,initial_state=init_state, dtype=tf.float32)  #output_rnn是记录lstm每个输出节点的结果，final_states是最后一个cell的结果\n",
    "    output=tf.reshape(output_rnn,[-1,rnn_unit]) #作为输出层的输入\n",
    "    w_out=weights['out']\n",
    "    b_out=biases['out']\n",
    "    pred=tf.matmul(output,w_out)+b_out\n",
    "    return pred,final_states"
   ]
  },
  {
   "cell_type": "code",
   "execution_count": 0,
   "metadata": {
    "colab": {},
    "colab_type": "code",
    "id": "RwDt36biuWX1"
   },
   "outputs": [],
   "source": [
    "def train_lstm(batch_size=80,time_step=10,train_begin=0,train_end=30000):\n",
    "    X=tf.placeholder(tf.float32, shape=[None,time_step,input_size])\n",
    "    Y=tf.placeholder(tf.float32, shape=[None,time_step,output_size])\n",
    "    batch_index,train_x,train_y=get_train_data(batch_size,time_step,train_begin,train_end)\n",
    "    pred,_=lstm(X)\n",
    "    #损失函数\n",
    "    loss=tf.reduce_mean(tf.square(tf.reshape(pred,[-1])-tf.reshape(Y, [-1])))\n",
    "    train_op=tf.train.AdamOptimizer(lr).minimize(loss)\n",
    "    saver=tf.train.Saver(tf.global_variables(),max_to_keep=15)\n",
    "    module_file = tf.train.latest_checkpoint()    \n",
    "    with tf.Session() as sess:\n",
    "        #sess.run(tf.global_variables_initializer())\n",
    "        saver.restore(sess, module_file)\n",
    "        #重复训练2000次\n",
    "        for i in range(2000):\n",
    "            for step in range(len(batch_index)-1):\n",
    "                _,loss_=sess.run([train_op,loss],feed_dict={X:train_x[batch_index[step]:batch_index[step+1]],Y:train_y[batch_index[step]:batch_index[step+1]]})\n",
    "            print(i,loss_)\n",
    "            if i % 200==0:\n",
    "                print(\"保存模型：\",saver.save(sess,'stock2.model',global_step=i))"
   ]
  },
  {
   "cell_type": "code",
   "execution_count": null,
   "metadata": {
    "colab": {
     "base_uri": "https://localhost:8080/",
     "height": 450
    },
    "colab_type": "code",
    "id": "BI6Foo891rww",
    "outputId": "c8937402-d82e-4462-a6aa-6635211bc85d"
   },
   "outputs": [],
   "source": []
  },
  {
   "cell_type": "code",
   "execution_count": null,
   "metadata": {},
   "outputs": [],
   "source": []
  }
 ],
 "metadata": {
  "colab": {
   "collapsed_sections": [],
   "name": "stockprocessing.ipynb",
   "provenance": [],
   "toc_visible": true,
   "version": "0.3.2"
  },
  "kernelspec": {
   "display_name": "Python 3",
   "language": "python",
   "name": "python3"
  },
  "language_info": {
   "codemirror_mode": {
    "name": "ipython",
    "version": 3
   },
   "file_extension": ".py",
   "mimetype": "text/x-python",
   "name": "python",
   "nbconvert_exporter": "python",
   "pygments_lexer": "ipython3",
   "version": "3.7.2"
  }
 },
 "nbformat": 4,
 "nbformat_minor": 1
}
