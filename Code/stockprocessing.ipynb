{
 "cells": [
  {
   "cell_type": "code",
   "execution_count": 12,
   "metadata": {
    "ExecuteTime": {
     "end_time": "2019-06-06T06:17:43.325602Z",
     "start_time": "2019-06-06T06:17:43.205673Z"
    },
    "colab": {},
    "colab_type": "code",
    "id": "LFLc-ooh5wTh"
   },
   "outputs": [],
   "source": [
    "import time\n",
    "from sklearn.model_selection import train_test_split\n",
    "import numpy as np\n",
    "import pandas as pd\n",
    "import datetime\n",
    "import seaborn as sns\n",
    "import matplotlib.pyplot as plt\n",
    "%matplotlib inline\n",
    "from sklearn.decomposition import PCA\n",
    "import math\n",
    "from sklearn.preprocessing import MinMaxScaler\n",
    "from sklearn.metrics import mean_squared_error\n",
    "from sklearn.metrics import roc_curve\n",
    "from sklearn.preprocessing import StandardScaler\n",
    "import xgboost as xgb\n",
    "from sklearn.externals import joblib\n",
    "import warnings\n",
    "warnings.filterwarnings(\"ignore\")"
   ]
  },
  {
   "cell_type": "markdown",
   "metadata": {
    "colab_type": "text",
    "heading_collapsed": true,
    "id": "DcFYK1bSUXvz"
   },
   "source": [
    "# 特征处理"
   ]
  },
  {
   "cell_type": "code",
   "execution_count": 2,
   "metadata": {
    "ExecuteTime": {
     "end_time": "2019-06-06T06:05:24.797194Z",
     "start_time": "2019-06-06T06:05:24.762216Z"
    },
    "colab": {},
    "colab_type": "code",
    "hidden": true,
    "id": "Vzdq3q8DUXv1"
   },
   "outputs": [],
   "source": [
    "columns = ['农林牧渔', '采掘', '化工', '钢铁', '有色金属', '电子', '家用电器', '食品饮料', '纺织服装',\n",
    "           '轻工制造', '医药生物', '公用事业', '交通运输', '房地产', '商业贸易', '休闲服务', '综合',\n",
    "           '申万制造', '申万消费', '申万投资', '申万服务', '申万300指数', '建筑材料', '建筑装饰',\n",
    "           '电气设备', '国防军工', '计算机', '传媒', '通信', '银行', '非银金融', '汽车', '机械设备',\n",
    "           '交银装备']"
   ]
  },
  {
   "cell_type": "code",
   "execution_count": 3,
   "metadata": {
    "ExecuteTime": {
     "end_time": "2019-06-06T06:05:26.003453Z",
     "start_time": "2019-06-06T06:05:24.810186Z"
    },
    "colab": {},
    "colab_type": "code",
    "hidden": true,
    "id": "AFQtedZM5wTn"
   },
   "outputs": [],
   "source": [
    "df = pd.read_csv(r'../Data/TRAINSET_STOCK.csv')\n",
    "df_add1 = pd.read_csv(r'../Data/20190506_STOCK.csv')\n",
    "df_add2 = pd.read_csv(r'../Data/20190514_STOCK.csv')\n",
    "df_add3 = pd.read_csv(r'../Data/20190521_STOCK.csv')\n",
    "df_add4 = pd.read_csv(r'../Data/20190528_STOCK.csv')\n",
    "df = pd.concat([df, df_add1, df_add2, df_add3, df_add4])\n",
    "df = df[~df.index.duplicated()]"
   ]
  },
  {
   "cell_type": "code",
   "execution_count": 4,
   "metadata": {
    "ExecuteTime": {
     "end_time": "2019-06-06T06:05:48.338709Z",
     "start_time": "2019-06-06T06:05:26.026437Z"
    },
    "colab": {},
    "colab_type": "code",
    "hidden": true,
    "id": "VjqF0fnlTUuc"
   },
   "outputs": [],
   "source": [
    "x = []\n",
    "y = []\n",
    "for arr in columns:\n",
    "    df1 = df.loc[df['name'] == arr]\n",
    "    df1 = df1[['ts_code', 'trade_date', 'name', 'low',\n",
    "               'high', 'close', 'pct_change', 'vol', 'y']]\n",
    "    df1['vol_change'] = df1['vol'].pct_change()\n",
    "    df1['low_change'] = df1['low'].pct_change()\n",
    "    df1['high_change'] = df1['high'].pct_change()\n",
    "    df1['gaodi'] = (df1['high'] - df1['low']) / df1['low']\n",
    "    df1['gaoclo'] = (df1['high'] - df1['close']) / (df1['high'] - df1['low'])\n",
    "    df1['diclo'] = (df1['close'] - df1['low']) / (df1['high'] - df1['low'])\n",
    "    df1['pct_change'] = df1['pct_change'] / 10\n",
    "    df1 = df1[['pct_change', 'vol_change', 'high_change',\n",
    "               'low_change', 'gaodi', 'gaoclo', 'diclo', 'y']]\n",
    "    df1 = df1.dropna()\n",
    "    dataset = df1.values\n",
    "    for i in range(len(dataset) - 15):\n",
    "        x.append(dataset[i:(i + 10), :8].tolist())\n",
    "        y.append(dataset[(i + 10):(i + 15), 7, np.newaxis].tolist())\n",
    "xtrain, xtest, ytrain, ytest = train_test_split(\n",
    "    x, y, test_size=0.2, random_state=30)\n",
    "xtrain, xtest, ytrain, ytest = np.array(xtrain), np.array(\n",
    "    xtest), np.array(ytrain), np.array(ytest)\n",
    "# xtrain = np.reshape(xtrain, (xtrain.shape[0], xtrain.shape[1]*xtrain.shape[2], 1))\n",
    "# xtest = np.reshape(xtest, (xtest.shape[0], xtest.shape[1], 1))\n",
    "ytrain = np.reshape(ytrain, (ytrain.shape[0], ytrain.shape[1]))\n",
    "ytest = np.reshape(ytest, (ytest.shape[0], ytest.shape[1]))"
   ]
  },
  {
   "cell_type": "code",
   "execution_count": 5,
   "metadata": {
    "ExecuteTime": {
     "end_time": "2019-06-06T06:05:48.412662Z",
     "start_time": "2019-06-06T06:05:48.352700Z"
    },
    "colab": {
     "base_uri": "https://localhost:8080/",
     "height": 136
    },
    "colab_type": "code",
    "hidden": true,
    "id": "VIIQvEzxfYLq",
    "outputId": "988c3357-e335-4889-e3f9-e3229233b328"
   },
   "outputs": [
    {
     "data": {
      "text/plain": [
       "((30579, 10, 8), (7645, 10, 8), (30579, 5), (7645, 5))"
      ]
     },
     "execution_count": 5,
     "metadata": {},
     "output_type": "execute_result"
    }
   ],
   "source": [
    "xtrain.shape, xtest.shape, ytrain.shape, ytest.shape"
   ]
  },
  {
   "cell_type": "markdown",
   "metadata": {
    "colab_type": "text",
    "heading_collapsed": true,
    "id": "p5w1qmY05wTt"
   },
   "source": [
    "# LSTM"
   ]
  },
  {
   "cell_type": "code",
   "execution_count": 7,
   "metadata": {
    "ExecuteTime": {
     "end_time": "2019-06-04T18:00:07.510600Z",
     "start_time": "2019-06-04T17:59:19.904419Z"
    },
    "colab": {
     "base_uri": "https://localhost:8080/",
     "height": 34
    },
    "colab_type": "code",
    "hidden": true,
    "id": "wYtriXrZ5wTu",
    "outputId": "230f7353-9140-48e3-b8a7-e90233874e77"
   },
   "outputs": [
    {
     "name": "stderr",
     "output_type": "stream",
     "text": [
      "Using TensorFlow backend.\n"
     ]
    }
   ],
   "source": [
    "from keras.models import Sequential\n",
    "from keras.layers import Dense\n",
    "from keras.layers import LSTM\n",
    "from keras.layers import Dropout, Activation\n",
    "from sklearn.model_selection import KFold\n",
    "from sklearn.model_selection import train_test_split\n",
    "from sklearn.metrics import auc\n",
    "from sklearn.metrics import roc_curve"
   ]
  },
  {
   "cell_type": "markdown",
   "metadata": {
    "colab_type": "text",
    "id": "1d061AE55wTy"
   },
   "source": [
    "# 没有交叉验证\n"
   ]
  },
  {
   "cell_type": "code",
   "execution_count": 12,
   "metadata": {
    "ExecuteTime": {
     "end_time": "2019-05-25T04:29:16.654193Z",
     "start_time": "2019-05-25T04:29:07.292445Z"
    },
    "colab": {
     "base_uri": "https://localhost:8080/",
     "height": 139
    },
    "colab_type": "code",
    "id": "AiqbOOax6zBa",
    "outputId": "9a92dbb5-69de-497b-daa9-3dcadda18fc7"
   },
   "outputs": [
    {
     "name": "stdout",
     "output_type": "stream",
     "text": [
      "WARNING:tensorflow:From /Library/Frameworks/Python.framework/Versions/3.7/lib/python3.7/site-packages/tensorflow/python/framework/op_def_library.py:263: colocate_with (from tensorflow.python.framework.ops) is deprecated and will be removed in a future version.\n",
      "Instructions for updating:\n",
      "Colocations handled automatically by placer.\n",
      "WARNING:tensorflow:From /Library/Frameworks/Python.framework/Versions/3.7/lib/python3.7/site-packages/keras/backend/tensorflow_backend.py:3445: calling dropout (from tensorflow.python.ops.nn_ops) with keep_prob is deprecated and will be removed in a future version.\n",
      "Instructions for updating:\n",
      "Please use `rate` instead of `keep_prob`. Rate should be set to `rate = 1 - keep_prob`.\n"
     ]
    }
   ],
   "source": [
    "regressor = Sequential()\n",
    "regressor.add(LSTM(units=70, return_sequences=True,\n",
    "                   input_shape=(xtrain.shape[1], 8)))\n",
    "regressor.add(Dropout(0.2))\n",
    "regressor.add(LSTM(units=70, return_sequences=True))\n",
    "regressor.add(Dropout(0.2))\n",
    "regressor.add(LSTM(units=70, return_sequences=True))\n",
    "regressor.add(Dropout(0.2))\n",
    "regressor.add(LSTM(units=70))\n",
    "regressor.add(Dropout(0.2))\n",
    "regressor.add(Dense(units=5))\n",
    "regressor.add(Activation('sigmoid'))\n",
    "regressor.compile(loss='categorical_crossentropy',\n",
    "                  optimizer='adam', metrics=['accuracy'])"
   ]
  },
  {
   "cell_type": "code",
   "execution_count": 13,
   "metadata": {
    "ExecuteTime": {
     "end_time": "2019-05-25T07:08:37.155529Z",
     "start_time": "2019-05-25T04:29:25.249036Z"
    },
    "colab": {
     "base_uri": "https://localhost:8080/",
     "height": 3505
    },
    "colab_type": "code",
    "id": "HO7ZzDVMUXwi",
    "outputId": "70920294-d304-434c-97f1-e9d46de73d56",
    "scrolled": false
   },
   "outputs": [
    {
     "name": "stdout",
     "output_type": "stream",
     "text": [
      "WARNING:tensorflow:From /Library/Frameworks/Python.framework/Versions/3.7/lib/python3.7/site-packages/tensorflow/python/ops/math_ops.py:3066: to_int32 (from tensorflow.python.ops.math_ops) is deprecated and will be removed in a future version.\n",
      "Instructions for updating:\n",
      "Use tf.cast instead.\n",
      "Epoch 1/100\n",
      "30579/30579 [==============================] - 38s 1ms/step - loss: 4.3487 - acc: 0.1945\n",
      "Epoch 2/100\n",
      "30579/30579 [==============================] - 31s 1ms/step - loss: 4.3485 - acc: 0.2596\n",
      "Epoch 3/100\n",
      "30579/30579 [==============================] - 32s 1ms/step - loss: 4.3485 - acc: 0.2212\n",
      "Epoch 4/100\n",
      "30579/30579 [==============================] - 30s 967us/step - loss: 4.3483 - acc: 0.2655\n",
      "Epoch 5/100\n",
      "30579/30579 [==============================] - 32s 1ms/step - loss: 4.3455 - acc: 0.2311\n",
      "Epoch 6/100\n",
      "30579/30579 [==============================] - 32s 1ms/step - loss: 4.3352 - acc: 0.2099\n",
      "Epoch 7/100\n",
      "30579/30579 [==============================] - 32s 1ms/step - loss: 4.3247 - acc: 0.2366\n",
      "Epoch 8/100\n",
      "30579/30579 [==============================] - 31s 1ms/step - loss: 4.3131 - acc: 0.2297\n",
      "Epoch 9/100\n",
      "30579/30579 [==============================] - 31s 1ms/step - loss: 4.3010 - acc: 0.2372\n",
      "Epoch 10/100\n",
      "30579/30579 [==============================] - 31s 998us/step - loss: 4.2875 - acc: 0.2391\n",
      "Epoch 11/100\n",
      "30579/30579 [==============================] - 31s 1ms/step - loss: 4.2712 - acc: 0.2528\n",
      "Epoch 12/100\n",
      "30579/30579 [==============================] - 29s 938us/step - loss: 4.2515 - acc: 0.2459\n",
      "Epoch 13/100\n",
      "30579/30579 [==============================] - 29s 959us/step - loss: 4.2318 - acc: 0.2532\n",
      "Epoch 14/100\n",
      "30579/30579 [==============================] - 31s 1ms/step - loss: 4.2103 - acc: 0.2525\n",
      "Epoch 15/100\n",
      "30579/30579 [==============================] - 31s 1ms/step - loss: 4.1776 - acc: 0.2612\n",
      "Epoch 16/100\n",
      "30579/30579 [==============================] - 31s 1ms/step - loss: 4.1490 - acc: 0.2717\n",
      "Epoch 17/100\n",
      "30579/30579 [==============================] - 30s 972us/step - loss: 4.1228 - acc: 0.2726\n",
      "Epoch 18/100\n",
      "30579/30579 [==============================] - 29s 949us/step - loss: 4.0916 - acc: 0.2745\n",
      "Epoch 19/100\n",
      "30579/30579 [==============================] - 29s 942us/step - loss: 4.0663 - acc: 0.2874\n",
      "Epoch 20/100\n",
      "30579/30579 [==============================] - 29s 957us/step - loss: 4.0408 - acc: 0.2854\n",
      "Epoch 21/100\n",
      "30579/30579 [==============================] - 29s 936us/step - loss: 4.0178 - acc: 0.2855\n",
      "Epoch 22/100\n",
      "30579/30579 [==============================] - 31s 1ms/step - loss: 3.9945 - acc: 0.2965\n",
      "Epoch 23/100\n",
      "30579/30579 [==============================] - 30s 990us/step - loss: 3.9731 - acc: 0.2897\n",
      "Epoch 24/100\n",
      "30579/30579 [==============================] - 30s 985us/step - loss: 3.9519 - acc: 0.2998\n",
      "Epoch 25/100\n",
      "30579/30579 [==============================] - 30s 988us/step - loss: 3.9331 - acc: 0.2959\n",
      "Epoch 26/100\n",
      "30579/30579 [==============================] - 30s 989us/step - loss: 3.9174 - acc: 0.3013\n",
      "Epoch 27/100\n",
      "30579/30579 [==============================] - 30s 995us/step - loss: 3.8984 - acc: 0.3049\n",
      "Epoch 28/100\n",
      "30579/30579 [==============================] - 30s 996us/step - loss: 3.8800 - acc: 0.3011\n",
      "Epoch 29/100\n",
      "30579/30579 [==============================] - 30s 997us/step - loss: 3.8614 - acc: 0.3017\n",
      "Epoch 30/100\n",
      "30579/30579 [==============================] - 31s 1ms/step - loss: 3.8548 - acc: 0.3064\n",
      "Epoch 31/100\n",
      "30579/30579 [==============================] - 31s 1ms/step - loss: 3.8348 - acc: 0.3116\n",
      "Epoch 32/100\n",
      "30579/30579 [==============================] - 31s 1ms/step - loss: 3.8219 - acc: 0.3143\n",
      "Epoch 33/100\n",
      "30579/30579 [==============================] - 31s 1ms/step - loss: 3.8126 - acc: 0.3113\n",
      "Epoch 34/100\n",
      "30579/30579 [==============================] - 29s 956us/step - loss: 3.7959 - acc: 0.3182\n",
      "Epoch 35/100\n",
      "30579/30579 [==============================] - 30s 982us/step - loss: 3.7795 - acc: 0.3138\n",
      "Epoch 36/100\n",
      "30579/30579 [==============================] - 30s 982us/step - loss: 3.7701 - acc: 0.3126\n",
      "Epoch 37/100\n",
      "30579/30579 [==============================] - 29s 961us/step - loss: 3.7646 - acc: 0.3185\n",
      "Epoch 38/100\n",
      "30579/30579 [==============================] - 30s 969us/step - loss: 3.7524 - acc: 0.3150\n",
      "Epoch 39/100\n",
      "30579/30579 [==============================] - 30s 980us/step - loss: 3.7448 - acc: 0.3119\n",
      "Epoch 40/100\n",
      "30579/30579 [==============================] - 30s 979us/step - loss: 3.7374 - acc: 0.3212\n",
      "Epoch 41/100\n",
      "30579/30579 [==============================] - 31s 1ms/step - loss: 3.7247 - acc: 0.3242\n",
      "Epoch 42/100\n",
      "30579/30579 [==============================] - 29s 954us/step - loss: 3.7144 - acc: 0.3187\n",
      "Epoch 43/100\n",
      "30579/30579 [==============================] - 29s 950us/step - loss: 3.7096 - acc: 0.3239\n",
      "Epoch 44/100\n",
      "30579/30579 [==============================] - 29s 943us/step - loss: 3.7010 - acc: 0.3257\n",
      "Epoch 45/100\n",
      "30579/30579 [==============================] - 29s 947us/step - loss: 3.6962 - acc: 0.3222\n",
      "Epoch 46/100\n",
      "30579/30579 [==============================] - 29s 939us/step - loss: 3.6841 - acc: 0.3286\n",
      "Epoch 47/100\n",
      "30579/30579 [==============================] - 29s 946us/step - loss: 3.6841 - acc: 0.3242\n",
      "Epoch 48/100\n",
      "30579/30579 [==============================] - 29s 948us/step - loss: 3.6721 - acc: 0.3303\n",
      "Epoch 49/100\n",
      "30579/30579 [==============================] - 29s 946us/step - loss: 3.6686 - acc: 0.3247\n",
      "Epoch 50/100\n",
      "30579/30579 [==============================] - 29s 947us/step - loss: 3.6596 - acc: 0.3228\n",
      "Epoch 51/100\n",
      "30579/30579 [==============================] - 29s 951us/step - loss: 3.6544 - acc: 0.3259\n",
      "Epoch 52/100\n",
      "30579/30579 [==============================] - 29s 938us/step - loss: 3.6468 - acc: 0.3325\n",
      "Epoch 53/100\n",
      "30579/30579 [==============================] - 29s 940us/step - loss: 3.6373 - acc: 0.3308\n",
      "Epoch 54/100\n",
      "30579/30579 [==============================] - 29s 943us/step - loss: 3.6337 - acc: 0.3257\n",
      "Epoch 55/100\n",
      "30579/30579 [==============================] - 29s 947us/step - loss: 3.6314 - acc: 0.3272\n",
      "Epoch 56/100\n",
      "30579/30579 [==============================] - 29s 939us/step - loss: 3.6285 - acc: 0.3245\n",
      "Epoch 57/100\n",
      "30579/30579 [==============================] - 29s 943us/step - loss: 3.6222 - acc: 0.3267\n",
      "Epoch 58/100\n",
      "30579/30579 [==============================] - 30s 973us/step - loss: 3.6140 - acc: 0.3379\n",
      "Epoch 59/100\n",
      "30579/30579 [==============================] - 30s 972us/step - loss: 3.6109 - acc: 0.3327\n",
      "Epoch 60/100\n",
      "30579/30579 [==============================] - 30s 977us/step - loss: 3.6077 - acc: 0.3365\n",
      "Epoch 61/100\n",
      "30579/30579 [==============================] - 30s 985us/step - loss: 3.6015 - acc: 0.3302\n",
      "Epoch 62/100\n",
      "30579/30579 [==============================] - 30s 969us/step - loss: 3.5971 - acc: 0.3258\n",
      "Epoch 63/100\n",
      "30579/30579 [==============================] - 30s 992us/step - loss: 3.5965 - acc: 0.33280s - loss: 3.5950 - acc: 0\n",
      "Epoch 64/100\n",
      "30579/30579 [==============================] - 29s 945us/step - loss: 3.5902 - acc: 0.3312\n",
      "Epoch 65/100\n",
      "30579/30579 [==============================] - 29s 946us/step - loss: 3.5845 - acc: 0.3282\n",
      "Epoch 66/100\n",
      "30579/30579 [==============================] - 30s 991us/step - loss: 3.5801 - acc: 0.3319\n",
      "Epoch 67/100\n",
      "30579/30579 [==============================] - 31s 1ms/step - loss: 3.5747 - acc: 0.3317\n",
      "Epoch 68/100\n",
      "30579/30579 [==============================] - 30s 997us/step - loss: 3.5758 - acc: 0.3308\n",
      "Epoch 69/100\n",
      "30579/30579 [==============================] - 30s 994us/step - loss: 3.5675 - acc: 0.3350\n",
      "Epoch 70/100\n",
      "30579/30579 [==============================] - 31s 1ms/step - loss: 3.5679 - acc: 0.3302\n",
      "Epoch 71/100\n",
      "30579/30579 [==============================] - 31s 999us/step - loss: 3.5613 - acc: 0.3318\n",
      "Epoch 72/100\n",
      "30579/30579 [==============================] - 30s 993us/step - loss: 3.5610 - acc: 0.3319\n",
      "Epoch 73/100\n",
      "30579/30579 [==============================] - 30s 990us/step - loss: 3.5568 - acc: 0.3331\n",
      "Epoch 74/100\n",
      "30579/30579 [==============================] - 31s 1ms/step - loss: 3.5531 - acc: 0.3333\n",
      "Epoch 75/100\n",
      "30579/30579 [==============================] - 31s 1ms/step - loss: 3.5474 - acc: 0.3377\n",
      "Epoch 76/100\n",
      "30579/30579 [==============================] - 31s 1ms/step - loss: 3.5515 - acc: 0.3392\n",
      "Epoch 77/100\n",
      "30579/30579 [==============================] - 29s 935us/step - loss: 3.5433 - acc: 0.3328\n",
      "Epoch 78/100\n",
      "30579/30579 [==============================] - 29s 948us/step - loss: 3.5371 - acc: 0.33780s - loss: 3.5380 - acc:\n",
      "Epoch 79/100\n",
      "30579/30579 [==============================] - 29s 939us/step - loss: 3.5408 - acc: 0.3292\n",
      "Epoch 80/100\n",
      "30579/30579 [==============================] - 29s 936us/step - loss: 3.5300 - acc: 0.3414\n",
      "Epoch 81/100\n",
      "30579/30579 [==============================] - 29s 937us/step - loss: 3.5297 - acc: 0.3376\n",
      "Epoch 82/100\n",
      "30579/30579 [==============================] - 29s 934us/step - loss: 3.5283 - acc: 0.3380\n",
      "Epoch 83/100\n",
      "30579/30579 [==============================] - 29s 937us/step - loss: 3.5301 - acc: 0.3275\n",
      "Epoch 84/100\n",
      "30579/30579 [==============================] - 29s 947us/step - loss: 3.5184 - acc: 0.3396\n",
      "Epoch 85/100\n",
      "30579/30579 [==============================] - 29s 941us/step - loss: 3.5154 - acc: 0.3475\n",
      "Epoch 86/100\n",
      "30579/30579 [==============================] - 30s 989us/step - loss: 3.5153 - acc: 0.3274\n",
      "Epoch 87/100\n",
      "30579/30579 [==============================] - 29s 954us/step - loss: 3.5121 - acc: 0.3344\n",
      "Epoch 88/100\n",
      "30579/30579 [==============================] - 29s 947us/step - loss: 3.5080 - acc: 0.3264\n",
      "Epoch 89/100\n",
      "30579/30579 [==============================] - 29s 940us/step - loss: 3.5094 - acc: 0.3334\n",
      "Epoch 90/100\n",
      "30579/30579 [==============================] - 29s 946us/step - loss: 3.5056 - acc: 0.3376\n",
      "Epoch 91/100\n",
      "30579/30579 [==============================] - 29s 951us/step - loss: 3.5074 - acc: 0.3376\n",
      "Epoch 92/100\n",
      "30579/30579 [==============================] - 29s 941us/step - loss: 3.4977 - acc: 0.3339\n",
      "Epoch 93/100\n",
      "30579/30579 [==============================] - 29s 944us/step - loss: 3.4988 - acc: 0.3303\n",
      "Epoch 94/100\n",
      "30579/30579 [==============================] - 29s 939us/step - loss: 3.4970 - acc: 0.3399\n",
      "Epoch 95/100\n",
      "30579/30579 [==============================] - 29s 938us/step - loss: 3.4918 - acc: 0.3360\n",
      "Epoch 96/100\n",
      "30579/30579 [==============================] - 29s 944us/step - loss: 3.4928 - acc: 0.3420\n",
      "Epoch 97/100\n",
      "30579/30579 [==============================] - 29s 937us/step - loss: 3.4927 - acc: 0.3433\n",
      "Epoch 98/100\n",
      "30579/30579 [==============================] - 29s 945us/step - loss: 3.4851 - acc: 0.3406\n",
      "Epoch 99/100\n",
      "30579/30579 [==============================] - 29s 944us/step - loss: 3.4881 - acc: 0.3384\n",
      "Epoch 100/100\n",
      "30579/30579 [==============================] - 29s 944us/step - loss: 3.4843 - acc: 0.3427\n"
     ]
    },
    {
     "data": {
      "text/plain": [
       "<keras.callbacks.History at 0x140363b00>"
      ]
     },
     "execution_count": 13,
     "metadata": {},
     "output_type": "execute_result"
    }
   ],
   "source": [
    "regressor.fit(xtrain, ytrain, epochs=100, batch_size=50)"
   ]
  },
  {
   "cell_type": "code",
   "execution_count": 14,
   "metadata": {
    "colab": {},
    "colab_type": "code",
    "id": "lWi6HPVsUXwo"
   },
   "outputs": [
    {
     "data": {
      "text/plain": [
       "['./lstm.model']"
      ]
     },
     "execution_count": 14,
     "metadata": {},
     "output_type": "execute_result"
    }
   ],
   "source": [
    "joblib.dump(regressor, './lstm.model')"
   ]
  },
  {
   "cell_type": "code",
   "execution_count": 15,
   "metadata": {
    "ExecuteTime": {
     "end_time": "2019-05-25T07:16:39.504403Z",
     "start_time": "2019-05-25T07:16:10.518278Z"
    },
    "colab": {
     "base_uri": "https://localhost:8080/",
     "height": 51
    },
    "colab_type": "code",
    "id": "Ye6HgKA-tqS7",
    "outputId": "a7d654e3-1186-4156-cebd-f831764c37f1"
   },
   "outputs": [
    {
     "data": {
      "text/plain": [
       "0    0.921948\n",
       "dtype: float64"
      ]
     },
     "execution_count": 15,
     "metadata": {},
     "output_type": "execute_result"
    }
   ],
   "source": [
    "predicted_stock_price = regressor.predict(xtest)\n",
    "a = []\n",
    "for i in range(len(ytest)):\n",
    "    fpr, tpr, thresholds = roc_curve(\n",
    "        ytest[i], predicted_stock_price[i], pos_label=1)\n",
    "    each_a = auc(fpr, tpr)\n",
    "    a.append(each_a)\n",
    "a = pd.DataFrame(a)\n",
    "a = a.dropna()\n",
    "a.mean()"
   ]
  },
  {
   "cell_type": "markdown",
   "metadata": {
    "colab": {},
    "colab_type": "code",
    "id": "G7v_fVkCtt9f"
   },
   "source": [
    "# 预测结果"
   ]
  },
  {
   "cell_type": "code",
   "execution_count": 13,
   "metadata": {
    "ExecuteTime": {
     "end_time": "2019-06-05T03:50:39.131123Z",
     "start_time": "2019-06-05T03:50:38.899269Z"
    },
    "colab": {
     "base_uri": "https://localhost:8080/",
     "height": 238
    },
    "colab_type": "code",
    "id": "FI0fe0l8zu41",
    "outputId": "4c56b559-84ad-4aa6-db0a-6833c2be3024"
   },
   "outputs": [
    {
     "ename": "FileNotFoundError",
     "evalue": "[Errno 2] No such file or directory: './lstm.model'",
     "output_type": "error",
     "traceback": [
      "\u001b[1;31m---------------------------------------------------------------------------\u001b[0m",
      "\u001b[1;31mFileNotFoundError\u001b[0m                         Traceback (most recent call last)",
      "\u001b[1;32m<ipython-input-13-9f70e2f2d1bb>\u001b[0m in \u001b[0;36m<module>\u001b[1;34m()\u001b[0m\n\u001b[1;32m----> 1\u001b[1;33m \u001b[0mregressor\u001b[0m\u001b[1;33m=\u001b[0m\u001b[0mjoblib\u001b[0m\u001b[1;33m.\u001b[0m\u001b[0mload\u001b[0m\u001b[1;33m(\u001b[0m\u001b[1;34m'./lstm.model'\u001b[0m\u001b[1;33m)\u001b[0m\u001b[1;33m\u001b[0m\u001b[0m\n\u001b[0m\u001b[0;32m      2\u001b[0m \u001b[0mdf_test1\u001b[0m \u001b[1;33m=\u001b[0m \u001b[0mpd\u001b[0m\u001b[1;33m.\u001b[0m\u001b[0mread_csv\u001b[0m\u001b[1;33m(\u001b[0m\u001b[1;34mr'../Data/20190521_STOCK.csv'\u001b[0m\u001b[1;33m)\u001b[0m\u001b[1;33m\u001b[0m\u001b[0m\n\u001b[0;32m      3\u001b[0m \u001b[0mdf_test2\u001b[0m \u001b[1;33m=\u001b[0m \u001b[0mpd\u001b[0m\u001b[1;33m.\u001b[0m\u001b[0mread_csv\u001b[0m\u001b[1;33m(\u001b[0m\u001b[1;34mr'../Data/20190528_STOCK.csv'\u001b[0m\u001b[1;33m)\u001b[0m\u001b[1;33m\u001b[0m\u001b[0m\n\u001b[0;32m      4\u001b[0m \u001b[0mdf_test3\u001b[0m \u001b[1;33m=\u001b[0m \u001b[0mpd\u001b[0m\u001b[1;33m.\u001b[0m\u001b[0mread_csv\u001b[0m\u001b[1;33m(\u001b[0m\u001b[1;34mr'../Data/20190604_STOCK.csv'\u001b[0m\u001b[1;33m)\u001b[0m\u001b[1;33m\u001b[0m\u001b[0m\n\u001b[0;32m      5\u001b[0m \u001b[0mdf_test4\u001b[0m \u001b[1;33m=\u001b[0m \u001b[0mpd\u001b[0m\u001b[1;33m.\u001b[0m\u001b[0mconcat\u001b[0m\u001b[1;33m(\u001b[0m\u001b[1;33m[\u001b[0m\u001b[0mdf_test1\u001b[0m\u001b[1;33m,\u001b[0m\u001b[0mdf_test2\u001b[0m\u001b[1;33m,\u001b[0m\u001b[0mdf_test3\u001b[0m\u001b[1;33m]\u001b[0m\u001b[1;33m)\u001b[0m\u001b[1;33m\u001b[0m\u001b[0m\n",
      "\u001b[1;32md:\\software\\python35\\lib\\site-packages\\sklearn\\externals\\joblib\\numpy_pickle.py\u001b[0m in \u001b[0;36mload\u001b[1;34m(filename, mmap_mode)\u001b[0m\n\u001b[0;32m    588\u001b[0m             \u001b[0mobj\u001b[0m \u001b[1;33m=\u001b[0m \u001b[0m_unpickle\u001b[0m\u001b[1;33m(\u001b[0m\u001b[0mfobj\u001b[0m\u001b[1;33m)\u001b[0m\u001b[1;33m\u001b[0m\u001b[0m\n\u001b[0;32m    589\u001b[0m     \u001b[1;32melse\u001b[0m\u001b[1;33m:\u001b[0m\u001b[1;33m\u001b[0m\u001b[0m\n\u001b[1;32m--> 590\u001b[1;33m         \u001b[1;32mwith\u001b[0m \u001b[0mopen\u001b[0m\u001b[1;33m(\u001b[0m\u001b[0mfilename\u001b[0m\u001b[1;33m,\u001b[0m \u001b[1;34m'rb'\u001b[0m\u001b[1;33m)\u001b[0m \u001b[1;32mas\u001b[0m \u001b[0mf\u001b[0m\u001b[1;33m:\u001b[0m\u001b[1;33m\u001b[0m\u001b[0m\n\u001b[0m\u001b[0;32m    591\u001b[0m             \u001b[1;32mwith\u001b[0m \u001b[0m_read_fileobject\u001b[0m\u001b[1;33m(\u001b[0m\u001b[0mf\u001b[0m\u001b[1;33m,\u001b[0m \u001b[0mfilename\u001b[0m\u001b[1;33m,\u001b[0m \u001b[0mmmap_mode\u001b[0m\u001b[1;33m)\u001b[0m \u001b[1;32mas\u001b[0m \u001b[0mfobj\u001b[0m\u001b[1;33m:\u001b[0m\u001b[1;33m\u001b[0m\u001b[0m\n\u001b[0;32m    592\u001b[0m                 \u001b[1;32mif\u001b[0m \u001b[0misinstance\u001b[0m\u001b[1;33m(\u001b[0m\u001b[0mfobj\u001b[0m\u001b[1;33m,\u001b[0m \u001b[0m_basestring\u001b[0m\u001b[1;33m)\u001b[0m\u001b[1;33m:\u001b[0m\u001b[1;33m\u001b[0m\u001b[0m\n",
      "\u001b[1;31mFileNotFoundError\u001b[0m: [Errno 2] No such file or directory: './lstm.model'"
     ]
    }
   ],
   "source": [
    "regressor = joblib.load('./lstm.model')\n",
    "df_test1 = pd.read_csv(r'../Data/20190521_STOCK.csv')\n",
    "df_test2 = pd.read_csv(r'../Data/20190528_STOCK.csv')\n",
    "df_test3 = pd.read_csv(r'../Data/20190604_STOCK.csv')\n",
    "df_test4 = pd.concat([df_test1, df_test2, df_test3])\n",
    "# df_test4.iloc[1:3]\n",
    "# df_test4 = df_test4[~df_test4.index.duplicated()]\n",
    "df_test4.head()\n",
    "# df_test4"
   ]
  },
  {
   "cell_type": "code",
   "execution_count": 17,
   "metadata": {
    "ExecuteTime": {
     "end_time": "2019-05-25T07:18:19.453676Z",
     "start_time": "2019-05-25T07:18:18.380334Z"
    },
    "colab": {},
    "colab_type": "code",
    "id": "Cb7oId-wOnR0"
   },
   "outputs": [],
   "source": [
    "df_test4['vol_change'] = df_test4.groupby([\"ts_code\"])['vol'].pct_change()\n",
    "df_test4['low_change'] = df_test4.groupby([\"ts_code\"])['low'].pct_change()\n",
    "df_test4['high_change'] = df_test4.groupby([\"ts_code\"])['high'].pct_change()\n",
    "df_test4['gaodi'] = (df_test4['high'] - df_test4['low']) / df_test4['low']\n",
    "df_test4['gaoclo'] = (df_test4['high'] - df_test4['close']\n",
    "                      ) / (df_test4['high'] - df_test4['low'])\n",
    "df_test4['diclo'] = (df_test4['close'] - df_test4['low']) / \\\n",
    "    (df_test4['high'] - df_test4['low'])\n",
    "df_test4['pct_change'] = df_test4['pct_change'] / 10\n",
    "df_test4 = df_test4[['ts_code', 'trade_date', 'name', 'pct_change',\n",
    "                     'vol_change', 'high_change', 'low_change', 'gaodi', 'gaoclo', 'diclo', 'y']]"
   ]
  },
  {
   "cell_type": "markdown",
   "metadata": {
    "colab_type": "text",
    "heading_collapsed": true,
    "id": "YH6wAN-_UXx_"
   },
   "source": [
    "# 预测5.29-6.04"
   ]
  },
  {
   "cell_type": "code",
   "execution_count": 18,
   "metadata": {
    "colab": {},
    "colab_type": "code",
    "hidden": true,
    "id": "W7yIcgichdP0"
   },
   "outputs": [],
   "source": [
    "# 预测未来五天的结果\n",
    "\n",
    "colums = [801010, 801020, 801030, 801040, 801050, 801080, 801110, 801120,\n",
    "          801130, 801140, 801150, 801160, 801170, 801180, 801200, 801210,\n",
    "          801230, 801250, 801260, 801270, 801280, 801300, 801710, 801720,\n",
    "          801730, 801740, 801750, 801760, 801770, 801780, 801790, 801880,\n",
    "          801890, 802600]\n",
    "range_index = (df_test4.trade_date > 20190521)\n",
    "df_final = df_test4[range_index]\n",
    "df_pr = pd.DataFrame()\n",
    "for arr in colums:\n",
    "    df3 = df_final.loc[df_final['ts_code'] == arr]\n",
    "    dataset2 = df3.values\n",
    "    x1 = dataset2[0:10, 3:11].tolist()\n",
    "    x1 = np.array(x1)\n",
    "    x1 = np.reshape(x1, (1, x1.shape[0], x1.shape[1]))\n",
    "    ytest1 = regressor.predict(x1)\n",
    "    y_p = pd.DataFrame(ytest1)\n",
    "    y_p = y_p.T\n",
    "    y_p['ts_code'] = arr\n",
    "    y_p['trade_date'] = [20190605, 20190606, 20190607, 20190610, 20190611]\n",
    "    df_pr = pd.concat([df_pr, y_p])\n",
    "# df_pr=df_me.merge(df_pr,how='left',on='name')\n",
    "df_pr.columns = ['p', 'ts_code', 'trade_date']\n",
    "df_pr = df_pr[['ts_code', 'trade_date', 'p']]\n",
    "range_index = (df_pr.trade_date != 20190607)\n",
    "df_prl = df_pr[range_index]\n",
    "df_pr1.to_csv('./结果提交第五周最终.csv')"
   ]
  },
  {
   "cell_type": "markdown",
   "metadata": {
    "colab": {},
    "colab_type": "code",
    "heading_collapsed": true,
    "id": "E2BcbATVwL5R"
   },
   "source": [
    "# 交叉验证"
   ]
  },
  {
   "cell_type": "code",
   "execution_count": 10,
   "metadata": {
    "ExecuteTime": {
     "end_time": "2019-06-04T18:20:06.893024Z",
     "start_time": "2019-06-04T18:19:57.406861Z"
    },
    "hidden": true
   },
   "outputs": [],
   "source": [
    "regressor1 = Sequential()\n",
    "regressor1.add(LSTM(units=60, return_sequences=True,\n",
    "                    input_shape=(xtrain.shape[1], 8)))\n",
    "regressor1.add(Dropout(0.2))\n",
    "regressor1.add(LSTM(units=60, return_sequences=True))\n",
    "regressor1.add(Dropout(0.2))\n",
    "regressor1.add(LSTM(units=60, return_sequences=True))\n",
    "regressor1.add(Dropout(0.2))\n",
    "regressor1.add(LSTM(units=60))\n",
    "regressor1.add(Dropout(0.2))\n",
    "regressor1.add(Dense(units=5))\n",
    "regressor1.add(Activation('sigmoid'))\n",
    "regressor1.compile(loss='categorical_crossentropy',\n",
    "                   optimizer='adam', metrics=['accuracy'])"
   ]
  },
  {
   "cell_type": "code",
   "execution_count": 8,
   "metadata": {
    "ExecuteTime": {
     "end_time": "2019-06-04T18:00:12.254567Z",
     "start_time": "2019-06-04T18:00:12.239577Z"
    },
    "colab": {},
    "colab_type": "code",
    "hidden": true,
    "id": "yvmtHpHZUXyk"
   },
   "outputs": [],
   "source": [
    "kf = KFold(n_splits=5, shuffle=True, random_state=520)"
   ]
  },
  {
   "cell_type": "code",
   "execution_count": 11,
   "metadata": {
    "ExecuteTime": {
     "end_time": "2019-06-04T20:07:11.878949Z",
     "start_time": "2019-06-04T18:21:06.206746Z"
    },
    "colab": {
     "base_uri": "https://localhost:8080/",
     "height": 3653
    },
    "colab_type": "code",
    "hidden": true,
    "id": "zAZXsJgo5wT9",
    "outputId": "c7e4d28b-261f-4b4d-d245-2a23e03b3ac2"
   },
   "outputs": [
    {
     "name": "stdout",
     "output_type": "stream",
     "text": [
      "0 fold\n",
      "Epoch 1/100\n",
      "24463/24463 [==============================] - 75s 3ms/step - loss: 4.3400 - acc: 0.2690: 0s - loss: 4.3403 - acc: 0.2\n",
      "Epoch 2/100\n",
      "24463/24463 [==============================] - 64s 3ms/step - loss: 4.3400 - acc: 0.2392\n",
      "Epoch 3/100\n",
      "24463/24463 [==============================] - 65s 3ms/step - loss: 4.3399 - acc: 0.2234: 2s - loss: 4.3391 - \n",
      "Epoch 4/100\n",
      "24463/24463 [==============================] - 65s 3ms/step - loss: 4.3399 - acc: 0.2258\n",
      "Epoch 5/100\n",
      "24463/24463 [==============================] - 64s 3ms/step - loss: 4.3398 - acc: 0.2588 - ETA: 11s  -\n",
      "Epoch 6/100\n",
      "24463/24463 [==============================] - 65s 3ms/step - loss: 4.3397 - acc: 0.2889\n",
      "Epoch 7/100\n",
      "24463/24463 [==============================] - 66s 3ms/step - loss: 4.3395 - acc: 0.2456\n",
      "Epoch 8/100\n",
      "24463/24463 [==============================] - 67s 3ms/step - loss: 4.3372 - acc: 0.2534: 1s - loss: 4.3332 - acc:\n",
      "Epoch 9/100\n",
      "24463/24463 [==============================] - 65s 3ms/step - loss: 4.3297 - acc: 0.2258\n",
      "Epoch 10/100\n",
      "24463/24463 [==============================] - 65s 3ms/step - loss: 4.3230 - acc: 0.2470: 3s - loss: 4.\n",
      "Epoch 11/100\n",
      "24463/24463 [==============================] - 66s 3ms/step - loss: 4.3155 - acc: 0.2416: 1s - loss: 4.3150 - acc: 0\n",
      "Epoch 12/100\n",
      "24463/24463 [==============================] - 67s 3ms/step - loss: 4.3109 - acc: 0.2421\n",
      "Epoch 13/100\n",
      "24463/24463 [==============================] - 66s 3ms/step - loss: 4.3042 - acc: 0.2288\n",
      "Epoch 14/100\n",
      "24463/24463 [==============================] - 66s 3ms/step - loss: 4.2984 - acc: 0.2301\n",
      "Epoch 15/100\n",
      "24463/24463 [==============================] - 67s 3ms/step - loss: 4.2925 - acc: 0.2453\n",
      "Epoch 16/100\n",
      "24463/24463 [==============================] - 67s 3ms/step - loss: 4.2855 - acc: 0.2326\n",
      "Epoch 17/100\n",
      "24463/24463 [==============================] - 66s 3ms/step - loss: 4.2790 - acc: 0.2490\n",
      "Epoch 18/100\n",
      "24463/24463 [==============================] - 69s 3ms/step - loss: 4.2708 - acc: 0.2484: 0s - loss: 4.2737 - acc: 0.\n",
      "Epoch 19/100\n",
      "24463/24463 [==============================] - 64s 3ms/step - loss: 4.2625 - acc: 0.2475\n",
      "Epoch 20/100\n",
      "24463/24463 [==============================] - 63s 3ms/step - loss: 4.2550 - acc: 0.2641: 2s - loss: 4.2542\n",
      "Epoch 21/100\n",
      "24463/24463 [==============================] - 65s 3ms/step - loss: 4.2460 - acc: 0.2536\n",
      "Epoch 22/100\n",
      "24463/24463 [==============================] - 63s 3ms/step - loss: 4.2397 - acc: 0.2670\n",
      "Epoch 23/100\n",
      "24463/24463 [==============================] - 63s 3ms/step - loss: 4.2311 - acc: 0.2672: 10s - loss: 4.2383\n",
      "Epoch 24/100\n",
      "24463/24463 [==============================] - 63s 3ms/step - loss: 4.2257 - acc: 0.2711: 3s - loss: 4.225\n",
      "Epoch 25/100\n",
      "24463/24463 [==============================] - 63s 3ms/step - loss: 4.2156 - acc: 0.2672: 5s - loss: 4.2157 - acc: 0 - ETA: 4s - lo\n",
      "Epoch 26/100\n",
      "24463/24463 [==============================] - 65s 3ms/step - loss: 4.2087 - acc: 0.2641\n",
      "Epoch 27/100\n",
      "24463/24463 [==============================] - 64s 3ms/step - loss: 4.1987 - acc: 0.2692\n",
      "Epoch 28/100\n",
      "24463/24463 [==============================] - 63s 3ms/step - loss: 4.1907 - acc: 0.2674\n",
      "Epoch 29/100\n",
      "24463/24463 [==============================] - 63s 3ms/step - loss: 4.1815 - acc: 0.2694: 5s\n",
      "Epoch 30/100\n",
      "24463/24463 [==============================] - 64s 3ms/step - loss: 4.1725 - acc: 0.2667: 0s - loss: 4.1720 - acc: 0.266\n",
      "Epoch 31/100\n",
      "24463/24463 [==============================] - 64s 3ms/step - loss: 4.1628 - acc: 0.2731\n",
      "Epoch 32/100\n",
      "24463/24463 [==============================] - 63s 3ms/step - loss: 4.1543 - acc: 0.2707\n",
      "Epoch 33/100\n",
      "24463/24463 [==============================] - 63s 3ms/step - loss: 4.1465 - acc: 0.2725\n",
      "Epoch 34/100\n",
      "24463/24463 [==============================] - 62s 3ms/step - loss: 4.1343 - acc: 0.2762\n",
      "Epoch 35/100\n",
      "24463/24463 [==============================] - 63s 3ms/step - loss: 4.1249 - acc: 0.2826\n",
      "Epoch 36/100\n",
      "24463/24463 [==============================] - 63s 3ms/step - loss: 4.1163 - acc: 0.2765\n",
      "Epoch 37/100\n",
      "24463/24463 [==============================] - 64s 3ms/step - loss: 4.1105 - acc: 0.2807: 3s - loss: 4.11\n",
      "Epoch 38/100\n",
      "24463/24463 [==============================] - 62s 3ms/step - loss: 4.0951 - acc: 0.2839\n",
      "Epoch 39/100\n",
      "24463/24463 [==============================] - 62s 3ms/step - loss: 4.0884 - acc: 0.2897\n",
      "Epoch 40/100\n",
      "24463/24463 [==============================] - 67s 3ms/step - loss: 4.0776 - acc: 0.2843\n",
      "Epoch 41/100\n",
      "24463/24463 [==============================] - 63s 3ms/step - loss: 4.0712 - acc: 0.2790\n",
      "Epoch 42/100\n",
      "24463/24463 [==============================] - 62s 3ms/step - loss: 4.0592 - acc: 0.2877\n",
      "Epoch 43/100\n",
      "24463/24463 [==============================] - 62s 3ms/step - loss: 4.0523 - acc: 0.2856: 47s - loss:  - ETA: 45s - los - ETA: 1s - loss: 4.0505 - acc\n",
      "Epoch 44/100\n",
      "24463/24463 [==============================] - 64s 3ms/step - loss: 4.0410 - acc: 0.2861: 10s - loss: 4.037\n",
      "Epoch 45/100\n",
      "24463/24463 [==============================] - 63s 3ms/step - loss: 4.0367 - acc: 0.2812\n",
      "Epoch 46/100\n",
      "24463/24463 [==============================] - 62s 3ms/step - loss: 4.0236 - acc: 0.2896: 0s - loss: 4.0233 - acc: 0.289\n",
      "Epoch 47/100\n",
      "24463/24463 [==============================] - 62s 3ms/step - loss: 4.0146 - acc: 0.2894\n",
      "Epoch 48/100\n",
      "24463/24463 [==============================] - 64s 3ms/step - loss: 4.0082 - acc: 0.2805\n",
      "Epoch 49/100\n",
      "24463/24463 [==============================] - 63s 3ms/step - loss: 3.9998 - acc: 0.2889\n",
      "Epoch 50/100\n",
      "24463/24463 [==============================] - 62s 3ms/step - loss: 3.9915 - acc: 0.2901: 1s - loss: 3.9908 - acc\n",
      "Epoch 51/100\n",
      "24463/24463 [==============================] - 61s 3ms/step - loss: 3.9842 - acc: 0.2875\n",
      "Epoch 52/100\n",
      "24463/24463 [==============================] - 62s 3ms/step - loss: 3.9764 - acc: 0.2873: 5s\n",
      "Epoch 53/100\n",
      "24463/24463 [==============================] - 61s 3ms/step - loss: 3.9662 - acc: 0.2895: \n",
      "Epoch 54/100\n",
      "24463/24463 [==============================] - 62s 3ms/step - loss: 3.9592 - acc: 0.2858: 8s  - ETA: 2s - loss: 3.9597 - acc - ETA: 1s - loss: 3.9601 - acc: \n",
      "Epoch 55/100\n",
      "24463/24463 [==============================] - 62s 3ms/step - loss: 3.9571 - acc: 0.2884: 19s - loss: 3.9647 - acc - - ETA - ETA: 11\n",
      "Epoch 56/100\n",
      "24463/24463 [==============================] - 62s 3ms/step - loss: 3.9484 - acc: 0.2949: 2s - loss: 3.9488 - \n",
      "Epoch 57/100\n",
      "24463/24463 [==============================] - 62s 3ms/step - loss: 3.9402 - acc: 0.2912: 4s - loss: 3.9435 -  - ETA: 1s - loss: 3.9438 - a\n",
      "Epoch 58/100\n",
      "24463/24463 [==============================] - 62s 3ms/step - loss: 3.9319 - acc: 0.2985\n",
      "Epoch 59/100\n",
      "24463/24463 [==============================] - 63s 3ms/step - loss: 3.9231 - acc: 0.2970\n",
      "Epoch 60/100\n",
      "24463/24463 [==============================] - 63s 3ms/step - loss: 3.9178 - acc: 0.2893: 6s - loss: 3.9 - ETA: 2s - loss: 3.9186 - acc: 0.289 - ETA: 2s - loss: 3.9203 -\n",
      "Epoch 61/100\n",
      "24463/24463 [==============================] - 62s 3ms/step - loss: 3.9164 - acc: 0.2906: 6s - loss: 3.9187 - - ETA: 4s - loss: \n",
      "Epoch 62/100\n",
      "24463/24463 [==============================] - 62s 3ms/step - loss: 3.9086 - acc: 0.2995\n",
      "Epoch 63/100\n",
      "24463/24463 [==============================] - 62s 3ms/step - loss: 3.9046 - acc: 0.2949\n",
      "Epoch 64/100\n",
      "24463/24463 [==============================] - 64s 3ms/step - loss: 3.8938 - acc: 0.2931\n",
      "Epoch 65/100\n",
      "24463/24463 [==============================] - 63s 3ms/step - loss: 3.8926 - acc: 0.2976\n",
      "Epoch 66/100\n",
      "24463/24463 [==============================] - 62s 3ms/step - loss: 3.8842 - acc: 0.3045: 12s - loss:  -  - ETA: 4s - loss: 3.88 - ETA: 0s - loss: 3.8846 - acc: 0.\n",
      "Epoch 67/100\n",
      "24463/24463 [==============================] - 62s 3ms/step - loss: 3.8754 - acc: 0.2998\n",
      "Epoch 68/100\n",
      "24463/24463 [==============================] - 63s 3ms/step - loss: 3.8689 - acc: 0.3022\n",
      "Epoch 69/100\n",
      "24463/24463 [==============================] - 62s 3ms/step - loss: 3.8644 - acc: 0.2950: 5s -\n",
      "Epoch 70/100\n",
      "24463/24463 [==============================] - 62s 3ms/step - loss: 3.8649 - acc: 0.2970\n",
      "Epoch 71/100\n",
      "24463/24463 [==============================] - 62s 3ms/step - loss: 3.8618 - acc: 0.2931: 10s - loss: 3.8659 - ETA: 7s - loss: 3.866 - ETA: 4s - los\n",
      "Epoch 72/100\n",
      "24463/24463 [==============================] - 60s 2ms/step - loss: 3.8497 - acc: 0.3008: 3s - loss: 3\n",
      "Epoch 73/100\n",
      "24463/24463 [==============================] - 61s 3ms/step - loss: 3.8472 - acc: 0.2973: 5s - loss: 3.8518 - acc: 0.296 - ETA: 4s - l\n",
      "Epoch 74/100\n",
      "24463/24463 [==============================] - 60s 2ms/step - loss: 3.8430 - acc: 0.2985- ETA: 0s - loss: 3.8414 - acc: 0\n",
      "Epoch 75/100\n",
      "24463/24463 [==============================] - 63s 3ms/step - loss: 3.8390 - acc: 0.3080: 7s - loss: 3.8404 - acc:  - ETA: 6\n",
      "Epoch 76/100\n",
      "24463/24463 [==============================] - 61s 2ms/step - loss: 3.8286 - acc: 0.3037: 11s - loss: 3. - ETA: 10s - loss: 3. - ET\n",
      "Epoch 77/100\n",
      "24463/24463 [==============================] - 62s 3ms/step - loss: 3.8314 - acc: 0.3079 ETA: 19s - loss: 3\n",
      "Epoch 78/100\n",
      "24463/24463 [==============================] - 63s 3ms/step - loss: 3.8230 - acc: 0.3018: 0s - loss: 3.8242 - acc: 0.\n",
      "Epoch 79/100\n",
      "24463/24463 [==============================] - 62s 3ms/step - loss: 3.8158 - acc: 0.3061: 4s - loss\n",
      "Epoch 80/100\n",
      "24463/24463 [==============================] - 62s 3ms/step - loss: 3.8097 - acc: 0.3057: 3s - loss: 3.808\n",
      "Epoch 81/100\n",
      "24463/24463 [==============================] - 63s 3ms/step - loss: 3.8118 - acc: 0.3066\n",
      "Epoch 82/100\n",
      "24463/24463 [==============================] - 65s 3ms/step - loss: 3.8052 - acc: 0.3050: 1s - loss: 3.8112 - acc\n",
      "Epoch 83/100\n",
      "24463/24463 [==============================] - 67s 3ms/step - loss: 3.7993 - acc: 0.3057\n",
      "Epoch 84/100\n",
      "24463/24463 [==============================] - 64s 3ms/step - loss: 3.7967 - acc: 0.3043\n",
      "Epoch 85/100\n",
      "24463/24463 [==============================] - 62s 3ms/step - loss: 3.7961 - acc: 0.3148\n",
      "Epoch 86/100\n",
      "24463/24463 [==============================] - 62s 3ms/step - loss: 3.7900 - acc: 0.3175: 8s - loss: 3.7816 - acc: 0.\n",
      "Epoch 87/100\n",
      "24463/24463 [==============================] - 63s 3ms/step - loss: 3.7891 - acc: 0.3095\n",
      "Epoch 88/100\n",
      "24463/24463 [==============================] - 62s 3ms/step - loss: 3.7773 - acc: 0.3192: 0s - loss: 3.7778 - acc: 0.319\n",
      "Epoch 89/100\n",
      "24463/24463 [==============================] - 62s 3ms/step - loss: 3.7783 - acc: 0.3079\n",
      "Epoch 90/100\n",
      "24463/24463 [==============================] - 61s 3ms/step - loss: 3.7701 - acc: 0.3073: 6s - loss: 3.7711 -  - ETA: 4s - loss\n",
      "Epoch 91/100\n",
      "24463/24463 [==============================] - 63s 3ms/step - loss: 3.7678 - acc: 0.3128\n",
      "Epoch 92/100\n",
      "24463/24463 [==============================] - 63s 3ms/step - loss: 3.7664 - acc: 0.3133\n",
      "Epoch 93/100\n",
      "24463/24463 [==============================] - 62s 3ms/step - loss: 3.7630 - acc: 0.3210\n",
      "Epoch 94/100\n",
      "24463/24463 [==============================] - 62s 3ms/step - loss: 3.7591 - acc: 0.3179\n",
      "Epoch 95/100\n",
      "24463/24463 [==============================] - 64s 3ms/step - loss: 3.7556 - acc: 0.3173: 3s - loss: 3.757\n",
      "Epoch 96/100\n",
      "24463/24463 [==============================] - 62s 3ms/step - loss: 3.7497 - acc: 0.3118: 8s - loss: 3 - ETA: 4s - los\n",
      "Epoch 97/100\n",
      "24463/24463 [==============================] - 62s 3ms/step - loss: 3.7475 - acc: 0.3191: 1s - loss: 3.7460 - a\n",
      "Epoch 98/100\n",
      "24463/24463 [==============================] - 63s 3ms/step - loss: 3.7457 - acc: 0.3085: 9s - loss: 3.7370 - acc - ETA: 7s - loss: 3.74 - ETA: 4s - los\n",
      "Epoch 99/100\n",
      "24463/24463 [==============================] - 62s 3ms/step - loss: 3.7352 - acc: 0.3150\n",
      "Epoch 100/100\n",
      "24463/24463 [==============================] - 62s 3ms/step - loss: 3.7401 - acc: 0.3145: 6s  - ETA: 0s - loss: 3.7408 - acc: 0.\n"
     ]
    },
    {
     "ename": "NameError",
     "evalue": "name 'joblib' is not defined",
     "output_type": "error",
     "traceback": [
      "\u001b[1;31m---------------------------------------------------------------------------\u001b[0m",
      "\u001b[1;31mNameError\u001b[0m                                 Traceback (most recent call last)",
      "\u001b[1;32m<ipython-input-11-542449b1d7f8>\u001b[0m in \u001b[0;36m<module>\u001b[1;34m()\u001b[0m\n\u001b[0;32m     10\u001b[0m \u001b[1;33m\u001b[0m\u001b[0m\n\u001b[0;32m     11\u001b[0m     \u001b[0mregressor1\u001b[0m\u001b[1;33m.\u001b[0m\u001b[0mfit\u001b[0m\u001b[1;33m(\u001b[0m\u001b[0mX_train\u001b[0m\u001b[1;33m,\u001b[0m\u001b[0my_train\u001b[0m\u001b[1;33m,\u001b[0m \u001b[0mepochs\u001b[0m \u001b[1;33m=\u001b[0m \u001b[1;36m100\u001b[0m\u001b[1;33m,\u001b[0m \u001b[0mbatch_size\u001b[0m \u001b[1;33m=\u001b[0m \u001b[1;36m80\u001b[0m\u001b[1;33m)\u001b[0m\u001b[1;33m\u001b[0m\u001b[0m\n\u001b[1;32m---> 12\u001b[1;33m     \u001b[0mjoblib\u001b[0m\u001b[1;33m.\u001b[0m\u001b[0mdump\u001b[0m\u001b[1;33m(\u001b[0m\u001b[0mregressor1\u001b[0m\u001b[1;33m,\u001b[0m\u001b[1;34m'./lstm%s.model'\u001b[0m \u001b[1;33m%\u001b[0m \u001b[0mstr\u001b[0m\u001b[1;33m(\u001b[0m\u001b[0mi\u001b[0m\u001b[1;33m)\u001b[0m\u001b[1;33m)\u001b[0m\u001b[1;33m\u001b[0m\u001b[0m\n\u001b[0m\u001b[0;32m     13\u001b[0m     \u001b[0mpredicted_stock_price1\u001b[0m \u001b[1;33m=\u001b[0m \u001b[0mregressor1\u001b[0m\u001b[1;33m.\u001b[0m\u001b[0mpredict\u001b[0m\u001b[1;33m(\u001b[0m\u001b[0mX_valid\u001b[0m\u001b[1;33m)\u001b[0m\u001b[1;33m\u001b[0m\u001b[0m\n\u001b[0;32m     14\u001b[0m     \u001b[1;32mfor\u001b[0m \u001b[0mj\u001b[0m \u001b[1;32min\u001b[0m \u001b[0mrange\u001b[0m\u001b[1;33m(\u001b[0m\u001b[0mlen\u001b[0m\u001b[1;33m(\u001b[0m\u001b[0my_valid\u001b[0m\u001b[1;33m)\u001b[0m\u001b[1;33m)\u001b[0m\u001b[1;33m:\u001b[0m\u001b[1;33m\u001b[0m\u001b[0m\n",
      "\u001b[1;31mNameError\u001b[0m: name 'joblib' is not defined"
     ]
    }
   ],
   "source": [
    "i = 0\n",
    "df_yanz = pd.DataFrame()\n",
    "df_jieguo = pd.DataFrame()\n",
    "for train, test in kf.split(xtrain):\n",
    "    a = []\n",
    "    b = []\n",
    "    X_train, X_valid = xtrain[train, :], xtrain[test, :]\n",
    "    y_train, y_valid = ytrain[train, :], ytrain[test, :]\n",
    "    print(i, 'fold')\n",
    "\n",
    "    regressor1.fit(X_train, y_train, epochs=100, batch_size=80)\n",
    "    joblib.dump(regressor1, './lstm%s.model' % str(i))\n",
    "    predicted_stock_price1 = regressor1.predict(X_valid)\n",
    "    for j in range(len(y_valid)):\n",
    "        fpr1, tpr1, thresholds1 = roc_curve(\n",
    "            y_valid[j], predicted_stock_price1[j], pos_label=1)\n",
    "        a.append(auc(fpr1, tpr1))\n",
    "    a = pd.DataFrame(a)\n",
    "    a = a.dropna()\n",
    "    print(a.mean())\n",
    "    predicted_stock_price2 = regressor1.predict(xtest)\n",
    "    for k in range(len(ytest)):\n",
    "        fpr2, tpr2, thresholds2 = roc_curve(\n",
    "            ytest[k], predicted_stock_price2[k], pos_label=1)\n",
    "        b.append(auc(fpr2, tpr2))\n",
    "    b = pd.DataFrame(b)\n",
    "    b = b.dropna()\n",
    "    print(b.mean())\n",
    "    df_yanz = df_yanz + pd.DataFrame(predicted_stock_price2)\n",
    "    df_pr = pd.DataFrame()\n",
    "    for arr in colums:\n",
    "        df4 = df_final.loc[df_final['ts_code'] == arr]\n",
    "        dataset4 = df4.values\n",
    "        x1 = dataset2[0:10, 3:8].tolist()\n",
    "        x1 = np.array(x1)\n",
    "        x1 = np.reshape(x1, (1, x1.shape[0], x1.shape[1]))\n",
    "        ytest1 = regressor1.predict(x1)\n",
    "        y_p = pd.DataFrame(ytest1)\n",
    "        y_p = y_p.T\n",
    "        y_p['ts_code'] = arr\n",
    "        y_p['trade_date'] = [20190605, 20190606, 20190607, 20190610, 20190611]\n",
    "    df_pr = pd.concat([df_pr, y_p])\n",
    "# df_pr=df_me.merge(df_pr,how='left',on='name')\n",
    "    df_pr.columns = ['i', 'ts_code', 'trade_date']\n",
    "    df_pr = df_pr[['ts_code', 'trade_date', 'i']]\n",
    "    df_jieguo['ts_code'] = df_pr['ts_code']\n",
    "    df_jieguo['trade_date'] = df_pr['trade_date']\n",
    "    df_jieguo['i'] = df_pr['i']\n",
    "    i = i + 1"
   ]
  },
  {
   "cell_type": "markdown",
   "metadata": {
    "colab_type": "text",
    "heading_collapsed": true,
    "id": "qoqDrHwX5wUJ"
   },
   "source": [
    "# 新闻"
   ]
  },
  {
   "cell_type": "code",
   "execution_count": 0,
   "metadata": {
    "colab": {},
    "colab_type": "code",
    "hidden": true,
    "id": "7vy98Vht5wUK"
   },
   "outputs": [],
   "source": [
    "df1 = pd.read_csv(r'./TRAINSET_STOCK.csv')\n",
    "df_add = pd.read_csv(r'./20190506_STOCK.csv')\n",
    "df_test = pd.read_csv(r'./20190514_STOCK.csv')\n",
    "df1 = pd.concat([df1, df_add, df_test])"
   ]
  },
  {
   "cell_type": "code",
   "execution_count": 0,
   "metadata": {
    "colab": {
     "base_uri": "https://localhost:8080/",
     "height": 165
    },
    "colab_type": "code",
    "hidden": true,
    "id": "CwBRWOcgnAw7",
    "outputId": "f0606309-a225-42a7-efac-e892060cf77c"
   },
   "outputs": [
    {
     "data": {
      "text/html": [
       "<div>\n",
       "<style scoped>\n",
       "    .dataframe tbody tr th:only-of-type {\n",
       "        vertical-align: middle;\n",
       "    }\n",
       "\n",
       "    .dataframe tbody tr th {\n",
       "        vertical-align: top;\n",
       "    }\n",
       "\n",
       "    .dataframe thead th {\n",
       "        text-align: right;\n",
       "    }\n",
       "</style>\n",
       "<table border=\"1\" class=\"dataframe\">\n",
       "  <thead>\n",
       "    <tr style=\"text-align: right;\">\n",
       "      <th></th>\n",
       "      <th>0</th>\n",
       "      <th>1152</th>\n",
       "      <th>2304</th>\n",
       "      <th>3456</th>\n",
       "      <th>3656</th>\n",
       "      <th>4608</th>\n",
       "      <th>5760</th>\n",
       "      <th>6912</th>\n",
       "      <th>8064</th>\n",
       "      <th>9216</th>\n",
       "      <th>10368</th>\n",
       "      <th>11520</th>\n",
       "      <th>12672</th>\n",
       "      <th>13824</th>\n",
       "      <th>14976</th>\n",
       "      <th>16128</th>\n",
       "      <th>17280</th>\n",
       "      <th>17480</th>\n",
       "      <th>18432</th>\n",
       "      <th>19584</th>\n",
       "      <th>20736</th>\n",
       "      <th>21888</th>\n",
       "      <th>23040</th>\n",
       "      <th>24192</th>\n",
       "      <th>25344</th>\n",
       "      <th>26496</th>\n",
       "      <th>27648</th>\n",
       "      <th>28800</th>\n",
       "      <th>29952</th>\n",
       "      <th>31104</th>\n",
       "      <th>32256</th>\n",
       "      <th>33408</th>\n",
       "      <th>34560</th>\n",
       "      <th>35712</th>\n",
       "      <th>36864</th>\n",
       "      <th>38016</th>\n",
       "    </tr>\n",
       "  </thead>\n",
       "  <tbody>\n",
       "    <tr>\n",
       "      <th>name</th>\n",
       "      <td>农林牧渔</td>\n",
       "      <td>采掘</td>\n",
       "      <td>化工</td>\n",
       "      <td>黑色金属</td>\n",
       "      <td>钢铁</td>\n",
       "      <td>有色金属</td>\n",
       "      <td>电子</td>\n",
       "      <td>家用电器</td>\n",
       "      <td>食品饮料</td>\n",
       "      <td>纺织服装</td>\n",
       "      <td>轻工制造</td>\n",
       "      <td>医药生物</td>\n",
       "      <td>公用事业</td>\n",
       "      <td>交通运输</td>\n",
       "      <td>房地产</td>\n",
       "      <td>商业贸易</td>\n",
       "      <td>餐饮旅游</td>\n",
       "      <td>休闲服务</td>\n",
       "      <td>综合</td>\n",
       "      <td>申万制造</td>\n",
       "      <td>申万消费</td>\n",
       "      <td>申万投资</td>\n",
       "      <td>申万服务</td>\n",
       "      <td>申万300指数</td>\n",
       "      <td>建筑材料</td>\n",
       "      <td>建筑装饰</td>\n",
       "      <td>电气设备</td>\n",
       "      <td>国防军工</td>\n",
       "      <td>计算机</td>\n",
       "      <td>传媒</td>\n",
       "      <td>通信</td>\n",
       "      <td>银行</td>\n",
       "      <td>非银金融</td>\n",
       "      <td>汽车</td>\n",
       "      <td>机械设备</td>\n",
       "      <td>交银装备</td>\n",
       "    </tr>\n",
       "    <tr>\n",
       "      <th>ts_code</th>\n",
       "      <td>801010</td>\n",
       "      <td>801020</td>\n",
       "      <td>801030</td>\n",
       "      <td>801040</td>\n",
       "      <td>801040</td>\n",
       "      <td>801050</td>\n",
       "      <td>801080</td>\n",
       "      <td>801110</td>\n",
       "      <td>801120</td>\n",
       "      <td>801130</td>\n",
       "      <td>801140</td>\n",
       "      <td>801150</td>\n",
       "      <td>801160</td>\n",
       "      <td>801170</td>\n",
       "      <td>801180</td>\n",
       "      <td>801200</td>\n",
       "      <td>801210</td>\n",
       "      <td>801210</td>\n",
       "      <td>801230</td>\n",
       "      <td>801250</td>\n",
       "      <td>801260</td>\n",
       "      <td>801270</td>\n",
       "      <td>801280</td>\n",
       "      <td>801300</td>\n",
       "      <td>801710</td>\n",
       "      <td>801720</td>\n",
       "      <td>801730</td>\n",
       "      <td>801740</td>\n",
       "      <td>801750</td>\n",
       "      <td>801760</td>\n",
       "      <td>801770</td>\n",
       "      <td>801780</td>\n",
       "      <td>801790</td>\n",
       "      <td>801880</td>\n",
       "      <td>801890</td>\n",
       "      <td>802600</td>\n",
       "    </tr>\n",
       "  </tbody>\n",
       "</table>\n",
       "</div>"
      ],
      "text/plain": [
       "          0       1152    2304    3456   ...   34560   35712   36864   38016\n",
       "name       农林牧渔      采掘      化工    黑色金属  ...    非银金融      汽车    机械设备    交银装备\n",
       "ts_code  801010  801020  801030  801040  ...  801790  801880  801890  802600\n",
       "\n",
       "[2 rows x 36 columns]"
      ]
     },
     "execution_count": 84,
     "metadata": {
      "tags": []
     },
     "output_type": "execute_result"
    }
   ],
   "source": [
    "df2 = df1[['name', 'ts_code']]\n",
    "df2 = df2.drop_duplicates(keep='first')"
   ]
  },
  {
   "cell_type": "code",
   "execution_count": 0,
   "metadata": {
    "colab": {
     "base_uri": "https://localhost:8080/",
     "height": 170
    },
    "colab_type": "code",
    "hidden": true,
    "id": "5aBT8rQpq5oQ",
    "outputId": "badae5dd-a38d-47ae-edf8-684cd80752be"
   },
   "outputs": [
    {
     "name": "stdout",
     "output_type": "stream",
     "text": [
      "<class 'pandas.core.frame.DataFrame'>\n",
      "Int64Index: 27077 entries, 0 to 112\n",
      "Data columns (total 4 columns):\n",
      "id         27077 non-null object\n",
      "date       27077 non-null int64\n",
      "title      27048 non-null object\n",
      "content    26915 non-null object\n",
      "dtypes: int64(1), object(3)\n",
      "memory usage: 1.0+ MB\n"
     ]
    }
   ],
   "source": [
    "df_news1 = pd.read_csv(r'./TRAINSET_NEWS.csv')\n",
    "df_news2 = pd.read_csv(r'./20190506_NEWS.csv')\n",
    "df_news3 = pd.read_csv(r'./20190514_NEWS.csv')\n",
    "df_news = pd.concat([df_news1, df_news2, df_news3])\n",
    "df_news.info"
   ]
  },
  {
   "cell_type": "code",
   "execution_count": 0,
   "metadata": {
    "colab": {},
    "colab_type": "code",
    "hidden": true,
    "id": "lMIF6YHBrwiO"
   },
   "outputs": [],
   "source": []
  },
  {
   "cell_type": "markdown",
   "metadata": {
    "colab_type": "text",
    "heading_collapsed": true,
    "id": "-QhyFLGZ5wUP"
   },
   "source": [
    "# Tensorflow"
   ]
  },
  {
   "cell_type": "code",
   "execution_count": 0,
   "metadata": {
    "colab": {},
    "colab_type": "code",
    "hidden": true,
    "id": "3Y4w2xzF5wUU"
   },
   "outputs": [],
   "source": [
    "import tensorflow as tf\n",
    "time_step = 10  # 时间步\n",
    "rnn_unit = 25  # hidden layer units\n",
    "batch_size = 80  # 每一批次训练多少个样例\n",
    "input_size = 3  # 输入层维度\n",
    "output_size = 1  # 输出层维度\n",
    "lr = 0.0006"
   ]
  },
  {
   "cell_type": "code",
   "execution_count": 0,
   "metadata": {
    "colab": {},
    "colab_type": "code",
    "hidden": true,
    "id": "PES9y7Tr5wUX"
   },
   "outputs": [],
   "source": [
    "# 训练集\n",
    "def get_train_data(batch_size=80, time_step=10, train_begin=0, train_end=30000):\n",
    "    batch_index = []\n",
    "    data_train = dataset[train_begin:train_end]\n",
    "    normalized_train_data = (\n",
    "        data_train - np.mean(data_train, axis=0)) / np.std(data_train, axis=0)  # 标准化\n",
    "    train_x, train_y = [], []  # 训练集x和y初定义\n",
    "    for i in range(len(normalized_train_data) - time_step):\n",
    "        if i % batch_size == 0:\n",
    "            batch_index.append(i)\n",
    "            x = normalized_train_data[i:i + time_step, :8]\n",
    "            y = normalized_train_data[i:i + time_step, 7, np.newaxis]\n",
    "            train_x.append(x.tolist())\n",
    "            train_y.append(y.tolist())\n",
    "    batch_index.append((len(normalized_train_data) - time_step))\n",
    "    return batch_index, train_x, train_y"
   ]
  },
  {
   "cell_type": "code",
   "execution_count": 0,
   "metadata": {
    "colab": {},
    "colab_type": "code",
    "hidden": true,
    "id": "gAZ4wvn5t8sD"
   },
   "outputs": [],
   "source": [
    "# 测试集\n",
    "def get_test_data(time_step=10, test_begin=30000):\n",
    "    data_test = dataset[test_begin:]\n",
    "    mean = np.mean(data_test, axis=0)\n",
    "    std = np.std(data_test, axis=0)\n",
    "    normalized_test_data = (data_test - mean) / std  # 标准化\n",
    "    size = (len(normalized_test_data) + time_step -\n",
    "            1) // time_step  # 有size个sample\n",
    "    test_x, test_y = [], []\n",
    "    for i in range(size - 1):\n",
    "        x = normalized_test_data[i * time_step:(i + 1) * time_step, :8]\n",
    "        y = normalized_test_data[i * time_step:(i + 1) * time_step, 7]\n",
    "        test_x.append(x.tolist())\n",
    "        test_y.extend(y)\n",
    "    test_x.append((normalized_test_data[(i + 1) * time_step:, :3]).tolist())\n",
    "    test_y.extend((normalized_test_data[(i + 1) * time_step:, 2]).tolist())\n",
    "    return mean, std, test_x, test_y"
   ]
  },
  {
   "cell_type": "code",
   "execution_count": 0,
   "metadata": {
    "colab": {},
    "colab_type": "code",
    "hidden": true,
    "id": "XAycDdYMuK4c"
   },
   "outputs": [],
   "source": [
    "# 模型搭建\n",
    "weights = {\n",
    "    'in': tf.Variable(tf.random_normal([input_size, rnn_unit])),\n",
    "    'out': tf.Variable(tf.random_normal([rnn_unit, 1]))\n",
    "}\n",
    "biases = {\n",
    "    'in': tf.Variable(tf.constant(0.1, shape=[rnn_unit, ])),\n",
    "    'out': tf.Variable(tf.constant(0.1, shape=[1, ]))\n",
    "}\n",
    "\n",
    "\n",
    "def lstm(X):\n",
    "    batch_size = tf.shape(X)[0]\n",
    "    time_step = tf.shape(X)[1]\n",
    "    w_in = weights['in']\n",
    "    b_in = biases['in']\n",
    "    input = tf.reshape(X, [-1, input_size])  # 需要将tensor转成2维进行计算，计算后的结果作为隐藏层的输入\n",
    "    input_rnn = tf.matmul(input, w_in) + b_in\n",
    "    # 将tensor转成3维，作为lstm cell的输入\n",
    "    input_rnn = tf.reshape(input_rnn, [-1, time_step, rnn_unit])\n",
    "    cell = tf.nn.rnn_cell.BasicLSTMCell(rnn_unit)\n",
    "    init_state = cell.zero_state(batch_size, dtype=tf.float32)\n",
    "    # output_rnn是记录lstm每个输出节点的结果，final_states是最后一个cell的结果\n",
    "    output_rnn, final_states = tf.nn.dynamic_rnn(\n",
    "        cell, input_rnn, initial_state=init_state, dtype=tf.float32)\n",
    "    output = tf.reshape(output_rnn, [-1, rnn_unit])  # 作为输出层的输入\n",
    "    w_out = weights['out']\n",
    "    b_out = biases['out']\n",
    "    pred = tf.matmul(output, w_out) + b_out\n",
    "    return pred, final_states"
   ]
  },
  {
   "cell_type": "code",
   "execution_count": 0,
   "metadata": {
    "colab": {},
    "colab_type": "code",
    "hidden": true,
    "id": "RwDt36biuWX1"
   },
   "outputs": [],
   "source": [
    "def train_lstm(batch_size=80, time_step=10, train_begin=0, train_end=30000):\n",
    "    X = tf.placeholder(tf.float32, shape=[None, time_step, input_size])\n",
    "    Y = tf.placeholder(tf.float32, shape=[None, time_step, output_size])\n",
    "    batch_index, train_x, train_y = get_train_data(\n",
    "        batch_size, time_step, train_begin, train_end)\n",
    "    pred = lstm(X)\n",
    "    # 损失函数\n",
    "    loss = tf.reduce_mean(\n",
    "        tf.square(tf.reshape(pred, [-1]) - tf.reshape(Y, [-1])))\n",
    "    train_op = tf.train.AdamOptimizer(lr).minimize(loss)\n",
    "    saver = tf.train.Saver(tf.global_variables(), max_to_keep=15)\n",
    "    module_file = tf.train.latest_checkpoint()\n",
    "    with tf.Session() as sess:\n",
    "        # sess.run(tf.global_variables_initializer())\n",
    "        saver.restore(sess, module_file)\n",
    "        # 重复训练2000次\n",
    "        for i in range(2000):\n",
    "            for step in range(len(batch_index) - 1):\n",
    "                loss_ = sess.run([train_op, loss], feed_dict={\n",
    "                                 X: train_x[batch_index[step]:batch_index[step + 1]], Y: train_y[batch_index[step]:batch_index[step + 1]]})\n",
    "            print(i, loss_)\n",
    "            if i % 200 == 0:\n",
    "                print(\"保存模型：\", saver.save(\n",
    "                    sess, 'stock{i}.model', global_step=i))"
   ]
  },
  {
   "cell_type": "markdown",
   "metadata": {
    "colab": {},
    "colab_type": "code",
    "id": "BI6Foo891rww"
   },
   "source": [
    "# lightgbm"
   ]
  },
  {
   "cell_type": "code",
   "execution_count": 8,
   "metadata": {
    "ExecuteTime": {
     "end_time": "2019-06-06T06:10:47.985873Z",
     "start_time": "2019-06-06T06:10:47.822974Z"
    },
    "colab": {},
    "colab_type": "code",
    "id": "2nLy-UqwUX0B"
   },
   "outputs": [],
   "source": [
    "import lightgbm as lgb"
   ]
  },
  {
   "cell_type": "code",
   "execution_count": 14,
   "metadata": {
    "ExecuteTime": {
     "end_time": "2019-06-06T06:21:36.743029Z",
     "start_time": "2019-06-06T06:21:36.727043Z"
    }
   },
   "outputs": [],
   "source": [
    "def auc_(labels, preds):\n",
    "#     preds = np.argmax(preds.reshape(12, -1), axis=0)\n",
    "    auc_score = roc_curve(labels, preds, pos_label=1)\n",
    "    return 'auc', auc_score, True"
   ]
  },
  {
   "cell_type": "code",
   "execution_count": 15,
   "metadata": {
    "ExecuteTime": {
     "end_time": "2019-06-06T06:21:37.990743Z",
     "start_time": "2019-06-06T06:21:37.970752Z"
    }
   },
   "outputs": [],
   "source": [
    "lgb_model = lgb.LGBMClassifier(boosting_type=\"gbdt\", num_leaves=61, reg_alpha=0, reg_lambda=0.01,\n",
    "                               max_depth=-1, n_estimators=2000, objective='multiclass',\n",
    "                               subsample=0.8, colsample_bytree=0.8, subsample_freq=1, min_child_samples=50,  learning_rate=0.05, random_state=2019, metric=\"None\", n_jobs=-1)\n"
   ]
  },
  {
   "cell_type": "code",
   "execution_count": 17,
   "metadata": {
    "ExecuteTime": {
     "end_time": "2019-06-06T06:21:49.315200Z",
     "start_time": "2019-06-06T06:21:48.964415Z"
    }
   },
   "outputs": [
    {
     "ename": "ValueError",
     "evalue": "bad input shape (30579, 5)",
     "output_type": "error",
     "traceback": [
      "\u001b[1;31m---------------------------------------------------------------------------\u001b[0m",
      "\u001b[1;31mValueError\u001b[0m                                Traceback (most recent call last)",
      "\u001b[1;32m<ipython-input-17-b86e1899e2eb>\u001b[0m in \u001b[0;36m<module>\u001b[1;34m()\u001b[0m\n\u001b[0;32m      1\u001b[0m \u001b[0meval_set\u001b[0m \u001b[1;33m=\u001b[0m \u001b[1;33m[\u001b[0m\u001b[1;33m(\u001b[0m\u001b[0mxtest\u001b[0m\u001b[1;33m,\u001b[0m \u001b[0mytest\u001b[0m\u001b[1;33m)\u001b[0m\u001b[1;33m]\u001b[0m\u001b[1;33m\u001b[0m\u001b[0m\n\u001b[1;32m----> 2\u001b[1;33m \u001b[0mlgb_model\u001b[0m\u001b[1;33m.\u001b[0m\u001b[0mfit\u001b[0m\u001b[1;33m(\u001b[0m\u001b[0mxtrain\u001b[0m\u001b[1;33m,\u001b[0m \u001b[0mytrain\u001b[0m\u001b[1;33m,\u001b[0m \u001b[0meval_set\u001b[0m\u001b[1;33m=\u001b[0m\u001b[0meval_set\u001b[0m\u001b[1;33m,\u001b[0m \u001b[0meval_metric\u001b[0m\u001b[1;33m=\u001b[0m\u001b[0mauc_\u001b[0m\u001b[1;33m,\u001b[0m \u001b[0mverbose\u001b[0m\u001b[1;33m=\u001b[0m\u001b[1;36m10\u001b[0m\u001b[1;33m,\u001b[0m \u001b[0mearly_stopping_rounds\u001b[0m\u001b[1;33m=\u001b[0m\u001b[1;36m100\u001b[0m\u001b[1;33m)\u001b[0m\u001b[1;33m\u001b[0m\u001b[0m\n\u001b[0m",
      "\u001b[1;32md:\\software\\python35\\lib\\site-packages\\lightgbm\\sklearn.py\u001b[0m in \u001b[0;36mfit\u001b[1;34m(self, X, y, sample_weight, init_score, eval_set, eval_names, eval_sample_weight, eval_class_weight, eval_init_score, eval_metric, early_stopping_rounds, verbose, feature_name, categorical_feature, callbacks)\u001b[0m\n\u001b[0;32m    703\u001b[0m         \u001b[0m_LGBMAssertAllFinite\u001b[0m\u001b[1;33m(\u001b[0m\u001b[0my\u001b[0m\u001b[1;33m)\u001b[0m\u001b[1;33m\u001b[0m\u001b[0m\n\u001b[0;32m    704\u001b[0m         \u001b[0m_LGBMCheckClassificationTargets\u001b[0m\u001b[1;33m(\u001b[0m\u001b[0my\u001b[0m\u001b[1;33m)\u001b[0m\u001b[1;33m\u001b[0m\u001b[0m\n\u001b[1;32m--> 705\u001b[1;33m         \u001b[0mself\u001b[0m\u001b[1;33m.\u001b[0m\u001b[0m_le\u001b[0m \u001b[1;33m=\u001b[0m \u001b[0m_LGBMLabelEncoder\u001b[0m\u001b[1;33m(\u001b[0m\u001b[1;33m)\u001b[0m\u001b[1;33m.\u001b[0m\u001b[0mfit\u001b[0m\u001b[1;33m(\u001b[0m\u001b[0my\u001b[0m\u001b[1;33m)\u001b[0m\u001b[1;33m\u001b[0m\u001b[0m\n\u001b[0m\u001b[0;32m    706\u001b[0m         \u001b[0m_y\u001b[0m \u001b[1;33m=\u001b[0m \u001b[0mself\u001b[0m\u001b[1;33m.\u001b[0m\u001b[0m_le\u001b[0m\u001b[1;33m.\u001b[0m\u001b[0mtransform\u001b[0m\u001b[1;33m(\u001b[0m\u001b[0my\u001b[0m\u001b[1;33m)\u001b[0m\u001b[1;33m\u001b[0m\u001b[0m\n\u001b[0;32m    707\u001b[0m \u001b[1;33m\u001b[0m\u001b[0m\n",
      "\u001b[1;32md:\\software\\python35\\lib\\site-packages\\sklearn\\preprocessing\\label.py\u001b[0m in \u001b[0;36mfit\u001b[1;34m(self, y)\u001b[0m\n\u001b[0;32m    217\u001b[0m         \u001b[0mself\u001b[0m \u001b[1;33m:\u001b[0m \u001b[0mreturns\u001b[0m \u001b[0man\u001b[0m \u001b[0minstance\u001b[0m \u001b[0mof\u001b[0m \u001b[0mself\u001b[0m\u001b[1;33m.\u001b[0m\u001b[1;33m\u001b[0m\u001b[0m\n\u001b[0;32m    218\u001b[0m         \"\"\"\n\u001b[1;32m--> 219\u001b[1;33m         \u001b[0my\u001b[0m \u001b[1;33m=\u001b[0m \u001b[0mcolumn_or_1d\u001b[0m\u001b[1;33m(\u001b[0m\u001b[0my\u001b[0m\u001b[1;33m,\u001b[0m \u001b[0mwarn\u001b[0m\u001b[1;33m=\u001b[0m\u001b[1;32mTrue\u001b[0m\u001b[1;33m)\u001b[0m\u001b[1;33m\u001b[0m\u001b[0m\n\u001b[0m\u001b[0;32m    220\u001b[0m         \u001b[0mself\u001b[0m\u001b[1;33m.\u001b[0m\u001b[0mclasses_\u001b[0m \u001b[1;33m=\u001b[0m \u001b[0m_encode\u001b[0m\u001b[1;33m(\u001b[0m\u001b[0my\u001b[0m\u001b[1;33m)\u001b[0m\u001b[1;33m\u001b[0m\u001b[0m\n\u001b[0;32m    221\u001b[0m         \u001b[1;32mreturn\u001b[0m \u001b[0mself\u001b[0m\u001b[1;33m\u001b[0m\u001b[0m\n",
      "\u001b[1;32md:\\software\\python35\\lib\\site-packages\\sklearn\\utils\\validation.py\u001b[0m in \u001b[0;36mcolumn_or_1d\u001b[1;34m(y, warn)\u001b[0m\n\u001b[0;32m    795\u001b[0m         \u001b[1;32mreturn\u001b[0m \u001b[0mnp\u001b[0m\u001b[1;33m.\u001b[0m\u001b[0mravel\u001b[0m\u001b[1;33m(\u001b[0m\u001b[0my\u001b[0m\u001b[1;33m)\u001b[0m\u001b[1;33m\u001b[0m\u001b[0m\n\u001b[0;32m    796\u001b[0m \u001b[1;33m\u001b[0m\u001b[0m\n\u001b[1;32m--> 797\u001b[1;33m     \u001b[1;32mraise\u001b[0m \u001b[0mValueError\u001b[0m\u001b[1;33m(\u001b[0m\u001b[1;34m\"bad input shape {0}\"\u001b[0m\u001b[1;33m.\u001b[0m\u001b[0mformat\u001b[0m\u001b[1;33m(\u001b[0m\u001b[0mshape\u001b[0m\u001b[1;33m)\u001b[0m\u001b[1;33m)\u001b[0m\u001b[1;33m\u001b[0m\u001b[0m\n\u001b[0m\u001b[0;32m    798\u001b[0m \u001b[1;33m\u001b[0m\u001b[0m\n\u001b[0;32m    799\u001b[0m \u001b[1;33m\u001b[0m\u001b[0m\n",
      "\u001b[1;31mValueError\u001b[0m: bad input shape (30579, 5)"
     ]
    }
   ],
   "source": [
    "eval_set = [(xtest, ytest)]\n",
    "lgb_model.fit(xtrain, ytrain, eval_set=eval_set, eval_metric=auc_, verbose=10, early_stopping_rounds=100)"
   ]
  },
  {
   "cell_type": "code",
   "execution_count": 19,
   "metadata": {
    "ExecuteTime": {
     "end_time": "2019-06-06T06:22:19.638245Z",
     "start_time": "2019-06-06T06:22:19.620255Z"
    }
   },
   "outputs": [
    {
     "data": {
      "text/plain": [
       "(30579, 10, 8)"
      ]
     },
     "execution_count": 19,
     "metadata": {},
     "output_type": "execute_result"
    }
   ],
   "source": [
    "xtrain.shape"
   ]
  },
  {
   "cell_type": "code",
   "execution_count": null,
   "metadata": {},
   "outputs": [],
   "source": []
  }
 ],
 "metadata": {
  "colab": {
   "collapsed_sections": [],
   "name": "stockprocessing.ipynb",
   "provenance": [],
   "toc_visible": true,
   "version": "0.3.2"
  },
  "kernelspec": {
   "display_name": "Python 3",
   "language": "python",
   "name": "python3"
  },
  "language_info": {
   "codemirror_mode": {
    "name": "ipython",
    "version": 3
   },
   "file_extension": ".py",
   "mimetype": "text/x-python",
   "name": "python",
   "nbconvert_exporter": "python",
   "pygments_lexer": "ipython3",
   "version": "3.5.2"
  },
  "toc": {
   "base_numbering": 1,
   "nav_menu": {},
   "number_sections": true,
   "sideBar": true,
   "skip_h1_title": false,
   "title_cell": "Table of Contents",
   "title_sidebar": "Contents",
   "toc_cell": false,
   "toc_position": {
    "height": "calc(100% - 180px)",
    "left": "10px",
    "top": "150px",
    "width": "279px"
   },
   "toc_section_display": true,
   "toc_window_display": true
  }
 },
 "nbformat": 4,
 "nbformat_minor": 1
}
