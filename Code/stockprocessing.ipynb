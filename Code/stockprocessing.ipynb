{
 "cells": [
  {
   "cell_type": "code",
   "execution_count": 0,
   "metadata": {
    "ExecuteTime": {
     "end_time": "2019-05-25T04:11:59.115909Z",
     "start_time": "2019-05-25T04:11:59.020966Z"
    },
    "colab": {},
    "colab_type": "code",
    "id": "LFLc-ooh5wTh"
   },
   "outputs": [],
   "source": [
    "import time\n",
    "from sklearn.model_selection import train_test_split\n",
    "import numpy as np\n",
    "import pandas as pd\n",
    "import datetime\n",
    "import seaborn as sns\n",
    "import matplotlib.pyplot as plt\n",
    "%matplotlib inline\n",
    "from sklearn.decomposition import PCA\n",
    "import math\n",
    "from sklearn.preprocessing import MinMaxScaler\n",
    "from sklearn.metrics import mean_squared_error\n",
    "from sklearn.preprocessing import StandardScaler\n",
    "import xgboost as xgb\n",
    "import warnings\n",
    "warnings.filterwarnings(\"ignore\")"
   ]
  },
  {
   "cell_type": "code",
   "execution_count": 0,
   "metadata": {
    "colab": {},
    "colab_type": "code",
    "id": "JyuMxbGQeE-8"
   },
   "outputs": [],
   "source": []
  },
  {
   "cell_type": "markdown",
   "metadata": {
    "colab_type": "text",
    "id": "DcFYK1bSUXvz"
   },
   "source": [
    "# 特征处理"
   ]
  },
  {
   "cell_type": "code",
   "execution_count": 0,
   "metadata": {
    "ExecuteTime": {
     "end_time": "2019-05-25T04:24:07.795105Z",
     "start_time": "2019-05-25T04:24:07.765127Z"
    },
    "colab": {},
    "colab_type": "code",
    "id": "Vzdq3q8DUXv1"
   },
   "outputs": [],
   "source": [
    "columns=['农林牧渔', '采掘', '化工', '钢铁', '有色金属', '电子', '家用电器', '食品饮料', '纺织服装',\n",
    "        '轻工制造', '医药生物', '公用事业', '交通运输', '房地产', '商业贸易', '休闲服务', '综合',\n",
    "        '申万制造', '申万消费', '申万投资', '申万服务', '申万300指数', '建筑材料', '建筑装饰',\n",
    "        '电气设备', '国防军工', '计算机', '传媒', '通信', '银行', '非银金融', '汽车', '机械设备',\n",
    "        '交银装备']"
   ]
  },
  {
   "cell_type": "code",
   "execution_count": 0,
   "metadata": {
    "ExecuteTime": {
     "end_time": "2019-05-25T04:24:38.499768Z",
     "start_time": "2019-05-25T04:24:36.877762Z"
    },
    "colab": {},
    "colab_type": "code",
    "id": "AFQtedZM5wTn"
   },
   "outputs": [],
   "source": [
    "df = pd.read_csv(r'../Data/TRAINSET_STOCK.csv')\n",
    "df_add1 = pd.read_csv(r'../Data/20190506_STOCK.csv')\n",
    "df_add2 = pd.read_csv(r'../Data/20190514_STOCK.csv')\n",
    "df_add3 = pd.read_csv(r'../Data/20190521_STOCK.csv')\n",
    "df = pd.concat([df,df_add1,df_add2,df_add3])\n",
    "df = df[~df.index.duplicated()]\n",
    "\n"
   ]
  },
  {
   "cell_type": "code",
   "execution_count": 0,
   "metadata": {
    "ExecuteTime": {
     "end_time": "2019-05-25T04:25:54.546256Z",
     "start_time": "2019-05-25T04:25:54.483295Z"
    },
    "colab": {},
    "colab_type": "code",
    "id": "VjqF0fnlTUuc"
   },
   "outputs": [],
   "source": [
    "x = []\n",
    "y = []\n",
    "for arr in columns:\n",
    "    df1=df.loc[df['name']==arr]\n",
    "    df1=df1[['ts_code','trade_date','name','low','high','pct_change','vol','y']]\n",
    "    df1['vol_change'] = df['vol'].pct_change()\n",
    "    df1['low_change'] = df['low'].pct_change()\n",
    "    df1['high_change'] = df['high'].pct_change()\n",
    "    df1=df1[['pct_change','vol_change','high_change','low_change','y']]\n",
    "    df1= df1.dropna()\n",
    "    dataset=df1.values\n",
    "    for i in range(len(dataset)-15):\n",
    "        x.append(dataset[i:(i+10),:5].tolist())\n",
    "        y.append(dataset[(i+10):(i+15),4,np.newaxis].tolist())\n",
    "xtrain, xtest, ytrain, ytest = train_test_split(x, y, test_size=0.2, random_state=30)\n",
    "xtrain, xtest, ytrain, ytest = np.array(xtrain),np.array(xtest),np.array(ytrain),np.array(ytest)\n",
    "# xtrain = np.reshape(xtrain, (xtrain.shape[0], xtrain.shape[1]*xtrain.shape[2], 1))\n",
    "# xtest = np.reshape(xtest, (xtest.shape[0], xtest.shape[1], 1))\n",
    "ytrain = np.reshape(ytrain, (ytrain.shape[0], ytrain.shape[1]))\n",
    "ytest= np.reshape(ytest, (ytest.shape[0], ytest.shape[1]))\n"
   ]
  },
  {
   "cell_type": "code",
   "execution_count": 0,
   "metadata": {
    "colab": {
     "base_uri": "https://localhost:8080/",
     "height": 136
    },
    "colab_type": "code",
    "id": "VIIQvEzxfYLq",
    "outputId": "988c3357-e335-4889-e3f9-e3229233b328"
   },
   "outputs": [
    {
     "data": {
      "text/plain": [
       "array([[0., 0., 1., 0., 0.],\n",
       "       [0., 0., 1., 0., 0.],\n",
       "       [1., 1., 0., 1., 1.],\n",
       "       ...,\n",
       "       [1., 0., 1., 0., 0.],\n",
       "       [1., 1., 1., 1., 0.],\n",
       "       [1., 0., 1., 1., 0.]])"
      ]
     },
     "execution_count": 64,
     "metadata": {
      "tags": []
     },
     "output_type": "execute_result"
    }
   ],
   "source": [
    "ytest"
   ]
  },
  {
   "cell_type": "markdown",
   "metadata": {
    "colab_type": "text",
    "id": "p5w1qmY05wTt"
   },
   "source": [
    "# LSTM"
   ]
  },
  {
   "cell_type": "code",
   "execution_count": 6,
   "metadata": {
    "ExecuteTime": {
     "end_time": "2019-05-25T04:26:49.270427Z",
     "start_time": "2019-05-25T04:25:58.920725Z"
    },
    "colab": {
     "base_uri": "https://localhost:8080/",
     "height": 34
    },
    "colab_type": "code",
    "id": "wYtriXrZ5wTu",
    "outputId": "230f7353-9140-48e3-b8a7-e90233874e77"
   },
   "outputs": [
    {
     "name": "stderr",
     "output_type": "stream",
     "text": [
      "Using TensorFlow backend.\n"
     ]
    }
   ],
   "source": [
    "from keras.models import Sequential\n",
    "from keras.layers import Dense\n",
    "from keras.layers import LSTM\n",
    "from keras.layers import Dropout,Activation\n",
    "from sklearn.model_selection import KFold\n",
    "from sklearn.model_selection import train_test_split\n",
    "from sklearn.metrics import auc\n",
    "from sklearn.metrics import roc_curve"
   ]
  },
  {
   "cell_type": "markdown",
   "metadata": {
    "colab_type": "text",
    "id": "1d061AE55wTy"
   },
   "source": [
    "# 没有交叉验证\n"
   ]
  },
  {
   "cell_type": "code",
   "execution_count": 7,
   "metadata": {
    "ExecuteTime": {
     "end_time": "2019-05-25T04:29:16.654193Z",
     "start_time": "2019-05-25T04:29:07.292445Z"
    },
    "colab": {
     "base_uri": "https://localhost:8080/",
     "height": 139
    },
    "colab_type": "code",
    "id": "AiqbOOax6zBa",
    "outputId": "9a92dbb5-69de-497b-daa9-3dcadda18fc7"
   },
   "outputs": [
    {
     "name": "stdout",
     "output_type": "stream",
     "text": [
      "WARNING:tensorflow:From /usr/local/lib/python3.6/dist-packages/tensorflow/python/framework/op_def_library.py:263: colocate_with (from tensorflow.python.framework.ops) is deprecated and will be removed in a future version.\n",
      "Instructions for updating:\n",
      "Colocations handled automatically by placer.\n",
      "WARNING:tensorflow:From /usr/local/lib/python3.6/dist-packages/keras/backend/tensorflow_backend.py:3445: calling dropout (from tensorflow.python.ops.nn_ops) with keep_prob is deprecated and will be removed in a future version.\n",
      "Instructions for updating:\n",
      "Please use `rate` instead of `keep_prob`. Rate should be set to `rate = 1 - keep_prob`.\n"
     ]
    }
   ],
   "source": [
    "regressor = Sequential()\n",
    "regressor.add(LSTM(units = 60, return_sequences = True, input_shape = (xtrain.shape[1], 5)))\n",
    "regressor.add(Dropout(0.2))\n",
    "regressor.add(LSTM(units = 60, return_sequences = True))\n",
    "regressor.add(Dropout(0.2))\n",
    "regressor.add(LSTM(units = 60,return_sequences = True))\n",
    "regressor.add(Dropout(0.2))\n",
    "regressor.add(LSTM(units = 60))\n",
    "regressor.add(Dropout(0.2))\n",
    "regressor.add(Dense(units = 5))\n",
    "regressor.add(Activation('sigmoid'))\n",
    "regressor.compile(optimizer = 'adam', loss = 'mean_squared_error')"
   ]
  },
  {
   "cell_type": "code",
   "execution_count": 8,
   "metadata": {
    "ExecuteTime": {
     "end_time": "2019-05-25T07:08:37.155529Z",
     "start_time": "2019-05-25T04:29:25.249036Z"
    },
    "colab": {
     "base_uri": "https://localhost:8080/",
     "height": 3505
    },
    "colab_type": "code",
    "id": "HO7ZzDVMUXwi",
    "outputId": "70920294-d304-434c-97f1-e9d46de73d56"
   },
   "outputs": [
    {
     "name": "stdout",
     "output_type": "stream",
     "text": [
      "WARNING:tensorflow:From /usr/local/lib/python3.6/dist-packages/tensorflow/python/ops/math_ops.py:3066: to_int32 (from tensorflow.python.ops.math_ops) is deprecated and will be removed in a future version.\n",
      "Instructions for updating:\n",
      "Use tf.cast instead.\n",
      "Epoch 1/100\n",
      "30605/30605 [==============================] - 30s 986us/step - loss: 0.2482\n",
      "Epoch 2/100\n",
      "30605/30605 [==============================] - 26s 840us/step - loss: 0.2466\n",
      "Epoch 3/100\n",
      "30605/30605 [==============================] - 26s 834us/step - loss: 0.2432\n",
      "Epoch 4/100\n",
      "30605/30605 [==============================] - 26s 840us/step - loss: 0.2386\n",
      "Epoch 5/100\n",
      "30605/30605 [==============================] - 25s 833us/step - loss: 0.2337\n",
      "Epoch 6/100\n",
      "30605/30605 [==============================] - 26s 836us/step - loss: 0.2290\n",
      "Epoch 7/100\n",
      "30605/30605 [==============================] - 26s 838us/step - loss: 0.2241\n",
      "Epoch 8/100\n",
      "30605/30605 [==============================] - 26s 845us/step - loss: 0.2193\n",
      "Epoch 9/100\n",
      "30605/30605 [==============================] - 26s 833us/step - loss: 0.2150\n",
      "Epoch 10/100\n",
      "30605/30605 [==============================] - 26s 838us/step - loss: 0.2106\n",
      "Epoch 11/100\n",
      "30605/30605 [==============================] - 26s 836us/step - loss: 0.2065\n",
      "Epoch 12/100\n",
      "30605/30605 [==============================] - 26s 843us/step - loss: 0.2029\n",
      "Epoch 13/100\n",
      "30605/30605 [==============================] - 26s 855us/step - loss: 0.1992\n",
      "Epoch 14/100\n",
      "30605/30605 [==============================] - 26s 836us/step - loss: 0.1962\n",
      "Epoch 15/100\n",
      "30605/30605 [==============================] - 26s 836us/step - loss: 0.1926\n",
      "Epoch 16/100\n",
      "30605/30605 [==============================] - 26s 839us/step - loss: 0.1895\n",
      "Epoch 17/100\n",
      "30605/30605 [==============================] - 26s 843us/step - loss: 0.1861\n",
      "Epoch 18/100\n",
      "30605/30605 [==============================] - 26s 838us/step - loss: 0.1830\n",
      "Epoch 19/100\n",
      "30605/30605 [==============================] - 26s 840us/step - loss: 0.1806\n",
      "Epoch 20/100\n",
      "30605/30605 [==============================] - 26s 843us/step - loss: 0.1775\n",
      "Epoch 21/100\n",
      "30605/30605 [==============================] - 26s 839us/step - loss: 0.1753\n",
      "Epoch 22/100\n",
      "30605/30605 [==============================] - 26s 834us/step - loss: 0.1725\n",
      "Epoch 23/100\n",
      "30605/30605 [==============================] - 25s 832us/step - loss: 0.1696\n",
      "Epoch 24/100\n",
      "30605/30605 [==============================] - 26s 840us/step - loss: 0.1670\n",
      "Epoch 25/100\n",
      "30605/30605 [==============================] - 26s 851us/step - loss: 0.1646\n",
      "Epoch 26/100\n",
      "30605/30605 [==============================] - 26s 842us/step - loss: 0.1623\n",
      "Epoch 27/100\n",
      "30605/30605 [==============================] - 26s 839us/step - loss: 0.1608\n",
      "Epoch 28/100\n",
      "30605/30605 [==============================] - 26s 843us/step - loss: 0.1588\n",
      "Epoch 29/100\n",
      "30605/30605 [==============================] - 26s 840us/step - loss: 0.1568\n",
      "Epoch 30/100\n",
      "30605/30605 [==============================] - 26s 847us/step - loss: 0.1551\n",
      "Epoch 31/100\n",
      "30605/30605 [==============================] - 26s 845us/step - loss: 0.1527\n",
      "Epoch 32/100\n",
      "30605/30605 [==============================] - 26s 849us/step - loss: 0.1506\n",
      "Epoch 33/100\n",
      "30605/30605 [==============================] - 26s 841us/step - loss: 0.1489\n",
      "Epoch 34/100\n",
      "30605/30605 [==============================] - 26s 838us/step - loss: 0.1481\n",
      "Epoch 35/100\n",
      "30605/30605 [==============================] - 26s 845us/step - loss: 0.1462\n",
      "Epoch 36/100\n",
      "30605/30605 [==============================] - 26s 854us/step - loss: 0.1441\n",
      "Epoch 37/100\n",
      "30605/30605 [==============================] - 27s 869us/step - loss: 0.1430\n",
      "Epoch 38/100\n",
      "30605/30605 [==============================] - 26s 856us/step - loss: 0.1418\n",
      "Epoch 39/100\n",
      "30605/30605 [==============================] - 26s 856us/step - loss: 0.1399\n",
      "Epoch 40/100\n",
      "30605/30605 [==============================] - 26s 857us/step - loss: 0.1384\n",
      "Epoch 41/100\n",
      "30605/30605 [==============================] - 26s 857us/step - loss: 0.1376\n",
      "Epoch 42/100\n",
      "30605/30605 [==============================] - 26s 852us/step - loss: 0.1359\n",
      "Epoch 43/100\n",
      "30605/30605 [==============================] - 26s 850us/step - loss: 0.1353\n",
      "Epoch 44/100\n",
      "30605/30605 [==============================] - 26s 850us/step - loss: 0.1338\n",
      "Epoch 45/100\n",
      "30605/30605 [==============================] - 26s 844us/step - loss: 0.1328\n",
      "Epoch 46/100\n",
      "30605/30605 [==============================] - 26s 837us/step - loss: 0.1322\n",
      "Epoch 47/100\n",
      "30605/30605 [==============================] - 26s 847us/step - loss: 0.1309\n",
      "Epoch 48/100\n",
      "30605/30605 [==============================] - 26s 852us/step - loss: 0.1301\n",
      "Epoch 49/100\n",
      "30605/30605 [==============================] - 26s 858us/step - loss: 0.1285\n",
      "Epoch 50/100\n",
      "30605/30605 [==============================] - 26s 853us/step - loss: 0.1271\n",
      "Epoch 51/100\n",
      "30605/30605 [==============================] - 26s 852us/step - loss: 0.1266\n",
      "Epoch 52/100\n",
      "30605/30605 [==============================] - 26s 854us/step - loss: 0.1260\n",
      "Epoch 53/100\n",
      "30605/30605 [==============================] - 26s 851us/step - loss: 0.1255\n",
      "Epoch 54/100\n",
      "30605/30605 [==============================] - 26s 847us/step - loss: 0.1236\n",
      "Epoch 55/100\n",
      "30605/30605 [==============================] - 26s 846us/step - loss: 0.1232\n",
      "Epoch 56/100\n",
      "30605/30605 [==============================] - 26s 842us/step - loss: 0.1234\n",
      "Epoch 57/100\n",
      "30605/30605 [==============================] - 26s 842us/step - loss: 0.1216\n",
      "Epoch 58/100\n",
      "30605/30605 [==============================] - 26s 841us/step - loss: 0.1207\n",
      "Epoch 59/100\n",
      "30605/30605 [==============================] - 26s 846us/step - loss: 0.1199\n",
      "Epoch 60/100\n",
      "30605/30605 [==============================] - 26s 844us/step - loss: 0.1197\n",
      "Epoch 61/100\n",
      "30605/30605 [==============================] - 26s 859us/step - loss: 0.1186\n",
      "Epoch 62/100\n",
      "30605/30605 [==============================] - 26s 843us/step - loss: 0.1184\n",
      "Epoch 63/100\n",
      "30605/30605 [==============================] - 26s 844us/step - loss: 0.1175\n",
      "Epoch 64/100\n",
      "30605/30605 [==============================] - 26s 846us/step - loss: 0.1160\n",
      "Epoch 65/100\n",
      "30605/30605 [==============================] - 26s 837us/step - loss: 0.1160\n",
      "Epoch 66/100\n",
      "30605/30605 [==============================] - 26s 845us/step - loss: 0.1156\n",
      "Epoch 67/100\n",
      "30605/30605 [==============================] - 26s 855us/step - loss: 0.1148\n",
      "Epoch 68/100\n",
      "30605/30605 [==============================] - 26s 850us/step - loss: 0.1142\n",
      "Epoch 69/100\n",
      "30605/30605 [==============================] - 26s 846us/step - loss: 0.1134\n",
      "Epoch 70/100\n",
      "30605/30605 [==============================] - 26s 849us/step - loss: 0.1131\n",
      "Epoch 71/100\n",
      "30605/30605 [==============================] - 26s 851us/step - loss: 0.1124\n",
      "Epoch 72/100\n",
      "30605/30605 [==============================] - 26s 842us/step - loss: 0.1115\n",
      "Epoch 73/100\n",
      "30605/30605 [==============================] - 27s 867us/step - loss: 0.1110\n",
      "Epoch 74/100\n",
      "30605/30605 [==============================] - 26s 845us/step - loss: 0.1112\n",
      "Epoch 75/100\n",
      "30605/30605 [==============================] - 26s 855us/step - loss: 0.1102\n",
      "Epoch 76/100\n",
      "30605/30605 [==============================] - 26s 850us/step - loss: 0.1103\n",
      "Epoch 77/100\n",
      "30605/30605 [==============================] - 26s 852us/step - loss: 0.1096\n",
      "Epoch 78/100\n",
      "30605/30605 [==============================] - 26s 843us/step - loss: 0.1088\n",
      "Epoch 79/100\n",
      "30605/30605 [==============================] - 26s 852us/step - loss: 0.1077\n",
      "Epoch 80/100\n",
      "30605/30605 [==============================] - 26s 846us/step - loss: 0.1081\n",
      "Epoch 81/100\n",
      "30605/30605 [==============================] - 26s 833us/step - loss: 0.1079\n",
      "Epoch 82/100\n",
      "30605/30605 [==============================] - 26s 843us/step - loss: 0.1067\n",
      "Epoch 83/100\n",
      "30605/30605 [==============================] - 26s 843us/step - loss: 0.1065\n",
      "Epoch 84/100\n",
      "30605/30605 [==============================] - 26s 837us/step - loss: 0.1063\n",
      "Epoch 85/100\n",
      "30605/30605 [==============================] - 26s 853us/step - loss: 0.1059\n",
      "Epoch 86/100\n",
      "30605/30605 [==============================] - 26s 848us/step - loss: 0.1051\n",
      "Epoch 87/100\n",
      "30605/30605 [==============================] - 26s 846us/step - loss: 0.1051\n",
      "Epoch 88/100\n",
      "30605/30605 [==============================] - 26s 845us/step - loss: 0.1045\n",
      "Epoch 89/100\n",
      "30605/30605 [==============================] - 26s 847us/step - loss: 0.1042\n",
      "Epoch 90/100\n",
      "30605/30605 [==============================] - 26s 851us/step - loss: 0.1041\n",
      "Epoch 91/100\n",
      "30605/30605 [==============================] - 26s 860us/step - loss: 0.1032\n",
      "Epoch 92/100\n",
      "30605/30605 [==============================] - 26s 854us/step - loss: 0.1027\n",
      "Epoch 93/100\n",
      "30605/30605 [==============================] - 26s 855us/step - loss: 0.1019\n",
      "Epoch 94/100\n",
      "30605/30605 [==============================] - 26s 852us/step - loss: 0.1018\n",
      "Epoch 95/100\n",
      "30605/30605 [==============================] - 26s 848us/step - loss: 0.1018\n",
      "Epoch 96/100\n",
      "30605/30605 [==============================] - 26s 852us/step - loss: 0.1014\n",
      "Epoch 97/100\n",
      "30605/30605 [==============================] - 26s 866us/step - loss: 0.1011\n",
      "Epoch 98/100\n",
      "30605/30605 [==============================] - 26s 850us/step - loss: 0.1004\n",
      "Epoch 99/100\n",
      "30605/30605 [==============================] - 26s 850us/step - loss: 0.1002\n",
      "Epoch 100/100\n",
      "30605/30605 [==============================] - 26s 849us/step - loss: 0.1001\n"
     ]
    },
    {
     "data": {
      "text/plain": [
       "<keras.callbacks.History at 0x7f54862bf400>"
      ]
     },
     "execution_count": 8,
     "metadata": {
      "tags": []
     },
     "output_type": "execute_result"
    }
   ],
   "source": [
    "regressor.fit(xtrain, ytrain, epochs = 100, batch_size = 50)"
   ]
  },
  {
   "cell_type": "code",
   "execution_count": 0,
   "metadata": {
    "colab": {},
    "colab_type": "code",
    "id": "lWi6HPVsUXwo"
   },
   "outputs": [],
   "source": [
    "from sklearn.externals import joblib\n",
    "os.chdir(\"workspace/model_save\")\n",
    "joblib.dump(regressor,'lstm.model')\n"
   ]
  },
  {
   "cell_type": "code",
   "execution_count": 31,
   "metadata": {
    "ExecuteTime": {
     "end_time": "2019-05-25T07:16:39.504403Z",
     "start_time": "2019-05-25T07:16:10.518278Z"
    },
    "colab": {
     "base_uri": "https://localhost:8080/",
     "height": 51
    },
    "colab_type": "code",
    "id": "Ye6HgKA-tqS7",
    "outputId": "a7d654e3-1186-4156-cebd-f831764c37f1"
   },
   "outputs": [
    {
     "data": {
      "text/plain": [
       "0    0.911225\n",
       "dtype: float64"
      ]
     },
     "execution_count": 31,
     "metadata": {
      "tags": []
     },
     "output_type": "execute_result"
    }
   ],
   "source": [
    "predicted_stock_price = regressor.predict(xtest)\n",
    "a = []\n",
    "for i in range(len(ytest)):\n",
    "    fpr, tpr, thresholds = roc_curve(ytest[i], predicted_stock_price[i], pos_label=1)\n",
    "    each_a = auc(fpr, tpr)\n",
    "    a.append(each_a)\n",
    "a = pd.DataFrame(a)\n",
    "a = a.dropna()\n",
    "a.mean()"
   ]
  },
  {
   "cell_type": "code",
   "execution_count": 20,
   "metadata": {
    "colab": {
     "base_uri": "https://localhost:8080/",
     "height": 204
    },
    "colab_type": "code",
    "id": "5or7D6tQY_zG",
    "outputId": "c9a2ec9b-6068-4dcd-efce-bf8b76ee75a7"
   },
   "outputs": [
    {
     "data": {
      "text/html": [
       "<div>\n",
       "<style scoped>\n",
       "    .dataframe tbody tr th:only-of-type {\n",
       "        vertical-align: middle;\n",
       "    }\n",
       "\n",
       "    .dataframe tbody tr th {\n",
       "        vertical-align: top;\n",
       "    }\n",
       "\n",
       "    .dataframe thead th {\n",
       "        text-align: right;\n",
       "    }\n",
       "</style>\n",
       "<table border=\"1\" class=\"dataframe\">\n",
       "  <thead>\n",
       "    <tr style=\"text-align: right;\">\n",
       "      <th></th>\n",
       "      <th>0</th>\n",
       "      <th>1</th>\n",
       "      <th>2</th>\n",
       "      <th>3</th>\n",
       "      <th>4</th>\n",
       "    </tr>\n",
       "  </thead>\n",
       "  <tbody>\n",
       "    <tr>\n",
       "      <th>0</th>\n",
       "      <td>0.763357</td>\n",
       "      <td>0.104547</td>\n",
       "      <td>1.698902</td>\n",
       "      <td>0.033075</td>\n",
       "      <td>0.168421</td>\n",
       "    </tr>\n",
       "    <tr>\n",
       "      <th>1</th>\n",
       "      <td>0.242403</td>\n",
       "      <td>0.904654</td>\n",
       "      <td>1.537604</td>\n",
       "      <td>0.213098</td>\n",
       "      <td>0.309321</td>\n",
       "    </tr>\n",
       "    <tr>\n",
       "      <th>2</th>\n",
       "      <td>1.233536</td>\n",
       "      <td>1.721051</td>\n",
       "      <td>0.402887</td>\n",
       "      <td>1.481263</td>\n",
       "      <td>1.770786</td>\n",
       "    </tr>\n",
       "    <tr>\n",
       "      <th>3</th>\n",
       "      <td>1.541513</td>\n",
       "      <td>1.782163</td>\n",
       "      <td>0.202336</td>\n",
       "      <td>1.723747</td>\n",
       "      <td>0.267382</td>\n",
       "    </tr>\n",
       "    <tr>\n",
       "      <th>4</th>\n",
       "      <td>1.953019</td>\n",
       "      <td>0.305538</td>\n",
       "      <td>1.935275</td>\n",
       "      <td>0.957458</td>\n",
       "      <td>0.041309</td>\n",
       "    </tr>\n",
       "  </tbody>\n",
       "</table>\n",
       "</div>"
      ],
      "text/plain": [
       "          0         1         2         3         4\n",
       "0  0.763357  0.104547  1.698902  0.033075  0.168421\n",
       "1  0.242403  0.904654  1.537604  0.213098  0.309321\n",
       "2  1.233536  1.721051  0.402887  1.481263  1.770786\n",
       "3  1.541513  1.782163  0.202336  1.723747  0.267382\n",
       "4  1.953019  0.305538  1.935275  0.957458  0.041309"
      ]
     },
     "execution_count": 20,
     "metadata": {
      "tags": []
     },
     "output_type": "execute_result"
    }
   ],
   "source": []
  },
  {
   "cell_type": "markdown",
   "metadata": {
    "colab": {},
    "colab_type": "code",
    "id": "G7v_fVkCtt9f"
   },
   "source": [
    "# 预测结果"
   ]
  },
  {
   "cell_type": "code",
   "execution_count": 32,
   "metadata": {
    "ExecuteTime": {
     "end_time": "2019-05-25T07:18:15.206857Z",
     "start_time": "2019-05-25T07:18:14.929029Z"
    },
    "colab": {
     "base_uri": "https://localhost:8080/",
     "height": 238
    },
    "colab_type": "code",
    "id": "FI0fe0l8zu41",
    "outputId": "4c56b559-84ad-4aa6-db0a-6833c2be3024"
   },
   "outputs": [
    {
     "data": {
      "text/html": [
       "<div>\n",
       "<style scoped>\n",
       "    .dataframe tbody tr th:only-of-type {\n",
       "        vertical-align: middle;\n",
       "    }\n",
       "\n",
       "    .dataframe tbody tr th {\n",
       "        vertical-align: top;\n",
       "    }\n",
       "\n",
       "    .dataframe thead th {\n",
       "        text-align: right;\n",
       "    }\n",
       "</style>\n",
       "<table border=\"1\" class=\"dataframe\">\n",
       "  <thead>\n",
       "    <tr style=\"text-align: right;\">\n",
       "      <th></th>\n",
       "      <th>ts_code</th>\n",
       "      <th>trade_date</th>\n",
       "      <th>name</th>\n",
       "      <th>open</th>\n",
       "      <th>low</th>\n",
       "      <th>high</th>\n",
       "      <th>close</th>\n",
       "      <th>change</th>\n",
       "      <th>pct_change</th>\n",
       "      <th>vol</th>\n",
       "      <th>amount</th>\n",
       "      <th>pe</th>\n",
       "      <th>pb</th>\n",
       "      <th>y</th>\n",
       "    </tr>\n",
       "  </thead>\n",
       "  <tbody>\n",
       "    <tr>\n",
       "      <th>0</th>\n",
       "      <td>801010</td>\n",
       "      <td>20190506</td>\n",
       "      <td>农林牧渔</td>\n",
       "      <td>3446.17</td>\n",
       "      <td>3324.46</td>\n",
       "      <td>3553.36</td>\n",
       "      <td>3364.21</td>\n",
       "      <td>-208.12</td>\n",
       "      <td>-5.83</td>\n",
       "      <td>251935.0</td>\n",
       "      <td>2814423.0</td>\n",
       "      <td>48.91</td>\n",
       "      <td>3.61</td>\n",
       "      <td>0</td>\n",
       "    </tr>\n",
       "    <tr>\n",
       "      <th>1</th>\n",
       "      <td>801020</td>\n",
       "      <td>20190506</td>\n",
       "      <td>采掘</td>\n",
       "      <td>2787.37</td>\n",
       "      <td>2669.82</td>\n",
       "      <td>2790.80</td>\n",
       "      <td>2698.85</td>\n",
       "      <td>-171.23</td>\n",
       "      <td>-5.97</td>\n",
       "      <td>223412.0</td>\n",
       "      <td>1432666.0</td>\n",
       "      <td>13.70</td>\n",
       "      <td>1.21</td>\n",
       "      <td>0</td>\n",
       "    </tr>\n",
       "    <tr>\n",
       "      <th>2</th>\n",
       "      <td>801030</td>\n",
       "      <td>20190506</td>\n",
       "      <td>化工</td>\n",
       "      <td>2685.53</td>\n",
       "      <td>2559.36</td>\n",
       "      <td>2687.45</td>\n",
       "      <td>2581.85</td>\n",
       "      <td>-203.82</td>\n",
       "      <td>-7.32</td>\n",
       "      <td>469011.0</td>\n",
       "      <td>4412583.0</td>\n",
       "      <td>18.44</td>\n",
       "      <td>1.84</td>\n",
       "      <td>0</td>\n",
       "    </tr>\n",
       "    <tr>\n",
       "      <th>3</th>\n",
       "      <td>801040</td>\n",
       "      <td>20190506</td>\n",
       "      <td>钢铁</td>\n",
       "      <td>2447.10</td>\n",
       "      <td>2323.86</td>\n",
       "      <td>2447.10</td>\n",
       "      <td>2355.31</td>\n",
       "      <td>-138.63</td>\n",
       "      <td>-5.56</td>\n",
       "      <td>142708.0</td>\n",
       "      <td>609866.0</td>\n",
       "      <td>7.54</td>\n",
       "      <td>1.03</td>\n",
       "      <td>0</td>\n",
       "    </tr>\n",
       "    <tr>\n",
       "      <th>4</th>\n",
       "      <td>801050</td>\n",
       "      <td>20190506</td>\n",
       "      <td>有色金属</td>\n",
       "      <td>2741.15</td>\n",
       "      <td>2613.66</td>\n",
       "      <td>2758.79</td>\n",
       "      <td>2637.87</td>\n",
       "      <td>-195.66</td>\n",
       "      <td>-6.91</td>\n",
       "      <td>279336.0</td>\n",
       "      <td>2089373.0</td>\n",
       "      <td>31.89</td>\n",
       "      <td>1.90</td>\n",
       "      <td>0</td>\n",
       "    </tr>\n",
       "  </tbody>\n",
       "</table>\n",
       "</div>"
      ],
      "text/plain": [
       "   ts_code  trade_date  name     open  ...     amount     pe    pb  y\n",
       "0   801010    20190506  农林牧渔  3446.17  ...  2814423.0  48.91  3.61  0\n",
       "1   801020    20190506    采掘  2787.37  ...  1432666.0  13.70  1.21  0\n",
       "2   801030    20190506    化工  2685.53  ...  4412583.0  18.44  1.84  0\n",
       "3   801040    20190506    钢铁  2447.10  ...   609866.0   7.54  1.03  0\n",
       "4   801050    20190506  有色金属  2741.15  ...  2089373.0  31.89  1.90  0\n",
       "\n",
       "[5 rows x 14 columns]"
      ]
     },
     "execution_count": 32,
     "metadata": {
      "tags": []
     },
     "output_type": "execute_result"
    }
   ],
   "source": [
    "df_test1 = pd.read_csv(r'../Data/20190514_STOCK.csv')\n",
    "df_test2 = pd.read_csv(r'../Data/20190521_STOCK.csv')\n",
    "df_test3 = pd.read_csv(r'../Data/20190528_STOCK.csv')\n",
    "df_test4 = pd.concat([df_test1,df_test2,df_test3])\n",
    "# df_test4.iloc[1:3]\n",
    "# df_test4 = df_test4[~df_test4.index.duplicated()]\n",
    "df_test4.head()\n",
    "# df_test4\n",
    "    \n"
   ]
  },
  {
   "cell_type": "code",
   "execution_count": 0,
   "metadata": {
    "ExecuteTime": {
     "end_time": "2019-05-25T07:18:19.453676Z",
     "start_time": "2019-05-25T07:18:18.380334Z"
    },
    "colab": {},
    "colab_type": "code",
    "id": "Cb7oId-wOnR0"
   },
   "outputs": [],
   "source": [
    "df_test4['vol_change'] = df_test4.groupby([\"ts_code\"])['vol'].pct_change()\n",
    "df_test4['low_change'] = df_test4.groupby([\"ts_code\"])['low'].pct_change()\n",
    "df_test4['high_change'] = df_test4.groupby([\"ts_code\"])['high'].pct_change()\n",
    "df_test4 =  df_test4[['ts_code','trade_date','name','pct_change','vol_change','high_change','low_change','y']]\n"
   ]
  },
  {
   "cell_type": "markdown",
   "metadata": {
    "colab_type": "text",
    "id": "YH6wAN-_UXx_"
   },
   "source": [
    "# 预测5.29-6.04"
   ]
  },
  {
   "cell_type": "code",
   "execution_count": 0,
   "metadata": {
    "colab": {
     "base_uri": "https://localhost:8080/",
     "height": 102
    },
    "colab_type": "code",
    "id": "busktUTg6mGu",
    "outputId": "39f729c8-788b-48f6-b189-f041d0226a2f"
   },
   "outputs": [
    {
     "data": {
      "text/plain": [
       "array([['农林牧渔', '采掘', '化工', '钢铁', '有色金属', '电子', '家用电器', '食品饮料', '纺织服装',\n",
       "        '轻工制造', '医药生物', '公用事业', '交通运输', '房地产', '商业贸易', '休闲服务', '综合',\n",
       "        '申万制造', '申万消费', '申万投资', '申万服务', '申万300指数', '建筑材料', '建筑装饰',\n",
       "        '电气设备', '国防军工', '计算机', '传媒', '通信', '银行', '非银金融', '汽车', '机械设备',\n",
       "        '交银装备']], dtype=object)"
      ]
     },
     "execution_count": 42,
     "metadata": {
      "tags": []
     },
     "output_type": "execute_result"
    }
   ],
   "source": [
    "# # 行业名字和行业代码的对应\n",
    "# df_test4=\n",
    "# df_me=pd.DataFrame(df_test4[['ts_code','name']])\n",
    "# df_me=df_me.drop_duplicates()\n",
    "# df_me\n",
    "# df8=df_me[['name']]\n",
    "# df8=df8.T\n",
    "# df8.values"
   ]
  },
  {
   "cell_type": "code",
   "execution_count": 0,
   "metadata": {
    "colab": {},
    "colab_type": "code",
    "id": "W7yIcgichdP0"
   },
   "outputs": [],
   "source": [
    "# 预测未来五天的结果\n",
    "\n",
    "colums=[801010, 801020, 801030, 801040, 801050, 801080, 801110, 801120,\n",
    "        801130, 801140, 801150, 801160, 801170, 801180, 801200, 801210,\n",
    "        801230, 801250, 801260, 801270, 801280, 801300, 801710, 801720,\n",
    "        801730, 801740, 801750, 801760, 801770, 801780, 801790, 801880,\n",
    "        801890, 802600]\n",
    "range_index = (df_test4.trade_date > 20190514)\n",
    "df_final = df_test4[range_index]\n",
    "df_pr=pd.DataFrame()\n",
    "for arr in colums:\n",
    "    df3 = df_final.loc[df_final['ts_code']==arr]\n",
    "    dataset2=df3.values\n",
    "    x1=dataset2[0:10,3:8].tolist()\n",
    "    x1=np.array(x1)\n",
    "    x1=np.reshape(x1, (1,x1.shape[0],x1.shape[1]))\n",
    "    ytest1=regressor.predict(x1)\n",
    "    y_p=pd.DataFrame(ytest1)\n",
    "    y_p=y_p.T\n",
    "    y_p['ts_code']=arr\n",
    "    y_p['trade_date']=[20190529,20190530,20190531,20190603,201900604]\n",
    "    df_pr = pd.concat([df_pr,y_p])\n",
    "# df_pr=df_me.merge(df_pr,how='left',on='name')\n",
    "df_pr.columns=['p','ts_code','trade_date']\n",
    "df_pr=df_pr[['ts_code','trade_date','p']]\n",
    "df_pr\n",
    "df_pr.to_csv('./结果提交第四周.csv')"
   ]
  },
  {
   "cell_type": "code",
   "execution_count": 0,
   "metadata": {
    "colab": {},
    "colab_type": "code",
    "id": "Okj7vTEbR27Z"
   },
   "outputs": [],
   "source": []
  },
  {
   "cell_type": "markdown",
   "metadata": {
    "colab": {},
    "colab_type": "code",
    "id": "E2BcbATVwL5R"
   },
   "source": [
    "# 交叉验证"
   ]
  },
  {
   "cell_type": "code",
   "execution_count": 0,
   "metadata": {
    "colab": {},
    "colab_type": "code",
    "id": "yvmtHpHZUXyk"
   },
   "outputs": [],
   "source": [
    "kf = KFold(n_splits=5, shuffle=True, random_state=520)"
   ]
  },
  {
   "cell_type": "code",
   "execution_count": 30,
   "metadata": {
    "colab": {
     "base_uri": "https://localhost:8080/",
     "height": 3653
    },
    "colab_type": "code",
    "id": "zAZXsJgo5wT9",
    "outputId": "c7e4d28b-261f-4b4d-d245-2a23e03b3ac2"
   },
   "outputs": [
    {
     "name": "stdout",
     "output_type": "stream",
     "text": [
      "0 fold\n",
      "Epoch 1/100\n",
      "24484/24484 [==============================] - 21s 844us/step - loss: 0.0927\n",
      "Epoch 2/100\n",
      "24484/24484 [==============================] - 21s 844us/step - loss: 0.0925\n",
      "Epoch 3/100\n",
      "24484/24484 [==============================] - 21s 847us/step - loss: 0.0909\n",
      "Epoch 4/100\n",
      "24484/24484 [==============================] - 21s 841us/step - loss: 0.0917\n",
      "Epoch 5/100\n",
      "24484/24484 [==============================] - 21s 847us/step - loss: 0.0918\n",
      "Epoch 6/100\n",
      "24484/24484 [==============================] - 21s 852us/step - loss: 0.0912\n",
      "Epoch 7/100\n",
      "24484/24484 [==============================] - 21s 850us/step - loss: 0.0909\n",
      "Epoch 8/100\n",
      "24484/24484 [==============================] - 21s 852us/step - loss: 0.0910\n",
      "Epoch 9/100\n",
      "24484/24484 [==============================] - 21s 845us/step - loss: 0.0902\n",
      "Epoch 10/100\n",
      "24484/24484 [==============================] - 21s 844us/step - loss: 0.0905\n",
      "Epoch 11/100\n",
      "24484/24484 [==============================] - 21s 847us/step - loss: 0.0901\n",
      "Epoch 12/100\n",
      "24484/24484 [==============================] - 21s 839us/step - loss: 0.0895\n",
      "Epoch 13/100\n",
      "24484/24484 [==============================] - 21s 845us/step - loss: 0.0898\n",
      "Epoch 14/100\n",
      "24484/24484 [==============================] - 21s 857us/step - loss: 0.0891\n",
      "Epoch 15/100\n",
      "24484/24484 [==============================] - 21s 852us/step - loss: 0.0884\n",
      "Epoch 16/100\n",
      "24484/24484 [==============================] - 21s 842us/step - loss: 0.0883\n",
      "Epoch 17/100\n",
      "24484/24484 [==============================] - 21s 845us/step - loss: 0.0879\n",
      "Epoch 18/100\n",
      "24484/24484 [==============================] - 20s 837us/step - loss: 0.0884\n",
      "Epoch 19/100\n",
      "24484/24484 [==============================] - 20s 836us/step - loss: 0.0883\n",
      "Epoch 20/100\n",
      "24484/24484 [==============================] - 21s 848us/step - loss: 0.0874\n",
      "Epoch 21/100\n",
      "24484/24484 [==============================] - 21s 845us/step - loss: 0.0873\n",
      "Epoch 22/100\n",
      "24484/24484 [==============================] - 21s 844us/step - loss: 0.0871\n",
      "Epoch 23/100\n",
      "24484/24484 [==============================] - 21s 842us/step - loss: 0.0870\n",
      "Epoch 24/100\n",
      "24484/24484 [==============================] - 20s 835us/step - loss: 0.0862\n",
      "Epoch 25/100\n",
      "24484/24484 [==============================] - 20s 834us/step - loss: 0.0868\n",
      "Epoch 26/100\n",
      "24484/24484 [==============================] - 20s 837us/step - loss: 0.0861\n",
      "Epoch 27/100\n",
      "24484/24484 [==============================] - 20s 836us/step - loss: 0.0864\n",
      "Epoch 28/100\n",
      "24484/24484 [==============================] - 20s 831us/step - loss: 0.0866\n",
      "Epoch 29/100\n",
      "24484/24484 [==============================] - 21s 845us/step - loss: 0.0856\n",
      "Epoch 30/100\n",
      "24484/24484 [==============================] - 21s 844us/step - loss: 0.0853\n",
      "Epoch 31/100\n",
      "24484/24484 [==============================] - 21s 838us/step - loss: 0.0858\n",
      "Epoch 32/100\n",
      "24484/24484 [==============================] - 20s 835us/step - loss: 0.0843\n",
      "Epoch 33/100\n",
      "24484/24484 [==============================] - 20s 832us/step - loss: 0.0843\n",
      "Epoch 34/100\n",
      "24484/24484 [==============================] - 20s 829us/step - loss: 0.0850\n",
      "Epoch 35/100\n",
      "24484/24484 [==============================] - 20s 836us/step - loss: 0.0852\n",
      "Epoch 36/100\n",
      "24484/24484 [==============================] - 20s 833us/step - loss: 0.0846\n",
      "Epoch 37/100\n",
      "24484/24484 [==============================] - 20s 836us/step - loss: 0.0837\n",
      "Epoch 38/100\n",
      "24484/24484 [==============================] - 20s 834us/step - loss: 0.0842\n",
      "Epoch 39/100\n",
      "24484/24484 [==============================] - 20s 833us/step - loss: 0.0834\n",
      "Epoch 40/100\n",
      "24484/24484 [==============================] - 20s 833us/step - loss: 0.0840\n",
      "Epoch 41/100\n",
      "24484/24484 [==============================] - 20s 834us/step - loss: 0.0826\n",
      "Epoch 42/100\n",
      "24484/24484 [==============================] - 20s 835us/step - loss: 0.0833\n",
      "Epoch 43/100\n",
      "24484/24484 [==============================] - 20s 834us/step - loss: 0.0827\n",
      "Epoch 44/100\n",
      "24484/24484 [==============================] - 21s 837us/step - loss: 0.0828\n",
      "Epoch 45/100\n",
      "24484/24484 [==============================] - 21s 847us/step - loss: 0.0830\n",
      "Epoch 46/100\n",
      "24484/24484 [==============================] - 20s 828us/step - loss: 0.0820\n",
      "Epoch 47/100\n",
      "24484/24484 [==============================] - 20s 834us/step - loss: 0.0828\n",
      "Epoch 48/100\n",
      "24484/24484 [==============================] - 20s 836us/step - loss: 0.0821\n",
      "Epoch 49/100\n",
      "24484/24484 [==============================] - 20s 837us/step - loss: 0.0824\n",
      "Epoch 50/100\n",
      "24484/24484 [==============================] - 21s 843us/step - loss: 0.0820\n",
      "Epoch 51/100\n",
      "24484/24484 [==============================] - 21s 840us/step - loss: 0.0813\n",
      "Epoch 52/100\n",
      "24484/24484 [==============================] - 21s 838us/step - loss: 0.0819\n",
      "Epoch 53/100\n",
      "24484/24484 [==============================] - 20s 831us/step - loss: 0.0817\n",
      "Epoch 54/100\n",
      "24484/24484 [==============================] - 20s 836us/step - loss: 0.0818\n",
      "Epoch 55/100\n",
      "24484/24484 [==============================] - 21s 838us/step - loss: 0.0814\n",
      "Epoch 56/100\n",
      "24484/24484 [==============================] - 20s 835us/step - loss: 0.0818\n",
      "Epoch 57/100\n",
      "24484/24484 [==============================] - 21s 840us/step - loss: 0.0803\n",
      "Epoch 58/100\n",
      "24484/24484 [==============================] - 21s 839us/step - loss: 0.0806\n",
      "Epoch 59/100\n",
      "24484/24484 [==============================] - 21s 840us/step - loss: 0.0805\n",
      "Epoch 60/100\n",
      "24484/24484 [==============================] - 21s 859us/step - loss: 0.0800\n",
      "Epoch 61/100\n",
      "24484/24484 [==============================] - 20s 837us/step - loss: 0.0806\n",
      "Epoch 62/100\n",
      "24484/24484 [==============================] - 21s 838us/step - loss: 0.0794\n",
      "Epoch 63/100\n",
      "24484/24484 [==============================] - 21s 842us/step - loss: 0.0794\n",
      "Epoch 64/100\n",
      "24484/24484 [==============================] - 21s 839us/step - loss: 0.0794\n",
      "Epoch 65/100\n",
      "24484/24484 [==============================] - 21s 845us/step - loss: 0.0795\n",
      "Epoch 66/100\n",
      "24484/24484 [==============================] - 21s 844us/step - loss: 0.0795\n",
      "Epoch 67/100\n",
      "24484/24484 [==============================] - 21s 840us/step - loss: 0.0792\n",
      "Epoch 68/100\n",
      "24484/24484 [==============================] - 21s 847us/step - loss: 0.0789\n",
      "Epoch 69/100\n",
      "24484/24484 [==============================] - 21s 852us/step - loss: 0.0795\n",
      "Epoch 70/100\n",
      "24484/24484 [==============================] - 21s 854us/step - loss: 0.0792\n",
      "Epoch 71/100\n",
      "24484/24484 [==============================] - 21s 850us/step - loss: 0.0784\n",
      "Epoch 72/100\n",
      "24484/24484 [==============================] - 21s 844us/step - loss: 0.0785\n",
      "Epoch 73/100\n",
      "24484/24484 [==============================] - 21s 846us/step - loss: 0.0782\n",
      "Epoch 74/100\n",
      "24484/24484 [==============================] - 21s 850us/step - loss: 0.0781\n",
      "Epoch 75/100\n",
      "24484/24484 [==============================] - 21s 863us/step - loss: 0.0779\n",
      "Epoch 76/100\n",
      "24484/24484 [==============================] - 21s 847us/step - loss: 0.0779\n",
      "Epoch 77/100\n",
      "24484/24484 [==============================] - 21s 849us/step - loss: 0.0783\n",
      "Epoch 78/100\n",
      "24484/24484 [==============================] - 21s 856us/step - loss: 0.0771\n",
      "Epoch 79/100\n",
      "24484/24484 [==============================] - 21s 849us/step - loss: 0.0775\n",
      "Epoch 80/100\n",
      "24484/24484 [==============================] - 21s 852us/step - loss: 0.0780\n",
      "Epoch 81/100\n",
      "24484/24484 [==============================] - 21s 846us/step - loss: 0.0780\n",
      "Epoch 82/100\n",
      "24484/24484 [==============================] - 21s 839us/step - loss: 0.0772\n",
      "Epoch 83/100\n",
      "24484/24484 [==============================] - 21s 838us/step - loss: 0.0775\n",
      "Epoch 84/100\n",
      "24484/24484 [==============================] - 21s 839us/step - loss: 0.0763\n",
      "Epoch 85/100\n",
      "24484/24484 [==============================] - 20s 832us/step - loss: 0.0762\n",
      "Epoch 86/100\n",
      "24484/24484 [==============================] - 20s 834us/step - loss: 0.0765\n",
      "Epoch 87/100\n",
      "24484/24484 [==============================] - 21s 838us/step - loss: 0.0773\n",
      "Epoch 88/100\n",
      "24484/24484 [==============================] - 21s 841us/step - loss: 0.0760\n",
      "Epoch 89/100\n",
      "24484/24484 [==============================] - 21s 844us/step - loss: 0.0764\n",
      "Epoch 90/100\n",
      "24484/24484 [==============================] - 21s 867us/step - loss: 0.0762\n",
      "Epoch 91/100\n",
      "24484/24484 [==============================] - 21s 841us/step - loss: 0.0760\n",
      "Epoch 92/100\n",
      "24484/24484 [==============================] - 21s 847us/step - loss: 0.0765\n",
      "Epoch 93/100\n",
      "24484/24484 [==============================] - 21s 855us/step - loss: 0.0757\n",
      "Epoch 94/100\n",
      "24484/24484 [==============================] - 21s 854us/step - loss: 0.0749\n",
      "Epoch 95/100\n",
      "24484/24484 [==============================] - 21s 852us/step - loss: 0.0749\n",
      "Epoch 96/100\n",
      "24484/24484 [==============================] - 21s 844us/step - loss: 0.0754\n",
      "Epoch 97/100\n",
      "24484/24484 [==============================] - 21s 841us/step - loss: 0.0747\n",
      "Epoch 98/100\n",
      "24484/24484 [==============================] - 21s 843us/step - loss: 0.0757\n",
      "Epoch 99/100\n",
      "24484/24484 [==============================] - 21s 842us/step - loss: 0.0751\n",
      "Epoch 100/100\n",
      "24484/24484 [==============================] - 21s 847us/step - loss: 0.0745\n"
     ]
    },
    {
     "ename": "AttributeError",
     "evalue": "ignored",
     "output_type": "error",
     "traceback": [
      "\u001b[0;31m---------------------------------------------------------------------------\u001b[0m",
      "\u001b[0;31mAttributeError\u001b[0m                            Traceback (most recent call last)",
      "\u001b[0;32m<ipython-input-30-64ab6b327d18>\u001b[0m in \u001b[0;36m<module>\u001b[0;34m()\u001b[0m\n\u001b[1;32m      9\u001b[0m     \u001b[0mprint\u001b[0m\u001b[0;34m(\u001b[0m\u001b[0mi\u001b[0m\u001b[0;34m,\u001b[0m \u001b[0;34m'fold'\u001b[0m\u001b[0;34m)\u001b[0m\u001b[0;34m\u001b[0m\u001b[0;34m\u001b[0m\u001b[0m\n\u001b[1;32m     10\u001b[0m     \u001b[0mmodel\u001b[0m\u001b[0;34m=\u001b[0m\u001b[0mregressor\u001b[0m\u001b[0;34m.\u001b[0m\u001b[0mfit\u001b[0m\u001b[0;34m(\u001b[0m\u001b[0mX_train\u001b[0m\u001b[0;34m,\u001b[0m\u001b[0my_train\u001b[0m\u001b[0;34m,\u001b[0m \u001b[0mepochs\u001b[0m \u001b[0;34m=\u001b[0m \u001b[0;36m100\u001b[0m\u001b[0;34m,\u001b[0m \u001b[0mbatch_size\u001b[0m \u001b[0;34m=\u001b[0m \u001b[0;36m50\u001b[0m\u001b[0;34m)\u001b[0m\u001b[0;34m\u001b[0m\u001b[0;34m\u001b[0m\u001b[0m\n\u001b[0;32m---> 11\u001b[0;31m     \u001b[0mpredicted_stock_price1\u001b[0m \u001b[0;34m=\u001b[0m \u001b[0mmodel\u001b[0m\u001b[0;34m.\u001b[0m\u001b[0mpredict\u001b[0m\u001b[0;34m(\u001b[0m\u001b[0mX_valid\u001b[0m\u001b[0;34m)\u001b[0m\u001b[0;34m\u001b[0m\u001b[0;34m\u001b[0m\u001b[0m\n\u001b[0m\u001b[1;32m     12\u001b[0m     \u001b[0;32mfor\u001b[0m \u001b[0mj\u001b[0m \u001b[0;32min\u001b[0m \u001b[0mrange\u001b[0m\u001b[0;34m(\u001b[0m\u001b[0mlen\u001b[0m\u001b[0;34m(\u001b[0m\u001b[0my_valid\u001b[0m\u001b[0;34m)\u001b[0m\u001b[0;34m)\u001b[0m\u001b[0;34m:\u001b[0m\u001b[0;34m\u001b[0m\u001b[0;34m\u001b[0m\u001b[0m\n\u001b[1;32m     13\u001b[0m         \u001b[0mfpr1\u001b[0m\u001b[0;34m,\u001b[0m \u001b[0mtpr1\u001b[0m\u001b[0;34m,\u001b[0m \u001b[0mthresholds1\u001b[0m \u001b[0;34m=\u001b[0m \u001b[0mroc_curve\u001b[0m\u001b[0;34m(\u001b[0m\u001b[0my_valid\u001b[0m\u001b[0;34m[\u001b[0m\u001b[0mj\u001b[0m\u001b[0;34m]\u001b[0m\u001b[0;34m,\u001b[0m\u001b[0mpredicted_stock_price1\u001b[0m\u001b[0;34m[\u001b[0m\u001b[0mj\u001b[0m\u001b[0;34m]\u001b[0m\u001b[0;34m,\u001b[0m \u001b[0mpos_label\u001b[0m\u001b[0;34m=\u001b[0m\u001b[0;36m1\u001b[0m\u001b[0;34m)\u001b[0m\u001b[0;34m\u001b[0m\u001b[0;34m\u001b[0m\u001b[0m\n",
      "\u001b[0;31mAttributeError\u001b[0m: 'History' object has no attribute 'predict'"
     ]
    }
   ],
   "source": [
    "i=0\n",
    "df_yanz=pd.DataFrame()\n",
    "df_jieguo=pd.DataFrame()\n",
    "for train,test in kf.split(xtrain):\n",
    "    a = []\n",
    "    b= []\n",
    "    X_train, X_valid= xtrain[train,:], xtrain[test,:]\n",
    "    y_train, y_valid = ytrain[train,:], ytrain[test,:]\n",
    "    print(i, 'fold')\n",
    "    model=regressor.fit(X_train,y_train, epochs = 100, batch_size = 50)\n",
    "    predicted_stock_price1 = regressor.predict(X_valid)\n",
    "    for j in range(len(y_valid)):\n",
    "        fpr1, tpr1, thresholds1 = roc_curve(y_valid[j],predicted_stock_price1[j], pos_label=1)\n",
    "        a.append(auc(fpr1, tpr1))\n",
    "    a=pd.DataFrame(a)\n",
    "    a=a.dropna()\n",
    "    print(a.mean())\n",
    "    predicted_stock_price2 = pd.DataFrame(regressor.predict(xtest))\n",
    "    for k in range(len(ytest)):\n",
    "        fpr2, tpr2, thresholds2 = roc_curve(ytest[k], predicted_stock_price2[k], pos_label=1)\n",
    "        b.append(auc(fpr2, tpr2))\n",
    "    b=pd.DataFrame(b)\n",
    "    b=b.dropna()\n",
    "    print(b.mean())\n",
    "    df_yanz=df_yanz+predicted_stock_price2\n",
    "    df_pr=pd.DataFrame()\n",
    "    for arr in colums:\n",
    "        df4 = df_final.loc[df_final['ts_code']==arr]\n",
    "        dataset4=df4.values\n",
    "        x1=dataset2[0:10,3:8].tolist()\n",
    "        x1=np.array(x1)\n",
    "        x1=np.reshape(x1, (1,x1.shape[0],x1.shape[1]))\n",
    "        ytest1=regressor.predict(x1)\n",
    "        y_p=pd.DataFrame(ytest1)\n",
    "        y_p=y_p.T\n",
    "        y_p['ts_code']=arr\n",
    "        y_p['trade_date']=[20190529,20190530,20190531,20190603,201900604]\n",
    "    df_pr = pd.concat([df_pr,y_p])\n",
    "# df_pr=df_me.merge(df_pr,how='left',on='name')\n",
    "    df_pr.columns=['i','ts_code','trade_date']\n",
    "    df_pr=df_pr[['ts_code','trade_date','i']]\n",
    "    df_jieguo['ts_code']=df_pr['ts_code']\n",
    "    df_jieguo['trade_date']=df_pr['trade_date']\n",
    "    df_jieguo['i']=df_pr['i']\n",
    "    i=i+1\n",
    "    \n",
    "    "
   ]
  },
  {
   "cell_type": "markdown",
   "metadata": {
    "colab_type": "text",
    "id": "qoqDrHwX5wUJ"
   },
   "source": [
    "# 新闻"
   ]
  },
  {
   "cell_type": "code",
   "execution_count": 0,
   "metadata": {
    "colab": {},
    "colab_type": "code",
    "id": "7vy98Vht5wUK"
   },
   "outputs": [],
   "source": [
    "df1 = pd.read_csv(r'./TRAINSET_STOCK.csv')\n",
    "df_add = pd.read_csv(r'./20190506_STOCK.csv')\n",
    "df_test = pd.read_csv(r'./20190514_STOCK.csv')\n",
    "df1 = pd.concat([df1,df_add,df_test])"
   ]
  },
  {
   "cell_type": "code",
   "execution_count": 0,
   "metadata": {
    "colab": {
     "base_uri": "https://localhost:8080/",
     "height": 165
    },
    "colab_type": "code",
    "id": "CwBRWOcgnAw7",
    "outputId": "f0606309-a225-42a7-efac-e892060cf77c"
   },
   "outputs": [
    {
     "data": {
      "text/html": [
       "<div>\n",
       "<style scoped>\n",
       "    .dataframe tbody tr th:only-of-type {\n",
       "        vertical-align: middle;\n",
       "    }\n",
       "\n",
       "    .dataframe tbody tr th {\n",
       "        vertical-align: top;\n",
       "    }\n",
       "\n",
       "    .dataframe thead th {\n",
       "        text-align: right;\n",
       "    }\n",
       "</style>\n",
       "<table border=\"1\" class=\"dataframe\">\n",
       "  <thead>\n",
       "    <tr style=\"text-align: right;\">\n",
       "      <th></th>\n",
       "      <th>0</th>\n",
       "      <th>1152</th>\n",
       "      <th>2304</th>\n",
       "      <th>3456</th>\n",
       "      <th>3656</th>\n",
       "      <th>4608</th>\n",
       "      <th>5760</th>\n",
       "      <th>6912</th>\n",
       "      <th>8064</th>\n",
       "      <th>9216</th>\n",
       "      <th>10368</th>\n",
       "      <th>11520</th>\n",
       "      <th>12672</th>\n",
       "      <th>13824</th>\n",
       "      <th>14976</th>\n",
       "      <th>16128</th>\n",
       "      <th>17280</th>\n",
       "      <th>17480</th>\n",
       "      <th>18432</th>\n",
       "      <th>19584</th>\n",
       "      <th>20736</th>\n",
       "      <th>21888</th>\n",
       "      <th>23040</th>\n",
       "      <th>24192</th>\n",
       "      <th>25344</th>\n",
       "      <th>26496</th>\n",
       "      <th>27648</th>\n",
       "      <th>28800</th>\n",
       "      <th>29952</th>\n",
       "      <th>31104</th>\n",
       "      <th>32256</th>\n",
       "      <th>33408</th>\n",
       "      <th>34560</th>\n",
       "      <th>35712</th>\n",
       "      <th>36864</th>\n",
       "      <th>38016</th>\n",
       "    </tr>\n",
       "  </thead>\n",
       "  <tbody>\n",
       "    <tr>\n",
       "      <th>name</th>\n",
       "      <td>农林牧渔</td>\n",
       "      <td>采掘</td>\n",
       "      <td>化工</td>\n",
       "      <td>黑色金属</td>\n",
       "      <td>钢铁</td>\n",
       "      <td>有色金属</td>\n",
       "      <td>电子</td>\n",
       "      <td>家用电器</td>\n",
       "      <td>食品饮料</td>\n",
       "      <td>纺织服装</td>\n",
       "      <td>轻工制造</td>\n",
       "      <td>医药生物</td>\n",
       "      <td>公用事业</td>\n",
       "      <td>交通运输</td>\n",
       "      <td>房地产</td>\n",
       "      <td>商业贸易</td>\n",
       "      <td>餐饮旅游</td>\n",
       "      <td>休闲服务</td>\n",
       "      <td>综合</td>\n",
       "      <td>申万制造</td>\n",
       "      <td>申万消费</td>\n",
       "      <td>申万投资</td>\n",
       "      <td>申万服务</td>\n",
       "      <td>申万300指数</td>\n",
       "      <td>建筑材料</td>\n",
       "      <td>建筑装饰</td>\n",
       "      <td>电气设备</td>\n",
       "      <td>国防军工</td>\n",
       "      <td>计算机</td>\n",
       "      <td>传媒</td>\n",
       "      <td>通信</td>\n",
       "      <td>银行</td>\n",
       "      <td>非银金融</td>\n",
       "      <td>汽车</td>\n",
       "      <td>机械设备</td>\n",
       "      <td>交银装备</td>\n",
       "    </tr>\n",
       "    <tr>\n",
       "      <th>ts_code</th>\n",
       "      <td>801010</td>\n",
       "      <td>801020</td>\n",
       "      <td>801030</td>\n",
       "      <td>801040</td>\n",
       "      <td>801040</td>\n",
       "      <td>801050</td>\n",
       "      <td>801080</td>\n",
       "      <td>801110</td>\n",
       "      <td>801120</td>\n",
       "      <td>801130</td>\n",
       "      <td>801140</td>\n",
       "      <td>801150</td>\n",
       "      <td>801160</td>\n",
       "      <td>801170</td>\n",
       "      <td>801180</td>\n",
       "      <td>801200</td>\n",
       "      <td>801210</td>\n",
       "      <td>801210</td>\n",
       "      <td>801230</td>\n",
       "      <td>801250</td>\n",
       "      <td>801260</td>\n",
       "      <td>801270</td>\n",
       "      <td>801280</td>\n",
       "      <td>801300</td>\n",
       "      <td>801710</td>\n",
       "      <td>801720</td>\n",
       "      <td>801730</td>\n",
       "      <td>801740</td>\n",
       "      <td>801750</td>\n",
       "      <td>801760</td>\n",
       "      <td>801770</td>\n",
       "      <td>801780</td>\n",
       "      <td>801790</td>\n",
       "      <td>801880</td>\n",
       "      <td>801890</td>\n",
       "      <td>802600</td>\n",
       "    </tr>\n",
       "  </tbody>\n",
       "</table>\n",
       "</div>"
      ],
      "text/plain": [
       "          0       1152    2304    3456   ...   34560   35712   36864   38016\n",
       "name       农林牧渔      采掘      化工    黑色金属  ...    非银金融      汽车    机械设备    交银装备\n",
       "ts_code  801010  801020  801030  801040  ...  801790  801880  801890  802600\n",
       "\n",
       "[2 rows x 36 columns]"
      ]
     },
     "execution_count": 84,
     "metadata": {
      "tags": []
     },
     "output_type": "execute_result"
    }
   ],
   "source": [
    "df2=df1[['name','ts_code']]\n",
    "df2 = df2.drop_duplicates(keep='first')\n"
   ]
  },
  {
   "cell_type": "code",
   "execution_count": 0,
   "metadata": {
    "colab": {
     "base_uri": "https://localhost:8080/",
     "height": 170
    },
    "colab_type": "code",
    "id": "5aBT8rQpq5oQ",
    "outputId": "badae5dd-a38d-47ae-edf8-684cd80752be"
   },
   "outputs": [
    {
     "name": "stdout",
     "output_type": "stream",
     "text": [
      "<class 'pandas.core.frame.DataFrame'>\n",
      "Int64Index: 27077 entries, 0 to 112\n",
      "Data columns (total 4 columns):\n",
      "id         27077 non-null object\n",
      "date       27077 non-null int64\n",
      "title      27048 non-null object\n",
      "content    26915 non-null object\n",
      "dtypes: int64(1), object(3)\n",
      "memory usage: 1.0+ MB\n"
     ]
    }
   ],
   "source": [
    "df_news1 = pd.read_csv(r'./TRAINSET_NEWS.csv')\n",
    "df_news2= pd.read_csv(r'./20190506_NEWS.csv')\n",
    "df_news3= pd.read_csv(r'./20190514_NEWS.csv')\n",
    "df_news = pd.concat([df_news1,df_news2,df_news3])\n",
    "df_news.info"
   ]
  },
  {
   "cell_type": "code",
   "execution_count": 0,
   "metadata": {
    "colab": {},
    "colab_type": "code",
    "id": "lMIF6YHBrwiO"
   },
   "outputs": [],
   "source": []
  },
  {
   "cell_type": "markdown",
   "metadata": {
    "colab_type": "text",
    "id": "-QhyFLGZ5wUP"
   },
   "source": [
    "# Tensorflow"
   ]
  },
  {
   "cell_type": "code",
   "execution_count": 0,
   "metadata": {
    "colab": {},
    "colab_type": "code",
    "id": "3Y4w2xzF5wUU"
   },
   "outputs": [],
   "source": [
    "import tensorflow as tf\n",
    "time_step=10      #时间步\n",
    "rnn_unit=25       #hidden layer units\n",
    "batch_size=80     #每一批次训练多少个样例\n",
    "input_size=3      #输入层维度\n",
    "output_size=1     #输出层维度\n",
    "lr=0.0006 \n"
   ]
  },
  {
   "cell_type": "code",
   "execution_count": 0,
   "metadata": {
    "colab": {},
    "colab_type": "code",
    "id": "PES9y7Tr5wUX"
   },
   "outputs": [],
   "source": [
    "# 训练集\n",
    "def get_train_data(batch_size=80,time_step=10,train_begin=0,train_end=30000):\n",
    "    batch_index=[]\n",
    "    data_train=dataset[train_begin:train_end]\n",
    "    normalized_train_data=(data_train-np.mean(data_train,axis=0))/np.std(data_train,axis=0)  #标准化\n",
    "    train_x,train_y=[],[]   #训练集x和y初定义\n",
    "    for i in range(len(normalized_train_data)-time_step):\n",
    "        if i % batch_size==0:\n",
    "            batch_index.append(i)\n",
    "            x=normalized_train_data[i:i+time_step,:3]\n",
    "            y=normalized_train_data[i:i+time_step,2,np.newaxis]\n",
    "            train_x.append(x.tolist())\n",
    "            train_y.append(y.tolist())\n",
    "    batch_index.append((len(normalized_train_data)-time_step))\n",
    "    return batch_index,train_x,train_y\n",
    " \n"
   ]
  },
  {
   "cell_type": "code",
   "execution_count": 0,
   "metadata": {
    "colab": {},
    "colab_type": "code",
    "id": "gAZ4wvn5t8sD"
   },
   "outputs": [],
   "source": [
    "# 测试集\n",
    "def get_test_data(time_step=10,test_begin=30000):\n",
    "    data_test=dataset[test_begin:]\n",
    "    mean=np.mean(data_test,axis=0)\n",
    "    std=np.std(data_test,axis=0)\n",
    "    normalized_test_data=(data_test-mean)/std  #标准化\n",
    "    size=(len(normalized_test_data)+time_step-1)//time_step  #有size个sample \n",
    "    test_x,test_y=[],[]  \n",
    "    for i in range(size-1):\n",
    "        x=normalized_test_data[i*time_step:(i+1)*time_step,:3]\n",
    "        y=normalized_test_data[i*time_step:(i+1)*time_step,2]\n",
    "        test_x.append(x.tolist())\n",
    "        test_y.extend(y)\n",
    "    test_x.append((normalized_test_data[(i+1)*time_step:,:3]).tolist())\n",
    "    test_y.extend((normalized_test_data[(i+1)*time_step:,2]).tolist())\n",
    "    return mean,std,test_x,test_y"
   ]
  },
  {
   "cell_type": "code",
   "execution_count": 0,
   "metadata": {
    "colab": {},
    "colab_type": "code",
    "id": "XAycDdYMuK4c"
   },
   "outputs": [],
   "source": [
    "# 模型搭建\n",
    "weights = {\n",
    "    'in': tf.Variable(tf.random_normal([input_size, rnn_unit])),\n",
    "    'out': tf.Variable(tf.random_normal([rnn_unit, 1]))\n",
    "}\n",
    "biases = {\n",
    "    'in': tf.Variable(tf.constant(0.1, shape=[rnn_unit, ])),\n",
    "    'out': tf.Variable(tf.constant(0.1, shape=[1, ]))\n",
    "}\n",
    "def lstm(X):     \n",
    "    batch_size=tf.shape(X)[0]\n",
    "    time_step=tf.shape(X)[1]\n",
    "    w_in=weights['in']\n",
    "    b_in=biases['in']  \n",
    "    input=tf.reshape(X,[-1,input_size])  #需要将tensor转成2维进行计算，计算后的结果作为隐藏层的输入\n",
    "    input_rnn=tf.matmul(input,w_in)+b_in\n",
    "    input_rnn=tf.reshape(input_rnn,[-1,time_step,rnn_unit])  #将tensor转成3维，作为lstm cell的输入\n",
    "    cell=tf.nn.rnn_cell.BasicLSTMCell(rnn_unit)\n",
    "    init_state=cell.zero_state(batch_size,dtype=tf.float32)\n",
    "    output_rnn,final_states=tf.nn.dynamic_rnn(cell, input_rnn,initial_state=init_state, dtype=tf.float32)  #output_rnn是记录lstm每个输出节点的结果，final_states是最后一个cell的结果\n",
    "    output=tf.reshape(output_rnn,[-1,rnn_unit]) #作为输出层的输入\n",
    "    w_out=weights['out']\n",
    "    b_out=biases['out']\n",
    "    pred=tf.matmul(output,w_out)+b_out\n",
    "    return pred,final_states"
   ]
  },
  {
   "cell_type": "code",
   "execution_count": 0,
   "metadata": {
    "colab": {},
    "colab_type": "code",
    "id": "RwDt36biuWX1"
   },
   "outputs": [],
   "source": [
    "def train_lstm(batch_size=80,time_step=10,train_begin=0,train_end=30000):\n",
    "    X=tf.placeholder(tf.float32, shape=[None,time_step,input_size])\n",
    "    Y=tf.placeholder(tf.float32, shape=[None,time_step,output_size])\n",
    "    batch_index,train_x,train_y=get_train_data(batch_size,time_step,train_begin,train_end)\n",
    "    pred,_=lstm(X)\n",
    "    #损失函数\n",
    "    loss=tf.reduce_mean(tf.square(tf.reshape(pred,[-1])-tf.reshape(Y, [-1])))\n",
    "    train_op=tf.train.AdamOptimizer(lr).minimize(loss)\n",
    "    saver=tf.train.Saver(tf.global_variables(),max_to_keep=15)\n",
    "    module_file = tf.train.latest_checkpoint()    \n",
    "    with tf.Session() as sess:\n",
    "        #sess.run(tf.global_variables_initializer())\n",
    "        saver.restore(sess, module_file)\n",
    "        #重复训练2000次\n",
    "        for i in range(2000):\n",
    "            for step in range(len(batch_index)-1):\n",
    "                _,loss_=sess.run([train_op,loss],feed_dict={X:train_x[batch_index[step]:batch_index[step+1]],Y:train_y[batch_index[step]:batch_index[step+1]]})\n",
    "            print(i,loss_)\n",
    "            if i % 200==0:\n",
    "                print(\"保存模型：\",saver.save(sess,'stock2.model',global_step=i))"
   ]
  },
  {
   "cell_type": "code",
   "execution_count": 0,
   "metadata": {
    "colab": {},
    "colab_type": "code",
    "id": "BI6Foo891rww"
   },
   "outputs": [],
   "source": []
  },
  {
   "cell_type": "code",
   "execution_count": 0,
   "metadata": {
    "colab": {},
    "colab_type": "code",
    "id": "2nLy-UqwUX0B"
   },
   "outputs": [],
   "source": []
  }
 ],
 "metadata": {
  "colab": {
   "collapsed_sections": [],
   "name": "stockprocessing.ipynb",
   "provenance": [],
   "toc_visible": true,
   "version": "0.3.2"
  },
  "kernelspec": {
   "display_name": "Python 3",
   "language": "python",
   "name": "python3"
  },
  "language_info": {
   "codemirror_mode": {
    "name": "ipython",
    "version": 3
   },
   "file_extension": ".py",
   "mimetype": "text/x-python",
   "name": "python",
   "nbconvert_exporter": "python",
   "pygments_lexer": "ipython3",
   "version": "3.7.2"
  }
 },
 "nbformat": 4,
 "nbformat_minor": 1
}
